{
  "cells": [
    {
      "cell_type": "markdown",
      "metadata": {
        "id": "view-in-github",
        "colab_type": "text"
      },
      "source": [
        "<a href=\"https://colab.research.google.com/github/anadiedrichs/curso-aprendizaje-automatico/blob/main/2_1_Regresion_Lineal_Multiple.ipynb\" target=\"_parent\"><img src=\"https://colab.research.google.com/assets/colab-badge.svg\" alt=\"Open In Colab\"/></a>"
      ]
    },
    {
      "cell_type": "markdown",
      "metadata": {
        "id": "wyvLZOYJ9d8x"
      },
      "source": [
        "# 24 -Regresion Lineal Multiple\n",
        "\n",
        "\n",
        "* El objetivo de este Notebook es el de resolver un problema de regresión con unos ***datos de entrenamiento*** y **testear el modelo o hipótesis obtenido con los datos de test.**\n",
        "\n",
        "\n",
        "* Para ello, dado un Dataset, vamos a particionar los datos con la técnica de particionado ***Hold Out*** y vamos a:\n",
        "\n",
        "    1. Entrenar el modelo con los datos de Entrenamiento\n",
        "    2. Evaluar el modelo con los datos de Entrenamiento\n",
        "    3. Evaluar el modelo con los datos de Test\n",
        "    4. Conclusiones: Comparativa de las evaluaciones del modelo con los datos de Entrenamiento y Test\n",
        "\n",
        "\n",
        "* El ejemplo que vamos a realizar consiste en predecir cuantas calorías voy a quemar en función de los minutos que voy a estar corriendo, la velocidad media a la que corro y mi peso. Por ello tenemos un conjunto de datos tomados de forma empírica que nos dan esa relación. Por tanto el objetivo es encontrar los parámetros de la recta que mejor se ajustan a esos datos.\n",
        "\n",
        "\n",
        "* El ejemplo que vamos a realizar, consiste en predecir cuantas ***calorías quema una persona en función de los minutos que corre, la velocidad a la que corre y su peso corporal***. Por ello tenemos un conjunto de datos tomados de forma empírica que nos dan esa relación.\n",
        "\n",
        "\n",
        "* El objetivo es encontrar los parámetros $\\beta_0, \\beta_1, \\beta_2, \\beta_3$ que ***mejor se ajustan a los datos de entrenamiento***.\n",
        "\n",
        "<span style=\"font-size:18px\">$$Calorias = \\beta_0 + \\beta_1 \\cdot Tiempo + \\beta_3 \\cdot Velocidad + \\beta_3 \\cdot Peso$$</span>\n",
        "\n",
        "\n",
        "* Para ello vamos a realizar los siguientes pasos:\n",
        "\n",
        "    1. Carga de Datos\n",
        "    2. Cambio de estructura de datos a numpy\n",
        "    3. Particionado de datos en Entrenamiento y Test\n",
        "    4. Generación del modelo con los datos de Entrenamiento\n",
        "    5. Evaluación del modelo con los datos de Entrenamiento\n",
        "    6. Evaluación del modelo con los datos de Test\n",
        "    7. Conclusiones: Comparativa de resultados\n",
        "\n",
        "<hr>\n",
        "\n",
        "\n",
        "* En primer lugar importemos las librerías necesarias:"
      ]
    },
    {
      "cell_type": "code",
      "execution_count": 1,
      "metadata": {
        "id": "73Tk7OTf9d8z"
      },
      "outputs": [],
      "source": [
        "import numpy as np\n",
        "import pandas as pd\n",
        "from sklearn import linear_model\n",
        "from sklearn.model_selection import train_test_split\n",
        "from sklearn.metrics import mean_absolute_error, mean_squared_error"
      ]
    },
    {
      "cell_type": "markdown",
      "metadata": {
        "id": "Q97xeNR79d80"
      },
      "source": [
        "<hr>\n",
        "\n",
        "\n",
        "## 1. Carga de Datos\n",
        "\n",
        "\n",
        "* El primer paso que vamos a realizar es el de cargar los datos que los tenemos en los siguientes ficheros:\n",
        "\n",
        "***DataSet***: \"calories_time_weight_speed.csv\"\n",
        "\n",
        "Alojado en https://raw.githubusercontent.com/anadiedrichs/curso-aprendizaje-automatico/main/datasets/calories_time_weight_speed.csv\n",
        "\n",
        "\n",
        "\n",
        "* Para ello ***leeremos el csv con pandas*** (pasandolo a un dataframe), teniendo las siguientes columnas:\n",
        "    - Calorias\n",
        "    - Tiempo\n",
        "    - Peso\n",
        "    - Velocidad"
      ]
    },
    {
      "cell_type": "code",
      "execution_count": 2,
      "metadata": {
        "id": "k16iskpY9d80",
        "outputId": "82bfdb75-ca10-49b2-a2da-a27cead402ec",
        "colab": {
          "base_uri": "https://localhost:8080/",
          "height": 206
        }
      },
      "outputs": [
        {
          "output_type": "execute_result",
          "data": {
            "text/plain": [
              "      Calorias  Tiempo  Peso  Velocidad\n",
              "3530     509.5    32.3  60.9       15.0\n",
              "2108     247.1    14.5  66.2       14.9\n",
              "1936     562.4    27.6  87.6       13.5\n",
              "418      291.9    17.3  62.4       15.7\n",
              "4309     228.6    13.0  69.2       14.8"
            ],
            "text/html": [
              "\n",
              "  <div id=\"df-99932c79-e0d4-4cd0-a8f6-6e19d6c8f10c\" class=\"colab-df-container\">\n",
              "    <div>\n",
              "<style scoped>\n",
              "    .dataframe tbody tr th:only-of-type {\n",
              "        vertical-align: middle;\n",
              "    }\n",
              "\n",
              "    .dataframe tbody tr th {\n",
              "        vertical-align: top;\n",
              "    }\n",
              "\n",
              "    .dataframe thead th {\n",
              "        text-align: right;\n",
              "    }\n",
              "</style>\n",
              "<table border=\"1\" class=\"dataframe\">\n",
              "  <thead>\n",
              "    <tr style=\"text-align: right;\">\n",
              "      <th></th>\n",
              "      <th>Calorias</th>\n",
              "      <th>Tiempo</th>\n",
              "      <th>Peso</th>\n",
              "      <th>Velocidad</th>\n",
              "    </tr>\n",
              "  </thead>\n",
              "  <tbody>\n",
              "    <tr>\n",
              "      <th>3530</th>\n",
              "      <td>509.5</td>\n",
              "      <td>32.3</td>\n",
              "      <td>60.9</td>\n",
              "      <td>15.0</td>\n",
              "    </tr>\n",
              "    <tr>\n",
              "      <th>2108</th>\n",
              "      <td>247.1</td>\n",
              "      <td>14.5</td>\n",
              "      <td>66.2</td>\n",
              "      <td>14.9</td>\n",
              "    </tr>\n",
              "    <tr>\n",
              "      <th>1936</th>\n",
              "      <td>562.4</td>\n",
              "      <td>27.6</td>\n",
              "      <td>87.6</td>\n",
              "      <td>13.5</td>\n",
              "    </tr>\n",
              "    <tr>\n",
              "      <th>418</th>\n",
              "      <td>291.9</td>\n",
              "      <td>17.3</td>\n",
              "      <td>62.4</td>\n",
              "      <td>15.7</td>\n",
              "    </tr>\n",
              "    <tr>\n",
              "      <th>4309</th>\n",
              "      <td>228.6</td>\n",
              "      <td>13.0</td>\n",
              "      <td>69.2</td>\n",
              "      <td>14.8</td>\n",
              "    </tr>\n",
              "  </tbody>\n",
              "</table>\n",
              "</div>\n",
              "    <div class=\"colab-df-buttons\">\n",
              "\n",
              "  <div class=\"colab-df-container\">\n",
              "    <button class=\"colab-df-convert\" onclick=\"convertToInteractive('df-99932c79-e0d4-4cd0-a8f6-6e19d6c8f10c')\"\n",
              "            title=\"Convert this dataframe to an interactive table.\"\n",
              "            style=\"display:none;\">\n",
              "\n",
              "  <svg xmlns=\"http://www.w3.org/2000/svg\" height=\"24px\" viewBox=\"0 -960 960 960\">\n",
              "    <path d=\"M120-120v-720h720v720H120Zm60-500h600v-160H180v160Zm220 220h160v-160H400v160Zm0 220h160v-160H400v160ZM180-400h160v-160H180v160Zm440 0h160v-160H620v160ZM180-180h160v-160H180v160Zm440 0h160v-160H620v160Z\"/>\n",
              "  </svg>\n",
              "    </button>\n",
              "\n",
              "  <style>\n",
              "    .colab-df-container {\n",
              "      display:flex;\n",
              "      gap: 12px;\n",
              "    }\n",
              "\n",
              "    .colab-df-convert {\n",
              "      background-color: #E8F0FE;\n",
              "      border: none;\n",
              "      border-radius: 50%;\n",
              "      cursor: pointer;\n",
              "      display: none;\n",
              "      fill: #1967D2;\n",
              "      height: 32px;\n",
              "      padding: 0 0 0 0;\n",
              "      width: 32px;\n",
              "    }\n",
              "\n",
              "    .colab-df-convert:hover {\n",
              "      background-color: #E2EBFA;\n",
              "      box-shadow: 0px 1px 2px rgba(60, 64, 67, 0.3), 0px 1px 3px 1px rgba(60, 64, 67, 0.15);\n",
              "      fill: #174EA6;\n",
              "    }\n",
              "\n",
              "    .colab-df-buttons div {\n",
              "      margin-bottom: 4px;\n",
              "    }\n",
              "\n",
              "    [theme=dark] .colab-df-convert {\n",
              "      background-color: #3B4455;\n",
              "      fill: #D2E3FC;\n",
              "    }\n",
              "\n",
              "    [theme=dark] .colab-df-convert:hover {\n",
              "      background-color: #434B5C;\n",
              "      box-shadow: 0px 1px 3px 1px rgba(0, 0, 0, 0.15);\n",
              "      filter: drop-shadow(0px 1px 2px rgba(0, 0, 0, 0.3));\n",
              "      fill: #FFFFFF;\n",
              "    }\n",
              "  </style>\n",
              "\n",
              "    <script>\n",
              "      const buttonEl =\n",
              "        document.querySelector('#df-99932c79-e0d4-4cd0-a8f6-6e19d6c8f10c button.colab-df-convert');\n",
              "      buttonEl.style.display =\n",
              "        google.colab.kernel.accessAllowed ? 'block' : 'none';\n",
              "\n",
              "      async function convertToInteractive(key) {\n",
              "        const element = document.querySelector('#df-99932c79-e0d4-4cd0-a8f6-6e19d6c8f10c');\n",
              "        const dataTable =\n",
              "          await google.colab.kernel.invokeFunction('convertToInteractive',\n",
              "                                                    [key], {});\n",
              "        if (!dataTable) return;\n",
              "\n",
              "        const docLinkHtml = 'Like what you see? Visit the ' +\n",
              "          '<a target=\"_blank\" href=https://colab.research.google.com/notebooks/data_table.ipynb>data table notebook</a>'\n",
              "          + ' to learn more about interactive tables.';\n",
              "        element.innerHTML = '';\n",
              "        dataTable['output_type'] = 'display_data';\n",
              "        await google.colab.output.renderOutput(dataTable, element);\n",
              "        const docLink = document.createElement('div');\n",
              "        docLink.innerHTML = docLinkHtml;\n",
              "        element.appendChild(docLink);\n",
              "      }\n",
              "    </script>\n",
              "  </div>\n",
              "\n",
              "\n",
              "<div id=\"df-f4890938-5496-428b-a448-7dee6d34164d\">\n",
              "  <button class=\"colab-df-quickchart\" onclick=\"quickchart('df-f4890938-5496-428b-a448-7dee6d34164d')\"\n",
              "            title=\"Suggest charts\"\n",
              "            style=\"display:none;\">\n",
              "\n",
              "<svg xmlns=\"http://www.w3.org/2000/svg\" height=\"24px\"viewBox=\"0 0 24 24\"\n",
              "     width=\"24px\">\n",
              "    <g>\n",
              "        <path d=\"M19 3H5c-1.1 0-2 .9-2 2v14c0 1.1.9 2 2 2h14c1.1 0 2-.9 2-2V5c0-1.1-.9-2-2-2zM9 17H7v-7h2v7zm4 0h-2V7h2v10zm4 0h-2v-4h2v4z\"/>\n",
              "    </g>\n",
              "</svg>\n",
              "  </button>\n",
              "\n",
              "<style>\n",
              "  .colab-df-quickchart {\n",
              "      --bg-color: #E8F0FE;\n",
              "      --fill-color: #1967D2;\n",
              "      --hover-bg-color: #E2EBFA;\n",
              "      --hover-fill-color: #174EA6;\n",
              "      --disabled-fill-color: #AAA;\n",
              "      --disabled-bg-color: #DDD;\n",
              "  }\n",
              "\n",
              "  [theme=dark] .colab-df-quickchart {\n",
              "      --bg-color: #3B4455;\n",
              "      --fill-color: #D2E3FC;\n",
              "      --hover-bg-color: #434B5C;\n",
              "      --hover-fill-color: #FFFFFF;\n",
              "      --disabled-bg-color: #3B4455;\n",
              "      --disabled-fill-color: #666;\n",
              "  }\n",
              "\n",
              "  .colab-df-quickchart {\n",
              "    background-color: var(--bg-color);\n",
              "    border: none;\n",
              "    border-radius: 50%;\n",
              "    cursor: pointer;\n",
              "    display: none;\n",
              "    fill: var(--fill-color);\n",
              "    height: 32px;\n",
              "    padding: 0;\n",
              "    width: 32px;\n",
              "  }\n",
              "\n",
              "  .colab-df-quickchart:hover {\n",
              "    background-color: var(--hover-bg-color);\n",
              "    box-shadow: 0 1px 2px rgba(60, 64, 67, 0.3), 0 1px 3px 1px rgba(60, 64, 67, 0.15);\n",
              "    fill: var(--button-hover-fill-color);\n",
              "  }\n",
              "\n",
              "  .colab-df-quickchart-complete:disabled,\n",
              "  .colab-df-quickchart-complete:disabled:hover {\n",
              "    background-color: var(--disabled-bg-color);\n",
              "    fill: var(--disabled-fill-color);\n",
              "    box-shadow: none;\n",
              "  }\n",
              "\n",
              "  .colab-df-spinner {\n",
              "    border: 2px solid var(--fill-color);\n",
              "    border-color: transparent;\n",
              "    border-bottom-color: var(--fill-color);\n",
              "    animation:\n",
              "      spin 1s steps(1) infinite;\n",
              "  }\n",
              "\n",
              "  @keyframes spin {\n",
              "    0% {\n",
              "      border-color: transparent;\n",
              "      border-bottom-color: var(--fill-color);\n",
              "      border-left-color: var(--fill-color);\n",
              "    }\n",
              "    20% {\n",
              "      border-color: transparent;\n",
              "      border-left-color: var(--fill-color);\n",
              "      border-top-color: var(--fill-color);\n",
              "    }\n",
              "    30% {\n",
              "      border-color: transparent;\n",
              "      border-left-color: var(--fill-color);\n",
              "      border-top-color: var(--fill-color);\n",
              "      border-right-color: var(--fill-color);\n",
              "    }\n",
              "    40% {\n",
              "      border-color: transparent;\n",
              "      border-right-color: var(--fill-color);\n",
              "      border-top-color: var(--fill-color);\n",
              "    }\n",
              "    60% {\n",
              "      border-color: transparent;\n",
              "      border-right-color: var(--fill-color);\n",
              "    }\n",
              "    80% {\n",
              "      border-color: transparent;\n",
              "      border-right-color: var(--fill-color);\n",
              "      border-bottom-color: var(--fill-color);\n",
              "    }\n",
              "    90% {\n",
              "      border-color: transparent;\n",
              "      border-bottom-color: var(--fill-color);\n",
              "    }\n",
              "  }\n",
              "</style>\n",
              "\n",
              "  <script>\n",
              "    async function quickchart(key) {\n",
              "      const quickchartButtonEl =\n",
              "        document.querySelector('#' + key + ' button');\n",
              "      quickchartButtonEl.disabled = true;  // To prevent multiple clicks.\n",
              "      quickchartButtonEl.classList.add('colab-df-spinner');\n",
              "      try {\n",
              "        const charts = await google.colab.kernel.invokeFunction(\n",
              "            'suggestCharts', [key], {});\n",
              "      } catch (error) {\n",
              "        console.error('Error during call to suggestCharts:', error);\n",
              "      }\n",
              "      quickchartButtonEl.classList.remove('colab-df-spinner');\n",
              "      quickchartButtonEl.classList.add('colab-df-quickchart-complete');\n",
              "    }\n",
              "    (() => {\n",
              "      let quickchartButtonEl =\n",
              "        document.querySelector('#df-f4890938-5496-428b-a448-7dee6d34164d button');\n",
              "      quickchartButtonEl.style.display =\n",
              "        google.colab.kernel.accessAllowed ? 'block' : 'none';\n",
              "    })();\n",
              "  </script>\n",
              "</div>\n",
              "\n",
              "    </div>\n",
              "  </div>\n"
            ],
            "application/vnd.google.colaboratory.intrinsic+json": {
              "type": "dataframe",
              "summary": "{\n  \"name\": \"df\",\n  \"rows\": 5,\n  \"fields\": [\n    {\n      \"column\": \"Calorias\",\n      \"properties\": {\n        \"dtype\": \"number\",\n        \"std\": 156.24815198907152,\n        \"min\": 228.6,\n        \"max\": 562.4,\n        \"num_unique_values\": 5,\n        \"samples\": [\n          247.1,\n          228.6,\n          562.4\n        ],\n        \"semantic_type\": \"\",\n        \"description\": \"\"\n      }\n    },\n    {\n      \"column\": \"Tiempo\",\n      \"properties\": {\n        \"dtype\": \"number\",\n        \"std\": 8.531881386892342,\n        \"min\": 13.0,\n        \"max\": 32.3,\n        \"num_unique_values\": 5,\n        \"samples\": [\n          14.5,\n          13.0,\n          27.6\n        ],\n        \"semantic_type\": \"\",\n        \"description\": \"\"\n      }\n    },\n    {\n      \"column\": \"Peso\",\n      \"properties\": {\n        \"dtype\": \"number\",\n        \"std\": 10.75490585732855,\n        \"min\": 60.9,\n        \"max\": 87.6,\n        \"num_unique_values\": 5,\n        \"samples\": [\n          66.2,\n          69.2,\n          87.6\n        ],\n        \"semantic_type\": \"\",\n        \"description\": \"\"\n      }\n    },\n    {\n      \"column\": \"Velocidad\",\n      \"properties\": {\n        \"dtype\": \"number\",\n        \"std\": 0.7981227975693964,\n        \"min\": 13.5,\n        \"max\": 15.7,\n        \"num_unique_values\": 5,\n        \"samples\": [\n          14.9,\n          14.8,\n          13.5\n        ],\n        \"semantic_type\": \"\",\n        \"description\": \"\"\n      }\n    }\n  ]\n}"
            }
          },
          "metadata": {},
          "execution_count": 2
        }
      ],
      "source": [
        "df = pd.read_csv(\"https://raw.githubusercontent.com/anadiedrichs/curso-aprendizaje-automatico/main/datasets/calories_time_weight_speed.csv\")\n",
        "df.sample(5)"
      ]
    },
    {
      "cell_type": "markdown",
      "metadata": {
        "id": "5pvuGXJC9d81"
      },
      "source": [
        "<hr>\n",
        "\n",
        "\n",
        "## 2. Cambio de estructura de datos a numpy\n",
        "\n",
        "\n",
        "* Vamos a pasar los datos de las calorias y el tiempo a una nueva estructura de datos para que scikit-learn puedan trabajar con los datos:\n",
        "<span></span><br><br>\n",
        "    - Las ***columna Tiempo, Peso y Velocidad*** representan las variables independientes 'x<sub>n</sub>' y las vamos a pasar a un array de array (***numpy array***)\n",
        "<span></span><br><br>\n",
        "    - La ***columna calorias*** que representa la variable dependiente 'y', la vamos a pasar a un ***numpy array***"
      ]
    },
    {
      "cell_type": "code",
      "execution_count": 3,
      "metadata": {
        "id": "aDbK3DAs9d81"
      },
      "outputs": [],
      "source": [
        "X = df[['Tiempo', 'Velocidad', 'Peso']].values\n",
        "y = df['Calorias'].values"
      ]
    },
    {
      "cell_type": "markdown",
      "metadata": {
        "id": "_5SoNN539d81"
      },
      "source": [
        "<hr>\n",
        "\n",
        "\n",
        "## 3. Particionado de datos en Entrenamiento y Test\n",
        "\n",
        "\n",
        "* En este punto vamos a dividir el dataset en un conjunto de datos de entrenamiento y datos de test.\n",
        "\n",
        "\n",
        "* Para ello vamos a llamar a la función ***train_test_split()*** y dividimos los datos en entrenamiento y test. Para este ejemplo vamos a coger un ***20% de datos de test y un 80% de datos de entrenamiento.***\n"
      ]
    },
    {
      "cell_type": "code",
      "execution_count": 4,
      "metadata": {
        "id": "aVJqsNKT9d81"
      },
      "outputs": [],
      "source": [
        "np.random.seed(2)\n",
        "\n",
        "X_train, X_test, y_train, y_test = train_test_split(X, y, test_size=0.2)"
      ]
    },
    {
      "cell_type": "markdown",
      "metadata": {
        "id": "s8ITWAWI9d81"
      },
      "source": [
        "<hr>\n",
        "\n",
        "\n",
        "## 4. Generación del modelo con los datos de Entrenamiento\n",
        "\n",
        "* A continuación pasamos a crear un objeto de la clase \"***LinearRegression()***\" para la resolución del problema de regresión.\n",
        "\n",
        "\n",
        "* Una vez instanciado, procedemos a ajustar (entrenar) el modelo (o hipótesis) llamando al método ***fit(X,y)*** que recibe como parámetros el conjunto de datos de entrenamiento de las variables independientes 'X' y la variable dependiente 'Y'.\n",
        "\n",
        "\n",
        "* Una vez ajustado (o entrenado) el modelo (o hipótesis), tendremos ajustados los parámetros ***$\\beta_n$*** de la siguiente manera:\n",
        "\n",
        "<span style=\"font-size:16px\">$$Calorias = \\beta_0 + \\beta_1 \\cdot Tiempo + \\beta_3 \\cdot Velocidad + \\beta_3 \\cdot Peso$$</span>\n"
      ]
    },
    {
      "cell_type": "code",
      "execution_count": 5,
      "metadata": {
        "id": "QwbmXmVW9d82",
        "outputId": "2ac0b614-f95c-4650-aa62-852f8385566d",
        "colab": {
          "base_uri": "https://localhost:8080/",
          "height": 74
        }
      },
      "outputs": [
        {
          "output_type": "execute_result",
          "data": {
            "text/plain": [
              "LinearRegression()"
            ],
            "text/html": [
              "<style>#sk-container-id-1 {color: black;}#sk-container-id-1 pre{padding: 0;}#sk-container-id-1 div.sk-toggleable {background-color: white;}#sk-container-id-1 label.sk-toggleable__label {cursor: pointer;display: block;width: 100%;margin-bottom: 0;padding: 0.3em;box-sizing: border-box;text-align: center;}#sk-container-id-1 label.sk-toggleable__label-arrow:before {content: \"▸\";float: left;margin-right: 0.25em;color: #696969;}#sk-container-id-1 label.sk-toggleable__label-arrow:hover:before {color: black;}#sk-container-id-1 div.sk-estimator:hover label.sk-toggleable__label-arrow:before {color: black;}#sk-container-id-1 div.sk-toggleable__content {max-height: 0;max-width: 0;overflow: hidden;text-align: left;background-color: #f0f8ff;}#sk-container-id-1 div.sk-toggleable__content pre {margin: 0.2em;color: black;border-radius: 0.25em;background-color: #f0f8ff;}#sk-container-id-1 input.sk-toggleable__control:checked~div.sk-toggleable__content {max-height: 200px;max-width: 100%;overflow: auto;}#sk-container-id-1 input.sk-toggleable__control:checked~label.sk-toggleable__label-arrow:before {content: \"▾\";}#sk-container-id-1 div.sk-estimator input.sk-toggleable__control:checked~label.sk-toggleable__label {background-color: #d4ebff;}#sk-container-id-1 div.sk-label input.sk-toggleable__control:checked~label.sk-toggleable__label {background-color: #d4ebff;}#sk-container-id-1 input.sk-hidden--visually {border: 0;clip: rect(1px 1px 1px 1px);clip: rect(1px, 1px, 1px, 1px);height: 1px;margin: -1px;overflow: hidden;padding: 0;position: absolute;width: 1px;}#sk-container-id-1 div.sk-estimator {font-family: monospace;background-color: #f0f8ff;border: 1px dotted black;border-radius: 0.25em;box-sizing: border-box;margin-bottom: 0.5em;}#sk-container-id-1 div.sk-estimator:hover {background-color: #d4ebff;}#sk-container-id-1 div.sk-parallel-item::after {content: \"\";width: 100%;border-bottom: 1px solid gray;flex-grow: 1;}#sk-container-id-1 div.sk-label:hover label.sk-toggleable__label {background-color: #d4ebff;}#sk-container-id-1 div.sk-serial::before {content: \"\";position: absolute;border-left: 1px solid gray;box-sizing: border-box;top: 0;bottom: 0;left: 50%;z-index: 0;}#sk-container-id-1 div.sk-serial {display: flex;flex-direction: column;align-items: center;background-color: white;padding-right: 0.2em;padding-left: 0.2em;position: relative;}#sk-container-id-1 div.sk-item {position: relative;z-index: 1;}#sk-container-id-1 div.sk-parallel {display: flex;align-items: stretch;justify-content: center;background-color: white;position: relative;}#sk-container-id-1 div.sk-item::before, #sk-container-id-1 div.sk-parallel-item::before {content: \"\";position: absolute;border-left: 1px solid gray;box-sizing: border-box;top: 0;bottom: 0;left: 50%;z-index: -1;}#sk-container-id-1 div.sk-parallel-item {display: flex;flex-direction: column;z-index: 1;position: relative;background-color: white;}#sk-container-id-1 div.sk-parallel-item:first-child::after {align-self: flex-end;width: 50%;}#sk-container-id-1 div.sk-parallel-item:last-child::after {align-self: flex-start;width: 50%;}#sk-container-id-1 div.sk-parallel-item:only-child::after {width: 0;}#sk-container-id-1 div.sk-dashed-wrapped {border: 1px dashed gray;margin: 0 0.4em 0.5em 0.4em;box-sizing: border-box;padding-bottom: 0.4em;background-color: white;}#sk-container-id-1 div.sk-label label {font-family: monospace;font-weight: bold;display: inline-block;line-height: 1.2em;}#sk-container-id-1 div.sk-label-container {text-align: center;}#sk-container-id-1 div.sk-container {/* jupyter's `normalize.less` sets `[hidden] { display: none; }` but bootstrap.min.css set `[hidden] { display: none !important; }` so we also need the `!important` here to be able to override the default hidden behavior on the sphinx rendered scikit-learn.org. See: https://github.com/scikit-learn/scikit-learn/issues/21755 */display: inline-block !important;position: relative;}#sk-container-id-1 div.sk-text-repr-fallback {display: none;}</style><div id=\"sk-container-id-1\" class=\"sk-top-container\"><div class=\"sk-text-repr-fallback\"><pre>LinearRegression()</pre><b>In a Jupyter environment, please rerun this cell to show the HTML representation or trust the notebook. <br />On GitHub, the HTML representation is unable to render, please try loading this page with nbviewer.org.</b></div><div class=\"sk-container\" hidden><div class=\"sk-item\"><div class=\"sk-estimator sk-toggleable\"><input class=\"sk-toggleable__control sk-hidden--visually\" id=\"sk-estimator-id-1\" type=\"checkbox\" checked><label for=\"sk-estimator-id-1\" class=\"sk-toggleable__label sk-toggleable__label-arrow\">LinearRegression</label><div class=\"sk-toggleable__content\"><pre>LinearRegression()</pre></div></div></div></div></div>"
            ]
          },
          "metadata": {},
          "execution_count": 5
        }
      ],
      "source": [
        "# Creamos un objeto de la clase LinearRegression\n",
        "reg_mul = linear_model.LinearRegression()\n",
        "\n",
        "# Entrenamos el modelo pasandole las variables independientes y dependiente\n",
        "reg_mul.fit(X_train, y_train)"
      ]
    },
    {
      "cell_type": "markdown",
      "metadata": {
        "id": "syIgF2XL9d82"
      },
      "source": [
        "<hr>\n",
        "\n",
        "\n",
        "## 5. Evaluación del modelo con los datos de Entrenamiento\n",
        "\n",
        "\n",
        "* Llegados a este punto podemos medir el ***error que comete el modelo***, en este caso con los datos de entrenamiento, que son datos que se han utilizado para generar el modelo (o hipótesis).\n",
        "\n",
        "\n",
        "* Para ello vamos a utilizar 2 medidas de ***Accuracy***:\n",
        "\n",
        "    1. ***MAE***: Mean Absolute Error (Error Absoluto Medio)\n",
        "    2. ***MSE***: Mean Squared Error (Error Cuadrático Medio)\n",
        "    \n",
        "    \n",
        "* Para calcular esta medidas, necesitamos tener el valor real de la salida y la predicción del modelo.\n",
        "\n",
        "\n",
        "* Para obtener la predicción del modelo, utilizamos el método ***.predict(X)*** pasándole los datos a predecir y obteniendo el resultado.\n"
      ]
    },
    {
      "cell_type": "code",
      "execution_count": 6,
      "metadata": {
        "id": "JCyPdsiU9d82",
        "outputId": "27342f96-4ddf-4ca9-df14-237afe55bfe9",
        "colab": {
          "base_uri": "https://localhost:8080/"
        }
      },
      "outputs": [
        {
          "output_type": "stream",
          "name": "stdout",
          "text": [
            "Error Absoluto Medio (MAE): 48.14348666783384\n",
            "Error Cuadrático Medio (MSE): 4425.892283745691\n"
          ]
        }
      ],
      "source": [
        "# Obtenemos las predicciones del modelo con los datos de entrenamiento\n",
        "y_predict = reg_mul.predict(X_train)\n",
        "\n",
        "# Calculamos los errores\n",
        "mae_train = mean_absolute_error(y_true=y_train, y_pred=y_predict)\n",
        "mse_train = mean_squared_error(y_true=y_train, y_pred=y_predict)\n",
        "\n",
        "print(\"Error Absoluto Medio (MAE): {error}\".format(error=mae_train))\n",
        "print(\"Error Cuadrático Medio (MSE): {error}\".format(error=mse_train))"
      ]
    },
    {
      "cell_type": "markdown",
      "metadata": {
        "id": "pctG6a889d82"
      },
      "source": [
        "<hr>\n",
        "\n",
        "\n",
        "## 6. Evaluación del modelo con los datos de Test\n",
        "\n",
        "\n",
        "* Vamos a realizar los mismos pasos que en el punto anterior, pero en este caso vamos a ver el error cometido con los datos de test.\n",
        "\n",
        "\n",
        "* Para ello necesitamos predecir cual es la salida del modelo con los datos de test y esto lo hacemos llamando al método ***.predict(X)***.\n",
        "\n",
        "\n",
        "* Con las predicciones y los resultados reales calculamos los errores:"
      ]
    },
    {
      "cell_type": "code",
      "execution_count": 7,
      "metadata": {
        "id": "V3cRChhm9d82",
        "outputId": "398d9695-7e02-4397-bb18-a2fa2405f441",
        "colab": {
          "base_uri": "https://localhost:8080/"
        }
      },
      "outputs": [
        {
          "output_type": "stream",
          "name": "stdout",
          "text": [
            "Error Absoluto Medio (MAE): 48.44305689079671\n",
            "Error Cuadrático Medio (MSE): 4508.549637473967\n"
          ]
        }
      ],
      "source": [
        "# Obtenemos las predicciones del modelo con los datos de test\n",
        "y_predict = reg_mul.predict(X_test)\n",
        "\n",
        "# Calculamos los errores\n",
        "mae_test = mean_absolute_error(y_true=y_test, y_pred=y_predict)\n",
        "mse_test = mean_squared_error(y_true=y_test, y_pred=y_predict)\n",
        "\n",
        "print(\"Error Absoluto Medio (MAE): {error}\".format(error=mae_test))\n",
        "print(\"Error Cuadrático Medio (MSE): {error}\".format(error=mse_test))"
      ]
    },
    {
      "cell_type": "markdown",
      "metadata": {
        "id": "3fvA67nS9d82"
      },
      "source": [
        "<hr>\n",
        "\n",
        "\n",
        "## 7. Conclusiones: Comparativa de resultados\n",
        "\n",
        "\n",
        "* Podemos observar que los errores cometidos con los datos de entrenamiento y test son muy similares.\n",
        "\n",
        "\n",
        "* El ***error absoluto medio*** nos dice el ***error medio que cometemos en la predicción de las calorias quemadas***; es decir, que al hacer las predicciones nos equivocamos de media en 48 calorias.\n",
        "\n",
        "\n",
        "* Si nos fijamos ***el MAE es practicamente igual*** evaluándolo tanto ***con los datos de entrenamiento como con los de test***, lo que significa que el modelo generado es un ***modelo muy estable*** que generaliza bastante bien.\n",
        "\n",
        "\n",
        "* ***Si los errores cometidos con los datos de entrenamiento y test fuesen muy dispares podria significar que***:\n",
        "\n",
        "    - Tenemos pocos datos de los que aprender.\n",
        "    - Hay mucha varianza en los datos.\n",
        "    - Estamos particionando mal los datos en entrenamiento y test (mucho sesgo en cada partición)\n",
        "    - Estamos entrenando mall nuestro modelo\n",
        "    - Etc."
      ]
    }
  ],
  "metadata": {
    "kernelspec": {
      "display_name": "Python 3",
      "language": "python",
      "name": "python3"
    },
    "language_info": {
      "codemirror_mode": {
        "name": "ipython",
        "version": 3
      },
      "file_extension": ".py",
      "mimetype": "text/x-python",
      "name": "python",
      "nbconvert_exporter": "python",
      "pygments_lexer": "ipython3",
      "version": "3.6.10"
    },
    "colab": {
      "provenance": [],
      "include_colab_link": true
    }
  },
  "nbformat": 4,
  "nbformat_minor": 0
}