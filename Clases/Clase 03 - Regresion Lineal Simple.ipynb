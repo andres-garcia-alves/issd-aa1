{
  "cells": [
    {
      "cell_type": "markdown",
      "metadata": {
        "colab_type": "text",
        "id": "view-in-github"
      },
      "source": [
        "<a href=\"https://colab.research.google.com/github/anadiedrichs/curso-aprendizaje-automatico/blob/main/clase_2_regresion_lineal_introduccion.ipynb\" target=\"_parent\"><img src=\"https://colab.research.google.com/assets/colab-badge.svg\" alt=\"Open In Colab\"/></a>"
      ]
    },
    {
      "cell_type": "markdown",
      "metadata": {
        "id": "seeyc7em-eGF"
      },
      "source": [
        "# Clase 2."
      ]
    },
    {
      "cell_type": "markdown",
      "metadata": {
        "id": "P_sgsM_iCoQm"
      },
      "source": [
        "## Regresión lineal simple"
      ]
    },
    {
      "cell_type": "markdown",
      "metadata": {
        "id": "5TV1bEU1DFCc"
      },
      "source": [
        "### Introducción"
      ]
    },
    {
      "cell_type": "markdown",
      "metadata": {
        "id": "rN40GzMCCgXE"
      },
      "source": [
        "Comenzaremos con la regresión lineal más conocida, un ajuste de línea recta a los datos.\n",
        "\n",
        "\n",
        "Un ajuste de línea recta es un modelo de la forma:\n",
        "$$\n",
        "y = ax + b\n",
        "$$\n",
        "donde $a$ se conoce comúnmente como la *pendiente* y $b$ se conoce comúnmente como la *intersección*.\n",
        "\n",
        "Considere los siguientes datos, que están dispersos en una línea con una pendiente de 2 y una intersección de –5 (vea la siguiente figura):"
      ]
    },
    {
      "cell_type": "markdown",
      "metadata": {
        "id": "o28hSV8PDKzP"
      },
      "source": [
        "### Generamos datos sintéticos\n",
        "\n",
        "Datos sintéticos son aquellos datos que no son reales, sino generados usando funciones y aleatoriedad."
      ]
    },
    {
      "cell_type": "code",
      "execution_count": 1,
      "metadata": {
        "id": "u3NMDVZRCynZ"
      },
      "outputs": [],
      "source": [
        "%matplotlib inline\n",
        "import matplotlib.pyplot as plt\n",
        "import numpy as np"
      ]
    },
    {
      "cell_type": "code",
      "execution_count": null,
      "metadata": {
        "colab": {
          "base_uri": "https://localhost:8080/"
        },
        "id": "9xwPvZ4PCfjm",
        "outputId": "3eccc3df-ed18-497b-90d5-d001b6ec37d1"
      },
      "outputs": [
        {
          "data": {
            "text/plain": [
              "array([4.17022005e+00, 7.20324493e+00, 1.14374817e-03, 3.02332573e+00,\n",
              "       1.46755891e+00, 9.23385948e-01, 1.86260211e+00, 3.45560727e+00,\n",
              "       3.96767474e+00, 5.38816734e+00, 4.19194514e+00, 6.85219500e+00,\n",
              "       2.04452250e+00, 8.78117436e+00, 2.73875932e-01, 6.70467510e+00,\n",
              "       4.17304802e+00, 5.58689828e+00, 1.40386939e+00, 1.98101489e+00,\n",
              "       8.00744569e+00, 9.68261576e+00, 3.13424178e+00, 6.92322616e+00,\n",
              "       8.76389152e+00, 8.94606664e+00, 8.50442114e-01, 3.90547832e-01,\n",
              "       1.69830420e+00, 8.78142503e+00, 9.83468338e-01, 4.21107625e+00,\n",
              "       9.57889530e+00, 5.33165285e+00, 6.91877114e+00, 3.15515631e+00,\n",
              "       6.86500928e+00, 8.34625672e+00, 1.82882773e-01, 7.50144315e+00,\n",
              "       9.88861089e+00, 7.48165654e+00, 2.80443992e+00, 7.89279328e+00,\n",
              "       1.03226007e+00, 4.47893526e+00, 9.08595503e+00, 2.93614148e+00,\n",
              "       2.87775339e+00, 1.30028572e+00])"
            ]
          },
          "execution_count": 2,
          "metadata": {},
          "output_type": "execute_result"
        }
      ],
      "source": [
        "rng = np.random.RandomState(1)  # semilla\n",
        "x = 10 * rng.rand(50)           # ampliar el rango desde 0-1 a 0-10\n",
        "x"
      ]
    },
    {
      "cell_type": "markdown",
      "metadata": {
        "id": "16aeiL6PwdGI"
      },
      "source": [
        "Genero datos usando $ y = 2 x - 5 + \\epsilon $"
      ]
    },
    {
      "cell_type": "code",
      "execution_count": null,
      "metadata": {
        "id": "w1QW9Dr5mzaK"
      },
      "outputs": [
        {
          "data": {
            "text/plain": [
              "array([ 2.65326739,  8.56128423, -5.66895863,  1.03398685, -3.18219253,\n",
              "       -2.91881241,  0.3850064 ,  2.6532587 ,  2.74351393,  4.88870572,\n",
              "        2.63673199, 10.39684461, -0.86014725, 11.92535308, -4.26133265,\n",
              "       10.50960534,  3.466255  ,  6.79099968, -1.89209091, -1.39022006,\n",
              "        9.87237318, 14.01588879,  1.05958933,  9.4330755 , 13.36676646,\n",
              "       13.82323535, -3.01352845, -3.33376317, -2.35778955, 13.81571822,\n",
              "       -2.5201335 ,  3.12405966, 14.64630875,  5.58773399,  9.96917167,\n",
              "        2.83012944, 10.91559396, 10.2960171 , -6.07834826,  9.49842044,\n",
              "       14.93725885, 10.83948201,  0.92451479,  8.76338535, -3.24168388,\n",
              "        4.78584517, 13.4020048 ,  1.63429415,  0.53317863, -2.60018663])"
            ]
          },
          "execution_count": 3,
          "metadata": {},
          "output_type": "execute_result"
        }
      ],
      "source": [
        "y = 2 * x - 5 + rng.randn(50)   # función lineal + valores aleatorios para generar dispersión\n",
        "y"
      ]
    },
    {
      "cell_type": "code",
      "execution_count": 4,
      "metadata": {
        "colab": {
          "base_uri": "https://localhost:8080/",
          "height": 430
        },
        "id": "mfIdl6fbmubh",
        "outputId": "a22b1e61-e9fb-4e4a-c3a5-e555aaac67f0"
      },
      "outputs": [
        {
          "data": {
            "image/png": "[encoded data removed]",
            "text/plain": [
              "<Figure size 640x480 with 1 Axes>"
            ]
          },
          "metadata": {},
          "output_type": "display_data"
        }
      ],
      "source": [
        "plt.scatter(x, y);"
      ]
    },
    {
      "cell_type": "markdown",
      "metadata": {
        "id": "CBShfBxREBnW"
      },
      "source": [
        "### Regresión lineal"
      ]
    },
    {
      "cell_type": "markdown",
      "metadata": {
        "id": "N7uL-o6MCf-m"
      },
      "source": [
        "Podemos utilizar el estimador LinearRegression de Scikit-Learn para ajustar estos datos y construir la línea de mejor ajuste, como se muestra en la siguiente figura:"
      ]
    },
    {
      "cell_type": "code",
      "execution_count": null,
      "metadata": {
        "colab": {
          "base_uri": "https://localhost:8080/",
          "height": 80
        },
        "id": "rds94sZKDEuL",
        "outputId": "c82b4b61-7773-4f6f-d8ce-a433650f8688"
      },
      "outputs": [
        {
          "data": {
            "text/html": [
              "<style>#sk-container-id-1 {\n",
              "  /* Definition of color scheme common for light and dark mode */\n",
              "  --sklearn-color-text: #000;\n",
              "  --sklearn-color-text-muted: #666;\n",
              "  --sklearn-color-line: gray;\n",
              "  /* Definition of color scheme for unfitted estimators */\n",
              "  --sklearn-color-unfitted-level-0: #fff5e6;\n",
              "  --sklearn-color-unfitted-level-1: #f6e4d2;\n",
              "  --sklearn-color-unfitted-level-2: #ffe0b3;\n",
              "  --sklearn-color-unfitted-level-3: chocolate;\n",
              "  /* Definition of color scheme for fitted estimators */\n",
              "  --sklearn-color-fitted-level-0: #f0f8ff;\n",
              "  --sklearn-color-fitted-level-1: #d4ebff;\n",
              "  --sklearn-color-fitted-level-2: #b3dbfd;\n",
              "  --sklearn-color-fitted-level-3: cornflowerblue;\n",
              "\n",
              "  /* Specific color for light theme */\n",
              "  --sklearn-color-text-on-default-background: var(--sg-text-color, var(--theme-code-foreground, var(--jp-content-font-color1, black)));\n",
              "  --sklearn-color-background: var(--sg-background-color, var(--theme-background, var(--jp-layout-color0, white)));\n",
              "  --sklearn-color-border-box: var(--sg-text-color, var(--theme-code-foreground, var(--jp-content-font-color1, black)));\n",
              "  --sklearn-color-icon: #696969;\n",
              "\n",
              "  @media (prefers-color-scheme: dark) {\n",
              "    /* Redefinition of color scheme for dark theme */\n",
              "    --sklearn-color-text-on-default-background: var(--sg-text-color, var(--theme-code-foreground, var(--jp-content-font-color1, white)));\n",
              "    --sklearn-color-background: var(--sg-background-color, var(--theme-background, var(--jp-layout-color0, #111)));\n",
              "    --sklearn-color-border-box: var(--sg-text-color, var(--theme-code-foreground, var(--jp-content-font-color1, white)));\n",
              "    --sklearn-color-icon: #878787;\n",
              "  }\n",
              "}\n",
              "\n",
              "#sk-container-id-1 {\n",
              "  color: var(--sklearn-color-text);\n",
              "}\n",
              "\n",
              "#sk-container-id-1 pre {\n",
              "  padding: 0;\n",
              "}\n",
              "\n",
              "#sk-container-id-1 input.sk-hidden--visually {\n",
              "  border: 0;\n",
              "  clip: rect(1px 1px 1px 1px);\n",
              "  clip: rect(1px, 1px, 1px, 1px);\n",
              "  height: 1px;\n",
              "  margin: -1px;\n",
              "  overflow: hidden;\n",
              "  padding: 0;\n",
              "  position: absolute;\n",
              "  width: 1px;\n",
              "}\n",
              "\n",
              "#sk-container-id-1 div.sk-dashed-wrapped {\n",
              "  border: 1px dashed var(--sklearn-color-line);\n",
              "  margin: 0 0.4em 0.5em 0.4em;\n",
              "  box-sizing: border-box;\n",
              "  padding-bottom: 0.4em;\n",
              "  background-color: var(--sklearn-color-background);\n",
              "}\n",
              "\n",
              "#sk-container-id-1 div.sk-container {\n",
              "  /* jupyter's `normalize.less` sets `[hidden] { display: none; }`\n",
              "     but bootstrap.min.css set `[hidden] { display: none !important; }`\n",
              "     so we also need the `!important` here to be able to override the\n",
              "     default hidden behavior on the sphinx rendered scikit-learn.org.\n",
              "     See: https://github.com/scikit-learn/scikit-learn/issues/21755 */\n",
              "  display: inline-block !important;\n",
              "  position: relative;\n",
              "}\n",
              "\n",
              "#sk-container-id-1 div.sk-text-repr-fallback {\n",
              "  display: none;\n",
              "}\n",
              "\n",
              "div.sk-parallel-item,\n",
              "div.sk-serial,\n",
              "div.sk-item {\n",
              "  /* draw centered vertical line to link estimators */\n",
              "  background-image: linear-gradient(var(--sklearn-color-text-on-default-background), var(--sklearn-color-text-on-default-background));\n",
              "  background-size: 2px 100%;\n",
              "  background-repeat: no-repeat;\n",
              "  background-position: center center;\n",
              "}\n",
              "\n",
              "/* Parallel-specific style estimator block */\n",
              "\n",
              "#sk-container-id-1 div.sk-parallel-item::after {\n",
              "  content: \"\";\n",
              "  width: 100%;\n",
              "  border-bottom: 2px solid var(--sklearn-color-text-on-default-background);\n",
              "  flex-grow: 1;\n",
              "}\n",
              "\n",
              "#sk-container-id-1 div.sk-parallel {\n",
              "  display: flex;\n",
              "  align-items: stretch;\n",
              "  justify-content: center;\n",
              "  background-color: var(--sklearn-color-background);\n",
              "  position: relative;\n",
              "}\n",
              "\n",
              "#sk-container-id-1 div.sk-parallel-item {\n",
              "  display: flex;\n",
              "  flex-direction: column;\n",
              "}\n",
              "\n",
              "#sk-container-id-1 div.sk-parallel-item:first-child::after {\n",
              "  align-self: flex-end;\n",
              "  width: 50%;\n",
              "}\n",
              "\n",
              "#sk-container-id-1 div.sk-parallel-item:last-child::after {\n",
              "  align-self: flex-start;\n",
              "  width: 50%;\n",
              "}\n",
              "\n",
              "#sk-container-id-1 div.sk-parallel-item:only-child::after {\n",
              "  width: 0;\n",
              "}\n",
              "\n",
              "/* Serial-specific style estimator block */\n",
              "\n",
              "#sk-container-id-1 div.sk-serial {\n",
              "  display: flex;\n",
              "  flex-direction: column;\n",
              "  align-items: center;\n",
              "  background-color: var(--sklearn-color-background);\n",
              "  padding-right: 1em;\n",
              "  padding-left: 1em;\n",
              "}\n",
              "\n",
              "\n",
              "/* Toggleable style: style used for estimator/Pipeline/ColumnTransformer box that is\n",
              "clickable and can be expanded/collapsed.\n",
              "- Pipeline and ColumnTransformer use this feature and define the default style\n",
              "- Estimators will overwrite some part of the style using the `sk-estimator` class\n",
              "*/\n",
              "\n",
              "/* Pipeline and ColumnTransformer style (default) */\n",
              "\n",
              "#sk-container-id-1 div.sk-toggleable {\n",
              "  /* Default theme specific background. It is overwritten whether we have a\n",
              "  specific estimator or a Pipeline/ColumnTransformer */\n",
              "  background-color: var(--sklearn-color-background);\n",
              "}\n",
              "\n",
              "/* Toggleable label */\n",
              "#sk-container-id-1 label.sk-toggleable__label {\n",
              "  cursor: pointer;\n",
              "  display: flex;\n",
              "  width: 100%;\n",
              "  margin-bottom: 0;\n",
              "  padding: 0.5em;\n",
              "  box-sizing: border-box;\n",
              "  text-align: center;\n",
              "  align-items: start;\n",
              "  justify-content: space-between;\n",
              "  gap: 0.5em;\n",
              "}\n",
              "\n",
              "#sk-container-id-1 label.sk-toggleable__label .caption {\n",
              "  font-size: 0.6rem;\n",
              "  font-weight: lighter;\n",
              "  color: var(--sklearn-color-text-muted);\n",
              "}\n",
              "\n",
              "#sk-container-id-1 label.sk-toggleable__label-arrow:before {\n",
              "  /* Arrow on the left of the label */\n",
              "  content: \"▸\";\n",
              "  float: left;\n",
              "  margin-right: 0.25em;\n",
              "  color: var(--sklearn-color-icon);\n",
              "}\n",
              "\n",
              "#sk-container-id-1 label.sk-toggleable__label-arrow:hover:before {\n",
              "  color: var(--sklearn-color-text);\n",
              "}\n",
              "\n",
              "/* Toggleable content - dropdown */\n",
              "\n",
              "#sk-container-id-1 div.sk-toggleable__content {\n",
              "  max-height: 0;\n",
              "  max-width: 0;\n",
              "  overflow: hidden;\n",
              "  text-align: left;\n",
              "  /* unfitted */\n",
              "  background-color: var(--sklearn-color-unfitted-level-0);\n",
              "}\n",
              "\n",
              "#sk-container-id-1 div.sk-toggleable__content.fitted {\n",
              "  /* fitted */\n",
              "  background-color: var(--sklearn-color-fitted-level-0);\n",
              "}\n",
              "\n",
              "#sk-container-id-1 div.sk-toggleable__content pre {\n",
              "  margin: 0.2em;\n",
              "  border-radius: 0.25em;\n",
              "  color: var(--sklearn-color-text);\n",
              "  /* unfitted */\n",
              "  background-color: var(--sklearn-color-unfitted-level-0);\n",
              "}\n",
              "\n",
              "#sk-container-id-1 div.sk-toggleable__content.fitted pre {\n",
              "  /* unfitted */\n",
              "  background-color: var(--sklearn-color-fitted-level-0);\n",
              "}\n",
              "\n",
              "#sk-container-id-1 input.sk-toggleable__control:checked~div.sk-toggleable__content {\n",
              "  /* Expand drop-down */\n",
              "  max-height: 200px;\n",
              "  max-width: 100%;\n",
              "  overflow: auto;\n",
              "}\n",
              "\n",
              "#sk-container-id-1 input.sk-toggleable__control:checked~label.sk-toggleable__label-arrow:before {\n",
              "  content: \"▾\";\n",
              "}\n",
              "\n",
              "/* Pipeline/ColumnTransformer-specific style */\n",
              "\n",
              "#sk-container-id-1 div.sk-label input.sk-toggleable__control:checked~label.sk-toggleable__label {\n",
              "  color: var(--sklearn-color-text);\n",
              "  background-color: var(--sklearn-color-unfitted-level-2);\n",
              "}\n",
              "\n",
              "#sk-container-id-1 div.sk-label.fitted input.sk-toggleable__control:checked~label.sk-toggleable__label {\n",
              "  background-color: var(--sklearn-color-fitted-level-2);\n",
              "}\n",
              "\n",
              "/* Estimator-specific style */\n",
              "\n",
              "/* Colorize estimator box */\n",
              "#sk-container-id-1 div.sk-estimator input.sk-toggleable__control:checked~label.sk-toggleable__label {\n",
              "  /* unfitted */\n",
              "  background-color: var(--sklearn-color-unfitted-level-2);\n",
              "}\n",
              "\n",
              "#sk-container-id-1 div.sk-estimator.fitted input.sk-toggleable__control:checked~label.sk-toggleable__label {\n",
              "  /* fitted */\n",
              "  background-color: var(--sklearn-color-fitted-level-2);\n",
              "}\n",
              "\n",
              "#sk-container-id-1 div.sk-label label.sk-toggleable__label,\n",
              "#sk-container-id-1 div.sk-label label {\n",
              "  /* The background is the default theme color */\n",
              "  color: var(--sklearn-color-text-on-default-background);\n",
              "}\n",
              "\n",
              "/* On hover, darken the color of the background */\n",
              "#sk-container-id-1 div.sk-label:hover label.sk-toggleable__label {\n",
              "  color: var(--sklearn-color-text);\n",
              "  background-color: var(--sklearn-color-unfitted-level-2);\n",
              "}\n",
              "\n",
              "/* Label box, darken color on hover, fitted */\n",
              "#sk-container-id-1 div.sk-label.fitted:hover label.sk-toggleable__label.fitted {\n",
              "  color: var(--sklearn-color-text);\n",
              "  background-color: var(--sklearn-color-fitted-level-2);\n",
              "}\n",
              "\n",
              "/* Estimator label */\n",
              "\n",
              "#sk-container-id-1 div.sk-label label {\n",
              "  font-family: monospace;\n",
              "  font-weight: bold;\n",
              "  display: inline-block;\n",
              "  line-height: 1.2em;\n",
              "}\n",
              "\n",
              "#sk-container-id-1 div.sk-label-container {\n",
              "  text-align: center;\n",
              "}\n",
              "\n",
              "/* Estimator-specific */\n",
              "#sk-container-id-1 div.sk-estimator {\n",
              "  font-family: monospace;\n",
              "  border: 1px dotted var(--sklearn-color-border-box);\n",
              "  border-radius: 0.25em;\n",
              "  box-sizing: border-box;\n",
              "  margin-bottom: 0.5em;\n",
              "  /* unfitted */\n",
              "  background-color: var(--sklearn-color-unfitted-level-0);\n",
              "}\n",
              "\n",
              "#sk-container-id-1 div.sk-estimator.fitted {\n",
              "  /* fitted */\n",
              "  background-color: var(--sklearn-color-fitted-level-0);\n",
              "}\n",
              "\n",
              "/* on hover */\n",
              "#sk-container-id-1 div.sk-estimator:hover {\n",
              "  /* unfitted */\n",
              "  background-color: var(--sklearn-color-unfitted-level-2);\n",
              "}\n",
              "\n",
              "#sk-container-id-1 div.sk-estimator.fitted:hover {\n",
              "  /* fitted */\n",
              "  background-color: var(--sklearn-color-fitted-level-2);\n",
              "}\n",
              "\n",
              "/* Specification for estimator info (e.g. \"i\" and \"?\") */\n",
              "\n",
              "/* Common style for \"i\" and \"?\" */\n",
              "\n",
              ".sk-estimator-doc-link,\n",
              "a:link.sk-estimator-doc-link,\n",
              "a:visited.sk-estimator-doc-link {\n",
              "  float: right;\n",
              "  font-size: smaller;\n",
              "  line-height: 1em;\n",
              "  font-family: monospace;\n",
              "  background-color: var(--sklearn-color-background);\n",
              "  border-radius: 1em;\n",
              "  height: 1em;\n",
              "  width: 1em;\n",
              "  text-decoration: none !important;\n",
              "  margin-left: 0.5em;\n",
              "  text-align: center;\n",
              "  /* unfitted */\n",
              "  border: var(--sklearn-color-unfitted-level-1) 1pt solid;\n",
              "  color: var(--sklearn-color-unfitted-level-1);\n",
              "}\n",
              "\n",
              ".sk-estimator-doc-link.fitted,\n",
              "a:link.sk-estimator-doc-link.fitted,\n",
              "a:visited.sk-estimator-doc-link.fitted {\n",
              "  /* fitted */\n",
              "  border: var(--sklearn-color-fitted-level-1) 1pt solid;\n",
              "  color: var(--sklearn-color-fitted-level-1);\n",
              "}\n",
              "\n",
              "/* On hover */\n",
              "div.sk-estimator:hover .sk-estimator-doc-link:hover,\n",
              ".sk-estimator-doc-link:hover,\n",
              "div.sk-label-container:hover .sk-estimator-doc-link:hover,\n",
              ".sk-estimator-doc-link:hover {\n",
              "  /* unfitted */\n",
              "  background-color: var(--sklearn-color-unfitted-level-3);\n",
              "  color: var(--sklearn-color-background);\n",
              "  text-decoration: none;\n",
              "}\n",
              "\n",
              "div.sk-estimator.fitted:hover .sk-estimator-doc-link.fitted:hover,\n",
              ".sk-estimator-doc-link.fitted:hover,\n",
              "div.sk-label-container:hover .sk-estimator-doc-link.fitted:hover,\n",
              ".sk-estimator-doc-link.fitted:hover {\n",
              "  /* fitted */\n",
              "  background-color: var(--sklearn-color-fitted-level-3);\n",
              "  color: var(--sklearn-color-background);\n",
              "  text-decoration: none;\n",
              "}\n",
              "\n",
              "/* Span, style for the box shown on hovering the info icon */\n",
              ".sk-estimator-doc-link span {\n",
              "  display: none;\n",
              "  z-index: 9999;\n",
              "  position: relative;\n",
              "  font-weight: normal;\n",
              "  right: .2ex;\n",
              "  padding: .5ex;\n",
              "  margin: .5ex;\n",
              "  width: min-content;\n",
              "  min-width: 20ex;\n",
              "  max-width: 50ex;\n",
              "  color: var(--sklearn-color-text);\n",
              "  box-shadow: 2pt 2pt 4pt #999;\n",
              "  /* unfitted */\n",
              "  background: var(--sklearn-color-unfitted-level-0);\n",
              "  border: .5pt solid var(--sklearn-color-unfitted-level-3);\n",
              "}\n",
              "\n",
              ".sk-estimator-doc-link.fitted span {\n",
              "  /* fitted */\n",
              "  background: var(--sklearn-color-fitted-level-0);\n",
              "  border: var(--sklearn-color-fitted-level-3);\n",
              "}\n",
              "\n",
              ".sk-estimator-doc-link:hover span {\n",
              "  display: block;\n",
              "}\n",
              "\n",
              "/* \"?\"-specific style due to the `<a>` HTML tag */\n",
              "\n",
              "#sk-container-id-1 a.estimator_doc_link {\n",
              "  float: right;\n",
              "  font-size: 1rem;\n",
              "  line-height: 1em;\n",
              "  font-family: monospace;\n",
              "  background-color: var(--sklearn-color-background);\n",
              "  border-radius: 1rem;\n",
              "  height: 1rem;\n",
              "  width: 1rem;\n",
              "  text-decoration: none;\n",
              "  /* unfitted */\n",
              "  color: var(--sklearn-color-unfitted-level-1);\n",
              "  border: var(--sklearn-color-unfitted-level-1) 1pt solid;\n",
              "}\n",
              "\n",
              "#sk-container-id-1 a.estimator_doc_link.fitted {\n",
              "  /* fitted */\n",
              "  border: var(--sklearn-color-fitted-level-1) 1pt solid;\n",
              "  color: var(--sklearn-color-fitted-level-1);\n",
              "}\n",
              "\n",
              "/* On hover */\n",
              "#sk-container-id-1 a.estimator_doc_link:hover {\n",
              "  /* unfitted */\n",
              "  background-color: var(--sklearn-color-unfitted-level-3);\n",
              "  color: var(--sklearn-color-background);\n",
              "  text-decoration: none;\n",
              "}\n",
              "\n",
              "#sk-container-id-1 a.estimator_doc_link.fitted:hover {\n",
              "  /* fitted */\n",
              "  background-color: var(--sklearn-color-fitted-level-3);\n",
              "}\n",
              "</style><div id=\"sk-container-id-1\" class=\"sk-top-container\"><div class=\"sk-text-repr-fallback\"><pre>LinearRegression()</pre><b>In a Jupyter environment, please rerun this cell to show the HTML representation or trust the notebook. <br />On GitHub, the HTML representation is unable to render, please try loading this page with nbviewer.org.</b></div><div class=\"sk-container\" hidden><div class=\"sk-item\"><div class=\"sk-estimator fitted sk-toggleable\"><input class=\"sk-toggleable__control sk-hidden--visually\" id=\"sk-estimator-id-1\" type=\"checkbox\" checked><label for=\"sk-estimator-id-1\" class=\"sk-toggleable__label fitted sk-toggleable__label-arrow\"><div><div>LinearRegression</div></div><div><a class=\"sk-estimator-doc-link fitted\" rel=\"noreferrer\" target=\"_blank\" href=\"https://scikit-learn.org/1.6/modules/generated/sklearn.linear_model.LinearRegression.html\">?<span>Documentation for LinearRegression</span></a><span class=\"sk-estimator-doc-link fitted\">i<span>Fitted</span></span></div></label><div class=\"sk-toggleable__content fitted\"><pre>LinearRegression()</pre></div> </div></div></div></div>"
            ],
            "text/plain": [
              "LinearRegression()"
            ]
          },
          "execution_count": 6,
          "metadata": {},
          "output_type": "execute_result"
        }
      ],
      "source": [
        "from sklearn.linear_model import LinearRegression\n",
        "\n",
        "model = LinearRegression(fit_intercept=True)    # fit_intercept es la ordenada al origen\n",
        "model.fit(x[:, np.newaxis], y)                  # ajustar el modelo a los datos de entrenamiento"
      ]
    },
    {
      "cell_type": "code",
      "execution_count": 13,
      "metadata": {
        "id": "F2JnAsu4npdZ"
      },
      "outputs": [
        {
          "data": {
            "text/plain": [
              "array([ 0.        ,  0.20408163,  0.40816327,  0.6122449 ,  0.81632653,\n",
              "        1.02040816,  1.2244898 ,  1.42857143,  1.63265306,  1.83673469,\n",
              "        2.04081633,  2.24489796,  2.44897959,  2.65306122,  2.85714286,\n",
              "        3.06122449,  3.26530612,  3.46938776,  3.67346939,  3.87755102,\n",
              "        4.08163265,  4.28571429,  4.48979592,  4.69387755,  4.89795918,\n",
              "        5.10204082,  5.30612245,  5.51020408,  5.71428571,  5.91836735,\n",
              "        6.12244898,  6.32653061,  6.53061224,  6.73469388,  6.93877551,\n",
              "        7.14285714,  7.34693878,  7.55102041,  7.75510204,  7.95918367,\n",
              "        8.16326531,  8.36734694,  8.57142857,  8.7755102 ,  8.97959184,\n",
              "        9.18367347,  9.3877551 ,  9.59183673,  9.79591837, 10.        ])"
            ]
          },
          "execution_count": 13,
          "metadata": {},
          "output_type": "execute_result"
        }
      ],
      "source": [
        "xfit = np.linspace(0, 10, 50) # generar 50 valores del 0 al 10\n",
        "xfit"
      ]
    },
    {
      "cell_type": "code",
      "execution_count": null,
      "metadata": {
        "colab": {
          "base_uri": "https://localhost:8080/"
        },
        "id": "S-NTx747qnsJ",
        "outputId": "1d4633aa-8714-4693-c4b7-510d79dbc260"
      },
      "outputs": [
        {
          "name": "stdout",
          "output_type": "stream",
          "text": [
            "(50,)\n",
            "(50,)\n"
          ]
        }
      ],
      "source": [
        "print(y.shape)      # shape original\n",
        "print(xfit.shape)   # shape de los valores recien generados"
      ]
    },
    {
      "cell_type": "code",
      "execution_count": null,
      "metadata": {
        "id": "i6xw0e4Unu5R"
      },
      "outputs": [],
      "source": [
        "yfit = model.predict(xfit[:, np.newaxis])   # predecir con el modelo para los nuevos valores"
      ]
    },
    {
      "cell_type": "code",
      "execution_count": null,
      "metadata": {
        "colab": {
          "base_uri": "https://localhost:8080/",
          "height": 430
        },
        "id": "eBqQh2YBoAZa",
        "outputId": "265f629c-7a7b-4824-bbd0-3a23e926ebe6"
      },
      "outputs": [
        {
          "data": {
            "text/plain": [
              "[<matplotlib.lines.Line2D at 0x173ccc900b0>]"
            ]
          },
          "execution_count": 20,
          "metadata": {},
          "output_type": "execute_result"
        },
        {
          "data": {
            "image/png": "[encoded data removed]",
            "text/plain": [
              "<Figure size 640x480 with 1 Axes>"
            ]
          },
          "metadata": {},
          "output_type": "display_data"
        }
      ],
      "source": [
        "plt.scatter(x, y)       # grafico de dispersion\n",
        "plt.plot(xfit, yfit)    # linea media de los nuevos valores"
      ]
    },
    {
      "cell_type": "markdown",
      "metadata": {
        "id": "10V3Th88DENX"
      },
      "source": [
        "La pendiente y la intersección de los datos están contenidas en los parámetros de ajuste del modelo, que en Scikit-Learn siempre están marcados con un guión bajo al final.\n",
        "Aquí los parámetros relevantes son `coef_` e `intercept_`:"
      ]
    },
    {
      "cell_type": "code",
      "execution_count": null,
      "metadata": {
        "colab": {
          "base_uri": "https://localhost:8080/"
        },
        "id": "nXqEmTAiDSCk",
        "outputId": "c4da2862-5cdc-4dd5-a9a2-7dd2febbdaba"
      },
      "outputs": [
        {
          "name": "stdout",
          "output_type": "stream",
          "text": [
            "Pendiente del modelo:  2.0272088103606944\n",
            "Model intercept:      -4.9985770855532\n"
          ]
        }
      ],
      "source": [
        "print(\"Pendiente del modelo: \", model.coef_[0])     # pendiente\n",
        "print(\"Model intercept:     \", model.intercept_)    # ordenada al origen"
      ]
    },
    {
      "cell_type": "markdown",
      "metadata": {
        "id": "O9KlhUObDe4_"
      },
      "source": [
        "Vemos que los resultados son muy cercanos a los valores utilizados para generar los datos, como podríamos esperar."
      ]
    },
    {
      "cell_type": "code",
      "execution_count": 27,
      "metadata": {
        "colab": {
          "base_uri": "https://localhost:8080/"
        },
        "id": "l271_z4eCgEC",
        "outputId": "38b4d774-ee1e-4ec8-e6ff-d9d916227f78"
      },
      "outputs": [
        {
          "data": {
            "text/plain": [
              "(50,)"
            ]
          },
          "execution_count": 27,
          "metadata": {},
          "output_type": "execute_result"
        }
      ],
      "source": [
        "y.shape"
      ]
    },
    {
      "cell_type": "code",
      "execution_count": 29,
      "metadata": {
        "colab": {
          "base_uri": "https://localhost:8080/"
        },
        "id": "85FBDgAzA_HF",
        "outputId": "a9f79af3-ef30-40ed-e11b-7a7e22efb76b"
      },
      "outputs": [
        {
          "name": "stdout",
          "output_type": "stream",
          "text": [
            "Error de los datos respecto al modelo:\n",
            "[-0.80206234 -1.04262028 -0.67270017 -0.09634861 -1.1586638   0.20786855\n",
            "  1.60770007  0.64659828 -0.30121418 -1.0356575  -0.86263905  1.50459161\n",
            " -0.00624418 -0.87734387  0.18204073  1.91640599  0.00519237  0.46376734\n",
            "  0.26054979 -0.40757382 -1.36181418 -0.61421809 -0.29559614  0.39682753\n",
            "  0.59910544  0.68626734  0.26102489  0.87309191 -0.80202969  1.01251311\n",
            "  0.4847479  -0.41409412  0.22646489 -0.22206256  0.94195494  1.43254585\n",
            "  1.99736376 -1.62501097 -1.45051274 -0.70999412 -0.11044318  0.67117903\n",
            "  0.23790656 -2.23837765 -0.3357135   0.70468523 -0.01854621  0.68069935\n",
            " -0.3020513  -0.23756021]\n"
          ]
        }
      ],
      "source": [
        "y_pred = model.predict(x[:, np.newaxis])\n",
        "error = y - y_pred\n",
        "\n",
        "print(\"Error de los datos respecto al modelo:\")\n",
        "print(error)"
      ]
    },
    {
      "cell_type": "markdown",
      "metadata": {
        "id": "r9WDQvqXEIug"
      },
      "source": [
        "### Calculamos errores"
      ]
    },
    {
      "cell_type": "code",
      "execution_count": 49,
      "metadata": {
        "colab": {
          "base_uri": "https://localhost:8080/"
        },
        "id": "9Yq6To4EBk08",
        "outputId": "3b65a02b-6eb1-44b6-8314-76f83deef5d5"
      },
      "outputs": [
        {
          "name": "stdout",
          "output_type": "stream",
          "text": [
            "Mean Absolute Error (MAE):       0.7200436983357029\n",
            "Mean Squared Error (MSE):        0.818338857026617\n",
            "Root Mean Squared Error (RMSE):  0.9046208360559782\n",
            "R-squared (R2):                  0.9790800609430612\n"
          ]
        }
      ],
      "source": [
        "from sklearn.metrics import mean_squared_error, mean_absolute_error, r2_score\n",
        "\n",
        "# Calcular métricas de error (ej. MSE, RMSE)\n",
        "mae = mean_absolute_error(y, model.predict(x[:, np.newaxis]))\n",
        "print(\"Mean Absolute Error (MAE):\".ljust(32), mae)\n",
        "\n",
        "mse = mean_squared_error(y, model.predict(x[:, np.newaxis]))\n",
        "print(\"Mean Squared Error (MSE):\".ljust(32), mse)\n",
        "\n",
        "rmse = np.sqrt(mse)\n",
        "print(\"Root Mean Squared Error (RMSE):\".ljust(32), rmse)\n",
        "\n",
        "r2 = r2_score(y, model.predict(x[:, np.newaxis]))\n",
        "print(\"R-squared (R2):\".ljust(32), r2)"
      ]
    },
    {
      "cell_type": "markdown",
      "metadata": {
        "id": "I8Tcc7HfDhsv"
      },
      "source": [
        "## Regresión lineal multidimensional\n"
      ]
    },
    {
      "cell_type": "markdown",
      "metadata": {
        "id": "2KBW-hTEEPbI"
      },
      "source": [
        "\n",
        "### Introducción\n",
        "\n",
        "\n",
        "Sin embargo, el estimador `LinearRegression` es mucho más capaz que esto: además de los ajustes de línea recta simples, también puede manejar modelos lineales multidimensionales de la forma:\n",
        "$$\n",
        "y = a_0 + a_1 x_1 + a_2 x_2 + \\cdots\n",
        "$$\n",
        "donde hay múltiples valores de $x$.\n",
        "Geométricamente, esto es similar a ajustar un plano a puntos en tres dimensiones, o ajustar un hiperplano a puntos en dimensiones superiores.\n",
        "\n",
        "La naturaleza multidimensional de tales regresiones las hace más difíciles de visualizar, pero podemos ver uno de estos ajustes en acción al generar algunos datos de ejemplo, utilizando el operador de multiplicación de matrices de NumPy:\n",
        "\n",
        "$$\n",
        "Y = aX + b\n",
        "$$"
      ]
    },
    {
      "cell_type": "markdown",
      "metadata": {
        "id": "zNonvjgmESm_"
      },
      "source": [
        "### Generamos dataset sintético"
      ]
    },
    {
      "cell_type": "code",
      "execution_count": 56,
      "metadata": {
        "id": "LoMluqUzEI8H"
      },
      "outputs": [
        {
          "data": {
            "text/plain": [
              "(100, 3)"
            ]
          },
          "execution_count": 56,
          "metadata": {},
          "output_type": "execute_result"
        }
      ],
      "source": [
        "rng = np.random.RandomState(1)          # semilla\n",
        "X = 10 * rng.rand(100, 3)               # matriz de 100x3, con valores de 0-10\n",
        "y = 0.5 + np.dot(X, [1.5, -2., 1.])     # para Y aplicar los pesos 1.5, -2 y 1 a las columnas de X\n",
        "\n",
        "X.shape"
      ]
    },
    {
      "cell_type": "markdown",
      "metadata": {
        "id": "FHCI1w_vEY7i"
      },
      "source": [
        "### Modelo de regresión lineal"
      ]
    },
    {
      "cell_type": "code",
      "execution_count": null,
      "metadata": {
        "id": "_5piK4uHEOXe"
      },
      "outputs": [
        {
          "name": "stdout",
          "output_type": "stream",
          "text": [
            "pendiente            [ 1.5 -2.   1. ]\n",
            "ordenada al origen   0.5000000000000051\n"
          ]
        }
      ],
      "source": [
        "model.fit(X, y)             # calcular la regresion lineal para los datos de 'X' e 'y'\n",
        "print(\"pendiente\".ljust(20), model.coef_)               # pendiente (ver celda anterior)\n",
        "print(\"ordenada al origen\".ljust(20), model.intercept_) # ordenada al origen"
      ]
    },
    {
      "cell_type": "markdown",
      "metadata": {
        "id": "jYotIHEQEHcp"
      },
      "source": [
        "Aquí, los datos $y$ se construyen a partir de una combinación lineal de tres valores $x$ aleatorios, y la regresión lineal recupera los coeficientes utilizados para construir los datos.\n",
        "\n",
        "De esta manera, podemos utilizar el estimador `LinearRegression` único para ajustar líneas, planos o hiperplanos a nuestros datos.  \n",
        "Aún parece que este enfoque estaría limitado a relaciones estrictamente lineales entre variables, pero resulta que también podemos flexibilizar este aspecto."
      ]
    },
    {
      "cell_type": "markdown",
      "metadata": {
        "id": "R6D1gccPDOvL"
      },
      "source": [
        "## Otro ejemplo de regresión lineal simple"
      ]
    },
    {
      "cell_type": "markdown",
      "metadata": {
        "id": "uWsdwO2D-d5e"
      },
      "source": [
        "Referencia: [ejemplo tomado de la libreria Scikit-learn]( https://scikit-learn.org/stable/auto_examples/linear_model/plot_ols.html#sphx-glr-auto-examples-linear-model-plot-ols-py)"
      ]
    },
    {
      "cell_type": "code",
      "execution_count": 62,
      "metadata": {
        "id": "vXMl6BH9-hTU"
      },
      "outputs": [],
      "source": [
        "# Code source: Jaques Grobler\n",
        "# License: BSD 3 clause\n",
        "\n",
        "import matplotlib.pyplot as plt\n",
        "import numpy as np\n",
        "\n",
        "from sklearn import datasets, linear_model\n",
        "from sklearn.metrics import mean_squared_error, r2_score"
      ]
    },
    {
      "cell_type": "markdown",
      "metadata": {
        "id": "QEvfkmwo-hls"
      },
      "source": [
        "Preprocesamiento"
      ]
    },
    {
      "cell_type": "code",
      "execution_count": null,
      "metadata": {
        "id": "YkzBfa3z-1VS"
      },
      "outputs": [
        {
          "data": {
            "text/plain": [
              "(442, 10)"
            ]
          },
          "execution_count": 67,
          "metadata": {},
          "output_type": "execute_result"
        }
      ],
      "source": [
        "# load the diabetes dataset\n",
        "diabetes_X, diabetes_y = datasets.load_diabetes(return_X_y=True)\n",
        "diabetes_X.shape"
      ]
    },
    {
      "cell_type": "code",
      "execution_count": null,
      "metadata": {
        "id": "CTa-5YoAmszj"
      },
      "outputs": [
        {
          "data": {
            "text/plain": [
              "(442, 1)"
            ]
          },
          "execution_count": 68,
          "metadata": {},
          "output_type": "execute_result"
        }
      ],
      "source": [
        "# use only one feature\n",
        "diabetes_X = diabetes_X[:, np.newaxis, 2]   # dejar solamente el atributo de la 3ra columna\n",
        "diabetes_X.shape"
      ]
    },
    {
      "cell_type": "code",
      "execution_count": null,
      "metadata": {
        "id": "9xpAsjB4mxS6"
      },
      "outputs": [],
      "source": [
        "# split the FEATURE into training/testing sets\n",
        "diabetes_X_train = diabetes_X[:-20]     # 80% (recorre el 20% hacia atrás de la muestra)\n",
        "diabetes_X_test = diabetes_X[-20:]      # 20% (recorre desde el 80% de la muestra hasta el final)\n",
        "# diabetes_X_train"
      ]
    },
    {
      "cell_type": "code",
      "execution_count": 73,
      "metadata": {
        "id": "rQX8bkvhmzmO"
      },
      "outputs": [],
      "source": [
        "# split the TARGET into training/testing sets\n",
        "diabetes_y_train = diabetes_y[:-20]     # 80% (recorre el 20% hacia atrás de la muestra)\n",
        "diabetes_y_test = diabetes_y[-20:]      # 20% (recorre desde el 80% de la muestra hasta el final)\n",
        "# diabetes_X_train"
      ]
    },
    {
      "cell_type": "markdown",
      "metadata": {
        "id": "tCXbz-4aqmEr"
      },
      "source": [
        "Entrenamiento del modelo"
      ]
    },
    {
      "cell_type": "code",
      "execution_count": 74,
      "metadata": {
        "id": "YD8sXgFg-4zy"
      },
      "outputs": [],
      "source": [
        "# create linear regression object\n",
        "regr = linear_model.LinearRegression()\n",
        "\n",
        "# train the model using the training sets\n",
        "regr.fit(diabetes_X_train, diabetes_y_train)\n",
        "\n",
        "# make predictions using the testing set\n",
        "diabetes_y_pred = regr.predict(diabetes_X_test)"
      ]
    },
    {
      "cell_type": "code",
      "execution_count": 94,
      "metadata": {
        "id": "c7psjzYl-dkz"
      },
      "outputs": [
        {
          "name": "stdout",
          "output_type": "stream",
          "text": [
            "Coefficients:                  [938.23786125]\n",
            "Mean squared error:            2548.07\n",
            "Coefficient of determination:  0.47\n"
          ]
        }
      ],
      "source": [
        "# the coefficients\n",
        "print(\"Coefficients:\".ljust(30), regr.coef_)\n",
        "\n",
        "# the mean squared error\n",
        "mse = mean_squared_error(diabetes_y_test, diabetes_y_pred)\n",
        "print(\"Mean squared error:\".ljust(30), f\"%.2f\" % mse)\n",
        "\n",
        "# the coefficient of determination (1 is perfect prediction)\n",
        "r2 = r2_score(diabetes_y_test, diabetes_y_pred)\n",
        "print(\"Coefficient of determination:\".ljust(30), f\"%.2f\" % r2)"
      ]
    },
    {
      "cell_type": "code",
      "execution_count": 95,
      "metadata": {
        "id": "SyK1BEjF_Cwj"
      },
      "outputs": [
        {
          "data": {
            "image/png": "[encoded data removed]",
            "text/plain": [
              "<Figure size 640x480 with 1 Axes>"
            ]
          },
          "metadata": {},
          "output_type": "display_data"
        }
      ],
      "source": [
        "# plot outputs\n",
        "plt.scatter(diabetes_X_test, diabetes_y_test, color=\"black\")\n",
        "plt.plot(diabetes_X_test, diabetes_y_pred, color=\"blue\", linewidth=3)\n",
        "\n",
        "plt.xticks(())\n",
        "plt.yticks(())\n",
        "\n",
        "plt.show()"
      ]
    },
    {
      "cell_type": "markdown",
      "metadata": {
        "id": "dJDqeyTYZtIp"
      },
      "source": [
        "## Métricas en regresión"
      ]
    },
    {
      "cell_type": "markdown",
      "metadata": {
        "id": "xPyWMig3bgHe"
      },
      "source": [
        "En análisis de regresión, las métricas se utilizan para evaluar la precisión y calidad de las predicciones realizadas por un modelo de regresión.  \n",
        "A continuación, se presentan algunas de las métricas más comunes utilizadas en regresión:\n",
        "\n",
        "### Mean Absolute Error (MAE)\n",
        "\n",
        "$$MAE = \\frac{1}{n} \\sum_{i=1}^{n} |y_i - \\hat{y}_i|$$\n",
        "\n",
        "\n",
        "La métrica de MAE calcula la diferencia entre las predicciones y los valores reales, y luego toma la media de estas diferencias. Un valor pequeño de MAE indica una mayor precisión en las predicciones.\n",
        "\n"
      ]
    },
    {
      "cell_type": "markdown",
      "metadata": {
        "id": "hRBcaMd_ZXDM"
      },
      "source": [
        "### Mean Squared Error (MSE)\n",
        "\n",
        "$$MSE = \\frac{1}{n} \\sum_{i=1}^{n} (y_i - \\hat{y}_i)^2$$\n",
        "\n",
        "La métrica de MSE es similar a la de MAE, pero utiliza el cuadrado de las diferencias entre predicciones y valores reales.  \n",
        "Esto hace que los errores grandes tengan un mayor impacto en el cálculo de la métrica. Un valor pequeño de MSE indica una mayor precisión en las predicciones.\n",
        "\n"
      ]
    },
    {
      "cell_type": "markdown",
      "metadata": {
        "id": "J7erPjbcbcVI"
      },
      "source": [
        "### Root Mean Squared Error (RMSE)\n",
        "\n",
        "$$RMSE = \\sqrt{\\frac{1}{n} \\sum_{i=1}^{n} (y_i - \\hat{y}_i)^2}$$\n",
        "\n",
        "La métrica de RMSE es la raíz cuadrada de la MSE.  \n",
        "Esto permite expresar el error en términos de una unidad estándar (como la unidad de medida de la variable dependiente).  \n",
        "Un valor pequeño de RMSE indica una mayor precisión en las predicciones.\n"
      ]
    },
    {
      "cell_type": "markdown",
      "metadata": {
        "id": "j63zJQKobtlH"
      },
      "source": [
        "\n",
        "### Coefficient of Determination (R²)\n",
        "La métrica de R² mide la proporción de la variabilidad de la variable dependiente que se explica por la regresión.  \n",
        "Un valor cercano a 1 indica que la regresión explica la mayoría de la variabilidad, mientras que un valor cercano a 0 indica que la regresión no explica mucho.\n",
        "\n",
        "$$R^2 = 1 - \\frac{\\sum_{i=1}^{n} (y_i - \\hat{y}_i)^2}{\\sum_{i=1}^{n} (y_i - \\bar{y})^2}$$\n",
        "\n"
      ]
    },
    {
      "cell_type": "markdown",
      "metadata": {
        "id": "1BgXNot3bx4v"
      },
      "source": [
        "### Mean Absolute Percentage Error (MAPE)\n",
        "La métrica de MAPE calcula la diferencia entre las predicciones y los valores reales, y luego divide por el valor real.  \n",
        "Luego, toma la media de estas razones. Un valor pequeño de MAPE indica una mayor precisión en las predicciones.\n",
        "\n",
        "$$MAPE = \\frac{1}{n} \\sum_{i=1}^{n} \\left|\\frac{y_i - \\hat{y}_i}{y_i}\\right| \\times 100\\%$$\n",
        "\n"
      ]
    },
    {
      "cell_type": "markdown",
      "metadata": {
        "id": "TII4mIRFb1M8"
      },
      "source": [
        "## Uso de las métricas\n",
        "\n",
        "Selección de la Métrica Adecuada.  \n",
        "\n",
        "La elección de la métrica adecuada depende del problema específico y de los objetivos del modelo. Algunos factores a considerar son:\n",
        "\n",
        "* Escalas de las variables: si las variables tienen escalas muy diferentes, es recomendable utilizar métricas que sean invariantes a la escala, como el coeficiente de determinación o el MAPE. Además MAPE es útil cuando se necesita una métrica que penalice los errores relativos en términos de porcentaje.\n",
        "* Distribución de los errores: si los errores tienen una distribución normal, el MSE puede ser una buena opción.  \n",
        "Si los errores tienen una distribución no normal, puede ser más adecuado utilizar el MAE.\n",
        "* Importancia de los errores grandes: si los errores grandes son particularmente problemáticos, el RMSE puede ser una mejor opción que el MAE.\n",
        "\n",
        "* MAE y MSE son útiles cuando se necesita una métrica que penalice los errores grandes.\n",
        "* RMSE es útil cuando se necesita una métrica que exprese el error en términos de una unidad estándar.\n",
        "* R² es útil cuando se necesita evaluar la capacidad de la regresión para explicar la variabilidad de la variable dependiente.\n",
        "\n"
      ]
    },
    {
      "cell_type": "code",
      "execution_count": null,
      "metadata": {
        "id": "AMS7dlY4c0uM"
      },
      "outputs": [],
      "source": [
        "from sklearn.metrics import mean_squared_error, mean_absolute_error, r2_score\n",
        "\n",
        "# supongamos que tienes y_true (valores reales) e y_pred (valores predichos)\n",
        "mse = mean_squared_error(y_true, y_pred)\n",
        "rmse = mean_squared_error(y_true, y_pred, squared=False)\n",
        "mae = mean_absolute_error(y_true, y_pred)\n",
        "r2 = r2_score(y_true, y_pred)\n",
        "\n",
        "print(\"MSE:\", mse)\n",
        "print(\"RMSE:\", rmse)\n",
        "print(\"MAE:\", mae)\n",
        "print(\"R2:\", r2)"
      ]
    },
    {
      "cell_type": "markdown",
      "metadata": {
        "id": "rs5NEB6RcqyL"
      },
      "source": [
        "\n",
        "## Conclusión\n",
        "\n",
        "En resumen, las métricas de regresión son herramientas importantes para evaluar la precisión y calidad de las predicciones realizadas por un modelo de regresión.  \n",
        "Cada métrica tiene sus propias características y ventajas, y es importante elegir la adecuada para el problema específico que se está intentando resolver."
      ]
    }
  ],
  "metadata": {
    "colab": {
      "authorship_tag": "ABX9TyOYPMEF6prFfF64nk+PSbT5",
      "include_colab_link": true,
      "provenance": [],
      "toc_visible": true
    },
    "kernelspec": {
      "display_name": "Python 3",
      "name": "python3"
    },
    "language_info": {
      "codemirror_mode": {
        "name": "ipython",
        "version": 3
      },
      "file_extension": ".py",
      "mimetype": "text/x-python",
      "name": "python",
      "nbconvert_exporter": "python",
      "pygments_lexer": "ipython3",
      "version": "3.12.2"
    }
  },
  "nbformat": 4,
  "nbformat_minor": 0
}
