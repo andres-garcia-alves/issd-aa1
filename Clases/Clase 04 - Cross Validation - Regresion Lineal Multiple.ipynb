{
  "cells": [
    {
      "cell_type": "markdown",
      "metadata": {
        "id": "view-in-github"
      },
      "source": [
        "<a href=\"https://colab.research.google.com/github/anadiedrichs/curso-aprendizaje-automatico/blob/main/2_5_Cross_Validation_Regresion_Lineal_Multiple.ipynb\" target=\"_parent\"><img src=\"https://colab.research.google.com/assets/colab-badge.svg\" alt=\"Open In Colab\"/></a>"
      ]
    },
    {
      "cell_type": "markdown",
      "metadata": {
        "id": "QHjL5I1I-bDo"
      },
      "source": [
        "# 2.5 - Cross Validation: Regresion Lineal Multiple\n",
        "\n",
        "\n",
        "* El objetivo de este Notebook es el de ***resolver un problema de regresión generando 'N' modelos entrenados con 'N' conjuntos de entrenamiento distintos y evaluados con 'N' conjuntos de test distintos***, particionando los datos con la técnica de ***Cross Validation***.\n",
        "\n",
        "\n",
        "* Para ello, dado un Dataset, vamos a particionar 'N' veces los datos con la técnica de particionado ***Cross Validation*** y generar 'N' Modelos, viendo los errores cometidos por estos modelos con los diferentes conjuntos de datos.\n",
        "\n",
        "\n",
        "* El ejemplo que vamos a realizar consiste en predecir cuantas calorías voy a quemar en función de los minutos que voy a estar corriendo, la velocidad media a la que corro y mi peso. El objetivo es encontrar los parámetros de la recta que mejor se ajustan a esos datos.\n",
        "\n",
        "\n",
        "* El ejemplo que vamos a realizar, consiste en predecir cuantas ***calorías quema una persona en función de los minutos que corre, la velocidad a la que corre y su peso corporal***. Por ello tenemos un conjunto de datos tomados de forma empírica que nos dan esa relación.\n",
        "\n",
        "\n",
        "* El objetivo es encontrar los parámetros $\\beta_0, \\beta_1, \\beta_2, \\beta_3$ que ***mejor se ajustan a los datos de entrenamiento***.\n",
        "\n",
        "<span style=\"font-size:16px\">$$Calorias = \\beta_0 + \\beta_1 \\cdot Tiempo + \\beta_2 \\cdot Velocidad + \\beta_3 \\cdot Peso$$</span>\n",
        "\n",
        "\n",
        "* Para ello vamos a realizar los siguientes pasos:\n",
        "\n",
        "    1. Carga de Datos\n",
        "    2. Cambio de estructura de datos a numpy\n",
        "    3. 'N' Particionados de datos en Entrenamiento y Test\n",
        "    4. Generación y evaluación de los 'N' modelos con MAE\n",
        "    5. Conclusiones: Comparativa de resultados\n",
        "\n",
        "<hr>\n",
        "\n",
        "\n",
        "* En primer lugar importemos las librerías necesarias:\n"
      ]
    },
    {
      "cell_type": "code",
      "execution_count": 15,
      "metadata": {
        "id": "FfTV98V_-bDq"
      },
      "outputs": [],
      "source": [
        "import numpy as np\n",
        "import pandas as pd\n",
        "import matplotlib.pyplot as plt\n",
        "from sklearn import linear_model\n",
        "from sklearn.model_selection import KFold\n",
        "from sklearn.metrics import mean_absolute_error, mean_squared_error\n",
        "\n",
        "%matplotlib inline\n",
        "np.set_printoptions(threshold=10)\n",
        "pd.set_option(\"display.width\", 1000)"
      ]
    },
    {
      "cell_type": "markdown",
      "metadata": {
        "id": "oWsiD_I--bDq"
      },
      "source": [
        "<hr>\n",
        "\n",
        "\n",
        "## 1. Carga de Datos\n",
        "\n",
        "\n",
        "* El primer paso que vamos a realizar es el de cargar los datos que los tenemos en los siguientes ficheros:\n",
        "\n",
        "***DataSet***: \"calories_time_weight_speed.csv\"\n",
        "\n",
        "https://raw.githubusercontent.com/anadiedrichs/curso-aprendizaje-automatico/main/datasets/calories_time_weight_speed.csv\n",
        "\n",
        "\n",
        "\n",
        "* Para ello ***leeremos el csv con pandas*** (pasandolo a un dataframe), teniendo las siguientes columnas:\n",
        "    - Calorias\n",
        "    - Tiempo\n",
        "    - Peso\n",
        "    - Velocidad"
      ]
    },
    {
      "cell_type": "code",
      "execution_count": 14,
      "metadata": {
        "colab": {
          "base_uri": "https://localhost:8080/",
          "height": 206
        },
        "id": "Xr-1LmaS-bDr",
        "outputId": "66b06145-de19-442c-98b1-7f3785dfd418"
      },
      "outputs": [
        {
          "output_type": "execute_result",
          "data": {
            "text/plain": [
              "   Calorias  Tiempo  Peso  Velocidad\n",
              "0     177.9    13.7  61.2       12.3\n",
              "1     644.1    51.9  62.6       11.5\n",
              "2     929.4    55.4  69.3       14.0\n",
              "3     941.2    61.9  80.1       11.0\n",
              "4     303.1    19.9  95.6        9.2"
            ],
            "text/html": [
              "\n",
              "  <div id=\"df-3955d2ba-6ac5-43ab-aa1e-aeb4e70d7156\" class=\"colab-df-container\">\n",
              "    <div>\n",
              "<style scoped>\n",
              "    .dataframe tbody tr th:only-of-type {\n",
              "        vertical-align: middle;\n",
              "    }\n",
              "\n",
              "    .dataframe tbody tr th {\n",
              "        vertical-align: top;\n",
              "    }\n",
              "\n",
              "    .dataframe thead th {\n",
              "        text-align: right;\n",
              "    }\n",
              "</style>\n",
              "<table border=\"1\" class=\"dataframe\">\n",
              "  <thead>\n",
              "    <tr style=\"text-align: right;\">\n",
              "      <th></th>\n",
              "      <th>Calorias</th>\n",
              "      <th>Tiempo</th>\n",
              "      <th>Peso</th>\n",
              "      <th>Velocidad</th>\n",
              "    </tr>\n",
              "  </thead>\n",
              "  <tbody>\n",
              "    <tr>\n",
              "      <th>0</th>\n",
              "      <td>177.9</td>\n",
              "      <td>13.7</td>\n",
              "      <td>61.2</td>\n",
              "      <td>12.3</td>\n",
              "    </tr>\n",
              "    <tr>\n",
              "      <th>1</th>\n",
              "      <td>644.1</td>\n",
              "      <td>51.9</td>\n",
              "      <td>62.6</td>\n",
              "      <td>11.5</td>\n",
              "    </tr>\n",
              "    <tr>\n",
              "      <th>2</th>\n",
              "      <td>929.4</td>\n",
              "      <td>55.4</td>\n",
              "      <td>69.3</td>\n",
              "      <td>14.0</td>\n",
              "    </tr>\n",
              "    <tr>\n",
              "      <th>3</th>\n",
              "      <td>941.2</td>\n",
              "      <td>61.9</td>\n",
              "      <td>80.1</td>\n",
              "      <td>11.0</td>\n",
              "    </tr>\n",
              "    <tr>\n",
              "      <th>4</th>\n",
              "      <td>303.1</td>\n",
              "      <td>19.9</td>\n",
              "      <td>95.6</td>\n",
              "      <td>9.2</td>\n",
              "    </tr>\n",
              "  </tbody>\n",
              "</table>\n",
              "</div>\n",
              "    <div class=\"colab-df-buttons\">\n",
              "\n",
              "  <div class=\"colab-df-container\">\n",
              "    <button class=\"colab-df-convert\" onclick=\"convertToInteractive('df-3955d2ba-6ac5-43ab-aa1e-aeb4e70d7156')\"\n",
              "            title=\"Convert this dataframe to an interactive table.\"\n",
              "            style=\"display:none;\">\n",
              "\n",
              "  <svg xmlns=\"http://www.w3.org/2000/svg\" height=\"24px\" viewBox=\"0 -960 960 960\">\n",
              "    <path d=\"M120-120v-720h720v720H120Zm60-500h600v-160H180v160Zm220 220h160v-160H400v160Zm0 220h160v-160H400v160ZM180-400h160v-160H180v160Zm440 0h160v-160H620v160ZM180-180h160v-160H180v160Zm440 0h160v-160H620v160Z\"/>\n",
              "  </svg>\n",
              "    </button>\n",
              "\n",
              "  <style>\n",
              "    .colab-df-container {\n",
              "      display:flex;\n",
              "      gap: 12px;\n",
              "    }\n",
              "\n",
              "    .colab-df-convert {\n",
              "      background-color: #E8F0FE;\n",
              "      border: none;\n",
              "      border-radius: 50%;\n",
              "      cursor: pointer;\n",
              "      display: none;\n",
              "      fill: #1967D2;\n",
              "      height: 32px;\n",
              "      padding: 0 0 0 0;\n",
              "      width: 32px;\n",
              "    }\n",
              "\n",
              "    .colab-df-convert:hover {\n",
              "      background-color: #E2EBFA;\n",
              "      box-shadow: 0px 1px 2px rgba(60, 64, 67, 0.3), 0px 1px 3px 1px rgba(60, 64, 67, 0.15);\n",
              "      fill: #174EA6;\n",
              "    }\n",
              "\n",
              "    .colab-df-buttons div {\n",
              "      margin-bottom: 4px;\n",
              "    }\n",
              "\n",
              "    [theme=dark] .colab-df-convert {\n",
              "      background-color: #3B4455;\n",
              "      fill: #D2E3FC;\n",
              "    }\n",
              "\n",
              "    [theme=dark] .colab-df-convert:hover {\n",
              "      background-color: #434B5C;\n",
              "      box-shadow: 0px 1px 3px 1px rgba(0, 0, 0, 0.15);\n",
              "      filter: drop-shadow(0px 1px 2px rgba(0, 0, 0, 0.3));\n",
              "      fill: #FFFFFF;\n",
              "    }\n",
              "  </style>\n",
              "\n",
              "    <script>\n",
              "      const buttonEl =\n",
              "        document.querySelector('#df-3955d2ba-6ac5-43ab-aa1e-aeb4e70d7156 button.colab-df-convert');\n",
              "      buttonEl.style.display =\n",
              "        google.colab.kernel.accessAllowed ? 'block' : 'none';\n",
              "\n",
              "      async function convertToInteractive(key) {\n",
              "        const element = document.querySelector('#df-3955d2ba-6ac5-43ab-aa1e-aeb4e70d7156');\n",
              "        const dataTable =\n",
              "          await google.colab.kernel.invokeFunction('convertToInteractive',\n",
              "                                                    [key], {});\n",
              "        if (!dataTable) return;\n",
              "\n",
              "        const docLinkHtml = 'Like what you see? Visit the ' +\n",
              "          '<a target=\"_blank\" href=https://colab.research.google.com/notebooks/data_table.ipynb>data table notebook</a>'\n",
              "          + ' to learn more about interactive tables.';\n",
              "        element.innerHTML = '';\n",
              "        dataTable['output_type'] = 'display_data';\n",
              "        await google.colab.output.renderOutput(dataTable, element);\n",
              "        const docLink = document.createElement('div');\n",
              "        docLink.innerHTML = docLinkHtml;\n",
              "        element.appendChild(docLink);\n",
              "      }\n",
              "    </script>\n",
              "  </div>\n",
              "\n",
              "\n",
              "<div id=\"df-5978b98c-7e3f-4c1c-a0cc-8c97e3c87fab\">\n",
              "  <button class=\"colab-df-quickchart\" onclick=\"quickchart('df-5978b98c-7e3f-4c1c-a0cc-8c97e3c87fab')\"\n",
              "            title=\"Suggest charts\"\n",
              "            style=\"display:none;\">\n",
              "\n",
              "<svg xmlns=\"http://www.w3.org/2000/svg\" height=\"24px\"viewBox=\"0 0 24 24\"\n",
              "     width=\"24px\">\n",
              "    <g>\n",
              "        <path d=\"M19 3H5c-1.1 0-2 .9-2 2v14c0 1.1.9 2 2 2h14c1.1 0 2-.9 2-2V5c0-1.1-.9-2-2-2zM9 17H7v-7h2v7zm4 0h-2V7h2v10zm4 0h-2v-4h2v4z\"/>\n",
              "    </g>\n",
              "</svg>\n",
              "  </button>\n",
              "\n",
              "<style>\n",
              "  .colab-df-quickchart {\n",
              "      --bg-color: #E8F0FE;\n",
              "      --fill-color: #1967D2;\n",
              "      --hover-bg-color: #E2EBFA;\n",
              "      --hover-fill-color: #174EA6;\n",
              "      --disabled-fill-color: #AAA;\n",
              "      --disabled-bg-color: #DDD;\n",
              "  }\n",
              "\n",
              "  [theme=dark] .colab-df-quickchart {\n",
              "      --bg-color: #3B4455;\n",
              "      --fill-color: #D2E3FC;\n",
              "      --hover-bg-color: #434B5C;\n",
              "      --hover-fill-color: #FFFFFF;\n",
              "      --disabled-bg-color: #3B4455;\n",
              "      --disabled-fill-color: #666;\n",
              "  }\n",
              "\n",
              "  .colab-df-quickchart {\n",
              "    background-color: var(--bg-color);\n",
              "    border: none;\n",
              "    border-radius: 50%;\n",
              "    cursor: pointer;\n",
              "    display: none;\n",
              "    fill: var(--fill-color);\n",
              "    height: 32px;\n",
              "    padding: 0;\n",
              "    width: 32px;\n",
              "  }\n",
              "\n",
              "  .colab-df-quickchart:hover {\n",
              "    background-color: var(--hover-bg-color);\n",
              "    box-shadow: 0 1px 2px rgba(60, 64, 67, 0.3), 0 1px 3px 1px rgba(60, 64, 67, 0.15);\n",
              "    fill: var(--button-hover-fill-color);\n",
              "  }\n",
              "\n",
              "  .colab-df-quickchart-complete:disabled,\n",
              "  .colab-df-quickchart-complete:disabled:hover {\n",
              "    background-color: var(--disabled-bg-color);\n",
              "    fill: var(--disabled-fill-color);\n",
              "    box-shadow: none;\n",
              "  }\n",
              "\n",
              "  .colab-df-spinner {\n",
              "    border: 2px solid var(--fill-color);\n",
              "    border-color: transparent;\n",
              "    border-bottom-color: var(--fill-color);\n",
              "    animation:\n",
              "      spin 1s steps(1) infinite;\n",
              "  }\n",
              "\n",
              "  @keyframes spin {\n",
              "    0% {\n",
              "      border-color: transparent;\n",
              "      border-bottom-color: var(--fill-color);\n",
              "      border-left-color: var(--fill-color);\n",
              "    }\n",
              "    20% {\n",
              "      border-color: transparent;\n",
              "      border-left-color: var(--fill-color);\n",
              "      border-top-color: var(--fill-color);\n",
              "    }\n",
              "    30% {\n",
              "      border-color: transparent;\n",
              "      border-left-color: var(--fill-color);\n",
              "      border-top-color: var(--fill-color);\n",
              "      border-right-color: var(--fill-color);\n",
              "    }\n",
              "    40% {\n",
              "      border-color: transparent;\n",
              "      border-right-color: var(--fill-color);\n",
              "      border-top-color: var(--fill-color);\n",
              "    }\n",
              "    60% {\n",
              "      border-color: transparent;\n",
              "      border-right-color: var(--fill-color);\n",
              "    }\n",
              "    80% {\n",
              "      border-color: transparent;\n",
              "      border-right-color: var(--fill-color);\n",
              "      border-bottom-color: var(--fill-color);\n",
              "    }\n",
              "    90% {\n",
              "      border-color: transparent;\n",
              "      border-bottom-color: var(--fill-color);\n",
              "    }\n",
              "  }\n",
              "</style>\n",
              "\n",
              "  <script>\n",
              "    async function quickchart(key) {\n",
              "      const quickchartButtonEl =\n",
              "        document.querySelector('#' + key + ' button');\n",
              "      quickchartButtonEl.disabled = true;  // To prevent multiple clicks.\n",
              "      quickchartButtonEl.classList.add('colab-df-spinner');\n",
              "      try {\n",
              "        const charts = await google.colab.kernel.invokeFunction(\n",
              "            'suggestCharts', [key], {});\n",
              "      } catch (error) {\n",
              "        console.error('Error during call to suggestCharts:', error);\n",
              "      }\n",
              "      quickchartButtonEl.classList.remove('colab-df-spinner');\n",
              "      quickchartButtonEl.classList.add('colab-df-quickchart-complete');\n",
              "    }\n",
              "    (() => {\n",
              "      let quickchartButtonEl =\n",
              "        document.querySelector('#df-5978b98c-7e3f-4c1c-a0cc-8c97e3c87fab button');\n",
              "      quickchartButtonEl.style.display =\n",
              "        google.colab.kernel.accessAllowed ? 'block' : 'none';\n",
              "    })();\n",
              "  </script>\n",
              "</div>\n",
              "\n",
              "    </div>\n",
              "  </div>\n"
            ],
            "application/vnd.google.colaboratory.intrinsic+json": {
              "type": "dataframe",
              "variable_name": "df",
              "summary": "{\n  \"name\": \"df\",\n  \"rows\": 5000,\n  \"fields\": [\n    {\n      \"column\": \"Calorias\",\n      \"properties\": {\n        \"dtype\": \"number\",\n        \"std\": 310.37977300991906,\n        \"min\": 58.5,\n        \"max\": 1487.6,\n        \"num_unique_values\": 4027,\n        \"samples\": [\n          784.0,\n          120.8,\n          144.8\n        ],\n        \"semantic_type\": \"\",\n        \"description\": \"\"\n      }\n    },\n    {\n      \"column\": \"Tiempo\",\n      \"properties\": {\n        \"dtype\": \"number\",\n        \"std\": 21.433102705504783,\n        \"min\": 3.9,\n        \"max\": 99.6,\n        \"num_unique_values\": 858,\n        \"samples\": [\n          74.2,\n          96.0,\n          24.4\n        ],\n        \"semantic_type\": \"\",\n        \"description\": \"\"\n      }\n    },\n    {\n      \"column\": \"Peso\",\n      \"properties\": {\n        \"dtype\": \"number\",\n        \"std\": 9.98262295753088,\n        \"min\": 32.5,\n        \"max\": 104.1,\n        \"num_unique_values\": 528,\n        \"samples\": [\n          48.7,\n          40.8,\n          76.6\n        ],\n        \"semantic_type\": \"\",\n        \"description\": \"\"\n      }\n    },\n    {\n      \"column\": \"Velocidad\",\n      \"properties\": {\n        \"dtype\": \"number\",\n        \"std\": 2.03858807262919,\n        \"min\": 9.0,\n        \"max\": 16.0,\n        \"num_unique_values\": 71,\n        \"samples\": [\n          11.9,\n          12.3,\n          9.9\n        ],\n        \"semantic_type\": \"\",\n        \"description\": \"\"\n      }\n    }\n  ]\n}"
            }
          },
          "metadata": {},
          "execution_count": 14
        }
      ],
      "source": [
        "df = pd.read_csv(\"https://raw.githubusercontent.com/anadiedrichs/curso-aprendizaje-automatico/main/datasets/calories_time_weight_speed.csv\")\n",
        "df.head(5)"
      ]
    },
    {
      "cell_type": "markdown",
      "metadata": {
        "id": "QTMT9Rcd-bDr"
      },
      "source": [
        "<hr>\n",
        "\n",
        "\n",
        "## 2. Cambio de estructura de datos a numpy\n",
        "\n",
        "\n",
        "* Vamos a pasar los datos de las calorias y el tiempo a una nueva estructura de datos para que scikit-learn puedan trabajar con los datos:\n",
        "<span></span><br><br>\n",
        "    - Las ***columna Tiempo, Peso y Velocidad*** representan las variables independientes 'x<sub>n</sub>' y las vamos a pasar a un array de array (***numpy array***)\n",
        "<span></span><br><br>\n",
        "    - La ***columna calorias*** que representa la variable dependiente 'y', la vamos a pasar a un ***numpy array***"
      ]
    },
    {
      "cell_type": "code",
      "execution_count": 17,
      "metadata": {
        "id": "PiKWFZoc-bDs",
        "colab": {
          "base_uri": "https://localhost:8080/"
        },
        "outputId": "d2cb7d11-f443-405b-f1de-8f11869d8c71"
      },
      "outputs": [
        {
          "output_type": "execute_result",
          "data": {
            "text/plain": [
              "array([[13.7, 12.3, 61.2],\n",
              "       [51.9, 11.5, 62.6],\n",
              "       [55.4, 14. , 69.3],\n",
              "       ...,\n",
              "       [31.3, 10.5, 60.1],\n",
              "       [11.3,  9.2, 83.6],\n",
              "       [37.4, 12.5, 77. ]])"
            ]
          },
          "metadata": {},
          "execution_count": 17
        }
      ],
      "source": [
        "X = df[['Tiempo', 'Velocidad', 'Peso']].values\n",
        "y = df['Calorias'].values\n",
        "# X\n",
        "# y"
      ]
    },
    {
      "cell_type": "markdown",
      "metadata": {
        "id": "E6MTphTS-bDs"
      },
      "source": [
        "<hr>\n",
        "\n",
        "\n",
        "## 3. 'N' Particionados de datos en Entrenamiento y Test\n",
        "\n",
        "\n",
        "* En este punto vamos a dividir el dataset en 'N' conjuntos de datos.\n",
        "\n",
        "\n",
        "* En cada una de las 'N' iteracciones, un conjunto de datos sera conjunto de datos de test y el resto de conjuntos serán datos de entrenamiento.\n",
        "\n",
        "\n",
        "* En Scikit utilizamos la clase ***KFold(n_splits)*** para dividir el Dataset en ***'N'*** (n_splits) conjuntos.\n",
        "\n",
        "\n",
        "* En este caso no vamos a obtener unos arrays con los datos de entrenamiento y test; si no, los ***índices de los elementos del Dataset que en cada paso actuarán como entrenamiento y como test***.\n",
        "\n",
        "\n",
        "* Para el ejemplo que vamos a realizar vamos a dividir el dataset en 10 conjuntos de datos:"
      ]
    },
    {
      "cell_type": "code",
      "execution_count": 18,
      "metadata": {
        "id": "qyqxgq2U-bDs",
        "colab": {
          "base_uri": "https://localhost:8080/"
        },
        "outputId": "6b642c42-600a-40c3-b0a2-85c3cd39adca"
      },
      "outputs": [
        {
          "output_type": "execute_result",
          "data": {
            "text/plain": [
              "KFold(n_splits=10, random_state=None, shuffle=False)"
            ]
          },
          "metadata": {},
          "execution_count": 18
        }
      ],
      "source": [
        "k_fold = KFold(n_splits=10)\n",
        "k_fold"
      ]
    },
    {
      "cell_type": "markdown",
      "metadata": {
        "id": "HC7y5yf0-bDs"
      },
      "source": [
        "<hr>\n",
        "\n",
        "\n",
        "## 4. Generación y evaluación de los 'N' modelos con MAE\n",
        "\n",
        "\n",
        "* Vamos a generar tantos modelos como particiones hayamos realizado y vamos a evaluarlos con los datos de entrenamiento y test:"
      ]
    },
    {
      "cell_type": "code",
      "execution_count": 44,
      "metadata": {
        "colab": {
          "base_uri": "https://localhost:8080/"
        },
        "id": "iDxhr15b-bDs",
        "outputId": "7dc20942-de27-4988-87d6-64fda80f598b"
      },
      "outputs": [
        {
          "output_type": "stream",
          "name": "stdout",
          "text": [
            "k_fold -> Test [  0   1   2 ... 497 498 499] - Train [ 500  501  502 ... 4997 4998 4999]\n",
            "Calorias: -1157.95 \t(Tiempo: 14.24, Velocidad: 46.27, Peso: 8.54)\n",
            "Train MAE: 48.65 - Test MAE: 43.96\n",
            "\n",
            "k_fold -> Test [500 501 502 ... 997 998 999] - Train [   0    1    2 ... 4997 4998 4999]\n",
            "Calorias: -1173.56 \t(Tiempo: 14.27, Velocidad: 46.96, Peso: 8.62)\n",
            "Train MAE: 48.75 - Test MAE: 43.89\n",
            "\n",
            "k_fold -> Test [1000 1001 1002 ... 1497 1498 1499] - Train [   0    1    2 ... 4997 4998 4999]\n",
            "Calorias: -1161.30 \t(Tiempo: 14.27, Velocidad: 46.44, Peso: 8.54)\n",
            "Train MAE: 48.06 - Test MAE: 49.39\n",
            "\n",
            "k_fold -> Test [1500 1501 1502 ... 1997 1998 1999] - Train [   0    1    2 ... 4997 4998 4999]\n",
            "Calorias: -1165.42 \t(Tiempo: 14.29, Velocidad: 46.66, Peso: 8.55)\n",
            "Train MAE: 47.81 - Test MAE: 51.33\n",
            "\n",
            "k_fold -> Test [2000 2001 2002 ... 2497 2498 2499] - Train [   0    1    2 ... 4997 4998 4999]\n",
            "Calorias: -1165.95 \t(Tiempo: 14.25, Velocidad: 46.61, Peso: 8.59)\n",
            "Train MAE: 48.16 - Test MAE: 48.45\n",
            "\n",
            "k_fold -> Test [2500 2501 2502 ... 2997 2998 2999] - Train [   0    1    2 ... 4997 4998 4999]\n",
            "Calorias: -1163.89 \t(Tiempo: 14.26, Velocidad: 46.68, Peso: 8.54)\n",
            "Train MAE: 47.66 - Test MAE: 52.66\n",
            "\n",
            "k_fold -> Test [3000 3001 3002 ... 3497 3498 3499] - Train [   0    1    2 ... 4997 4998 4999]\n",
            "Calorias: -1163.89 \t(Tiempo: 14.27, Velocidad: 46.66, Peso: 8.54)\n",
            "Train MAE: 48.02 - Test MAE: 49.48\n",
            "\n",
            "k_fold -> Test [3500 3501 3502 ... 3997 3998 3999] - Train [   0    1    2 ... 4997 4998 4999]\n",
            "Calorias: -1155.83 \t(Tiempo: 14.25, Velocidad: 46.57, Peso: 8.45)\n",
            "Train MAE: 48.29 - Test MAE: 47.12\n",
            "\n",
            "k_fold -> Test [4000 4001 4002 ... 4497 4498 4499] - Train [   0    1    2 ... 4997 4998 4999]\n",
            "Calorias: -1173.11 \t(Tiempo: 14.26, Velocidad: 46.96, Peso: 8.61)\n",
            "Train MAE: 48.36 - Test MAE: 47.65\n",
            "\n",
            "k_fold -> Test [4500 4501 4502 ... 4997 4998 4999] - Train [   0    1    2 ... 4497 4498 4499]\n",
            "Calorias: -1167.63 \t(Tiempo: 14.26, Velocidad: 46.79, Peso: 8.56)\n",
            "Train MAE: 48.23 - Test MAE: 48.57\n",
            "\n"
          ]
        }
      ],
      "source": [
        "l_mae_train = []\n",
        "l_mae_test = []\n",
        "\n",
        "for train, test in k_fold.split(X, y):\n",
        "\n",
        "    print('k_fold ->', 'Test', test, '-', 'Train', train)\n",
        "\n",
        "    # Crear un nuevo objeto de la clase LinearRegression\n",
        "    reg_mul = linear_model.LinearRegression()\n",
        "\n",
        "    # Ajustar el modelo\n",
        "    reg_mul.fit(X[train], y[train])\n",
        "\n",
        "    # Imprimir el modelo\n",
        "    print('Calorias: {b0:0.2f} \\t' '(Tiempo: {b1:0.2f}, Velocidad: {b2:0.2f}, Peso: {b3:0.2f})'\n",
        "       .format(b0=reg_mul.intercept_, b1=reg_mul.coef_[0], b2=reg_mul.coef_[1], b3=reg_mul.coef_[2]))\n",
        "\n",
        "    # Prediccion\n",
        "    y_train_predict = reg_mul.predict(X[train])\n",
        "    y_test_predict = reg_mul.predict(X[test])\n",
        "\n",
        "    # Errores MAE\n",
        "    mae_train = mean_absolute_error(y_true=y[train], y_pred=y_train_predict)\n",
        "    mae_test = mean_absolute_error(y_true=y[test], y_pred=y_test_predict)\n",
        "    print('Train MAE: {error:0.2f}'.format(error=mae_train), '-', 'Test MAE: {error:0.2f}'.format(error=mae_test))\n",
        "    print()\n",
        "\n",
        "    # Guardar los errores para una gráfica posterior\n",
        "    l_mae_train.append(mae_train)\n",
        "    l_mae_test.append(mae_test)"
      ]
    },
    {
      "cell_type": "markdown",
      "metadata": {
        "id": "hqN6Zqc8-bDs"
      },
      "source": [
        "<hr>\n",
        "\n",
        "## 5. Conclusiones: Comparativa de resultados\n",
        "\n",
        "* En la siguiente gráfica podemos observar en cada generación del modelo con diferentes conjuntos de entrenamiento y test lo siguiente:  \n",
        "\n",
        "    - El error comentido con el modelo generado en cada iteración con los conjuntos de entrenamiento es más o menos similar, con lo que el algoritmo de aprendizaje genera un modelo muy robusto.\n",
        "\n",
        "    - El error cometido con los datos de test es más variable (lo cual es normal), incluso en ocasiones se comete menos error con los datos de test que con los de entrenamiento.\n",
        "\n",
        "    - Los errores de los modelos tanto con los datos de test como de entrenamiento son muy similares entre sí, con lo que podemos concluir que el algoritmo de aprendizaje con los datos disponibles, genera un modelo muy robusto que generaliza bastante bien.\n"
      ]
    },
    {
      "cell_type": "code",
      "source": [
        "# son equivalentes\n",
        "# print([index for index, value in enumerate(l_mae_train)])\n",
        "# print(range(len(l_mae_train)))"
      ],
      "metadata": {
        "colab": {
          "base_uri": "https://localhost:8080/"
        },
        "id": "vb4bhzZuchsO",
        "outputId": "deb5dc08-8a0f-47a2-a3ed-a52f5369d505"
      },
      "execution_count": 65,
      "outputs": [
        {
          "output_type": "stream",
          "name": "stdout",
          "text": [
            "[0, 1, 2, 3, 4, 5, 6, 7, 8, 9]\n",
            "range(0, 10)\n"
          ]
        }
      ]
    },
    {
      "cell_type": "code",
      "execution_count": 67,
      "metadata": {
        "colab": {
          "base_uri": "https://localhost:8080/",
          "height": 582
        },
        "id": "y6F8Njf2-bDt",
        "outputId": "4d63f844-a9fe-481c-cc22-4d039c63a9aa"
      },
      "outputs": [
        {
          "output_type": "stream",
          "name": "stdout",
          "text": [
            "<enumerate object at 0x7cf36f3cbe70>\n"
          ]
        },
        {
          "output_type": "display_data",
          "data": {
            "text/plain": [
              "<Figure size 800x600 with 1 Axes>"
            ],
            "image/png": "[encoded data removed]"
          },
          "metadata": {}
        }
      ],
      "source": [
        "print(enumerate(l_mae_train))\n",
        "fig, ax =  plt.subplots(figsize=(8, 6))\n",
        "ax.plot([index for index, value in enumerate(l_mae_train)], l_mae_train)\n",
        "ax.plot([index for index, value in enumerate(l_mae_train)], l_mae_test)\n",
        "ax.set_title(\"MAE en cada iteración\")\n",
        "ax.set_xlabel(\"Iteración\")\n",
        "ax.set_ylabel(\"MAE\")\n",
        "ax.grid(True)\n",
        "plt.gca().legend(('Entrenamiento','Test'))\n",
        "plt.show()"
      ]
    }
  ],
  "metadata": {
    "kernelspec": {
      "display_name": "Python 3",
      "language": "python",
      "name": "python3"
    },
    "language_info": {
      "codemirror_mode": {
        "name": "ipython",
        "version": 3
      },
      "file_extension": ".py",
      "mimetype": "text/x-python",
      "name": "python",
      "nbconvert_exporter": "python",
      "pygments_lexer": "ipython3",
      "version": "3.6.10"
    },
    "colab": {
      "provenance": []
    }
  },
  "nbformat": 4,
  "nbformat_minor": 0
}