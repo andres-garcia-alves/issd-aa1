{
  "cells": [
    {
      "cell_type": "markdown",
      "metadata": {
        "id": "LQhQa7yufkvT"
      },
      "source": [
        "# Preprocesamiento de Datos Tabulares para Aprendizaje Automático\n",
        "\n",
        "En este notebook, exploraremos la importancia del preprocesamiento de datos tabulares en Python utilizando la biblioteca scikit-learn (sklearn). El preprocesamiento es una etapa fundamental en cualquier proyecto de aprendizaje automático, ya que la calidad de los datos determina en gran medida el rendimiento de nuestros modelos.\n",
        "\n",
        "## ¿Por qué es importante el preprocesamiento?\n",
        "\n",
        "1. **Mejora el rendimiento de los modelos**: Muchos algoritmos de aprendizaje automático funcionan mejor con datos limpios y bien formateados.\n",
        "2. **Reduce el tiempo de entrenamiento**: Datos optimizados aceleran el proceso de entrenamiento.\n",
        "3. **Elimina sesgos y errores**: Corrige problemas que podrían llevar a conclusiones incorrectas.\n",
        "4. **Mejora la interpretabilidad**: Datos bien procesados facilitan el entendimiento de los resultados.\n",
        "\n",
        "Vamos a cubrir las siguientes técnicas de preprocesamiento:\n",
        "- Importación y exploración inicial de datos\n",
        "- Manejo de valores faltantes\n",
        "- Codificación de variables categóricas\n",
        "- Escalado de características\n",
        "- Detección y tratamiento de valores atípicos (outliers)\n",
        "- Selección de características\n",
        "- Creación de pipelines de preprocesamiento\n",
        "\n",
        "¡Comencemos!"
      ]
    },
    {
      "cell_type": "markdown",
      "metadata": {
        "id": "LX6_AHTafkvd"
      },
      "source": [
        "## 1. Importamos las bibliotecas necesarias\n",
        "\n",
        "Lo primero que debemos hacer es importar las bibliotecas que utilizaremos a lo largo del notebook. Estas nos proporcionarán las herramientas necesarias para manipular, analizar y visualizar nuestros datos."
      ]
    },
    {
      "cell_type": "code",
      "execution_count": 2,
      "metadata": {
        "id": "ODYTVbigfkve"
      },
      "outputs": [],
      "source": [
        "# Importamos las bibliotecas\n",
        "import numpy as np\n",
        "import pandas as pd\n",
        "import matplotlib.pyplot as plt\n",
        "import seaborn as sns\n",
        "\n",
        "# Configuramos visualizaciones más atractivas\n",
        "plt.style.use('seaborn-v0_8-whitegrid')\n",
        "sns.set_theme(style=\"whitegrid\")\n",
        "\n",
        "# Importamos módulos específicos de scikit-learn para preprocesamiento\n",
        "from sklearn.model_selection import train_test_split\n",
        "from sklearn.preprocessing import StandardScaler, MinMaxScaler, RobustScaler\n",
        "from sklearn.preprocessing import OneHotEncoder, LabelEncoder, OrdinalEncoder\n",
        "from sklearn.impute import SimpleImputer, KNNImputer\n",
        "from sklearn.compose import ColumnTransformer\n",
        "from sklearn.pipeline import Pipeline\n",
        "from sklearn.feature_selection import SelectKBest, f_classif\n",
        "\n",
        "# Para detectar outliers\n",
        "from sklearn.ensemble import IsolationForest\n",
        "\n",
        "# Para verificar el rendimiento de nuestros modelos\n",
        "from sklearn.metrics import accuracy_score, confusion_matrix\n",
        "\n",
        "# Algunos modelos sencillos para demostrar el impacto del preprocesamiento\n",
        "from sklearn.linear_model import LogisticRegression\n",
        "from sklearn.ensemble import RandomForestClassifier\n",
        "\n",
        "# Para evitar warnings innecesarios\n",
        "import warnings\n",
        "warnings.filterwarnings('ignore')"
      ]
    },
    {
      "cell_type": "markdown",
      "metadata": {
        "id": "mcY4xM_tfkvi"
      },
      "source": [
        "## 2. Carga y exploración inicial de datos\n",
        "\n",
        "Ahora vamos a cargar un conjunto de datos y explorarlo para entender su estructura y características. Para este ejemplo, utilizaremos el famoso conjunto de datos Titanic, que contiene información sobre los pasajeros del Titanic e incluye si sobrevivieron o no al hundimiento."
      ]
    },
    {
      "cell_type": "code",
      "execution_count": 3,
      "metadata": {
        "colab": {
          "base_uri": "https://localhost:8080/",
          "height": 224
        },
        "id": "XLISqzDZfkvi",
        "outputId": "201b30fc-9fca-4e5b-a9dc-8002337250e2"
      },
      "outputs": [
        {
          "output_type": "stream",
          "name": "stdout",
          "text": [
            "Primeras 5 filas del conjunto de datos:\n"
          ]
        },
        {
          "output_type": "execute_result",
          "data": {
            "text/plain": [
              "   survived  pclass     sex   age  sibsp  parch     fare embarked  class  \\\n",
              "0         0       3    male  22.0      1      0   7.2500        S  Third   \n",
              "1         1       1  female  38.0      1      0  71.2833        C  First   \n",
              "2         1       3  female  26.0      0      0   7.9250        S  Third   \n",
              "3         1       1  female  35.0      1      0  53.1000        S  First   \n",
              "4         0       3    male  35.0      0      0   8.0500        S  Third   \n",
              "\n",
              "     who  adult_male deck  embark_town alive  alone  \n",
              "0    man        True  NaN  Southampton    no  False  \n",
              "1  woman       False    C    Cherbourg   yes  False  \n",
              "2  woman       False  NaN  Southampton   yes   True  \n",
              "3  woman       False    C  Southampton   yes  False  \n",
              "4    man        True  NaN  Southampton    no   True  "
            ],
            "text/html": [
              "\n",
              "  <div id=\"df-5a984d74-25af-48ee-8728-912926268515\" class=\"colab-df-container\">\n",
              "    <div>\n",
              "<style scoped>\n",
              "    .dataframe tbody tr th:only-of-type {\n",
              "        vertical-align: middle;\n",
              "    }\n",
              "\n",
              "    .dataframe tbody tr th {\n",
              "        vertical-align: top;\n",
              "    }\n",
              "\n",
              "    .dataframe thead th {\n",
              "        text-align: right;\n",
              "    }\n",
              "</style>\n",
              "<table border=\"1\" class=\"dataframe\">\n",
              "  <thead>\n",
              "    <tr style=\"text-align: right;\">\n",
              "      <th></th>\n",
              "      <th>survived</th>\n",
              "      <th>pclass</th>\n",
              "      <th>sex</th>\n",
              "      <th>age</th>\n",
              "      <th>sibsp</th>\n",
              "      <th>parch</th>\n",
              "      <th>fare</th>\n",
              "      <th>embarked</th>\n",
              "      <th>class</th>\n",
              "      <th>who</th>\n",
              "      <th>adult_male</th>\n",
              "      <th>deck</th>\n",
              "      <th>embark_town</th>\n",
              "      <th>alive</th>\n",
              "      <th>alone</th>\n",
              "    </tr>\n",
              "  </thead>\n",
              "  <tbody>\n",
              "    <tr>\n",
              "      <th>0</th>\n",
              "      <td>0</td>\n",
              "      <td>3</td>\n",
              "      <td>male</td>\n",
              "      <td>22.0</td>\n",
              "      <td>1</td>\n",
              "      <td>0</td>\n",
              "      <td>7.2500</td>\n",
              "      <td>S</td>\n",
              "      <td>Third</td>\n",
              "      <td>man</td>\n",
              "      <td>True</td>\n",
              "      <td>NaN</td>\n",
              "      <td>Southampton</td>\n",
              "      <td>no</td>\n",
              "      <td>False</td>\n",
              "    </tr>\n",
              "    <tr>\n",
              "      <th>1</th>\n",
              "      <td>1</td>\n",
              "      <td>1</td>\n",
              "      <td>female</td>\n",
              "      <td>38.0</td>\n",
              "      <td>1</td>\n",
              "      <td>0</td>\n",
              "      <td>71.2833</td>\n",
              "      <td>C</td>\n",
              "      <td>First</td>\n",
              "      <td>woman</td>\n",
              "      <td>False</td>\n",
              "      <td>C</td>\n",
              "      <td>Cherbourg</td>\n",
              "      <td>yes</td>\n",
              "      <td>False</td>\n",
              "    </tr>\n",
              "    <tr>\n",
              "      <th>2</th>\n",
              "      <td>1</td>\n",
              "      <td>3</td>\n",
              "      <td>female</td>\n",
              "      <td>26.0</td>\n",
              "      <td>0</td>\n",
              "      <td>0</td>\n",
              "      <td>7.9250</td>\n",
              "      <td>S</td>\n",
              "      <td>Third</td>\n",
              "      <td>woman</td>\n",
              "      <td>False</td>\n",
              "      <td>NaN</td>\n",
              "      <td>Southampton</td>\n",
              "      <td>yes</td>\n",
              "      <td>True</td>\n",
              "    </tr>\n",
              "    <tr>\n",
              "      <th>3</th>\n",
              "      <td>1</td>\n",
              "      <td>1</td>\n",
              "      <td>female</td>\n",
              "      <td>35.0</td>\n",
              "      <td>1</td>\n",
              "      <td>0</td>\n",
              "      <td>53.1000</td>\n",
              "      <td>S</td>\n",
              "      <td>First</td>\n",
              "      <td>woman</td>\n",
              "      <td>False</td>\n",
              "      <td>C</td>\n",
              "      <td>Southampton</td>\n",
              "      <td>yes</td>\n",
              "      <td>False</td>\n",
              "    </tr>\n",
              "    <tr>\n",
              "      <th>4</th>\n",
              "      <td>0</td>\n",
              "      <td>3</td>\n",
              "      <td>male</td>\n",
              "      <td>35.0</td>\n",
              "      <td>0</td>\n",
              "      <td>0</td>\n",
              "      <td>8.0500</td>\n",
              "      <td>S</td>\n",
              "      <td>Third</td>\n",
              "      <td>man</td>\n",
              "      <td>True</td>\n",
              "      <td>NaN</td>\n",
              "      <td>Southampton</td>\n",
              "      <td>no</td>\n",
              "      <td>True</td>\n",
              "    </tr>\n",
              "  </tbody>\n",
              "</table>\n",
              "</div>\n",
              "    <div class=\"colab-df-buttons\">\n",
              "\n",
              "  <div class=\"colab-df-container\">\n",
              "    <button class=\"colab-df-convert\" onclick=\"convertToInteractive('df-5a984d74-25af-48ee-8728-912926268515')\"\n",
              "            title=\"Convert this dataframe to an interactive table.\"\n",
              "            style=\"display:none;\">\n",
              "\n",
              "  <svg xmlns=\"http://www.w3.org/2000/svg\" height=\"24px\" viewBox=\"0 -960 960 960\">\n",
              "    <path d=\"M120-120v-720h720v720H120Zm60-500h600v-160H180v160Zm220 220h160v-160H400v160Zm0 220h160v-160H400v160ZM180-400h160v-160H180v160Zm440 0h160v-160H620v160ZM180-180h160v-160H180v160Zm440 0h160v-160H620v160Z\"/>\n",
              "  </svg>\n",
              "    </button>\n",
              "\n",
              "  <style>\n",
              "    .colab-df-container {\n",
              "      display:flex;\n",
              "      gap: 12px;\n",
              "    }\n",
              "\n",
              "    .colab-df-convert {\n",
              "      background-color: #E8F0FE;\n",
              "      border: none;\n",
              "      border-radius: 50%;\n",
              "      cursor: pointer;\n",
              "      display: none;\n",
              "      fill: #1967D2;\n",
              "      height: 32px;\n",
              "      padding: 0 0 0 0;\n",
              "      width: 32px;\n",
              "    }\n",
              "\n",
              "    .colab-df-convert:hover {\n",
              "      background-color: #E2EBFA;\n",
              "      box-shadow: 0px 1px 2px rgba(60, 64, 67, 0.3), 0px 1px 3px 1px rgba(60, 64, 67, 0.15);\n",
              "      fill: #174EA6;\n",
              "    }\n",
              "\n",
              "    .colab-df-buttons div {\n",
              "      margin-bottom: 4px;\n",
              "    }\n",
              "\n",
              "    [theme=dark] .colab-df-convert {\n",
              "      background-color: #3B4455;\n",
              "      fill: #D2E3FC;\n",
              "    }\n",
              "\n",
              "    [theme=dark] .colab-df-convert:hover {\n",
              "      background-color: #434B5C;\n",
              "      box-shadow: 0px 1px 3px 1px rgba(0, 0, 0, 0.15);\n",
              "      filter: drop-shadow(0px 1px 2px rgba(0, 0, 0, 0.3));\n",
              "      fill: #FFFFFF;\n",
              "    }\n",
              "  </style>\n",
              "\n",
              "    <script>\n",
              "      const buttonEl =\n",
              "        document.querySelector('#df-5a984d74-25af-48ee-8728-912926268515 button.colab-df-convert');\n",
              "      buttonEl.style.display =\n",
              "        google.colab.kernel.accessAllowed ? 'block' : 'none';\n",
              "\n",
              "      async function convertToInteractive(key) {\n",
              "        const element = document.querySelector('#df-5a984d74-25af-48ee-8728-912926268515');\n",
              "        const dataTable =\n",
              "          await google.colab.kernel.invokeFunction('convertToInteractive',\n",
              "                                                    [key], {});\n",
              "        if (!dataTable) return;\n",
              "\n",
              "        const docLinkHtml = 'Like what you see? Visit the ' +\n",
              "          '<a target=\"_blank\" href=https://colab.research.google.com/notebooks/data_table.ipynb>data table notebook</a>'\n",
              "          + ' to learn more about interactive tables.';\n",
              "        element.innerHTML = '';\n",
              "        dataTable['output_type'] = 'display_data';\n",
              "        await google.colab.output.renderOutput(dataTable, element);\n",
              "        const docLink = document.createElement('div');\n",
              "        docLink.innerHTML = docLinkHtml;\n",
              "        element.appendChild(docLink);\n",
              "      }\n",
              "    </script>\n",
              "  </div>\n",
              "\n",
              "\n",
              "    <div id=\"df-7505ba4b-b5b2-454e-824b-241702994028\">\n",
              "      <button class=\"colab-df-quickchart\" onclick=\"quickchart('df-7505ba4b-b5b2-454e-824b-241702994028')\"\n",
              "                title=\"Suggest charts\"\n",
              "                style=\"display:none;\">\n",
              "\n",
              "<svg xmlns=\"http://www.w3.org/2000/svg\" height=\"24px\"viewBox=\"0 0 24 24\"\n",
              "     width=\"24px\">\n",
              "    <g>\n",
              "        <path d=\"M19 3H5c-1.1 0-2 .9-2 2v14c0 1.1.9 2 2 2h14c1.1 0 2-.9 2-2V5c0-1.1-.9-2-2-2zM9 17H7v-7h2v7zm4 0h-2V7h2v10zm4 0h-2v-4h2v4z\"/>\n",
              "    </g>\n",
              "</svg>\n",
              "      </button>\n",
              "\n",
              "<style>\n",
              "  .colab-df-quickchart {\n",
              "      --bg-color: #E8F0FE;\n",
              "      --fill-color: #1967D2;\n",
              "      --hover-bg-color: #E2EBFA;\n",
              "      --hover-fill-color: #174EA6;\n",
              "      --disabled-fill-color: #AAA;\n",
              "      --disabled-bg-color: #DDD;\n",
              "  }\n",
              "\n",
              "  [theme=dark] .colab-df-quickchart {\n",
              "      --bg-color: #3B4455;\n",
              "      --fill-color: #D2E3FC;\n",
              "      --hover-bg-color: #434B5C;\n",
              "      --hover-fill-color: #FFFFFF;\n",
              "      --disabled-bg-color: #3B4455;\n",
              "      --disabled-fill-color: #666;\n",
              "  }\n",
              "\n",
              "  .colab-df-quickchart {\n",
              "    background-color: var(--bg-color);\n",
              "    border: none;\n",
              "    border-radius: 50%;\n",
              "    cursor: pointer;\n",
              "    display: none;\n",
              "    fill: var(--fill-color);\n",
              "    height: 32px;\n",
              "    padding: 0;\n",
              "    width: 32px;\n",
              "  }\n",
              "\n",
              "  .colab-df-quickchart:hover {\n",
              "    background-color: var(--hover-bg-color);\n",
              "    box-shadow: 0 1px 2px rgba(60, 64, 67, 0.3), 0 1px 3px 1px rgba(60, 64, 67, 0.15);\n",
              "    fill: var(--button-hover-fill-color);\n",
              "  }\n",
              "\n",
              "  .colab-df-quickchart-complete:disabled,\n",
              "  .colab-df-quickchart-complete:disabled:hover {\n",
              "    background-color: var(--disabled-bg-color);\n",
              "    fill: var(--disabled-fill-color);\n",
              "    box-shadow: none;\n",
              "  }\n",
              "\n",
              "  .colab-df-spinner {\n",
              "    border: 2px solid var(--fill-color);\n",
              "    border-color: transparent;\n",
              "    border-bottom-color: var(--fill-color);\n",
              "    animation:\n",
              "      spin 1s steps(1) infinite;\n",
              "  }\n",
              "\n",
              "  @keyframes spin {\n",
              "    0% {\n",
              "      border-color: transparent;\n",
              "      border-bottom-color: var(--fill-color);\n",
              "      border-left-color: var(--fill-color);\n",
              "    }\n",
              "    20% {\n",
              "      border-color: transparent;\n",
              "      border-left-color: var(--fill-color);\n",
              "      border-top-color: var(--fill-color);\n",
              "    }\n",
              "    30% {\n",
              "      border-color: transparent;\n",
              "      border-left-color: var(--fill-color);\n",
              "      border-top-color: var(--fill-color);\n",
              "      border-right-color: var(--fill-color);\n",
              "    }\n",
              "    40% {\n",
              "      border-color: transparent;\n",
              "      border-right-color: var(--fill-color);\n",
              "      border-top-color: var(--fill-color);\n",
              "    }\n",
              "    60% {\n",
              "      border-color: transparent;\n",
              "      border-right-color: var(--fill-color);\n",
              "    }\n",
              "    80% {\n",
              "      border-color: transparent;\n",
              "      border-right-color: var(--fill-color);\n",
              "      border-bottom-color: var(--fill-color);\n",
              "    }\n",
              "    90% {\n",
              "      border-color: transparent;\n",
              "      border-bottom-color: var(--fill-color);\n",
              "    }\n",
              "  }\n",
              "</style>\n",
              "\n",
              "      <script>\n",
              "        async function quickchart(key) {\n",
              "          const quickchartButtonEl =\n",
              "            document.querySelector('#' + key + ' button');\n",
              "          quickchartButtonEl.disabled = true;  // To prevent multiple clicks.\n",
              "          quickchartButtonEl.classList.add('colab-df-spinner');\n",
              "          try {\n",
              "            const charts = await google.colab.kernel.invokeFunction(\n",
              "                'suggestCharts', [key], {});\n",
              "          } catch (error) {\n",
              "            console.error('Error during call to suggestCharts:', error);\n",
              "          }\n",
              "          quickchartButtonEl.classList.remove('colab-df-spinner');\n",
              "          quickchartButtonEl.classList.add('colab-df-quickchart-complete');\n",
              "        }\n",
              "        (() => {\n",
              "          let quickchartButtonEl =\n",
              "            document.querySelector('#df-7505ba4b-b5b2-454e-824b-241702994028 button');\n",
              "          quickchartButtonEl.style.display =\n",
              "            google.colab.kernel.accessAllowed ? 'block' : 'none';\n",
              "        })();\n",
              "      </script>\n",
              "    </div>\n",
              "\n",
              "    </div>\n",
              "  </div>\n"
            ],
            "application/vnd.google.colaboratory.intrinsic+json": {
              "type": "dataframe",
              "variable_name": "titanic",
              "summary": "{\n  \"name\": \"titanic\",\n  \"rows\": 891,\n  \"fields\": [\n    {\n      \"column\": \"survived\",\n      \"properties\": {\n        \"dtype\": \"number\",\n        \"std\": 0,\n        \"min\": 0,\n        \"max\": 1,\n        \"num_unique_values\": 2,\n        \"samples\": [\n          1,\n          0\n        ],\n        \"semantic_type\": \"\",\n        \"description\": \"\"\n      }\n    },\n    {\n      \"column\": \"pclass\",\n      \"properties\": {\n        \"dtype\": \"number\",\n        \"std\": 0,\n        \"min\": 1,\n        \"max\": 3,\n        \"num_unique_values\": 3,\n        \"samples\": [\n          3,\n          1\n        ],\n        \"semantic_type\": \"\",\n        \"description\": \"\"\n      }\n    },\n    {\n      \"column\": \"sex\",\n      \"properties\": {\n        \"dtype\": \"category\",\n        \"num_unique_values\": 2,\n        \"samples\": [\n          \"female\",\n          \"male\"\n        ],\n        \"semantic_type\": \"\",\n        \"description\": \"\"\n      }\n    },\n    {\n      \"column\": \"age\",\n      \"properties\": {\n        \"dtype\": \"number\",\n        \"std\": 14.526497332334044,\n        \"min\": 0.42,\n        \"max\": 80.0,\n        \"num_unique_values\": 88,\n        \"samples\": [\n          0.75,\n          22.0\n        ],\n        \"semantic_type\": \"\",\n        \"description\": \"\"\n      }\n    },\n    {\n      \"column\": \"sibsp\",\n      \"properties\": {\n        \"dtype\": \"number\",\n        \"std\": 1,\n        \"min\": 0,\n        \"max\": 8,\n        \"num_unique_values\": 7,\n        \"samples\": [\n          1,\n          0\n        ],\n        \"semantic_type\": \"\",\n        \"description\": \"\"\n      }\n    },\n    {\n      \"column\": \"parch\",\n      \"properties\": {\n        \"dtype\": \"number\",\n        \"std\": 0,\n        \"min\": 0,\n        \"max\": 6,\n        \"num_unique_values\": 7,\n        \"samples\": [\n          0,\n          1\n        ],\n        \"semantic_type\": \"\",\n        \"description\": \"\"\n      }\n    },\n    {\n      \"column\": \"fare\",\n      \"properties\": {\n        \"dtype\": \"number\",\n        \"std\": 49.693428597180905,\n        \"min\": 0.0,\n        \"max\": 512.3292,\n        \"num_unique_values\": 248,\n        \"samples\": [\n          11.2417,\n          51.8625\n        ],\n        \"semantic_type\": \"\",\n        \"description\": \"\"\n      }\n    },\n    {\n      \"column\": \"embarked\",\n      \"properties\": {\n        \"dtype\": \"category\",\n        \"num_unique_values\": 3,\n        \"samples\": [\n          \"S\",\n          \"C\"\n        ],\n        \"semantic_type\": \"\",\n        \"description\": \"\"\n      }\n    },\n    {\n      \"column\": \"class\",\n      \"properties\": {\n        \"dtype\": \"category\",\n        \"num_unique_values\": 3,\n        \"samples\": [\n          \"Third\",\n          \"First\"\n        ],\n        \"semantic_type\": \"\",\n        \"description\": \"\"\n      }\n    },\n    {\n      \"column\": \"who\",\n      \"properties\": {\n        \"dtype\": \"category\",\n        \"num_unique_values\": 3,\n        \"samples\": [\n          \"man\",\n          \"woman\"\n        ],\n        \"semantic_type\": \"\",\n        \"description\": \"\"\n      }\n    },\n    {\n      \"column\": \"adult_male\",\n      \"properties\": {\n        \"dtype\": \"boolean\",\n        \"num_unique_values\": 2,\n        \"samples\": [\n          false,\n          true\n        ],\n        \"semantic_type\": \"\",\n        \"description\": \"\"\n      }\n    },\n    {\n      \"column\": \"deck\",\n      \"properties\": {\n        \"dtype\": \"category\",\n        \"num_unique_values\": 7,\n        \"samples\": [\n          \"C\",\n          \"E\"\n        ],\n        \"semantic_type\": \"\",\n        \"description\": \"\"\n      }\n    },\n    {\n      \"column\": \"embark_town\",\n      \"properties\": {\n        \"dtype\": \"category\",\n        \"num_unique_values\": 3,\n        \"samples\": [\n          \"Southampton\",\n          \"Cherbourg\"\n        ],\n        \"semantic_type\": \"\",\n        \"description\": \"\"\n      }\n    },\n    {\n      \"column\": \"alive\",\n      \"properties\": {\n        \"dtype\": \"category\",\n        \"num_unique_values\": 2,\n        \"samples\": [\n          \"yes\",\n          \"no\"\n        ],\n        \"semantic_type\": \"\",\n        \"description\": \"\"\n      }\n    },\n    {\n      \"column\": \"alone\",\n      \"properties\": {\n        \"dtype\": \"boolean\",\n        \"num_unique_values\": 2,\n        \"samples\": [\n          true,\n          false\n        ],\n        \"semantic_type\": \"\",\n        \"description\": \"\"\n      }\n    }\n  ]\n}"
            }
          },
          "metadata": {},
          "execution_count": 3
        }
      ],
      "source": [
        "# Cargamos los datos del Titanic (lo descargamos desde seaborn)\n",
        "titanic = sns.load_dataset('titanic')\n",
        "\n",
        "# Mostramos las primeras filas del conjunto de datos\n",
        "print(\"Primeras 5 filas del conjunto de datos:\")\n",
        "titanic.head()"
      ]
    },
    {
      "cell_type": "markdown",
      "metadata": {
        "id": "CCQewuGQfkvk"
      },
      "source": [
        "Ahora, vamos a explorar un poco más el conjunto de datos para entender su estructura y las características disponibles."
      ]
    },
    {
      "cell_type": "code",
      "execution_count": 6,
      "metadata": {
        "colab": {
          "base_uri": "https://localhost:8080/"
        },
        "id": "yWNPaquFfkvl",
        "outputId": "88b7ba52-40ef-4477-cb3b-3e37e2db35fa"
      },
      "outputs": [
        {
          "output_type": "stream",
          "name": "stdout",
          "text": [
            "Información general sobre el conjunto de datos:\n",
            "<class 'pandas.core.frame.DataFrame'>\n",
            "RangeIndex: 891 entries, 0 to 890\n",
            "Data columns (total 15 columns):\n",
            " #   Column       Non-Null Count  Dtype   \n",
            "---  ------       --------------  -----   \n",
            " 0   survived     891 non-null    int64   \n",
            " 1   pclass       891 non-null    int64   \n",
            " 2   sex          891 non-null    object  \n",
            " 3   age          714 non-null    float64 \n",
            " 4   sibsp        891 non-null    int64   \n",
            " 5   parch        891 non-null    int64   \n",
            " 6   fare         891 non-null    float64 \n",
            " 7   embarked     889 non-null    object  \n",
            " 8   class        891 non-null    category\n",
            " 9   who          891 non-null    object  \n",
            " 10  adult_male   891 non-null    bool    \n",
            " 11  deck         203 non-null    category\n",
            " 12  embark_town  889 non-null    object  \n",
            " 13  alive        891 non-null    object  \n",
            " 14  alone        891 non-null    bool    \n",
            "dtypes: bool(2), category(2), float64(2), int64(4), object(5)\n",
            "memory usage: 80.7+ KB\n"
          ]
        }
      ],
      "source": [
        "# Información general sobre el conjunto de datos\n",
        "print(\"Información general sobre el conjunto de datos:\")\n",
        "titanic.info()"
      ]
    },
    {
      "cell_type": "code",
      "execution_count": 7,
      "metadata": {
        "colab": {
          "base_uri": "https://localhost:8080/",
          "height": 318
        },
        "id": "-16WrgN5fkvm",
        "outputId": "1487c0a5-014f-4434-f714-4faa93cce457"
      },
      "outputs": [
        {
          "output_type": "stream",
          "name": "stdout",
          "text": [
            "Estadísticas descriptivas de las variables numéricas:\n"
          ]
        },
        {
          "output_type": "execute_result",
          "data": {
            "text/plain": [
              "         survived      pclass         age       sibsp       parch        fare\n",
              "count  891.000000  891.000000  714.000000  891.000000  891.000000  891.000000\n",
              "mean     0.383838    2.308642   29.699118    0.523008    0.381594   32.204208\n",
              "std      0.486592    0.836071   14.526497    1.102743    0.806057   49.693429\n",
              "min      0.000000    1.000000    0.420000    0.000000    0.000000    0.000000\n",
              "25%      0.000000    2.000000   20.125000    0.000000    0.000000    7.910400\n",
              "50%      0.000000    3.000000   28.000000    0.000000    0.000000   14.454200\n",
              "75%      1.000000    3.000000   38.000000    1.000000    0.000000   31.000000\n",
              "max      1.000000    3.000000   80.000000    8.000000    6.000000  512.329200"
            ],
            "text/html": [
              "\n",
              "  <div id=\"df-01fee790-2779-40fd-9f9d-50f1c2a99c90\" class=\"colab-df-container\">\n",
              "    <div>\n",
              "<style scoped>\n",
              "    .dataframe tbody tr th:only-of-type {\n",
              "        vertical-align: middle;\n",
              "    }\n",
              "\n",
              "    .dataframe tbody tr th {\n",
              "        vertical-align: top;\n",
              "    }\n",
              "\n",
              "    .dataframe thead th {\n",
              "        text-align: right;\n",
              "    }\n",
              "</style>\n",
              "<table border=\"1\" class=\"dataframe\">\n",
              "  <thead>\n",
              "    <tr style=\"text-align: right;\">\n",
              "      <th></th>\n",
              "      <th>survived</th>\n",
              "      <th>pclass</th>\n",
              "      <th>age</th>\n",
              "      <th>sibsp</th>\n",
              "      <th>parch</th>\n",
              "      <th>fare</th>\n",
              "    </tr>\n",
              "  </thead>\n",
              "  <tbody>\n",
              "    <tr>\n",
              "      <th>count</th>\n",
              "      <td>891.000000</td>\n",
              "      <td>891.000000</td>\n",
              "      <td>714.000000</td>\n",
              "      <td>891.000000</td>\n",
              "      <td>891.000000</td>\n",
              "      <td>891.000000</td>\n",
              "    </tr>\n",
              "    <tr>\n",
              "      <th>mean</th>\n",
              "      <td>0.383838</td>\n",
              "      <td>2.308642</td>\n",
              "      <td>29.699118</td>\n",
              "      <td>0.523008</td>\n",
              "      <td>0.381594</td>\n",
              "      <td>32.204208</td>\n",
              "    </tr>\n",
              "    <tr>\n",
              "      <th>std</th>\n",
              "      <td>0.486592</td>\n",
              "      <td>0.836071</td>\n",
              "      <td>14.526497</td>\n",
              "      <td>1.102743</td>\n",
              "      <td>0.806057</td>\n",
              "      <td>49.693429</td>\n",
              "    </tr>\n",
              "    <tr>\n",
              "      <th>min</th>\n",
              "      <td>0.000000</td>\n",
              "      <td>1.000000</td>\n",
              "      <td>0.420000</td>\n",
              "      <td>0.000000</td>\n",
              "      <td>0.000000</td>\n",
              "      <td>0.000000</td>\n",
              "    </tr>\n",
              "    <tr>\n",
              "      <th>25%</th>\n",
              "      <td>0.000000</td>\n",
              "      <td>2.000000</td>\n",
              "      <td>20.125000</td>\n",
              "      <td>0.000000</td>\n",
              "      <td>0.000000</td>\n",
              "      <td>7.910400</td>\n",
              "    </tr>\n",
              "    <tr>\n",
              "      <th>50%</th>\n",
              "      <td>0.000000</td>\n",
              "      <td>3.000000</td>\n",
              "      <td>28.000000</td>\n",
              "      <td>0.000000</td>\n",
              "      <td>0.000000</td>\n",
              "      <td>14.454200</td>\n",
              "    </tr>\n",
              "    <tr>\n",
              "      <th>75%</th>\n",
              "      <td>1.000000</td>\n",
              "      <td>3.000000</td>\n",
              "      <td>38.000000</td>\n",
              "      <td>1.000000</td>\n",
              "      <td>0.000000</td>\n",
              "      <td>31.000000</td>\n",
              "    </tr>\n",
              "    <tr>\n",
              "      <th>max</th>\n",
              "      <td>1.000000</td>\n",
              "      <td>3.000000</td>\n",
              "      <td>80.000000</td>\n",
              "      <td>8.000000</td>\n",
              "      <td>6.000000</td>\n",
              "      <td>512.329200</td>\n",
              "    </tr>\n",
              "  </tbody>\n",
              "</table>\n",
              "</div>\n",
              "    <div class=\"colab-df-buttons\">\n",
              "\n",
              "  <div class=\"colab-df-container\">\n",
              "    <button class=\"colab-df-convert\" onclick=\"convertToInteractive('df-01fee790-2779-40fd-9f9d-50f1c2a99c90')\"\n",
              "            title=\"Convert this dataframe to an interactive table.\"\n",
              "            style=\"display:none;\">\n",
              "\n",
              "  <svg xmlns=\"http://www.w3.org/2000/svg\" height=\"24px\" viewBox=\"0 -960 960 960\">\n",
              "    <path d=\"M120-120v-720h720v720H120Zm60-500h600v-160H180v160Zm220 220h160v-160H400v160Zm0 220h160v-160H400v160ZM180-400h160v-160H180v160Zm440 0h160v-160H620v160ZM180-180h160v-160H180v160Zm440 0h160v-160H620v160Z\"/>\n",
              "  </svg>\n",
              "    </button>\n",
              "\n",
              "  <style>\n",
              "    .colab-df-container {\n",
              "      display:flex;\n",
              "      gap: 12px;\n",
              "    }\n",
              "\n",
              "    .colab-df-convert {\n",
              "      background-color: #E8F0FE;\n",
              "      border: none;\n",
              "      border-radius: 50%;\n",
              "      cursor: pointer;\n",
              "      display: none;\n",
              "      fill: #1967D2;\n",
              "      height: 32px;\n",
              "      padding: 0 0 0 0;\n",
              "      width: 32px;\n",
              "    }\n",
              "\n",
              "    .colab-df-convert:hover {\n",
              "      background-color: #E2EBFA;\n",
              "      box-shadow: 0px 1px 2px rgba(60, 64, 67, 0.3), 0px 1px 3px 1px rgba(60, 64, 67, 0.15);\n",
              "      fill: #174EA6;\n",
              "    }\n",
              "\n",
              "    .colab-df-buttons div {\n",
              "      margin-bottom: 4px;\n",
              "    }\n",
              "\n",
              "    [theme=dark] .colab-df-convert {\n",
              "      background-color: #3B4455;\n",
              "      fill: #D2E3FC;\n",
              "    }\n",
              "\n",
              "    [theme=dark] .colab-df-convert:hover {\n",
              "      background-color: #434B5C;\n",
              "      box-shadow: 0px 1px 3px 1px rgba(0, 0, 0, 0.15);\n",
              "      filter: drop-shadow(0px 1px 2px rgba(0, 0, 0, 0.3));\n",
              "      fill: #FFFFFF;\n",
              "    }\n",
              "  </style>\n",
              "\n",
              "    <script>\n",
              "      const buttonEl =\n",
              "        document.querySelector('#df-01fee790-2779-40fd-9f9d-50f1c2a99c90 button.colab-df-convert');\n",
              "      buttonEl.style.display =\n",
              "        google.colab.kernel.accessAllowed ? 'block' : 'none';\n",
              "\n",
              "      async function convertToInteractive(key) {\n",
              "        const element = document.querySelector('#df-01fee790-2779-40fd-9f9d-50f1c2a99c90');\n",
              "        const dataTable =\n",
              "          await google.colab.kernel.invokeFunction('convertToInteractive',\n",
              "                                                    [key], {});\n",
              "        if (!dataTable) return;\n",
              "\n",
              "        const docLinkHtml = 'Like what you see? Visit the ' +\n",
              "          '<a target=\"_blank\" href=https://colab.research.google.com/notebooks/data_table.ipynb>data table notebook</a>'\n",
              "          + ' to learn more about interactive tables.';\n",
              "        element.innerHTML = '';\n",
              "        dataTable['output_type'] = 'display_data';\n",
              "        await google.colab.output.renderOutput(dataTable, element);\n",
              "        const docLink = document.createElement('div');\n",
              "        docLink.innerHTML = docLinkHtml;\n",
              "        element.appendChild(docLink);\n",
              "      }\n",
              "    </script>\n",
              "  </div>\n",
              "\n",
              "\n",
              "    <div id=\"df-9e199989-ac1b-4566-bb4a-2ab69a104d32\">\n",
              "      <button class=\"colab-df-quickchart\" onclick=\"quickchart('df-9e199989-ac1b-4566-bb4a-2ab69a104d32')\"\n",
              "                title=\"Suggest charts\"\n",
              "                style=\"display:none;\">\n",
              "\n",
              "<svg xmlns=\"http://www.w3.org/2000/svg\" height=\"24px\"viewBox=\"0 0 24 24\"\n",
              "     width=\"24px\">\n",
              "    <g>\n",
              "        <path d=\"M19 3H5c-1.1 0-2 .9-2 2v14c0 1.1.9 2 2 2h14c1.1 0 2-.9 2-2V5c0-1.1-.9-2-2-2zM9 17H7v-7h2v7zm4 0h-2V7h2v10zm4 0h-2v-4h2v4z\"/>\n",
              "    </g>\n",
              "</svg>\n",
              "      </button>\n",
              "\n",
              "<style>\n",
              "  .colab-df-quickchart {\n",
              "      --bg-color: #E8F0FE;\n",
              "      --fill-color: #1967D2;\n",
              "      --hover-bg-color: #E2EBFA;\n",
              "      --hover-fill-color: #174EA6;\n",
              "      --disabled-fill-color: #AAA;\n",
              "      --disabled-bg-color: #DDD;\n",
              "  }\n",
              "\n",
              "  [theme=dark] .colab-df-quickchart {\n",
              "      --bg-color: #3B4455;\n",
              "      --fill-color: #D2E3FC;\n",
              "      --hover-bg-color: #434B5C;\n",
              "      --hover-fill-color: #FFFFFF;\n",
              "      --disabled-bg-color: #3B4455;\n",
              "      --disabled-fill-color: #666;\n",
              "  }\n",
              "\n",
              "  .colab-df-quickchart {\n",
              "    background-color: var(--bg-color);\n",
              "    border: none;\n",
              "    border-radius: 50%;\n",
              "    cursor: pointer;\n",
              "    display: none;\n",
              "    fill: var(--fill-color);\n",
              "    height: 32px;\n",
              "    padding: 0;\n",
              "    width: 32px;\n",
              "  }\n",
              "\n",
              "  .colab-df-quickchart:hover {\n",
              "    background-color: var(--hover-bg-color);\n",
              "    box-shadow: 0 1px 2px rgba(60, 64, 67, 0.3), 0 1px 3px 1px rgba(60, 64, 67, 0.15);\n",
              "    fill: var(--button-hover-fill-color);\n",
              "  }\n",
              "\n",
              "  .colab-df-quickchart-complete:disabled,\n",
              "  .colab-df-quickchart-complete:disabled:hover {\n",
              "    background-color: var(--disabled-bg-color);\n",
              "    fill: var(--disabled-fill-color);\n",
              "    box-shadow: none;\n",
              "  }\n",
              "\n",
              "  .colab-df-spinner {\n",
              "    border: 2px solid var(--fill-color);\n",
              "    border-color: transparent;\n",
              "    border-bottom-color: var(--fill-color);\n",
              "    animation:\n",
              "      spin 1s steps(1) infinite;\n",
              "  }\n",
              "\n",
              "  @keyframes spin {\n",
              "    0% {\n",
              "      border-color: transparent;\n",
              "      border-bottom-color: var(--fill-color);\n",
              "      border-left-color: var(--fill-color);\n",
              "    }\n",
              "    20% {\n",
              "      border-color: transparent;\n",
              "      border-left-color: var(--fill-color);\n",
              "      border-top-color: var(--fill-color);\n",
              "    }\n",
              "    30% {\n",
              "      border-color: transparent;\n",
              "      border-left-color: var(--fill-color);\n",
              "      border-top-color: var(--fill-color);\n",
              "      border-right-color: var(--fill-color);\n",
              "    }\n",
              "    40% {\n",
              "      border-color: transparent;\n",
              "      border-right-color: var(--fill-color);\n",
              "      border-top-color: var(--fill-color);\n",
              "    }\n",
              "    60% {\n",
              "      border-color: transparent;\n",
              "      border-right-color: var(--fill-color);\n",
              "    }\n",
              "    80% {\n",
              "      border-color: transparent;\n",
              "      border-right-color: var(--fill-color);\n",
              "      border-bottom-color: var(--fill-color);\n",
              "    }\n",
              "    90% {\n",
              "      border-color: transparent;\n",
              "      border-bottom-color: var(--fill-color);\n",
              "    }\n",
              "  }\n",
              "</style>\n",
              "\n",
              "      <script>\n",
              "        async function quickchart(key) {\n",
              "          const quickchartButtonEl =\n",
              "            document.querySelector('#' + key + ' button');\n",
              "          quickchartButtonEl.disabled = true;  // To prevent multiple clicks.\n",
              "          quickchartButtonEl.classList.add('colab-df-spinner');\n",
              "          try {\n",
              "            const charts = await google.colab.kernel.invokeFunction(\n",
              "                'suggestCharts', [key], {});\n",
              "          } catch (error) {\n",
              "            console.error('Error during call to suggestCharts:', error);\n",
              "          }\n",
              "          quickchartButtonEl.classList.remove('colab-df-spinner');\n",
              "          quickchartButtonEl.classList.add('colab-df-quickchart-complete');\n",
              "        }\n",
              "        (() => {\n",
              "          let quickchartButtonEl =\n",
              "            document.querySelector('#df-9e199989-ac1b-4566-bb4a-2ab69a104d32 button');\n",
              "          quickchartButtonEl.style.display =\n",
              "            google.colab.kernel.accessAllowed ? 'block' : 'none';\n",
              "        })();\n",
              "      </script>\n",
              "    </div>\n",
              "\n",
              "    </div>\n",
              "  </div>\n"
            ],
            "application/vnd.google.colaboratory.intrinsic+json": {
              "type": "dataframe",
              "summary": "{\n  \"name\": \"titanic\",\n  \"rows\": 8,\n  \"fields\": [\n    {\n      \"column\": \"survived\",\n      \"properties\": {\n        \"dtype\": \"number\",\n        \"std\": 314.8713661874558,\n        \"min\": 0.0,\n        \"max\": 891.0,\n        \"num_unique_values\": 5,\n        \"samples\": [\n          0.3838383838383838,\n          1.0,\n          0.4865924542648585\n        ],\n        \"semantic_type\": \"\",\n        \"description\": \"\"\n      }\n    },\n    {\n      \"column\": \"pclass\",\n      \"properties\": {\n        \"dtype\": \"number\",\n        \"std\": 314.2523437079693,\n        \"min\": 0.8360712409770513,\n        \"max\": 891.0,\n        \"num_unique_values\": 6,\n        \"samples\": [\n          891.0,\n          2.308641975308642,\n          3.0\n        ],\n        \"semantic_type\": \"\",\n        \"description\": \"\"\n      }\n    },\n    {\n      \"column\": \"age\",\n      \"properties\": {\n        \"dtype\": \"number\",\n        \"std\": 242.9056731818781,\n        \"min\": 0.42,\n        \"max\": 714.0,\n        \"num_unique_values\": 8,\n        \"samples\": [\n          29.69911764705882,\n          28.0,\n          714.0\n        ],\n        \"semantic_type\": \"\",\n        \"description\": \"\"\n      }\n    },\n    {\n      \"column\": \"sibsp\",\n      \"properties\": {\n        \"dtype\": \"number\",\n        \"std\": 314.4908277465442,\n        \"min\": 0.0,\n        \"max\": 891.0,\n        \"num_unique_values\": 6,\n        \"samples\": [\n          891.0,\n          0.5230078563411896,\n          8.0\n        ],\n        \"semantic_type\": \"\",\n        \"description\": \"\"\n      }\n    },\n    {\n      \"column\": \"parch\",\n      \"properties\": {\n        \"dtype\": \"number\",\n        \"std\": 314.65971717879,\n        \"min\": 0.0,\n        \"max\": 891.0,\n        \"num_unique_values\": 5,\n        \"samples\": [\n          0.38159371492704824,\n          6.0,\n          0.8060572211299559\n        ],\n        \"semantic_type\": \"\",\n        \"description\": \"\"\n      }\n    },\n    {\n      \"column\": \"fare\",\n      \"properties\": {\n        \"dtype\": \"number\",\n        \"std\": 330.6256632228577,\n        \"min\": 0.0,\n        \"max\": 891.0,\n        \"num_unique_values\": 8,\n        \"samples\": [\n          32.204207968574636,\n          14.4542,\n          891.0\n        ],\n        \"semantic_type\": \"\",\n        \"description\": \"\"\n      }\n    }\n  ]\n}"
            }
          },
          "metadata": {},
          "execution_count": 7
        }
      ],
      "source": [
        "# Estadísticas descriptivas de las variables numéricas\n",
        "print(\"Estadísticas descriptivas de las variables numéricas:\")\n",
        "titanic.describe()"
      ]
    },
    {
      "cell_type": "code",
      "execution_count": 8,
      "metadata": {
        "colab": {
          "base_uri": "https://localhost:8080/",
          "height": 572
        },
        "id": "rFNM1q_0fkvn",
        "outputId": "b5dd70b5-6a56-4708-c971-e89922eb7172"
      },
      "outputs": [
        {
          "output_type": "stream",
          "name": "stdout",
          "text": [
            "Cantidad de valores faltantes por columna:\n"
          ]
        },
        {
          "output_type": "execute_result",
          "data": {
            "text/plain": [
              "survived         0\n",
              "pclass           0\n",
              "sex              0\n",
              "age            177\n",
              "sibsp            0\n",
              "parch            0\n",
              "fare             0\n",
              "embarked         2\n",
              "class            0\n",
              "who              0\n",
              "adult_male       0\n",
              "deck           688\n",
              "embark_town      2\n",
              "alive            0\n",
              "alone            0\n",
              "dtype: int64"
            ],
            "text/html": [
              "<div>\n",
              "<style scoped>\n",
              "    .dataframe tbody tr th:only-of-type {\n",
              "        vertical-align: middle;\n",
              "    }\n",
              "\n",
              "    .dataframe tbody tr th {\n",
              "        vertical-align: top;\n",
              "    }\n",
              "\n",
              "    .dataframe thead th {\n",
              "        text-align: right;\n",
              "    }\n",
              "</style>\n",
              "<table border=\"1\" class=\"dataframe\">\n",
              "  <thead>\n",
              "    <tr style=\"text-align: right;\">\n",
              "      <th></th>\n",
              "      <th>0</th>\n",
              "    </tr>\n",
              "  </thead>\n",
              "  <tbody>\n",
              "    <tr>\n",
              "      <th>survived</th>\n",
              "      <td>0</td>\n",
              "    </tr>\n",
              "    <tr>\n",
              "      <th>pclass</th>\n",
              "      <td>0</td>\n",
              "    </tr>\n",
              "    <tr>\n",
              "      <th>sex</th>\n",
              "      <td>0</td>\n",
              "    </tr>\n",
              "    <tr>\n",
              "      <th>age</th>\n",
              "      <td>177</td>\n",
              "    </tr>\n",
              "    <tr>\n",
              "      <th>sibsp</th>\n",
              "      <td>0</td>\n",
              "    </tr>\n",
              "    <tr>\n",
              "      <th>parch</th>\n",
              "      <td>0</td>\n",
              "    </tr>\n",
              "    <tr>\n",
              "      <th>fare</th>\n",
              "      <td>0</td>\n",
              "    </tr>\n",
              "    <tr>\n",
              "      <th>embarked</th>\n",
              "      <td>2</td>\n",
              "    </tr>\n",
              "    <tr>\n",
              "      <th>class</th>\n",
              "      <td>0</td>\n",
              "    </tr>\n",
              "    <tr>\n",
              "      <th>who</th>\n",
              "      <td>0</td>\n",
              "    </tr>\n",
              "    <tr>\n",
              "      <th>adult_male</th>\n",
              "      <td>0</td>\n",
              "    </tr>\n",
              "    <tr>\n",
              "      <th>deck</th>\n",
              "      <td>688</td>\n",
              "    </tr>\n",
              "    <tr>\n",
              "      <th>embark_town</th>\n",
              "      <td>2</td>\n",
              "    </tr>\n",
              "    <tr>\n",
              "      <th>alive</th>\n",
              "      <td>0</td>\n",
              "    </tr>\n",
              "    <tr>\n",
              "      <th>alone</th>\n",
              "      <td>0</td>\n",
              "    </tr>\n",
              "  </tbody>\n",
              "</table>\n",
              "</div><br><label><b>dtype:</b> int64</label>"
            ]
          },
          "metadata": {},
          "execution_count": 8
        }
      ],
      "source": [
        "# Verificamos los valores faltantes en cada columna\n",
        "print(\"Cantidad de valores faltantes por columna:\")\n",
        "titanic.isnull().sum()"
      ]
    },
    {
      "cell_type": "markdown",
      "metadata": {
        "id": "zLQZrD__fkvo"
      },
      "source": [
        "Visualicemos la distribución de algunas variables importantes para entender mejor nuestros datos."
      ]
    },
    {
      "cell_type": "code",
      "execution_count": 31,
      "metadata": {
        "colab": {
          "base_uri": "https://localhost:8080/",
          "height": 419
        },
        "id": "cM0uCoAxfkvo",
        "outputId": "7db631c1-f661-4996-bd46-f628b61f7a04"
      },
      "outputs": [
        {
          "output_type": "display_data",
          "data": {
            "text/plain": [
              "<Figure size 800x400 with 1 Axes>"
            ],
            "image/png": "[encoded data removed]"
          },
          "metadata": {}
        }
      ],
      "source": [
        "# Visualizamos la distribución de la variable objetivo (survived)\n",
        "plt.figure(figsize=(8, 4))\n",
        "ax = sns.countplot(data=titanic, x='survived')\n",
        "plt.title(\"Distribución de supervivientes\")\n",
        "plt.xlabel(\"Sobrevivió (1 = Sí, 0 = No)\")\n",
        "plt.ylabel(\"Cantidad de pasajeros\")\n",
        "\n",
        "# Añadimos etiquetas con los valores exactos\n",
        "for p in ax.patches:\n",
        "  ax.annotate(text=p.get_height(), xy=(p.get_x() + p.get_width() / 2., p.get_height()), ha='center', va='bottom')\n",
        "plt.show()"
      ]
    },
    {
      "cell_type": "code",
      "execution_count": 28,
      "metadata": {
        "colab": {
          "base_uri": "https://localhost:8080/",
          "height": 751
        },
        "id": "A2ZQBXLMfkvp",
        "outputId": "bd4bfb78-1598-487c-e2ea-10f279fac8fc"
      },
      "outputs": [
        {
          "output_type": "display_data",
          "data": {
            "text/plain": [
              "<Figure size 900x750 with 4 Axes>"
            ],
            "image/png": "[encoded data removed]"
          },
          "metadata": {}
        }
      ],
      "source": [
        "# Visualizamos la distribución de algunas variables categóricas\n",
        "plt.figure(figsize=(9, 7.5))\n",
        "\n",
        "# Clase\n",
        "plt.subplot(2, 2, 1)\n",
        "sns.countplot(x='pclass', data=titanic)\n",
        "plt.title(\"Distribución por clase\")\n",
        "plt.xlabel(\"Clase (1 = Primera, 2 = Segunda, 3 = Tercera)\")\n",
        "plt.ylabel(\"Cantidad de pasajeros\")\n",
        "\n",
        "# Género\n",
        "plt.subplot(2, 2, 2)\n",
        "sns.countplot(x='sex', data=titanic)\n",
        "plt.title(\"Distribución por género\")\n",
        "plt.xlabel(\"Género\")\n",
        "plt.ylabel(\"Cantidad de pasajeros\")\n",
        "\n",
        "# Puerto de embarque\n",
        "plt.subplot(2, 2, 3)\n",
        "sns.countplot(x='embarked', data=titanic)\n",
        "plt.title(\"Distribución por puerto de embarque\")\n",
        "plt.xlabel(\"Puerto (C = Cherbourg, Q = Queenstown, S = Southampton)\")\n",
        "plt.ylabel(\"Cantidad de pasajeros\")\n",
        "\n",
        "# Edad\n",
        "plt.subplot(2, 2, 4)\n",
        "sns.histplot(data=titanic, x='age', bins=30, kde=True)\n",
        "plt.title(\"Distribución de edades\")\n",
        "plt.xlabel(\"Edad\")\n",
        "plt.ylabel(\"Cantidad de pasajeros\")\n",
        "\n",
        "plt.tight_layout()\n",
        "plt.show()"
      ]
    },
    {
      "cell_type": "markdown",
      "metadata": {
        "id": "oI7J3sNCfkvp"
      },
      "source": [
        "## 3. Manejo de Valores Faltantes\n",
        "\n",
        "Como hemos visto, existen valores faltantes en nuestro conjunto de datos. El manejo adecuado de estos valores es crucial para evitar problemas en la fase de modelado. Vamos a explorar diferentes estrategias para tratar estos valores faltantes."
      ]
    },
    {
      "cell_type": "code",
      "execution_count": 36,
      "metadata": {
        "colab": {
          "base_uri": "https://localhost:8080/",
          "height": 395
        },
        "id": "90W8K_ILfkvq",
        "outputId": "a80499bf-ccf0-4e16-93e7-a7ec6ed30d29"
      },
      "outputs": [
        {
          "output_type": "display_data",
          "data": {
            "text/plain": [
              "<Figure size 800x400 with 1 Axes>"
            ],
            "image/png": "[encoded data removed]"
          },
          "metadata": {}
        }
      ],
      "source": [
        "# Creamos una copia del conjunto de datos para no modificar el original\n",
        "df = titanic.copy()\n",
        "\n",
        "# Simplificamos el conjunto de datos para enfocarnos en las columnas más relevantes\n",
        "df = df[['survived', 'pclass', 'sex', 'age', 'sibsp', 'parch', 'fare', 'embarked']]\n",
        "\n",
        "# Visualizamos los valores faltantes\n",
        "plt.figure(figsize=(8, 4))\n",
        "sns.heatmap(df.isnull(), cbar=False, yticklabels=False, cmap='viridis')\n",
        "plt.title(\"Valores faltantes en el conjunto de datos\")\n",
        "plt.show()"
      ]
    },
    {
      "cell_type": "markdown",
      "metadata": {
        "id": "usUYw-8rfkvq"
      },
      "source": [
        "### 3.1. Estrategia 1: Imputación con valores constantes\n",
        "\n",
        "Una estrategia simple es reemplazar los valores faltantes con un valor constante como la media, mediana o moda. Scikit-learn proporciona la clase `SimpleImputer` para esta tarea."
      ]
    },
    {
      "cell_type": "code",
      "execution_count": 37,
      "metadata": {
        "id": "jNIl-FQQfkvq"
      },
      "outputs": [],
      "source": [
        "# Imputación de la edad con la media\n",
        "df_imputed_mean = df.copy()\n",
        "\n",
        "imputer_mean = SimpleImputer(strategy='mean')\n",
        "df_imputed_mean['age'] = imputer_mean.fit_transform(df[['age']])"
      ]
    },
    {
      "cell_type": "code",
      "source": [
        "df[['embarked']]"
      ],
      "metadata": {
        "colab": {
          "base_uri": "https://localhost:8080/",
          "height": 424
        },
        "id": "DEExOHiGMRIv",
        "outputId": "a840ec39-5568-421c-822c-493e6771c7aa"
      },
      "execution_count": 38,
      "outputs": [
        {
          "output_type": "execute_result",
          "data": {
            "text/plain": [
              "    embarked\n",
              "0          S\n",
              "1          C\n",
              "2          S\n",
              "3          S\n",
              "4          S\n",
              "..       ...\n",
              "886        S\n",
              "887        S\n",
              "888        S\n",
              "889        C\n",
              "890        Q\n",
              "\n",
              "[891 rows x 1 columns]"
            ],
            "text/html": [
              "\n",
              "  <div id=\"df-c363a431-77d4-4897-bfdf-4f08de044d3d\" class=\"colab-df-container\">\n",
              "    <div>\n",
              "<style scoped>\n",
              "    .dataframe tbody tr th:only-of-type {\n",
              "        vertical-align: middle;\n",
              "    }\n",
              "\n",
              "    .dataframe tbody tr th {\n",
              "        vertical-align: top;\n",
              "    }\n",
              "\n",
              "    .dataframe thead th {\n",
              "        text-align: right;\n",
              "    }\n",
              "</style>\n",
              "<table border=\"1\" class=\"dataframe\">\n",
              "  <thead>\n",
              "    <tr style=\"text-align: right;\">\n",
              "      <th></th>\n",
              "      <th>embarked</th>\n",
              "    </tr>\n",
              "  </thead>\n",
              "  <tbody>\n",
              "    <tr>\n",
              "      <th>0</th>\n",
              "      <td>S</td>\n",
              "    </tr>\n",
              "    <tr>\n",
              "      <th>1</th>\n",
              "      <td>C</td>\n",
              "    </tr>\n",
              "    <tr>\n",
              "      <th>2</th>\n",
              "      <td>S</td>\n",
              "    </tr>\n",
              "    <tr>\n",
              "      <th>3</th>\n",
              "      <td>S</td>\n",
              "    </tr>\n",
              "    <tr>\n",
              "      <th>4</th>\n",
              "      <td>S</td>\n",
              "    </tr>\n",
              "    <tr>\n",
              "      <th>...</th>\n",
              "      <td>...</td>\n",
              "    </tr>\n",
              "    <tr>\n",
              "      <th>886</th>\n",
              "      <td>S</td>\n",
              "    </tr>\n",
              "    <tr>\n",
              "      <th>887</th>\n",
              "      <td>S</td>\n",
              "    </tr>\n",
              "    <tr>\n",
              "      <th>888</th>\n",
              "      <td>S</td>\n",
              "    </tr>\n",
              "    <tr>\n",
              "      <th>889</th>\n",
              "      <td>C</td>\n",
              "    </tr>\n",
              "    <tr>\n",
              "      <th>890</th>\n",
              "      <td>Q</td>\n",
              "    </tr>\n",
              "  </tbody>\n",
              "</table>\n",
              "<p>891 rows × 1 columns</p>\n",
              "</div>\n",
              "    <div class=\"colab-df-buttons\">\n",
              "\n",
              "  <div class=\"colab-df-container\">\n",
              "    <button class=\"colab-df-convert\" onclick=\"convertToInteractive('df-c363a431-77d4-4897-bfdf-4f08de044d3d')\"\n",
              "            title=\"Convert this dataframe to an interactive table.\"\n",
              "            style=\"display:none;\">\n",
              "\n",
              "  <svg xmlns=\"http://www.w3.org/2000/svg\" height=\"24px\" viewBox=\"0 -960 960 960\">\n",
              "    <path d=\"M120-120v-720h720v720H120Zm60-500h600v-160H180v160Zm220 220h160v-160H400v160Zm0 220h160v-160H400v160ZM180-400h160v-160H180v160Zm440 0h160v-160H620v160ZM180-180h160v-160H180v160Zm440 0h160v-160H620v160Z\"/>\n",
              "  </svg>\n",
              "    </button>\n",
              "\n",
              "  <style>\n",
              "    .colab-df-container {\n",
              "      display:flex;\n",
              "      gap: 12px;\n",
              "    }\n",
              "\n",
              "    .colab-df-convert {\n",
              "      background-color: #E8F0FE;\n",
              "      border: none;\n",
              "      border-radius: 50%;\n",
              "      cursor: pointer;\n",
              "      display: none;\n",
              "      fill: #1967D2;\n",
              "      height: 32px;\n",
              "      padding: 0 0 0 0;\n",
              "      width: 32px;\n",
              "    }\n",
              "\n",
              "    .colab-df-convert:hover {\n",
              "      background-color: #E2EBFA;\n",
              "      box-shadow: 0px 1px 2px rgba(60, 64, 67, 0.3), 0px 1px 3px 1px rgba(60, 64, 67, 0.15);\n",
              "      fill: #174EA6;\n",
              "    }\n",
              "\n",
              "    .colab-df-buttons div {\n",
              "      margin-bottom: 4px;\n",
              "    }\n",
              "\n",
              "    [theme=dark] .colab-df-convert {\n",
              "      background-color: #3B4455;\n",
              "      fill: #D2E3FC;\n",
              "    }\n",
              "\n",
              "    [theme=dark] .colab-df-convert:hover {\n",
              "      background-color: #434B5C;\n",
              "      box-shadow: 0px 1px 3px 1px rgba(0, 0, 0, 0.15);\n",
              "      filter: drop-shadow(0px 1px 2px rgba(0, 0, 0, 0.3));\n",
              "      fill: #FFFFFF;\n",
              "    }\n",
              "  </style>\n",
              "\n",
              "    <script>\n",
              "      const buttonEl =\n",
              "        document.querySelector('#df-c363a431-77d4-4897-bfdf-4f08de044d3d button.colab-df-convert');\n",
              "      buttonEl.style.display =\n",
              "        google.colab.kernel.accessAllowed ? 'block' : 'none';\n",
              "\n",
              "      async function convertToInteractive(key) {\n",
              "        const element = document.querySelector('#df-c363a431-77d4-4897-bfdf-4f08de044d3d');\n",
              "        const dataTable =\n",
              "          await google.colab.kernel.invokeFunction('convertToInteractive',\n",
              "                                                    [key], {});\n",
              "        if (!dataTable) return;\n",
              "\n",
              "        const docLinkHtml = 'Like what you see? Visit the ' +\n",
              "          '<a target=\"_blank\" href=https://colab.research.google.com/notebooks/data_table.ipynb>data table notebook</a>'\n",
              "          + ' to learn more about interactive tables.';\n",
              "        element.innerHTML = '';\n",
              "        dataTable['output_type'] = 'display_data';\n",
              "        await google.colab.output.renderOutput(dataTable, element);\n",
              "        const docLink = document.createElement('div');\n",
              "        docLink.innerHTML = docLinkHtml;\n",
              "        element.appendChild(docLink);\n",
              "      }\n",
              "    </script>\n",
              "  </div>\n",
              "\n",
              "\n",
              "    <div id=\"df-aba614bb-f1eb-4142-b37e-854e97cd3410\">\n",
              "      <button class=\"colab-df-quickchart\" onclick=\"quickchart('df-aba614bb-f1eb-4142-b37e-854e97cd3410')\"\n",
              "                title=\"Suggest charts\"\n",
              "                style=\"display:none;\">\n",
              "\n",
              "<svg xmlns=\"http://www.w3.org/2000/svg\" height=\"24px\"viewBox=\"0 0 24 24\"\n",
              "     width=\"24px\">\n",
              "    <g>\n",
              "        <path d=\"M19 3H5c-1.1 0-2 .9-2 2v14c0 1.1.9 2 2 2h14c1.1 0 2-.9 2-2V5c0-1.1-.9-2-2-2zM9 17H7v-7h2v7zm4 0h-2V7h2v10zm4 0h-2v-4h2v4z\"/>\n",
              "    </g>\n",
              "</svg>\n",
              "      </button>\n",
              "\n",
              "<style>\n",
              "  .colab-df-quickchart {\n",
              "      --bg-color: #E8F0FE;\n",
              "      --fill-color: #1967D2;\n",
              "      --hover-bg-color: #E2EBFA;\n",
              "      --hover-fill-color: #174EA6;\n",
              "      --disabled-fill-color: #AAA;\n",
              "      --disabled-bg-color: #DDD;\n",
              "  }\n",
              "\n",
              "  [theme=dark] .colab-df-quickchart {\n",
              "      --bg-color: #3B4455;\n",
              "      --fill-color: #D2E3FC;\n",
              "      --hover-bg-color: #434B5C;\n",
              "      --hover-fill-color: #FFFFFF;\n",
              "      --disabled-bg-color: #3B4455;\n",
              "      --disabled-fill-color: #666;\n",
              "  }\n",
              "\n",
              "  .colab-df-quickchart {\n",
              "    background-color: var(--bg-color);\n",
              "    border: none;\n",
              "    border-radius: 50%;\n",
              "    cursor: pointer;\n",
              "    display: none;\n",
              "    fill: var(--fill-color);\n",
              "    height: 32px;\n",
              "    padding: 0;\n",
              "    width: 32px;\n",
              "  }\n",
              "\n",
              "  .colab-df-quickchart:hover {\n",
              "    background-color: var(--hover-bg-color);\n",
              "    box-shadow: 0 1px 2px rgba(60, 64, 67, 0.3), 0 1px 3px 1px rgba(60, 64, 67, 0.15);\n",
              "    fill: var(--button-hover-fill-color);\n",
              "  }\n",
              "\n",
              "  .colab-df-quickchart-complete:disabled,\n",
              "  .colab-df-quickchart-complete:disabled:hover {\n",
              "    background-color: var(--disabled-bg-color);\n",
              "    fill: var(--disabled-fill-color);\n",
              "    box-shadow: none;\n",
              "  }\n",
              "\n",
              "  .colab-df-spinner {\n",
              "    border: 2px solid var(--fill-color);\n",
              "    border-color: transparent;\n",
              "    border-bottom-color: var(--fill-color);\n",
              "    animation:\n",
              "      spin 1s steps(1) infinite;\n",
              "  }\n",
              "\n",
              "  @keyframes spin {\n",
              "    0% {\n",
              "      border-color: transparent;\n",
              "      border-bottom-color: var(--fill-color);\n",
              "      border-left-color: var(--fill-color);\n",
              "    }\n",
              "    20% {\n",
              "      border-color: transparent;\n",
              "      border-left-color: var(--fill-color);\n",
              "      border-top-color: var(--fill-color);\n",
              "    }\n",
              "    30% {\n",
              "      border-color: transparent;\n",
              "      border-left-color: var(--fill-color);\n",
              "      border-top-color: var(--fill-color);\n",
              "      border-right-color: var(--fill-color);\n",
              "    }\n",
              "    40% {\n",
              "      border-color: transparent;\n",
              "      border-right-color: var(--fill-color);\n",
              "      border-top-color: var(--fill-color);\n",
              "    }\n",
              "    60% {\n",
              "      border-color: transparent;\n",
              "      border-right-color: var(--fill-color);\n",
              "    }\n",
              "    80% {\n",
              "      border-color: transparent;\n",
              "      border-right-color: var(--fill-color);\n",
              "      border-bottom-color: var(--fill-color);\n",
              "    }\n",
              "    90% {\n",
              "      border-color: transparent;\n",
              "      border-bottom-color: var(--fill-color);\n",
              "    }\n",
              "  }\n",
              "</style>\n",
              "\n",
              "      <script>\n",
              "        async function quickchart(key) {\n",
              "          const quickchartButtonEl =\n",
              "            document.querySelector('#' + key + ' button');\n",
              "          quickchartButtonEl.disabled = true;  // To prevent multiple clicks.\n",
              "          quickchartButtonEl.classList.add('colab-df-spinner');\n",
              "          try {\n",
              "            const charts = await google.colab.kernel.invokeFunction(\n",
              "                'suggestCharts', [key], {});\n",
              "          } catch (error) {\n",
              "            console.error('Error during call to suggestCharts:', error);\n",
              "          }\n",
              "          quickchartButtonEl.classList.remove('colab-df-spinner');\n",
              "          quickchartButtonEl.classList.add('colab-df-quickchart-complete');\n",
              "        }\n",
              "        (() => {\n",
              "          let quickchartButtonEl =\n",
              "            document.querySelector('#df-aba614bb-f1eb-4142-b37e-854e97cd3410 button');\n",
              "          quickchartButtonEl.style.display =\n",
              "            google.colab.kernel.accessAllowed ? 'block' : 'none';\n",
              "        })();\n",
              "      </script>\n",
              "    </div>\n",
              "\n",
              "    </div>\n",
              "  </div>\n"
            ],
            "application/vnd.google.colaboratory.intrinsic+json": {
              "type": "dataframe",
              "summary": "{\n  \"name\": \"df[['embarked']]\",\n  \"rows\": 891,\n  \"fields\": [\n    {\n      \"column\": \"embarked\",\n      \"properties\": {\n        \"dtype\": \"category\",\n        \"num_unique_values\": 3,\n        \"samples\": [\n          \"S\",\n          \"C\",\n          \"Q\"\n        ],\n        \"semantic_type\": \"\",\n        \"description\": \"\"\n      }\n    }\n  ]\n}"
            }
          },
          "metadata": {},
          "execution_count": 38
        }
      ]
    },
    {
      "cell_type": "code",
      "source": [
        "# Imputación del puerto de embarque con la moda\n",
        "# imputer_mode = SimpleImputer(strategy='most_frequent')\n",
        "# df_imputed_mean['embarked'] = imputer_mode.fit_transform(df[['embarked']])\n",
        "# para solucionar el error que tira este bloque, agregué el 'ravel()' que se ve abajo."
      ],
      "metadata": {
        "id": "Tt2t8FXrf5XG"
      },
      "execution_count": null,
      "outputs": []
    },
    {
      "cell_type": "code",
      "source": [
        "# Imputación del puerto de embarque con la moda\n",
        "imputer_mode = SimpleImputer(strategy='most_frequent')\n",
        "\n",
        "# El imputer_mode.fit_transform() retorna array 2D (matriz), se necesita aplanarlo a un array 1D para asignarlo a una columna de Pandas\n",
        "df_imputed_mean['embarked'] = imputer_mode.fit_transform(df[['embarked']]).ravel()\n",
        "\n",
        "# otra opción:\n",
        "# df_imputed_mean['embarked'] = imputer_mode.fit_transform(df[['embarked']])[:, 0] # columna en el indice 0"
      ],
      "metadata": {
        "id": "zxTY6L-0gIVK"
      },
      "execution_count": 48,
      "outputs": []
    },
    {
      "cell_type": "code",
      "source": [
        "# Verificamos que no haya valores faltantes\n",
        "print(\"Valores faltantes después de la imputación:\")\n",
        "print(df_imputed_mean.isnull().sum())"
      ],
      "metadata": {
        "colab": {
          "base_uri": "https://localhost:8080/"
        },
        "id": "6bu5UTB7f74t",
        "outputId": "e3b90a2f-3b8a-48f7-efa9-84d0bf32b55c"
      },
      "execution_count": 49,
      "outputs": [
        {
          "output_type": "stream",
          "name": "stdout",
          "text": [
            "Valores faltantes después de la imputación:\n",
            "survived    0\n",
            "pclass      0\n",
            "sex         0\n",
            "age         0\n",
            "sibsp       0\n",
            "parch       0\n",
            "fare        0\n",
            "embarked    0\n",
            "dtype: int64\n"
          ]
        }
      ]
    },
    {
      "cell_type": "markdown",
      "metadata": {
        "id": "w0u7iEw3fkvr"
      },
      "source": [
        "### 3.2. Estrategia 2: Imputación basada en KNN\n",
        "\n",
        "Otra estrategia más sofisticada es usar el algoritmo de K vecinos más cercanos (KNN) para imputar valores faltantes basados en registros similares. Scikit-learn proporciona la clase `KNNImputer` para esta tarea."
      ]
    },
    {
      "cell_type": "code",
      "execution_count": 51,
      "metadata": {
        "colab": {
          "base_uri": "https://localhost:8080/"
        },
        "id": "fo5rqg9Ufkvr",
        "outputId": "b7ec74e0-47ef-43a0-c7b9-89f52dfe0b26"
      },
      "outputs": [
        {
          "output_type": "stream",
          "name": "stdout",
          "text": [
            "Valores faltantes después de la imputación KNN:\n",
            "survived    0\n",
            "pclass      0\n",
            "sex         0\n",
            "age         0\n",
            "sibsp       0\n",
            "parch       0\n",
            "fare        0\n",
            "embarked    0\n",
            "dtype: int64\n"
          ]
        }
      ],
      "source": [
        "# Primero, necesitamos codificar las variables categóricas para usar KNNImputer\n",
        "df_knn = df.copy()\n",
        "df_knn['sex'] = df_knn['sex'].map({'male': 0, 'female': 1})\n",
        "df_knn['embarked'] = df_knn['embarked'].map({'C': 0, 'Q': 1, 'S': 2})\n",
        "\n",
        "# Aplicamos KNNImputer\n",
        "imputer_knn = KNNImputer(n_neighbors=5)\n",
        "data = imputer_knn.fit_transform(df_knn)\n",
        "df_knn_imputed = pd.DataFrame(data, columns=df_knn.columns, index=df_knn.index)\n",
        "\n",
        "# Convertimos las columnas categóricas de vuelta a su forma original\n",
        "df_knn_imputed['sex'] = df_knn_imputed['sex'].round().map({0: 'male', 1: 'female'})\n",
        "df_knn_imputed['embarked'] = df_knn_imputed['embarked'].round().map({0: 'C', 1: 'Q', 2: 'S'})\n",
        "\n",
        "# Verificamos que no haya valores faltantes\n",
        "print(\"Valores faltantes después de la imputación KNN:\")\n",
        "print(df_knn_imputed.isnull().sum())"
      ]
    },
    {
      "cell_type": "markdown",
      "metadata": {
        "id": "oCAzi20efkvr"
      },
      "source": [
        "## 4. Codificación de Variables Categóricas\n",
        "\n",
        "La mayoría de los algoritmos de aprendizaje automático requieren que todas las variables sean numéricas. Por lo tanto, necesitamos convertir nuestras variables categóricas (como 'sex' y 'embarked') en representaciones numéricas."
      ]
    },
    {
      "cell_type": "markdown",
      "metadata": {
        "id": "u1SXYCvLfkvs"
      },
      "source": [
        "### 4.1. Label Encoding\n",
        "\n",
        "El Label Encoding convierte cada categoría en un valor numérico único. Es simple pero puede introducir un orden artificial entre categorías."
      ]
    },
    {
      "cell_type": "code",
      "execution_count": 52,
      "metadata": {
        "colab": {
          "base_uri": "https://localhost:8080/"
        },
        "id": "nUvwp5X8fkvs",
        "outputId": "01182f0d-8839-40a1-e5bc-b8f66ab09914"
      },
      "outputs": [
        {
          "output_type": "stream",
          "name": "stdout",
          "text": [
            "Conjunto de datos después de Label Encoding:\n",
            "   survived  pclass  sex   age  sibsp  parch     fare  embarked\n",
            "0         0       3    1  22.0      1      0   7.2500         2\n",
            "1         1       1    0  38.0      1      0  71.2833         0\n",
            "2         1       3    0  26.0      0      0   7.9250         2\n",
            "3         1       1    0  35.0      1      0  53.1000         2\n",
            "4         0       3    1  35.0      0      0   8.0500         2\n"
          ]
        }
      ],
      "source": [
        "# Aplicamos Label Encoding a las variables categóricas\n",
        "df_label = df_imputed_mean.copy()\n",
        "label_encoder = LabelEncoder()\n",
        "\n",
        "df_label['sex'] = label_encoder.fit_transform(df_label['sex'])\n",
        "df_label['embarked'] = label_encoder.fit_transform(df_label['embarked'])\n",
        "\n",
        "print(\"Conjunto de datos después de Label Encoding:\")\n",
        "print(df_label.head())"
      ]
    },
    {
      "cell_type": "markdown",
      "metadata": {
        "id": "V1XI-mV9fkvs"
      },
      "source": [
        "### 4.2. One-Hot Encoding\n",
        "\n",
        "El One-Hot Encoding crea una nueva columna binaria para cada categoría. Es más apropiado cuando no hay un orden inherente entre las categorías."
      ]
    },
    {
      "cell_type": "code",
      "execution_count": null,
      "metadata": {
        "colab": {
          "base_uri": "https://localhost:8080/"
        },
        "id": "CHr1UtlBfkvs",
        "outputId": "41160d6a-e92d-4f3b-d3f6-c806f57352c9"
      },
      "outputs": [
        {
          "output_type": "stream",
          "name": "stdout",
          "text": [
            "Conjunto de datos después de One-Hot Encoding:\n",
            "   survived  pclass   age  sibsp  parch     fare  sex_male  embarked_Q  \\\n",
            "0         0       3  22.0      1      0   7.2500      True       False   \n",
            "1         1       1  38.0      1      0  71.2833     False       False   \n",
            "2         1       3  26.0      0      0   7.9250     False       False   \n",
            "3         1       1  35.0      1      0  53.1000     False       False   \n",
            "4         0       3  35.0      0      0   8.0500      True       False   \n",
            "\n",
            "   embarked_S  \n",
            "0        True  \n",
            "1       False  \n",
            "2        True  \n",
            "3        True  \n",
            "4        True  \n"
          ]
        }
      ],
      "source": [
        "# Aplicamos One-Hot Encoding a las variables categóricas\n",
        "df_onehot = df_imputed_mean.copy()\n",
        "\n",
        "# One-Hot Encoding para 'sex'\n",
        "df_onehot = pd.get_dummies(df_onehot, columns=['sex'], drop_first=True)\n",
        "\n",
        "# One-Hot Encoding para 'embarked'\n",
        "df_onehot = pd.get_dummies(df_onehot, columns=['embarked'], drop_first=True)\n",
        "\n",
        "print(\"Conjunto de datos después de One-Hot Encoding:\")\n",
        "print(df_onehot.head())"
      ]
    },
    {
      "cell_type": "markdown",
      "metadata": {
        "id": "_mWBFUiffkvt"
      },
      "source": [
        "## 5. Escalado de Características\n",
        "\n",
        "Muchos algoritmos de aprendizaje automático funcionan mejor cuando las características tienen la misma escala. Vamos a explorar diferentes métodos de escalado."
      ]
    },
    {
      "cell_type": "markdown",
      "metadata": {
        "id": "bWt3l3Szfkvt"
      },
      "source": [
        "### 5.1. Estandarización (StandardScaler)\n",
        "\n",
        "La estandarización resta la media y divide por la desviación estándar, resultando en una distribución con media 0 y desviación estándar 1."
      ]
    },
    {
      "cell_type": "code",
      "execution_count": 57,
      "metadata": {
        "colab": {
          "base_uri": "https://localhost:8080/"
        },
        "id": "SJhvGfIbfkvt",
        "outputId": "5d5fb711-f134-4919-edc0-a7a4690760c8"
      },
      "outputs": [
        {
          "output_type": "stream",
          "name": "stdout",
          "text": [
            "Estadísticas descriptivas después de la estandarización:\n",
            "       pclass     sex     age   sibsp   parch    fare  embarked\n",
            "count  891.00  891.00  891.00  891.00  891.00  891.00    891.00\n",
            "mean    -0.00   -0.00    0.00    0.00    0.00    0.00     -0.00\n",
            "std      1.00    1.00    1.00    1.00    1.00    1.00      1.00\n",
            "min     -1.57   -1.36   -2.25   -0.47   -0.47   -0.65     -1.94\n",
            "25%     -0.37   -1.36   -0.59   -0.47   -0.47   -0.49     -0.68\n",
            "50%      0.83    0.74    0.00   -0.47   -0.47   -0.36      0.59\n",
            "75%      0.83    0.74    0.41    0.43   -0.47   -0.02      0.59\n",
            "max      0.83    0.74    3.87    6.78    6.97    9.67      0.59 \n",
            "\n",
            "     pclass       sex       age     sibsp     parch      fare  embarked\n",
            "0  0.827377  0.737695 -0.592481  0.432793 -0.473674 -0.502445  0.585954\n",
            "1 -1.566107 -1.355574  0.638789  0.432793 -0.473674  0.786845 -1.942303\n",
            "2  0.827377 -1.355574 -0.284663 -0.474545 -0.473674 -0.488854  0.585954\n",
            "3 -1.566107 -1.355574  0.407926  0.432793 -0.473674  0.420730  0.585954\n",
            "4  0.827377  0.737695  0.407926 -0.474545 -0.473674 -0.486337  0.585954\n"
          ]
        }
      ],
      "source": [
        "# Aplicamos StandardScaler a las variables numéricas\n",
        "df_standard = df_label.copy()\n",
        "scaler = StandardScaler()\n",
        "\n",
        "# Separamos variables objetivo y predictores\n",
        "X = df_standard.drop('survived', axis=1)  # axis=1 implica drop por columnas\n",
        "y = df_standard['survived']\n",
        "\n",
        "# Aplicamos el escalado\n",
        "X_scaled = scaler.fit_transform(X)\n",
        "X_scaled_df = pd.DataFrame(X_scaled, columns=X.columns, index=X.index)\n",
        "\n",
        "print(\"Estadísticas descriptivas después de la estandarización:\")\n",
        "print(X_scaled_df.describe().round(2), '\\n')\n",
        "print(X_scaled_df.head(5))"
      ]
    },
    {
      "cell_type": "markdown",
      "metadata": {
        "id": "3qX9keRKfkvt"
      },
      "source": [
        "### 5.2. Normalización (MinMaxScaler)\n",
        "\n",
        "La normalización escala las características a un rango específico, generalmente [0, 1]."
      ]
    },
    {
      "cell_type": "code",
      "execution_count": 60,
      "metadata": {
        "colab": {
          "base_uri": "https://localhost:8080/"
        },
        "id": "lpG5Opqkfkvu",
        "outputId": "1dd6ffc5-6f94-48fc-9d2d-bde3bdb07546"
      },
      "outputs": [
        {
          "output_type": "stream",
          "name": "stdout",
          "text": [
            "Estadísticas descriptivas después de la normalización Min-Max:\n",
            "       pclass     sex     age   sibsp   parch    fare  embarked\n",
            "count  891.00  891.00  891.00  891.00  891.00  891.00    891.00\n",
            "mean     0.65    0.65    0.37    0.07    0.06    0.06      0.77\n",
            "std      0.42    0.48    0.16    0.14    0.13    0.10      0.40\n",
            "min      0.00    0.00    0.00    0.00    0.00    0.00      0.00\n",
            "25%      0.50    0.00    0.27    0.00    0.00    0.02      0.50\n",
            "50%      1.00    1.00    0.37    0.00    0.00    0.03      1.00\n",
            "75%      1.00    1.00    0.43    0.12    0.00    0.06      1.00\n",
            "max      1.00    1.00    1.00    1.00    1.00    1.00      1.00 \n",
            "\n",
            "   pclass  sex       age  sibsp  parch      fare  embarked\n",
            "0     1.0  1.0  0.271174  0.125    0.0  0.014151       1.0\n",
            "1     0.0  0.0  0.472229  0.125    0.0  0.139136       0.0\n",
            "2     1.0  0.0  0.321438  0.000    0.0  0.015469       1.0\n",
            "3     0.0  0.0  0.434531  0.125    0.0  0.103644       1.0\n",
            "4     1.0  1.0  0.434531  0.000    0.0  0.015713       1.0\n"
          ]
        }
      ],
      "source": [
        "# Aplicamos MinMaxScaler a las variables numéricas\n",
        "df_minmax = df_label.copy()\n",
        "min_max_scaler = MinMaxScaler()\n",
        "\n",
        "# Separamos variables objetivo y predictores\n",
        "X = df_minmax.drop('survived', axis=1)\n",
        "y = df_minmax['survived']\n",
        "\n",
        "# Aplicamos el escalado\n",
        "X_minmax_scaled = min_max_scaler.fit_transform(X)\n",
        "X_minmax_scaled_df = pd.DataFrame(X_minmax_scaled, columns=X.columns, index=X.index)\n",
        "\n",
        "print(\"Estadísticas descriptivas después de la normalización Min-Max:\")\n",
        "print(X_minmax_scaled_df.describe().round(2), '\\n')\n",
        "print(X_minmax_scaled_df.head(5))"
      ]
    },
    {
      "cell_type": "markdown",
      "metadata": {
        "id": "Q4z3mqTNfkvu"
      },
      "source": [
        "### 5.3. Escalado Robusto (RobustScaler)\n",
        "\n",
        "El escalado robusto es menos sensible a los valores atípicos, utilizando estadísticas robustas como la mediana y el rango intercuartílico (IQR)."
      ]
    },
    {
      "cell_type": "code",
      "execution_count": 61,
      "metadata": {
        "colab": {
          "base_uri": "https://localhost:8080/"
        },
        "id": "wB7sWAynfkvu",
        "outputId": "bc3e7d59-1245-46a8-cd1c-e42f2d141b7e"
      },
      "outputs": [
        {
          "output_type": "stream",
          "name": "stdout",
          "text": [
            "Estadísticas descriptivas después del escalado robusto:\n",
            "       pclass     sex     age   sibsp   parch    fare  embarked\n",
            "count  891.00  891.00  891.00  891.00  891.00  891.00    891.00\n",
            "mean    -0.69   -0.35    0.00    0.52    0.38    0.77     -0.46\n",
            "std      0.84    0.48    1.00    1.10    0.81    2.15      0.79\n",
            "min     -2.00   -1.00   -2.25    0.00    0.00   -0.63     -2.00\n",
            "25%     -1.00   -1.00   -0.59    0.00    0.00   -0.28     -1.00\n",
            "50%      0.00    0.00    0.00    0.00    0.00    0.00      0.00\n",
            "75%      0.00    0.00    0.41    1.00    0.00    0.72      0.00\n",
            "max      0.00    0.00    3.87    8.00    6.00   21.56      0.00 \n",
            "\n",
            "   pclass  sex       age  sibsp  parch      fare  embarked\n",
            "0     0.0  0.0 -0.592240    1.0    0.0 -0.312011       0.0\n",
            "1    -2.0 -1.0  0.638529    1.0    0.0  2.461242      -2.0\n",
            "2     0.0 -1.0 -0.284548    0.0    0.0 -0.282777       0.0\n",
            "3    -2.0 -1.0  0.407760    1.0    0.0  1.673732       0.0\n",
            "4     0.0  0.0  0.407760    0.0    0.0 -0.277363       0.0\n"
          ]
        }
      ],
      "source": [
        "# Aplicamos RobustScaler a las variables numéricas\n",
        "df_robust = df_label.copy()\n",
        "robust_scaler = RobustScaler()\n",
        "\n",
        "# Separamos variables objetivo y predictores\n",
        "X = df_robust.drop('survived', axis=1)\n",
        "y = df_robust['survived']\n",
        "\n",
        "# Aplicamos el escalado\n",
        "X_robust_scaled = robust_scaler.fit_transform(X)\n",
        "X_robust_scaled_df = pd.DataFrame(X_robust_scaled, columns=X.columns, index=X.index)\n",
        "\n",
        "print(\"Estadísticas descriptivas después del escalado robusto:\")\n",
        "print(X_robust_scaled_df.describe().round(2), '\\n')\n",
        "print(X_robust_scaled_df.head(5))"
      ]
    },
    {
      "cell_type": "markdown",
      "metadata": {
        "id": "WuzkB8TIfkvv"
      },
      "source": [
        "## 6. Detección y Tratamiento de Valores Atípicos (Outliers)\n",
        "\n",
        "Los valores atípicos pueden afectar negativamente el rendimiento de muchos algoritmos. Vamos a explorar cómo detectarlos y tratarlos."
      ]
    },
    {
      "cell_type": "code",
      "execution_count": 62,
      "metadata": {
        "colab": {
          "base_uri": "https://localhost:8080/",
          "height": 419
        },
        "id": "vlmSsBSvfkvv",
        "outputId": "a048ecbc-2e9f-4e24-b9e3-57da2e7d8a01"
      },
      "outputs": [
        {
          "output_type": "display_data",
          "data": {
            "text/plain": [
              "<Figure size 800x400 with 1 Axes>"
            ],
            "image/png": "[encoded data removed]"
          },
          "metadata": {}
        }
      ],
      "source": [
        "# Visualizamos la distribución de la tarifa (fare) para detectar outliers\n",
        "plt.figure(figsize=(8, 4))\n",
        "sns.boxplot(x=df['fare'])\n",
        "plt.title(\"Distribución de la tarifa (fare) con outliers\")\n",
        "plt.show()"
      ]
    },
    {
      "cell_type": "markdown",
      "metadata": {
        "id": "YNTw_xCPfkvv"
      },
      "source": [
        "### 6.1. Detección de Outliers con IQR (Rango Intercuartílico)"
      ]
    },
    {
      "cell_type": "code",
      "execution_count": 67,
      "metadata": {
        "colab": {
          "base_uri": "https://localhost:8080/"
        },
        "id": "_7CD2_fFfkvw",
        "outputId": "177fed9b-742e-46ed-8d62-e09d18e41e79"
      },
      "outputs": [
        {
          "output_type": "stream",
          "name": "stdout",
          "text": [
            "Número de outliers en 'fare': 116\n",
            "Límite inferior: -26.72\n",
            "Límite superior: 65.63\n"
          ]
        }
      ],
      "source": [
        "# Función para detectar outliers basados en IQR\n",
        "def detect_outliers_iqr(data, column):\n",
        "  Q1 = data[column].quantile(0.25)\n",
        "  Q3 = data[column].quantile(0.75)\n",
        "  IQR = Q3 - Q1\n",
        "\n",
        "  lower_bound = Q1 - 1.5 * IQR  # bigote inferior\n",
        "  upper_bound = Q3 + 1.5 * IQR  # bigote superior\n",
        "\n",
        "  outliers = data[(data[column] < lower_bound) | (data[column] > upper_bound)]\n",
        "  return outliers, lower_bound, upper_bound\n",
        "\n",
        "# Detectamos outliers en la columna 'fare' (tarifa)\n",
        "outliers_fare, lower_bound, upper_bound = detect_outliers_iqr(df, 'fare')\n",
        "# print(outliers_fare)\n",
        "\n",
        "print(f\"Número de outliers en 'fare': { len(outliers_fare) }\")\n",
        "print(f\"Límite inferior: {lower_bound:.2f}\")\n",
        "print(f\"Límite superior: {upper_bound:.2f}\")"
      ]
    },
    {
      "cell_type": "markdown",
      "metadata": {
        "id": "lkY_0690fkvw"
      },
      "source": [
        "### 6.2. Detección de Outliers con Isolation Forest\n",
        "\n",
        "El algoritmo Isolation Forest es un método de detección de anomalías basado en árboles que aísla las observaciones identificando aquellas que son diferentes del resto."
      ]
    },
    {
      "cell_type": "code",
      "execution_count": 70,
      "metadata": {
        "colab": {
          "base_uri": "https://localhost:8080/"
        },
        "id": "X9HTrq5Rfkvw",
        "outputId": "95594d55-c898-4941-b6bb-f36298147ee2"
      },
      "outputs": [
        {
          "output_type": "stream",
          "name": "stdout",
          "text": [
            "Outliers detectados (Isolation Forest): 45\n",
            "Porcentaje de outliers: 5.05%\n"
          ]
        }
      ],
      "source": [
        "# Usamos Isolation Forest para detectar outliers\n",
        "# Seleccionamos solo columnas numéricas para el modelo\n",
        "numeric_cols = ['pclass', 'age', 'sibsp', 'parch', 'fare']\n",
        "X_numeric = df[numeric_cols].copy()\n",
        "\n",
        "# Aplicamos imputación para manejar valores faltantes\n",
        "simple_imputer = SimpleImputer(strategy='mean')\n",
        "X_numeric_imputed = simple_imputer.fit_transform(X_numeric)\n",
        "\n",
        "# Entrenamos el modelo Isolation Forest\n",
        "iso_forest = IsolationForest(contamination=0.05, random_state=42)\n",
        "outliers = iso_forest.fit_predict(X_numeric_imputed)\n",
        "\n",
        "# -1 para outliers, 1 para inliers\n",
        "df_outliers = df.copy()\n",
        "df_outliers['outlier'] = outliers\n",
        "\n",
        "print(f\"Outliers detectados (Isolation Forest): { sum(outliers == -1) }\")\n",
        "print(f\"Porcentaje de outliers: {sum(outliers == -1) / len(outliers) * 100:.2f}%\")"
      ]
    },
    {
      "cell_type": "markdown",
      "metadata": {
        "id": "GoaXSecAfkvx"
      },
      "source": [
        "### 6.3. Tratamiento de Outliers\n",
        "\n",
        "Existen varias estrategias para tratar los valores atípicos:\n",
        "1. Eliminarlos\n",
        "2. Reemplazarlos (capping)\n",
        "3. Transformarlos\n",
        "\n",
        "Vamos a implementar la estrategia de capping (limitación)."
      ]
    },
    {
      "cell_type": "code",
      "execution_count": 71,
      "metadata": {
        "colab": {
          "base_uri": "https://localhost:8080/",
          "height": 401
        },
        "id": "_gqBAFePfkvx",
        "outputId": "98d64b93-d9e0-4855-c4fa-279a3668f04f"
      },
      "outputs": [
        {
          "output_type": "display_data",
          "data": {
            "text/plain": [
              "<Figure size 800x400 with 2 Axes>"
            ],
            "image/png": "[encoded data removed]"
          },
          "metadata": {}
        }
      ],
      "source": [
        "# Aplicamos capping en la columna 'fare'\n",
        "df_capped = df.copy()\n",
        "df_capped['fare'] = df_capped['fare'].clip(lower=lower_bound, upper=upper_bound)\n",
        "\n",
        "# Visualizamos la distribución después del capping\n",
        "plt.figure(figsize=(8, 4))\n",
        "\n",
        "plt.subplot(1, 2, 1)\n",
        "sns.boxplot(x=df['fare'])\n",
        "plt.title(\"Distribución original de la tarifa\")\n",
        "\n",
        "plt.subplot(1, 2, 2)\n",
        "sns.boxplot(x=df_capped['fare'])\n",
        "plt.title(\"Distribución de la tarifa después del capping\")\n",
        "\n",
        "plt.tight_layout()\n",
        "plt.show()"
      ]
    },
    {
      "cell_type": "markdown",
      "metadata": {
        "id": "WY4cW5tTfkvy"
      },
      "source": [
        "## 7. Selección de Características\n",
        "\n",
        "La selección de características es el proceso de seleccionar un subconjunto de características relevantes para su uso en la construcción del modelo. Puede mejorar el rendimiento del modelo, reducir el sobreajuste y disminuir el tiempo de entrenamiento."
      ]
    },
    {
      "cell_type": "markdown",
      "metadata": {
        "id": "qjnnYFn_fkv9"
      },
      "source": [
        "### 7.1. Análisis de Correlación\n",
        "\n",
        "Una forma simple de identificar características relevantes es analizar su correlación con la variable objetivo."
      ]
    },
    {
      "cell_type": "code",
      "execution_count": 76,
      "metadata": {
        "colab": {
          "base_uri": "https://localhost:8080/",
          "height": 549
        },
        "id": "57DOhR6Sfkv9",
        "outputId": "6ce00e53-267e-4621-db9d-ac809ebdd24a"
      },
      "outputs": [
        {
          "output_type": "display_data",
          "data": {
            "text/plain": [
              "<Figure size 800x600 with 2 Axes>"
            ],
            "image/png": "[encoded data removed]"
          },
          "metadata": {}
        }
      ],
      "source": [
        "# Analizamos la correlación entre las variables\n",
        "df_corr = df_label.copy()\n",
        "\n",
        "# Matriz de correlación\n",
        "correlation_matrix = df_corr.corr()\n",
        "\n",
        "# Visualizamos la matriz de correlación\n",
        "plt.figure(figsize=(8, 6))\n",
        "sns.heatmap(correlation_matrix, annot=True, cmap='coolwarm', fmt=\".2f\", annot_kws={'size': 8})\n",
        "plt.title(\"Matriz de Correlación\")\n",
        "plt.show()"
      ]
    },
    {
      "cell_type": "code",
      "execution_count": null,
      "metadata": {
        "colab": {
          "base_uri": "https://localhost:8080/"
        },
        "id": "Vk6JQMRnfkv-",
        "outputId": "37ff92aa-8ce8-4f0c-b5de-70a83d5c4a52"
      },
      "outputs": [
        {
          "output_type": "stream",
          "name": "stdout",
          "text": [
            "Correlación de las variables con 'survived':\n",
            "survived    1.000000\n",
            "fare        0.257307\n",
            "parch       0.081629\n",
            "sibsp      -0.035322\n",
            "age        -0.069809\n",
            "embarked   -0.167675\n",
            "pclass     -0.338481\n",
            "sex        -0.543351\n",
            "Name: survived, dtype: float64\n"
          ]
        }
      ],
      "source": [
        "# Correlación con la variable objetivo (sobrevivir)\n",
        "correlations_with_target = correlation_matrix['survived'].sort_values(ascending=False)\n",
        "print(\"Correlación de las variables con 'survived':\")\n",
        "print(correlations_with_target)"
      ]
    },
    {
      "cell_type": "markdown",
      "metadata": {
        "id": "6bxCoEH-fkv-"
      },
      "source": [
        "### 7.2. Selección de características basada en estadísticas (SelectKBest)\n",
        "\n",
        "Scikit-learn proporciona herramientas para la selección automática de características basada en diferentes métricas estadísticas."
      ]
    },
    {
      "cell_type": "code",
      "execution_count": 78,
      "metadata": {
        "colab": {
          "base_uri": "https://localhost:8080/",
          "height": 562
        },
        "id": "dDaVkFftfkv_",
        "outputId": "8c2ca998-b21e-4319-9385-a0003f7bd33e"
      },
      "outputs": [
        {
          "output_type": "stream",
          "name": "stdout",
          "text": [
            "Puntuaciones de las características:\n",
            "    Feature       Score\n",
            "1       sex  372.405724\n",
            "0    pclass  115.031272\n",
            "5      fare   63.030764\n",
            "6  embarked   25.717286\n",
            "4     parch    5.963464\n",
            "2       age    4.353516\n",
            "3     sibsp    1.110572\n"
          ]
        },
        {
          "output_type": "display_data",
          "data": {
            "text/plain": [
              "<Figure size 800x400 with 1 Axes>"
            ],
            "image/png": "[encoded data removed]"
          },
          "metadata": {}
        }
      ],
      "source": [
        "# Seleccionamos las k mejores características usando la prueba F\n",
        "X = df_label.drop('survived', axis=1)\n",
        "y = df_label['survived']\n",
        "\n",
        "# Imputamos valores faltantes para poder aplicar SelectKBest\n",
        "simple_imputer = SimpleImputer(strategy='mean')\n",
        "X_imputed = simple_imputer.fit_transform(X)\n",
        "\n",
        "# Seleccionamos las 3 mejores características\n",
        "selector = SelectKBest(score_func=f_classif, k=3)\n",
        "X_selected = selector.fit_transform(X_imputed, y)\n",
        "\n",
        "# Obtenemos las puntuaciones y los nombres de las características seleccionadas\n",
        "scores = selector.scores_\n",
        "features = X.columns\n",
        "\n",
        "# Creamos un DataFrame para visualizar los resultados\n",
        "feature_scores = pd.DataFrame({'Feature': features, 'Score': scores})\n",
        "feature_scores = feature_scores.sort_values(by='Score', ascending=False)\n",
        "\n",
        "print(\"Puntuaciones de las características:\")\n",
        "print(feature_scores)\n",
        "\n",
        "# Visualizamos las puntuaciones\n",
        "plt.figure(figsize=(8, 4))\n",
        "sns.barplot(x='Feature', y='Score', data=feature_scores)\n",
        "plt.title(\"Puntuaciones de las características basadas en la prueba F\")\n",
        "plt.xticks(rotation=45)\n",
        "plt.tight_layout()\n",
        "plt.show()"
      ]
    },
    {
      "cell_type": "markdown",
      "metadata": {
        "id": "JVgKUrOLfkv_"
      },
      "source": [
        "## 8. Pipelines de Preprocesamiento\n",
        "\n",
        "Los pipelines en scikit-learn nos permiten encadenar múltiples pasos de preprocesamiento y el modelo final en una sola entidad, lo que facilita la aplicación coherente de las transformaciones tanto en los datos de entrenamiento como en los de prueba."
      ]
    },
    {
      "cell_type": "code",
      "execution_count": 80,
      "metadata": {
        "colab": {
          "base_uri": "https://localhost:8080/"
        },
        "id": "gNkI6I0Hfkv_",
        "outputId": "50b79305-7cee-4526-c5d6-c9b2608c7df1"
      },
      "outputs": [
        {
          "output_type": "stream",
          "name": "stdout",
          "text": [
            "Conjunto de entrenamiento: (623, 7)\n",
            "Conjunto de prueba:        (268, 7)\n"
          ]
        }
      ],
      "source": [
        "# Volvemos a los datos originales para construir un pipeline completo\n",
        "df = titanic[['survived', 'pclass', 'sex', 'age', 'sibsp', 'parch', 'fare', 'embarked']]\n",
        "\n",
        "# Separamos los datos en conjuntos de entrenamiento y prueba\n",
        "X = df.drop('survived', axis=1)\n",
        "y = df['survived']\n",
        "\n",
        "X_train, X_test, y_train, y_test = train_test_split(X, y, test_size=0.3, random_state=42)\n",
        "\n",
        "print(f\"Conjunto de entrenamiento: { X_train.shape }\")\n",
        "print(f\"Conjunto de prueba:        { X_test.shape }\")"
      ]
    },
    {
      "cell_type": "markdown",
      "metadata": {
        "id": "w8DE9nQ3fkwA"
      },
      "source": [
        "### 8.1. Construcción de un Pipeline Básico\n",
        "\n",
        "Vamos a construir un pipeline que combine varios pasos de preprocesamiento y un modelo de clasificación."
      ]
    },
    {
      "cell_type": "code",
      "source": [
        "# Definimos los preprocesadores para variables numéricas y categóricas\n",
        "numeric_features = ['age', 'sibsp', 'parch', 'fare']\n",
        "categorical_features = ['pclass', 'sex', 'embarked']"
      ],
      "metadata": {
        "id": "fORtv28koDhj"
      },
      "execution_count": 82,
      "outputs": []
    },
    {
      "cell_type": "code",
      "execution_count": 108,
      "metadata": {
        "colab": {
          "base_uri": "https://localhost:8080/"
        },
        "id": "NVCCCjjsfkwA",
        "outputId": "c9f95602-7b83-4dc0-b141-577e2c1bf9df"
      },
      "outputs": [
        {
          "output_type": "stream",
          "name": "stdout",
          "text": [
            "Exactitud del modelo: 0.8060\n"
          ]
        }
      ],
      "source": [
        "# Preprocesamiento para variables numéricas\n",
        "numeric_transformer = Pipeline(steps=[\n",
        "  ('imputer', SimpleImputer(strategy='median')), ('scaler', StandardScaler())\n",
        "])\n",
        "\n",
        "# Preprocesamiento para variables categóricas\n",
        "categorical_transformer = Pipeline(steps=[\n",
        "  ('imputer', SimpleImputer(strategy='most_frequent')),\n",
        "  ('onehot', OneHotEncoder(handle_unknown='ignore'))\n",
        "])\n",
        "\n",
        "# Combinamos los preprocesadores usando ColumnTransformer\n",
        "preprocessor = ColumnTransformer(transformers=[\n",
        "  ('num', numeric_transformer, numeric_features),\n",
        "  ('cat', categorical_transformer, categorical_features)\n",
        "])\n",
        "\n",
        "# Creamos un pipeline completo con preprocesamiento y modelo\n",
        "full_pipeline = Pipeline(steps=[\n",
        "  ('preprocessor', preprocessor),\n",
        "  ('classifier', LogisticRegression(random_state=42))\n",
        "])\n",
        "\n",
        "# Entrenamos el modelo\n",
        "full_pipeline.fit(X_train, y_train)\n",
        "\n",
        "# Evaluamos el modelo\n",
        "y_pred = full_pipeline.predict(X_test)\n",
        "accuracy = accuracy_score(y_test, y_pred)\n",
        "\n",
        "print(f\"Exactitud del modelo: {accuracy:.4f}\")"
      ]
    },
    {
      "cell_type": "markdown",
      "metadata": {
        "id": "4ejUIuenfkwA"
      },
      "source": [
        "### 8.2. Comparación de Diferentes Estrategias de Preprocesamiento\n",
        "\n",
        "Vamos a comparar diferentes estrategias de preprocesamiento para ver su impacto en el rendimiento del modelo."
      ]
    },
    {
      "cell_type": "code",
      "execution_count": 109,
      "metadata": {
        "colab": {
          "base_uri": "https://localhost:8080/"
        },
        "id": "fG5D3BNcfkwB",
        "outputId": "caaef446-36dc-42f1-f592-dc48823212b3"
      },
      "outputs": [
        {
          "output_type": "stream",
          "name": "stdout",
          "text": [
            "Exactitud 'Solo Imputación': 0.8060\n",
            "Exactitud 'Imputación+MinMax': 0.7985\n",
            "Exactitud 'Imputación+Robusto+Selección': 0.7910\n"
          ]
        }
      ],
      "source": [
        "# Pipeline 1: Solo imputación, sin escalado\n",
        "preprocessor1 = ColumnTransformer(transformers=[\n",
        "  ('num', SimpleImputer(strategy='median'), numeric_features),\n",
        "  ('cat', categorical_transformer, categorical_features)\n",
        "])\n",
        "\n",
        "pipeline1 = Pipeline(steps=[\n",
        "  ('preprocessor', preprocessor1),\n",
        "  ('classifier', LogisticRegression(random_state=42))\n",
        "])\n",
        "\n",
        "# Pipeline 2: Imputación y escalado MinMax\n",
        "numeric_transformer2 = Pipeline(steps=[\n",
        "  ('imputer', SimpleImputer(strategy='median')),\n",
        "  ('scaler', MinMaxScaler())\n",
        "])\n",
        "\n",
        "preprocessor2 = ColumnTransformer(transformers=[\n",
        "  ('num', numeric_transformer2, numeric_features),\n",
        "  ('cat', categorical_transformer, categorical_features)\n",
        "])\n",
        "\n",
        "pipeline2 = Pipeline(steps=[\n",
        "  ('preprocessor', preprocessor2),\n",
        "  ('classifier', LogisticRegression(random_state=42))\n",
        "])\n",
        "\n",
        "# Pipeline 3: Imputación, escalado robusto y selección de características\n",
        "numeric_transformer3 = Pipeline(steps=[\n",
        "  ('imputer', SimpleImputer(strategy='median')),\n",
        "  ('scaler', RobustScaler())\n",
        "])\n",
        "\n",
        "preprocessor3 = ColumnTransformer(transformers=[\n",
        "  ('num', numeric_transformer3, numeric_features),\n",
        "  ('cat', categorical_transformer, categorical_features)\n",
        "])\n",
        "\n",
        "pipeline3 = Pipeline(steps=[\n",
        "  ('preprocessor', preprocessor3),\n",
        "  ('selector', SelectKBest(score_func=f_classif, k=5)),\n",
        "  ('classifier', LogisticRegression(random_state=42))\n",
        "])\n",
        "\n",
        "# Entrenamos y evaluamos los pipelines\n",
        "pipeline_names = ['Solo Imputación', 'Imputación+MinMax', 'Imputación+Robusto+Selección']\n",
        "pipelines = [pipeline1, pipeline2, pipeline3]\n",
        "results = []\n",
        "\n",
        "# zip() para vectores apareados\n",
        "for name, pipeline in zip(pipeline_names, pipelines):\n",
        "  pipeline.fit(X_train, y_train)\n",
        "  y_pred = pipeline.predict(X_test)\n",
        "  accuracy = accuracy_score(y_test, y_pred)\n",
        "  results.append((name, accuracy))\n",
        "  print(f\"Exactitud '{name}': {accuracy:.4f}\")"
      ]
    },
    {
      "cell_type": "code",
      "source": [
        "results_df = pd.DataFrame(results, columns=['Pipeline', 'Accuracy'])\n",
        "\n",
        "# Visualizar los resultados\n",
        "plt.figure(figsize=(8, 4))\n",
        "sns.barplot(data=results_df, x='Pipeline', y='Accuracy')\n",
        "plt.title(\"Comparación de Estrategias de Preprocesamiento\")\n",
        "plt.ylim(0.7, 0.85)  # achicar el rango del eje 'y' para mejor visualización\n",
        "plt.xticks(rotation=15)\n",
        "plt.tight_layout()\n",
        "plt.show()"
      ],
      "metadata": {
        "colab": {
          "base_uri": "https://localhost:8080/",
          "height": 401
        },
        "id": "dNY1W4vXpI44",
        "outputId": "b9713b82-6af3-4205-a863-53c3c51766b9"
      },
      "execution_count": 101,
      "outputs": [
        {
          "output_type": "display_data",
          "data": {
            "text/plain": [
              "<Figure size 800x400 with 1 Axes>"
            ],
            "image/png": "[encoded data removed]"
          },
          "metadata": {}
        }
      ]
    },
    {
      "cell_type": "markdown",
      "metadata": {
        "id": "uTxXBlisfkwB"
      },
      "source": [
        "### 8.3. Comparación con Diferentes Clasificadores\n",
        "\n",
        "Vamos a comparar cómo afecta el preprocesamiento a diferentes algoritmos de clasificación."
      ]
    },
    {
      "cell_type": "code",
      "source": [
        "# Utilizamos el mejor preprocesador basado en los resultados anteriores\n",
        "best_preprocessor = preprocessor2  # modificar según los resultados obtenidos\n",
        "\n",
        "# Comparamos diferentes clasificadores\n",
        "classifiers = [\n",
        "  ('Regresión Logística', LogisticRegression(penalty=None, random_state=3)),\n",
        "  ('Regresión Logística (L1)', LogisticRegression(penalty=\"l1\", solver='liblinear', random_state=3)),\n",
        "  ('Regresión Logística (L2)', LogisticRegression(penalty=\"l2\", random_state=3)),\n",
        "  ('Regresión Logística (ElasticNet)', LogisticRegression(penalty=\"elasticnet\", solver='saga', l1_ratio=0.5, random_state=3))\n",
        "]\n",
        "\n",
        "classifier_results = []\n",
        "\n",
        "# Creamos una figura grande para los 4 subgráficos\n",
        "fig, axes = plt.subplots(2, 2, figsize=(9, 7.5))  # 2 filas, 2 columnas\n",
        "axes = axes.flatten()                             # aplanar el array de ejes para facilitar la iteración\n",
        "\n",
        "for i, (name, classifier) in enumerate(classifiers):\n",
        "  # Creamos el pipeline\n",
        "  pipeline = Pipeline(steps=[\n",
        "    ('preprocessor', best_preprocessor),\n",
        "    ('classifier', classifier)\n",
        "  ])\n",
        "\n",
        "  # Entrenamos y evaluamos\n",
        "  pipeline.fit(X_train, y_train)\n",
        "  y_pred = pipeline.predict(X_test)\n",
        "  accuracy = accuracy_score(y_test, y_pred)\n",
        "  classifier_results.append((name, accuracy))\n",
        "\n",
        "  # Mostramos la matriz de confusión en el subgráfico correspondiente\n",
        "  cm = confusion_matrix(y_test, y_pred)\n",
        "  sns.heatmap(cm, annot=True, fmt='d', cmap='Blues', ax=axes[i])\n",
        "  axes[i].set_title(f\"Matriz de Confusión - {name}\")\n",
        "  axes[i].set_xlabel('Predicción')\n",
        "  axes[i].set_ylabel('Valor Real')\n",
        "\n",
        "plt.tight_layout() # Ajusta automáticamente los subgráficos para que no se superpongan\n",
        "plt.show()\n",
        "\n",
        "# Imprimir los resultados de exactitud al final si se desea\n",
        "# for name, accuracy in classifier_results:\n",
        "#     print(f\"Exactitud '{name}': {accuracy:.4f}\")\n",
        "\n",
        "print(\"\\nResultados de Exactitud de los Clasificadores:\")\n",
        "for name, accuracy in classifier_results:\n",
        "  print(f\"- {name}: {accuracy:.4f}\")"
      ],
      "metadata": {
        "colab": {
          "base_uri": "https://localhost:8080/",
          "height": 858
        },
        "id": "gp0ANd3esyIy",
        "outputId": "7031b0ba-851d-4a22-b3de-073b10cdbb93"
      },
      "execution_count": 114,
      "outputs": [
        {
          "output_type": "display_data",
          "data": {
            "text/plain": [
              "<Figure size 900x750 with 8 Axes>"
            ],
            "image/png": "[encoded data removed]"
          },
          "metadata": {}
        },
        {
          "output_type": "stream",
          "name": "stdout",
          "text": [
            "\n",
            "Resultados de Exactitud de los Clasificadores:\n",
            "- Regresión Logística: 0.8060\n",
            "- Regresión Logística (L1): 0.7948\n",
            "- Regresión Logística (L2): 0.7985\n",
            "- Regresión Logística (ElasticNet): 0.7985\n"
          ]
        }
      ]
    },
    {
      "cell_type": "markdown",
      "metadata": {
        "id": "cg7kbClVfkwC"
      },
      "source": [
        "## 9. Conclusiones y Buenas Prácticas\n",
        "\n",
        "Después de explorar varias técnicas de preprocesamiento de datos, podemos destacar algunas conclusiones y buenas prácticas:"
      ]
    },
    {
      "cell_type": "markdown",
      "metadata": {
        "id": "JvjJmuF4fkwD"
      },
      "source": [
        "### Importancia del Preprocesamiento\n",
        "\n",
        "1. **Impacto en el rendimiento**: Hemos visto cómo diferentes estrategias de preprocesamiento pueden afectar significativamente el rendimiento de los modelos.\n",
        "\n",
        "2. **No existe una solución única**: La mejor estrategia de preprocesamiento depende del conjunto de datos y del algoritmo utilizado.\n",
        "\n",
        "3. **Automatización con pipelines**: Los pipelines de scikit-learn facilitan la aplicación coherente de múltiples pasos de preprocesamiento, evitando fugas de datos entre los conjuntos de entrenamiento y prueba.\n",
        "\n",
        "### Buenas Prácticas\n",
        "\n",
        "1. **Exploración de datos antes del preprocesamiento**: Entender la estructura y características de los datos antes de aplicar cualquier transformación.\n",
        "\n",
        "2. **Manejo adecuado de valores faltantes**: Utilizar estrategias apropiadas según el contexto y la naturaleza de los datos.\n",
        "\n",
        "3. **Codificación adecuada de variables categóricas**: Elegir entre Label Encoding y One-Hot Encoding según las características de las variables y los requisitos del algoritmo.\n",
        "\n",
        "4. **Escalado de características**: Aplicar técnicas de escalado para mejorar el rendimiento de algoritmos sensibles a la escala de las variables.\n",
        "\n",
        "5. **Detección y tratamiento de outliers**: Identificar y manejar adecuadamente los valores atípicos que podrían distorsionar los resultados.\n",
        "\n",
        "6. **Selección de características relevantes**: Eliminar variables redundantes o irrelevantes para mejorar el rendimiento y la interpretabilidad de los modelos.\n",
        "\n",
        "7. **Validación cruzada**: Utilizar técnicas de validación cruzada para evaluar de manera robusta el rendimiento de los modelos.\n",
        "\n",
        "8. **Documentación del proceso**: Documentar cada paso del preprocesamiento para garantizar la reproducibilidad y facilitar la comprensión del flujo de trabajo.\n",
        "\n",
        "### Resumen Final\n",
        "\n",
        "El preprocesamiento de datos es una etapa crítica en cualquier proyecto de aprendizaje automático. Un preprocesamiento adecuado puede mejorar significativamente el rendimiento de los modelos, facilitar su interpretación y acelerar el tiempo de entrenamiento.\n",
        "\n",
        "Como hemos visto, scikit-learn proporciona una amplia gama de herramientas para realizar estas tareas de manera eficiente y consistente.\n",
        "\n",
        "Recuerda que el preprocesamiento no es una tarea aislada, sino parte integral del proceso iterativo de desarrollo de modelos de aprendizaje automático. A medida que obtengas más información sobre tus datos y los requisitos de tu problema, es posible que necesites ajustar tus estrategias de preprocesamiento."
      ]
    }
  ],
  "metadata": {
    "colab": {
      "provenance": [],
      "collapsed_sections": [
        "LX6_AHTafkvd",
        "mcY4xM_tfkvi",
        "oI7J3sNCfkvp",
        "usUYw-8rfkvq",
        "w0u7iEw3fkvr",
        "oCAzi20efkvr",
        "u1SXYCvLfkvs",
        "V1XI-mV9fkvs",
        "_mWBFUiffkvt",
        "bWt3l3Szfkvt",
        "3qX9keRKfkvt",
        "Q4z3mqTNfkvu",
        "WuzkB8TIfkvv",
        "YNTw_xCPfkvv",
        "lkY_0690fkvw",
        "GoaXSecAfkvx",
        "WY4cW5tTfkvy",
        "qjnnYFn_fkv9",
        "6bxCoEH-fkv-",
        "JVgKUrOLfkv_",
        "w8DE9nQ3fkwA",
        "4ejUIuenfkwA",
        "uTxXBlisfkwB",
        "cg7kbClVfkwC"
      ]
    },
    "kernelspec": {
      "display_name": "Python 3",
      "name": "python3"
    },
    "language_info": {
      "name": "python"
    }
  },
  "nbformat": 4,
  "nbformat_minor": 0
}