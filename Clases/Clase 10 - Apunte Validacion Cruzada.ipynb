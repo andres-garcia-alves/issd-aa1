{
  "nbformat": 4,
  "nbformat_minor": 0,
  "metadata": {
    "colab": {
      "provenance": []
    },
    "kernelspec": {
      "name": "python3",
      "display_name": "Python 3"
    },
    "language_info": {
      "name": "python"
    }
  },
  "cells": [
    {
      "cell_type": "markdown",
      "source": [
        "# Validación cruzada"
      ],
      "metadata": {
        "id": "ZdfOefvmcKN-"
      }
    },
    {
      "cell_type": "markdown",
      "source": [
        "Estado del apunte: elaboración en curso.\n"
      ],
      "metadata": {
        "id": "_YBDWvB-eLo7"
      }
    },
    {
      "cell_type": "markdown",
      "source": [
        "Aprender los parámetros de una función de predicción y probarla con los mismos datos es un error metodológico: un modelo que simplemente repita las etiquetas de las muestras que acaba de analizar obtendrá una puntuación perfecta, pero no predecirá nada útil con datos aún no analizados. Esta situación se denomina sobreajuste. Para evitarlo, es habitual, al realizar un experimento de aprendizaje automático (supervisado), conservar parte de los datos disponibles como conjunto de prueba X_test, y_test. Cabe destacar que el término \"experimento\" no se limita a su uso académico, ya que incluso en entornos comerciales, el aprendizaje automático suele comenzar de forma experimental. A continuación, se presenta un diagrama de flujo de un flujo de trabajo típico de validación cruzada en el entrenamiento de modelos. Los mejores parámetros se pueden determinar mediante técnicas de búsqueda en cuadrícula (grid-search)."
      ],
      "metadata": {
        "id": "0qETC_UEey-z"
      }
    },
    {
      "cell_type": "markdown",
      "source": [
        "![Diagrama de flujo de entrenamiento de modelos](https://scikit-learn.org/stable/_images/grid_search_workflow.png)"
      ],
      "metadata": {
        "id": "ncv5jR4cfCUD"
      }
    },
    {
      "cell_type": "markdown",
      "source": [],
      "metadata": {
        "id": "ux1TEtMifA9O"
      }
    },
    {
      "cell_type": "markdown",
      "source": [
        "Referencia: https://scikit-learn.org/stable/modules/cross_validation.html#"
      ],
      "metadata": {
        "id": "enSF3MkKe4IT"
      }
    },
    {
      "cell_type": "markdown",
      "source": [
        "## Lectura introductoria\n",
        "\n",
        "https://es.wikipedia.org/wiki/Validaci%C3%B3n_cruzada"
      ],
      "metadata": {
        "id": "leVdjQBVhi6x"
      }
    },
    {
      "cell_type": "markdown",
      "source": [
        "## Validacion cruzada en sklearn\n",
        "\n",
        "https://qu4nt.github.io/sklearn-doc-es/modules/cross_validation.html"
      ],
      "metadata": {
        "id": "YlBkYP0vho1q"
      }
    },
    {
      "cell_type": "markdown",
      "source": [
        "## Un resumen\n",
        "\n",
        "### Diferencias entre KFold y ShuffleSplit para validación cruzada en sklearn\n",
        "\n",
        "Tanto `KFold` como `ShuffleSplit` son estrategias de validación cruzada en scikit-learn, pero funcionan de manera diferente:\n",
        "\n",
        "## KFold\n",
        "- **Cómo funciona**: Divide el conjunto de datos en K particiones consecutivas (folds)\n",
        "- **Características**:\n",
        "  - Cada muestra aparece exactamente una vez en el conjunto de prueba\n",
        "  - Las particiones son bloques contiguos por defecto (a menos que se mezclen)\n",
        "  - Conserva el orden de las muestras a menos que se active `shuffle=True`\n",
        "  - Ideal para conjuntos de datos pequeños donde quieres usar todos los datos tanto para entrenamiento como para prueba\n"
      ],
      "metadata": {
        "id": "gCmJponUfPbV"
      }
    },
    {
      "cell_type": "markdown",
      "source": [
        "\n",
        "![K-fold cross validation](https://scikit-learn.org/stable/_images/grid_search_cross_validation.png)"
      ],
      "metadata": {
        "id": "JiMeNMuQcl4w"
      }
    },
    {
      "cell_type": "markdown",
      "source": [],
      "metadata": {
        "id": "Jc7B_cSlfP67"
      }
    },
    {
      "cell_type": "markdown",
      "source": [
        "\n",
        "\n",
        "## ShuffleSplit\n",
        "- **Cómo funciona**: Divide los datos aleatoriamente en conjuntos de entrenamiento y prueba en cada iteración\n",
        "- **Características**:\n",
        "  - Cada iteración realiza una división aleatoria independiente\n",
        "  - Las muestras pueden aparecer múltiples veces en los conjuntos de prueba\n",
        "  - No garantiza que todas las muestras estarán en algún conjunto de prueba\n",
        "  - Ideal para conjuntos grandes o cuando necesitas control sobre los tamaños de train/test\n",
        "\n",
        "## Diferencias principales\n",
        "\n",
        "| Característica   | KFold                          | ShuffleSplit                   |\n",
        "|------------------|-------------------------------|--------------------------------|\n",
        "| Uso de muestras  | Cada muestra se prueba 1 vez  | Muestras pueden probarse varias veces o nunca |\n",
        "| Orden           | Conservado (a menos que shuffle=True) | Siempre aleatorio |\n",
        "| Tamaños         | Particiones iguales (o casi)  | Tamaños personalizables de train/test |\n",
        "| Solapamiento    | Sin solapamiento entre folds  | Posible solapamiento en tests  |\n",
        "| Recomendado para| Datasets pequeños             | Datasets grandes              |\n",
        "\n",
        "## Ejemplos de uso (mi pequeño machete)\n",
        "\n",
        "```python\n",
        "from sklearn.model_selection import KFold, ShuffleSplit\n",
        "\n",
        "# Ejemplo KFold (5 particiones)\n",
        "kf = KFold(n_splits=5)\n",
        "for train_index, test_index in kf.split(X):\n",
        "    X_train, X_test = X[train_index], X[test_index]\n",
        "    # entrenar y evaluar modelo\n",
        "\n",
        "# Ejemplo ShuffleSplit (5 divisiones, 20% para test)\n",
        "ss = ShuffleSplit(n_splits=5, test_size=0.2)\n",
        "for train_index, test_index in ss.split(X):\n",
        "    X_train, X_test = X[train_index], X[test_index]\n",
        "    # entrenar y evaluar modelo\n",
        "```\n",
        "\n",
        "**Tip**: Elige `KFold` cuando necesites un muestreo exhaustivo (cada muestra se prueba exactamente una vez) y `ShuffleSplit` cuando prefieras mayor flexibilidad o trabajes con conjuntos de datos grandes."
      ],
      "metadata": {
        "id": "iHGUl-kjcBFT"
      }
    },
    {
      "cell_type": "markdown",
      "source": [
        "# ¿ Cuál esquema de cross-validation utilizar ?\n",
        "\n",
        "La respuesta corta es **depende** de los datos.\n",
        "\n",
        "Sugiero que revises el capítulo del curso cross-validation choise del curso https://inria.github.io/scikit-learn-mooc/\n",
        "\n",
        "\n",
        "\n",
        "a) https://inria.github.io/scikit-learn-mooc/python_scripts/cross_validation_stratification.html\n",
        "\n",
        "b) https://inria.github.io/scikit-learn-mooc/python_scripts/cross_validation_grouping.html\n",
        "\n",
        "c) https://inria.github.io/scikit-learn-mooc/python_scripts/cross_validation_time.html"
      ],
      "metadata": {
        "id": "yOHeFwmpfm3z"
      }
    },
    {
      "cell_type": "markdown",
      "source": [
        "# Piensa y responde"
      ],
      "metadata": {
        "id": "32xmDI2tnJkc"
      }
    },
    {
      "cell_type": "markdown",
      "source": [
        "A) ¿ cuál esquema de validación cruzada usarías si\n",
        "\n",
        "1. tienes pocos datos?\n",
        "2. es un problema de regresión ?\n",
        "3. tu dataset tiene sus clases desbalanceadas?\n",
        "4. tus datos tienen sus clases balanceadas ?\n",
        "5. tus datos son NO i.i.d ? Explica y da ejemplos de este tipo de datos.\n",
        "\n",
        "Para cualquiera de las respuestas, justifica de forma más completa.\n",
        "\n",
        "B) ¿se te ocurre algún otro caso no expuesto o presentado en este apunte o contemplado en las preguntas anteriores? De ser así, compártelo."
      ],
      "metadata": {
        "id": "fM0ldsQgnLyd"
      }
    }
  ]
}