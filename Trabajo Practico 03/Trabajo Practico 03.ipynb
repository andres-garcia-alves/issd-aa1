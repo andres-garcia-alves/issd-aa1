{
  "nbformat": 4,
  "nbformat_minor": 0,
  "metadata": {
    "colab": {
      "provenance": [],
      "collapsed_sections": [
        "t4CxvZXx6Dmy",
        "0qigDO5T90h-",
        "QQ__HzE257MS",
        "yh3ljOv3wDDM",
        "rTJxJxW28FMc",
        "UWnCaDQP7bbO",
        "bB6MPCybwnd_",
        "j5j6RRR4_UHg",
        "A1Ajkh2O70cd",
        "wdl38HkwwqN0",
        "28o4EfDd_WQg",
        "8z3BaKBi70w2",
        "rikY9bTOZIdR",
        "6ze4WFvdZJeS",
        "6AEn72EeKkvh",
        "2jeYUeYRUCpK",
        "T_EtuciQVCZ4",
        "vWvwDaJ_VdR2",
        "fUHMdhs0Tw_2",
        "IJwxj1LpVhgf",
        "qE926Jm7wyL7",
        "RHWMMkLjw8mV",
        "xoE8ruwmV50a",
        "WxE4NoGlC_Gf",
        "4ZvMj3P89Z4R"
      ]
    },
    "kernelspec": {
      "name": "python3",
      "display_name": "Python 3"
    },
    "language_info": {
      "name": "python"
    }
  },
  "cells": [
    {
      "cell_type": "markdown",
      "source": [
        "# **APRENDIZAJE AUTOMATICO - TP 3** 💻\n",
        "\n",
        "> 🙋🏻‍♂️ **Juan Andres Garcia Alves de Borba** (DNI 30182100)"
      ],
      "metadata": {
        "id": "t4CxvZXx6Dmy"
      }
    },
    {
      "cell_type": "markdown",
      "source": [
        "## Indicaciones básicas\n",
        "\n",
        "1. Debe usar este notebook como template para su entrega. Haga una copia y comience a completar las consignas.\n",
        "\n",
        "2. Cada uno debe completar las consignas indicadas en este notebook.\n",
        "\n",
        "3. No pueden repetir el mismo dataset que ya haya definido un compañero.\n",
        "\n",
        "4. Copias explícitas de secciones enteras del trabajo de otro será penalizado disminuyendo su puntuación.\n",
        "\n",
        "5. No se olvide de añadir las fuentes de inspiración de su código (blogs, prompts de chatgpt o similar).\n",
        "\n",
        "6. Además de todo el código que agregue, es importante que sepa interpretarlo. Agregue texto explicativo en cada sección. Esto le ayudará al momento del coloquio / parcial\n",
        "\n",
        "7. Revise las fecha límite de entrega de este trabajo"
      ],
      "metadata": {
        "id": "BSeucmV-KLmJ"
      }
    },
    {
      "cell_type": "markdown",
      "source": [
        "## Entrega"
      ],
      "metadata": {
        "id": "0qigDO5T90h-"
      }
    },
    {
      "cell_type": "markdown",
      "source": [
        "**LEA LAS INDICACIONES DE ENTREGA EN EL FORO DE LA TAREA**"
      ],
      "metadata": {
        "id": "N4Uno_w694De"
      }
    },
    {
      "cell_type": "markdown",
      "source": [
        "#**Tarea: Entrenamiento y Evaluación de Clasificadores**  \n",
        "\n",
        "**Objetivo**: Aplicar un modelo de clasificación a un dataset de su elección, procesar dicho dataset para poder usarlo para entrenamiento, indicar y compartir todos los recursos utilizados, evaluar su rendimiento."
      ],
      "metadata": {
        "id": "7WAej0Lx6D91"
      }
    },
    {
      "cell_type": "markdown",
      "source": [
        "## 📌 Punto 1. **Selección del Dataset**"
      ],
      "metadata": {
        "id": "QQ__HzE257MS"
      }
    },
    {
      "cell_type": "markdown",
      "source": [
        "### 📋 Consignas:"
      ],
      "metadata": {
        "id": "yh3ljOv3wDDM"
      }
    },
    {
      "cell_type": "markdown",
      "source": [
        "- Elijan un dataset de UCI ML Repository del siguiente enlace:  \n",
        "https://archive.ics.uci.edu/datasets?Task=Classification&skip=0&take=10&sort=desc&orderBy=Relevance&search=\n",
        "\n",
        "- Requisitos:  \n",
        "  - Debe tener al menos 4 variables.\n",
        "  - Revisar en el foro de la tarea que dicho dataset no haya sido ya elegido por otra persona.\n",
        "  - Postee en el foro de la tarea el dataset que eligió. Continue al siguiente punto."
      ],
      "metadata": {
        "id": "qlxzRvve6YDX"
      }
    },
    {
      "cell_type": "markdown",
      "source": [
        "### 📝 Resolución:"
      ],
      "metadata": {
        "id": "rTJxJxW28FMc"
      }
    },
    {
      "cell_type": "markdown",
      "source": [
        "👉🏻 Me basaré en el dataset con id 143: **Statlog: Australian Credit Approval**.  \n",
        "👉🏻 Este dataset es una muestra de solicitudes de tarjetas de crédito en Australia.\n",
        "\n",
        "> https://archive.ics.uci.edu/dataset/143/statlog+australian+credit+approval."
      ],
      "metadata": {
        "id": "JvjM5Tf9_Q4f"
      }
    },
    {
      "cell_type": "markdown",
      "source": [
        "👉🏻 Instalaciones ..."
      ],
      "metadata": {
        "id": "sC_EUBFwSanO"
      }
    },
    {
      "cell_type": "code",
      "source": [
        "! pip install ucimlrepo"
      ],
      "metadata": {
        "id": "gq7zciB78FvY",
        "colab": {
          "base_uri": "https://localhost:8080/"
        },
        "collapsed": true,
        "outputId": "dc0e6fe8-7c27-4185-9b67-ecf97c12aa45"
      },
      "execution_count": 42,
      "outputs": [
        {
          "output_type": "stream",
          "name": "stdout",
          "text": [
            "Requirement already satisfied: ucimlrepo in /usr/local/lib/python3.11/dist-packages (0.0.7)\n",
            "Requirement already satisfied: pandas>=1.0.0 in /usr/local/lib/python3.11/dist-packages (from ucimlrepo) (2.2.2)\n",
            "Requirement already satisfied: certifi>=2020.12.5 in /usr/local/lib/python3.11/dist-packages (from ucimlrepo) (2025.4.26)\n",
            "Requirement already satisfied: numpy>=1.23.2 in /usr/local/lib/python3.11/dist-packages (from pandas>=1.0.0->ucimlrepo) (2.0.2)\n",
            "Requirement already satisfied: python-dateutil>=2.8.2 in /usr/local/lib/python3.11/dist-packages (from pandas>=1.0.0->ucimlrepo) (2.9.0.post0)\n",
            "Requirement already satisfied: pytz>=2020.1 in /usr/local/lib/python3.11/dist-packages (from pandas>=1.0.0->ucimlrepo) (2025.2)\n",
            "Requirement already satisfied: tzdata>=2022.7 in /usr/local/lib/python3.11/dist-packages (from pandas>=1.0.0->ucimlrepo) (2025.2)\n",
            "Requirement already satisfied: six>=1.5 in /usr/local/lib/python3.11/dist-packages (from python-dateutil>=2.8.2->pandas>=1.0.0->ucimlrepo) (1.17.0)\n"
          ]
        }
      ]
    },
    {
      "cell_type": "markdown",
      "source": [
        "👉🏻 Importación de librerías y configuraciones generales ..."
      ],
      "metadata": {
        "id": "B2yuW2IN_Bg8"
      }
    },
    {
      "cell_type": "code",
      "source": [
        "import numpy as np\n",
        "import pandas as pd\n",
        "import warnings\n",
        "from ucimlrepo import fetch_ucirepo\n",
        "\n",
        "import matplotlib.pyplot as plt\n",
        "import seaborn as sns\n",
        "\n",
        "from sklearn.pipeline import Pipeline\n",
        "from sklearn.compose import ColumnTransformer\n",
        "from sklearn.preprocessing import StandardScaler, OneHotEncoder\n",
        "from sklearn.model_selection import train_test_split, cross_val_score\n",
        "from sklearn.linear_model import LogisticRegression\n",
        "from sklearn.neighbors import KNeighborsClassifier\n",
        "from sklearn.metrics import accuracy_score, f1_score, confusion_matrix, classification_report"
      ],
      "metadata": {
        "id": "tRNV1fwa_FEu"
      },
      "execution_count": 43,
      "outputs": []
    },
    {
      "cell_type": "code",
      "source": [
        "# suprimir los warnings de reindex de pandas\n",
        "warnings.filterwarnings(\"ignore\")\n",
        "\n",
        "# mayor ancho en los 'print()' antes que se generen saltos de línea\n",
        "np.set_printoptions(linewidth=130)                # saltos de línea (otra opción: linewidth=np.inf)\n",
        "np.set_printoptions(edgeitems=100)                # mostrar más elementos al principio y final\n",
        "np.set_printoptions(threshold=np.inf)             # ancho para los arrays (otra opción: np.inf)\n",
        "pd.set_option('display.width', 200)               # pandas: ancho total permitido\n",
        "pd.set_option('display.max_columns', None)        # pandas: mostrar todas las columnas\n",
        "np.set_printoptions(precision=4, suppress=True)   # 4 decimales en lugar de notación científica"
      ],
      "metadata": {
        "id": "TVX6Olg6_H9l"
      },
      "execution_count": 44,
      "outputs": []
    },
    {
      "cell_type": "markdown",
      "source": [
        "👉🏻 Cargar el dataset ..."
      ],
      "metadata": {
        "id": "vUDgexEG_Ugs"
      }
    },
    {
      "cell_type": "code",
      "source": [
        "# fetch del dataset\n",
        "statlog_australian_credit_approval = fetch_ucirepo(id=143)"
      ],
      "metadata": {
        "id": "fXtlWpa__XnX"
      },
      "execution_count": 45,
      "outputs": []
    },
    {
      "cell_type": "markdown",
      "source": [
        "👉🏻 Visualizar las descripciones de cada columna..."
      ],
      "metadata": {
        "id": "aPZtnO6H_cRU"
      }
    },
    {
      "cell_type": "code",
      "source": [
        "# información de los datos\n",
        "# print(statlog_australian_credit_approval.metadata)\n",
        "print(statlog_australian_credit_approval.variables)"
      ],
      "metadata": {
        "id": "qwIiFD_n_ed9",
        "colab": {
          "base_uri": "https://localhost:8080/"
        },
        "outputId": "52674f41-de38-4be8-9a4e-b3fd4177b23d"
      },
      "execution_count": 46,
      "outputs": [
        {
          "output_type": "stream",
          "name": "stdout",
          "text": [
            "   name     role         type demographic description units missing_values\n",
            "0    A1  Feature  Categorical        None        None  None             no\n",
            "1    A2  Feature   Continuous        None        None  None             no\n",
            "2    A3  Feature   Continuous        None        None  None             no\n",
            "3    A4  Feature  Categorical        None        None  None             no\n",
            "4    A5  Feature  Categorical        None        None  None             no\n",
            "5    A6  Feature  Categorical        None        None  None             no\n",
            "6    A7  Feature   Continuous        None        None  None             no\n",
            "7    A8  Feature  Categorical        None        None  None             no\n",
            "8    A9  Feature  Categorical        None        None  None             no\n",
            "9   A10  Feature   Continuous        None        None  None             no\n",
            "10  A11  Feature  Categorical        None        None  None             no\n",
            "11  A12  Feature  Categorical        None        None  None             no\n",
            "12  A13  Feature   Continuous        None        None  None             no\n",
            "13  A14  Feature   Continuous        None        None  None             no\n",
            "14  A15   Target  Categorical        None        None  None             no\n"
          ]
        }
      ]
    },
    {
      "cell_type": "markdown",
      "source": [
        "👉🏻 Extraer los features ..."
      ],
      "metadata": {
        "id": "av__fwgD_iME"
      }
    },
    {
      "cell_type": "code",
      "source": [
        "# variable 'x' para los features\n",
        "x = statlog_australian_credit_approval.data.features\n",
        "y = statlog_australian_credit_approval.data.targets"
      ],
      "metadata": {
        "id": "DoG32zL8_k2D"
      },
      "execution_count": 47,
      "outputs": []
    },
    {
      "cell_type": "markdown",
      "source": [
        "👉🏻 Inspección inicial ..."
      ],
      "metadata": {
        "id": "AR5n9ixw_tEF"
      }
    },
    {
      "cell_type": "code",
      "source": [
        "print(\"shapes:\", x.shape, y.shape, '\\n')  # tamaño de dataset 690 x 14\n",
        "\n",
        "df = pd.concat([x, y], axis=1)\n",
        "df.head(3)"
      ],
      "metadata": {
        "id": "aiGn33Pf_sWu",
        "colab": {
          "base_uri": "https://localhost:8080/",
          "height": 199
        },
        "outputId": "577f9e3a-4f1e-4671-e596-27cf214b3f02"
      },
      "execution_count": 48,
      "outputs": [
        {
          "output_type": "stream",
          "name": "stdout",
          "text": [
            "shapes: (690, 14) (690, 1) \n",
            "\n"
          ]
        },
        {
          "output_type": "execute_result",
          "data": {
            "text/plain": [
              "   A1     A2     A3  A4  A5  A6     A7  A8  A9  A10  A11  A12  A13   A14  A15\n",
              "0   1  22.08  11.46   2   4   4  1.585   0   0    0    1    2  100  1213    0\n",
              "1   0  22.67   7.00   2   8   4  0.165   0   0    0    0    2  160     1    0\n",
              "2   0  29.58   1.75   1   4   4  1.250   0   0    0    1    2  280     1    0"
            ],
            "text/html": [
              "\n",
              "  <div id=\"df-8f9e55a0-7201-432a-8b95-0ba0d3d177da\" class=\"colab-df-container\">\n",
              "    <div>\n",
              "<style scoped>\n",
              "    .dataframe tbody tr th:only-of-type {\n",
              "        vertical-align: middle;\n",
              "    }\n",
              "\n",
              "    .dataframe tbody tr th {\n",
              "        vertical-align: top;\n",
              "    }\n",
              "\n",
              "    .dataframe thead th {\n",
              "        text-align: right;\n",
              "    }\n",
              "</style>\n",
              "<table border=\"1\" class=\"dataframe\">\n",
              "  <thead>\n",
              "    <tr style=\"text-align: right;\">\n",
              "      <th></th>\n",
              "      <th>A1</th>\n",
              "      <th>A2</th>\n",
              "      <th>A3</th>\n",
              "      <th>A4</th>\n",
              "      <th>A5</th>\n",
              "      <th>A6</th>\n",
              "      <th>A7</th>\n",
              "      <th>A8</th>\n",
              "      <th>A9</th>\n",
              "      <th>A10</th>\n",
              "      <th>A11</th>\n",
              "      <th>A12</th>\n",
              "      <th>A13</th>\n",
              "      <th>A14</th>\n",
              "      <th>A15</th>\n",
              "    </tr>\n",
              "  </thead>\n",
              "  <tbody>\n",
              "    <tr>\n",
              "      <th>0</th>\n",
              "      <td>1</td>\n",
              "      <td>22.08</td>\n",
              "      <td>11.46</td>\n",
              "      <td>2</td>\n",
              "      <td>4</td>\n",
              "      <td>4</td>\n",
              "      <td>1.585</td>\n",
              "      <td>0</td>\n",
              "      <td>0</td>\n",
              "      <td>0</td>\n",
              "      <td>1</td>\n",
              "      <td>2</td>\n",
              "      <td>100</td>\n",
              "      <td>1213</td>\n",
              "      <td>0</td>\n",
              "    </tr>\n",
              "    <tr>\n",
              "      <th>1</th>\n",
              "      <td>0</td>\n",
              "      <td>22.67</td>\n",
              "      <td>7.00</td>\n",
              "      <td>2</td>\n",
              "      <td>8</td>\n",
              "      <td>4</td>\n",
              "      <td>0.165</td>\n",
              "      <td>0</td>\n",
              "      <td>0</td>\n",
              "      <td>0</td>\n",
              "      <td>0</td>\n",
              "      <td>2</td>\n",
              "      <td>160</td>\n",
              "      <td>1</td>\n",
              "      <td>0</td>\n",
              "    </tr>\n",
              "    <tr>\n",
              "      <th>2</th>\n",
              "      <td>0</td>\n",
              "      <td>29.58</td>\n",
              "      <td>1.75</td>\n",
              "      <td>1</td>\n",
              "      <td>4</td>\n",
              "      <td>4</td>\n",
              "      <td>1.250</td>\n",
              "      <td>0</td>\n",
              "      <td>0</td>\n",
              "      <td>0</td>\n",
              "      <td>1</td>\n",
              "      <td>2</td>\n",
              "      <td>280</td>\n",
              "      <td>1</td>\n",
              "      <td>0</td>\n",
              "    </tr>\n",
              "  </tbody>\n",
              "</table>\n",
              "</div>\n",
              "    <div class=\"colab-df-buttons\">\n",
              "\n",
              "  <div class=\"colab-df-container\">\n",
              "    <button class=\"colab-df-convert\" onclick=\"convertToInteractive('df-8f9e55a0-7201-432a-8b95-0ba0d3d177da')\"\n",
              "            title=\"Convert this dataframe to an interactive table.\"\n",
              "            style=\"display:none;\">\n",
              "\n",
              "  <svg xmlns=\"http://www.w3.org/2000/svg\" height=\"24px\" viewBox=\"0 -960 960 960\">\n",
              "    <path d=\"M120-120v-720h720v720H120Zm60-500h600v-160H180v160Zm220 220h160v-160H400v160Zm0 220h160v-160H400v160ZM180-400h160v-160H180v160Zm440 0h160v-160H620v160ZM180-180h160v-160H180v160Zm440 0h160v-160H620v160Z\"/>\n",
              "  </svg>\n",
              "    </button>\n",
              "\n",
              "  <style>\n",
              "    .colab-df-container {\n",
              "      display:flex;\n",
              "      gap: 12px;\n",
              "    }\n",
              "\n",
              "    .colab-df-convert {\n",
              "      background-color: #E8F0FE;\n",
              "      border: none;\n",
              "      border-radius: 50%;\n",
              "      cursor: pointer;\n",
              "      display: none;\n",
              "      fill: #1967D2;\n",
              "      height: 32px;\n",
              "      padding: 0 0 0 0;\n",
              "      width: 32px;\n",
              "    }\n",
              "\n",
              "    .colab-df-convert:hover {\n",
              "      background-color: #E2EBFA;\n",
              "      box-shadow: 0px 1px 2px rgba(60, 64, 67, 0.3), 0px 1px 3px 1px rgba(60, 64, 67, 0.15);\n",
              "      fill: #174EA6;\n",
              "    }\n",
              "\n",
              "    .colab-df-buttons div {\n",
              "      margin-bottom: 4px;\n",
              "    }\n",
              "\n",
              "    [theme=dark] .colab-df-convert {\n",
              "      background-color: #3B4455;\n",
              "      fill: #D2E3FC;\n",
              "    }\n",
              "\n",
              "    [theme=dark] .colab-df-convert:hover {\n",
              "      background-color: #434B5C;\n",
              "      box-shadow: 0px 1px 3px 1px rgba(0, 0, 0, 0.15);\n",
              "      filter: drop-shadow(0px 1px 2px rgba(0, 0, 0, 0.3));\n",
              "      fill: #FFFFFF;\n",
              "    }\n",
              "  </style>\n",
              "\n",
              "    <script>\n",
              "      const buttonEl =\n",
              "        document.querySelector('#df-8f9e55a0-7201-432a-8b95-0ba0d3d177da button.colab-df-convert');\n",
              "      buttonEl.style.display =\n",
              "        google.colab.kernel.accessAllowed ? 'block' : 'none';\n",
              "\n",
              "      async function convertToInteractive(key) {\n",
              "        const element = document.querySelector('#df-8f9e55a0-7201-432a-8b95-0ba0d3d177da');\n",
              "        const dataTable =\n",
              "          await google.colab.kernel.invokeFunction('convertToInteractive',\n",
              "                                                    [key], {});\n",
              "        if (!dataTable) return;\n",
              "\n",
              "        const docLinkHtml = 'Like what you see? Visit the ' +\n",
              "          '<a target=\"_blank\" href=https://colab.research.google.com/notebooks/data_table.ipynb>data table notebook</a>'\n",
              "          + ' to learn more about interactive tables.';\n",
              "        element.innerHTML = '';\n",
              "        dataTable['output_type'] = 'display_data';\n",
              "        await google.colab.output.renderOutput(dataTable, element);\n",
              "        const docLink = document.createElement('div');\n",
              "        docLink.innerHTML = docLinkHtml;\n",
              "        element.appendChild(docLink);\n",
              "      }\n",
              "    </script>\n",
              "  </div>\n",
              "\n",
              "\n",
              "    <div id=\"df-1bdc0abb-4aaf-491f-9e36-f88267a44341\">\n",
              "      <button class=\"colab-df-quickchart\" onclick=\"quickchart('df-1bdc0abb-4aaf-491f-9e36-f88267a44341')\"\n",
              "                title=\"Suggest charts\"\n",
              "                style=\"display:none;\">\n",
              "\n",
              "<svg xmlns=\"http://www.w3.org/2000/svg\" height=\"24px\"viewBox=\"0 0 24 24\"\n",
              "     width=\"24px\">\n",
              "    <g>\n",
              "        <path d=\"M19 3H5c-1.1 0-2 .9-2 2v14c0 1.1.9 2 2 2h14c1.1 0 2-.9 2-2V5c0-1.1-.9-2-2-2zM9 17H7v-7h2v7zm4 0h-2V7h2v10zm4 0h-2v-4h2v4z\"/>\n",
              "    </g>\n",
              "</svg>\n",
              "      </button>\n",
              "\n",
              "<style>\n",
              "  .colab-df-quickchart {\n",
              "      --bg-color: #E8F0FE;\n",
              "      --fill-color: #1967D2;\n",
              "      --hover-bg-color: #E2EBFA;\n",
              "      --hover-fill-color: #174EA6;\n",
              "      --disabled-fill-color: #AAA;\n",
              "      --disabled-bg-color: #DDD;\n",
              "  }\n",
              "\n",
              "  [theme=dark] .colab-df-quickchart {\n",
              "      --bg-color: #3B4455;\n",
              "      --fill-color: #D2E3FC;\n",
              "      --hover-bg-color: #434B5C;\n",
              "      --hover-fill-color: #FFFFFF;\n",
              "      --disabled-bg-color: #3B4455;\n",
              "      --disabled-fill-color: #666;\n",
              "  }\n",
              "\n",
              "  .colab-df-quickchart {\n",
              "    background-color: var(--bg-color);\n",
              "    border: none;\n",
              "    border-radius: 50%;\n",
              "    cursor: pointer;\n",
              "    display: none;\n",
              "    fill: var(--fill-color);\n",
              "    height: 32px;\n",
              "    padding: 0;\n",
              "    width: 32px;\n",
              "  }\n",
              "\n",
              "  .colab-df-quickchart:hover {\n",
              "    background-color: var(--hover-bg-color);\n",
              "    box-shadow: 0 1px 2px rgba(60, 64, 67, 0.3), 0 1px 3px 1px rgba(60, 64, 67, 0.15);\n",
              "    fill: var(--button-hover-fill-color);\n",
              "  }\n",
              "\n",
              "  .colab-df-quickchart-complete:disabled,\n",
              "  .colab-df-quickchart-complete:disabled:hover {\n",
              "    background-color: var(--disabled-bg-color);\n",
              "    fill: var(--disabled-fill-color);\n",
              "    box-shadow: none;\n",
              "  }\n",
              "\n",
              "  .colab-df-spinner {\n",
              "    border: 2px solid var(--fill-color);\n",
              "    border-color: transparent;\n",
              "    border-bottom-color: var(--fill-color);\n",
              "    animation:\n",
              "      spin 1s steps(1) infinite;\n",
              "  }\n",
              "\n",
              "  @keyframes spin {\n",
              "    0% {\n",
              "      border-color: transparent;\n",
              "      border-bottom-color: var(--fill-color);\n",
              "      border-left-color: var(--fill-color);\n",
              "    }\n",
              "    20% {\n",
              "      border-color: transparent;\n",
              "      border-left-color: var(--fill-color);\n",
              "      border-top-color: var(--fill-color);\n",
              "    }\n",
              "    30% {\n",
              "      border-color: transparent;\n",
              "      border-left-color: var(--fill-color);\n",
              "      border-top-color: var(--fill-color);\n",
              "      border-right-color: var(--fill-color);\n",
              "    }\n",
              "    40% {\n",
              "      border-color: transparent;\n",
              "      border-right-color: var(--fill-color);\n",
              "      border-top-color: var(--fill-color);\n",
              "    }\n",
              "    60% {\n",
              "      border-color: transparent;\n",
              "      border-right-color: var(--fill-color);\n",
              "    }\n",
              "    80% {\n",
              "      border-color: transparent;\n",
              "      border-right-color: var(--fill-color);\n",
              "      border-bottom-color: var(--fill-color);\n",
              "    }\n",
              "    90% {\n",
              "      border-color: transparent;\n",
              "      border-bottom-color: var(--fill-color);\n",
              "    }\n",
              "  }\n",
              "</style>\n",
              "\n",
              "      <script>\n",
              "        async function quickchart(key) {\n",
              "          const quickchartButtonEl =\n",
              "            document.querySelector('#' + key + ' button');\n",
              "          quickchartButtonEl.disabled = true;  // To prevent multiple clicks.\n",
              "          quickchartButtonEl.classList.add('colab-df-spinner');\n",
              "          try {\n",
              "            const charts = await google.colab.kernel.invokeFunction(\n",
              "                'suggestCharts', [key], {});\n",
              "          } catch (error) {\n",
              "            console.error('Error during call to suggestCharts:', error);\n",
              "          }\n",
              "          quickchartButtonEl.classList.remove('colab-df-spinner');\n",
              "          quickchartButtonEl.classList.add('colab-df-quickchart-complete');\n",
              "        }\n",
              "        (() => {\n",
              "          let quickchartButtonEl =\n",
              "            document.querySelector('#df-1bdc0abb-4aaf-491f-9e36-f88267a44341 button');\n",
              "          quickchartButtonEl.style.display =\n",
              "            google.colab.kernel.accessAllowed ? 'block' : 'none';\n",
              "        })();\n",
              "      </script>\n",
              "    </div>\n",
              "\n",
              "    </div>\n",
              "  </div>\n"
            ],
            "application/vnd.google.colaboratory.intrinsic+json": {
              "type": "dataframe",
              "variable_name": "df",
              "summary": "{\n  \"name\": \"df\",\n  \"rows\": 690,\n  \"fields\": [\n    {\n      \"column\": \"A1\",\n      \"properties\": {\n        \"dtype\": \"number\",\n        \"std\": 0,\n        \"min\": 0,\n        \"max\": 1,\n        \"num_unique_values\": 2,\n        \"samples\": [\n          0,\n          1\n        ],\n        \"semantic_type\": \"\",\n        \"description\": \"\"\n      }\n    },\n    {\n      \"column\": \"A2\",\n      \"properties\": {\n        \"dtype\": \"number\",\n        \"std\": 11.853272772971625,\n        \"min\": 13.75,\n        \"max\": 80.25,\n        \"num_unique_values\": 350,\n        \"samples\": [\n          18.75,\n          30.33\n        ],\n        \"semantic_type\": \"\",\n        \"description\": \"\"\n      }\n    },\n    {\n      \"column\": \"A3\",\n      \"properties\": {\n        \"dtype\": \"number\",\n        \"std\": 4.978163248528541,\n        \"min\": 0.0,\n        \"max\": 28.0,\n        \"num_unique_values\": 215,\n        \"samples\": [\n          2.665,\n          12.335\n        ],\n        \"semantic_type\": \"\",\n        \"description\": \"\"\n      }\n    },\n    {\n      \"column\": \"A4\",\n      \"properties\": {\n        \"dtype\": \"number\",\n        \"std\": 0,\n        \"min\": 1,\n        \"max\": 3,\n        \"num_unique_values\": 3,\n        \"samples\": [\n          2,\n          1\n        ],\n        \"semantic_type\": \"\",\n        \"description\": \"\"\n      }\n    },\n    {\n      \"column\": \"A5\",\n      \"properties\": {\n        \"dtype\": \"number\",\n        \"std\": 3,\n        \"min\": 1,\n        \"max\": 14,\n        \"num_unique_values\": 14,\n        \"samples\": [\n          13,\n          1\n        ],\n        \"semantic_type\": \"\",\n        \"description\": \"\"\n      }\n    },\n    {\n      \"column\": \"A6\",\n      \"properties\": {\n        \"dtype\": \"number\",\n        \"std\": 1,\n        \"min\": 1,\n        \"max\": 9,\n        \"num_unique_values\": 8,\n        \"samples\": [\n          3,\n          9\n        ],\n        \"semantic_type\": \"\",\n        \"description\": \"\"\n      }\n    },\n    {\n      \"column\": \"A7\",\n      \"properties\": {\n        \"dtype\": \"number\",\n        \"std\": 3.3465133592781346,\n        \"min\": 0.0,\n        \"max\": 28.5,\n        \"num_unique_values\": 132,\n        \"samples\": [\n          0.29,\n          18.0\n        ],\n        \"semantic_type\": \"\",\n        \"description\": \"\"\n      }\n    },\n    {\n      \"column\": \"A8\",\n      \"properties\": {\n        \"dtype\": \"number\",\n        \"std\": 0,\n        \"min\": 0,\n        \"max\": 1,\n        \"num_unique_values\": 2,\n        \"samples\": [\n          1,\n          0\n        ],\n        \"semantic_type\": \"\",\n        \"description\": \"\"\n      }\n    },\n    {\n      \"column\": \"A9\",\n      \"properties\": {\n        \"dtype\": \"number\",\n        \"std\": 0,\n        \"min\": 0,\n        \"max\": 1,\n        \"num_unique_values\": 2,\n        \"samples\": [\n          1,\n          0\n        ],\n        \"semantic_type\": \"\",\n        \"description\": \"\"\n      }\n    },\n    {\n      \"column\": \"A10\",\n      \"properties\": {\n        \"dtype\": \"number\",\n        \"std\": 4,\n        \"min\": 0,\n        \"max\": 67,\n        \"num_unique_values\": 23,\n        \"samples\": [\n          15,\n          8\n        ],\n        \"semantic_type\": \"\",\n        \"description\": \"\"\n      }\n    },\n    {\n      \"column\": \"A11\",\n      \"properties\": {\n        \"dtype\": \"number\",\n        \"std\": 0,\n        \"min\": 0,\n        \"max\": 1,\n        \"num_unique_values\": 2,\n        \"samples\": [\n          0,\n          1\n        ],\n        \"semantic_type\": \"\",\n        \"description\": \"\"\n      }\n    },\n    {\n      \"column\": \"A12\",\n      \"properties\": {\n        \"dtype\": \"number\",\n        \"std\": 0,\n        \"min\": 1,\n        \"max\": 3,\n        \"num_unique_values\": 3,\n        \"samples\": [\n          2,\n          1\n        ],\n        \"semantic_type\": \"\",\n        \"description\": \"\"\n      }\n    },\n    {\n      \"column\": \"A13\",\n      \"properties\": {\n        \"dtype\": \"number\",\n        \"std\": 172,\n        \"min\": 0,\n        \"max\": 2000,\n        \"num_unique_values\": 171,\n        \"samples\": [\n          30,\n          181\n        ],\n        \"semantic_type\": \"\",\n        \"description\": \"\"\n      }\n    },\n    {\n      \"column\": \"A14\",\n      \"properties\": {\n        \"dtype\": \"number\",\n        \"std\": 5210,\n        \"min\": 1,\n        \"max\": 100001,\n        \"num_unique_values\": 240,\n        \"samples\": [\n          352,\n          51\n        ],\n        \"semantic_type\": \"\",\n        \"description\": \"\"\n      }\n    },\n    {\n      \"column\": \"A15\",\n      \"properties\": {\n        \"dtype\": \"number\",\n        \"std\": 0,\n        \"min\": 0,\n        \"max\": 1,\n        \"num_unique_values\": 2,\n        \"samples\": [\n          1,\n          0\n        ],\n        \"semantic_type\": \"\",\n        \"description\": \"\"\n      }\n    }\n  ]\n}"
            }
          },
          "metadata": {},
          "execution_count": 48
        }
      ]
    },
    {
      "cell_type": "markdown",
      "source": [
        "👉🏻 Validación por nulos ..."
      ],
      "metadata": {
        "id": "VrLMvAmf_yNc"
      }
    },
    {
      "cell_type": "code",
      "source": [
        "# en lugar de hacer 'x.isnull().sum()', uso 'x.isnull().sum().values' que resulta más compacto de visualizar\n",
        "print('nulos en el dataset:', x.isnull().sum().values)"
      ],
      "metadata": {
        "id": "53SRpDLv_0kg",
        "colab": {
          "base_uri": "https://localhost:8080/"
        },
        "outputId": "70a4d26e-f54e-4d5f-c9bc-f5a6b7b74842"
      },
      "execution_count": 49,
      "outputs": [
        {
          "output_type": "stream",
          "name": "stdout",
          "text": [
            "nulos en el dataset: [0 0 0 0 0 0 0 0 0 0 0 0 0 0]\n"
          ]
        }
      ]
    },
    {
      "cell_type": "markdown",
      "source": [
        "👉🏻 Validación por duplicados ..."
      ],
      "metadata": {
        "id": "xkH02mhA_287"
      }
    },
    {
      "cell_type": "code",
      "source": [
        "print('duplicados en el dataset:', x.duplicated().sum())\n",
        "\n",
        "# en caso que se quisiera eliminar duplicados ...\n",
        "# x = x.drop_duplicates()\n",
        "# print(\"shape:\", x.shape, '\\n')  # nuevo tamaño de dataset"
      ],
      "metadata": {
        "id": "BqYEfuqe_5FT",
        "colab": {
          "base_uri": "https://localhost:8080/"
        },
        "outputId": "74c48d04-55ce-4670-f782-b4a30c9614e2"
      },
      "execution_count": 50,
      "outputs": [
        {
          "output_type": "stream",
          "name": "stdout",
          "text": [
            "duplicados en el dataset: 0\n"
          ]
        }
      ]
    },
    {
      "cell_type": "markdown",
      "source": [
        "👉🏻 Columnas calculadas y conversión de formatos ..."
      ],
      "metadata": {
        "id": "PXAfSlA_AGTk"
      }
    },
    {
      "cell_type": "code",
      "source": [
        "# no aplica"
      ],
      "metadata": {
        "id": "XEuAGT53AJNx"
      },
      "execution_count": 51,
      "outputs": []
    },
    {
      "cell_type": "markdown",
      "source": [
        "👉🏻 Renombrar los features ..."
      ],
      "metadata": {
        "id": "C0tpsDnhALwj"
      }
    },
    {
      "cell_type": "code",
      "source": [
        "# no aplica, si hiciera falta se utilizaría algo del estilo:\n",
        "# x.columns = ['asd 1', 'asd 2', 'asd 3', ... 'asd 14']\n",
        "# x.head(3)"
      ],
      "metadata": {
        "id": "v8PetouDAOFH"
      },
      "execution_count": 52,
      "outputs": []
    },
    {
      "cell_type": "markdown",
      "source": [
        "👉🏻 Observaciones ..."
      ],
      "metadata": {
        "id": "ymcqUZsChYZL"
      }
    },
    {
      "cell_type": "markdown",
      "source": [
        "> 👁️‍🗨️ En este dataset, cada observación es una **solicitud para una tarjeta de crédito en Australia**, evaluándose en 14 aspectos (features) denominados A1-A14, que por razones de confidencialidad tienen sus títulos cambiados a símbolos sin significado. (más info en la url del dataset, ver sección `referencias`.)\n",
        "\n",
        "> 👁️‍🗨️ Este problema de aprendizaje supervisado es del tipo `Clasificación Binaria`, indicando con 0/1 si se denegó/otorgó la tarjeta en cuestión.\n",
        "\n",
        "> 👁️‍🗨️ El dataset no presenta ni nulos ni duplicados."
      ],
      "metadata": {
        "id": "SU89T-NChbGz"
      }
    },
    {
      "cell_type": "markdown",
      "source": [
        "## 🔎 Punto 2. **Análisis Exploratorio de Datos**"
      ],
      "metadata": {
        "id": "UWnCaDQP7bbO"
      }
    },
    {
      "cell_type": "markdown",
      "source": [
        "### 📋 Consignas:"
      ],
      "metadata": {
        "id": "bB6MPCybwnd_"
      }
    },
    {
      "cell_type": "markdown",
      "source": [
        "- Describan las variables (media, distribución, outliers).  \n",
        "- Visualizen:  \n",
        "  - Histogramas o boxplots para ver distribuciones.  \n",
        "  - Gráficos de dispersión (scatterplots) entre features y target.  \n",
        "- Describan si observan o no relaciones entre algunas variables."
      ],
      "metadata": {
        "id": "pZZSSawG6yt0"
      }
    },
    {
      "cell_type": "markdown",
      "source": [
        "### 📝 Resolución:"
      ],
      "metadata": {
        "id": "j5j6RRR4_UHg"
      }
    },
    {
      "cell_type": "markdown",
      "source": [
        "👉🏻 Media, desviación estadar, mínimos y máximos ..."
      ],
      "metadata": {
        "id": "vZBsHZRO_UHh"
      }
    },
    {
      "cell_type": "code",
      "source": [
        "x.describe()"
      ],
      "metadata": {
        "id": "9xMXweis_UHh",
        "colab": {
          "base_uri": "https://localhost:8080/",
          "height": 320
        },
        "outputId": "c1aa8212-cb12-4d2f-c5b0-0131e27e49be"
      },
      "execution_count": 53,
      "outputs": [
        {
          "output_type": "execute_result",
          "data": {
            "text/plain": [
              "               A1          A2          A3          A4          A5          A6          A7          A8          A9        A10         A11         A12          A13            A14\n",
              "count  690.000000  690.000000  690.000000  690.000000  690.000000  690.000000  690.000000  690.000000  690.000000  690.00000  690.000000  690.000000   690.000000     690.000000\n",
              "mean     0.678261   31.568203    4.758725    1.766667    7.372464    4.692754    2.223406    0.523188    0.427536    2.40000    0.457971    1.928986   184.014493    1018.385507\n",
              "std      0.467482   11.853273    4.978163    0.430063    3.683265    1.992316    3.346513    0.499824    0.495080    4.86294    0.498592    0.298813   172.159274    5210.102598\n",
              "min      0.000000   13.750000    0.000000    1.000000    1.000000    1.000000    0.000000    0.000000    0.000000    0.00000    0.000000    1.000000     0.000000       1.000000\n",
              "25%      0.000000   22.670000    1.000000    2.000000    4.000000    4.000000    0.165000    0.000000    0.000000    0.00000    0.000000    2.000000    80.000000       1.000000\n",
              "50%      1.000000   28.625000    2.750000    2.000000    8.000000    4.000000    1.000000    1.000000    0.000000    0.00000    0.000000    2.000000   160.000000       6.000000\n",
              "75%      1.000000   37.707500    7.207500    2.000000   10.000000    5.000000    2.625000    1.000000    1.000000    3.00000    1.000000    2.000000   272.000000     396.500000\n",
              "max      1.000000   80.250000   28.000000    3.000000   14.000000    9.000000   28.500000    1.000000    1.000000   67.00000    1.000000    3.000000  2000.000000  100001.000000"
            ],
            "text/html": [
              "\n",
              "  <div id=\"df-aa20f8b6-71eb-4ce5-83e1-a3a57a3f3ae4\" class=\"colab-df-container\">\n",
              "    <div>\n",
              "<style scoped>\n",
              "    .dataframe tbody tr th:only-of-type {\n",
              "        vertical-align: middle;\n",
              "    }\n",
              "\n",
              "    .dataframe tbody tr th {\n",
              "        vertical-align: top;\n",
              "    }\n",
              "\n",
              "    .dataframe thead th {\n",
              "        text-align: right;\n",
              "    }\n",
              "</style>\n",
              "<table border=\"1\" class=\"dataframe\">\n",
              "  <thead>\n",
              "    <tr style=\"text-align: right;\">\n",
              "      <th></th>\n",
              "      <th>A1</th>\n",
              "      <th>A2</th>\n",
              "      <th>A3</th>\n",
              "      <th>A4</th>\n",
              "      <th>A5</th>\n",
              "      <th>A6</th>\n",
              "      <th>A7</th>\n",
              "      <th>A8</th>\n",
              "      <th>A9</th>\n",
              "      <th>A10</th>\n",
              "      <th>A11</th>\n",
              "      <th>A12</th>\n",
              "      <th>A13</th>\n",
              "      <th>A14</th>\n",
              "    </tr>\n",
              "  </thead>\n",
              "  <tbody>\n",
              "    <tr>\n",
              "      <th>count</th>\n",
              "      <td>690.000000</td>\n",
              "      <td>690.000000</td>\n",
              "      <td>690.000000</td>\n",
              "      <td>690.000000</td>\n",
              "      <td>690.000000</td>\n",
              "      <td>690.000000</td>\n",
              "      <td>690.000000</td>\n",
              "      <td>690.000000</td>\n",
              "      <td>690.000000</td>\n",
              "      <td>690.00000</td>\n",
              "      <td>690.000000</td>\n",
              "      <td>690.000000</td>\n",
              "      <td>690.000000</td>\n",
              "      <td>690.000000</td>\n",
              "    </tr>\n",
              "    <tr>\n",
              "      <th>mean</th>\n",
              "      <td>0.678261</td>\n",
              "      <td>31.568203</td>\n",
              "      <td>4.758725</td>\n",
              "      <td>1.766667</td>\n",
              "      <td>7.372464</td>\n",
              "      <td>4.692754</td>\n",
              "      <td>2.223406</td>\n",
              "      <td>0.523188</td>\n",
              "      <td>0.427536</td>\n",
              "      <td>2.40000</td>\n",
              "      <td>0.457971</td>\n",
              "      <td>1.928986</td>\n",
              "      <td>184.014493</td>\n",
              "      <td>1018.385507</td>\n",
              "    </tr>\n",
              "    <tr>\n",
              "      <th>std</th>\n",
              "      <td>0.467482</td>\n",
              "      <td>11.853273</td>\n",
              "      <td>4.978163</td>\n",
              "      <td>0.430063</td>\n",
              "      <td>3.683265</td>\n",
              "      <td>1.992316</td>\n",
              "      <td>3.346513</td>\n",
              "      <td>0.499824</td>\n",
              "      <td>0.495080</td>\n",
              "      <td>4.86294</td>\n",
              "      <td>0.498592</td>\n",
              "      <td>0.298813</td>\n",
              "      <td>172.159274</td>\n",
              "      <td>5210.102598</td>\n",
              "    </tr>\n",
              "    <tr>\n",
              "      <th>min</th>\n",
              "      <td>0.000000</td>\n",
              "      <td>13.750000</td>\n",
              "      <td>0.000000</td>\n",
              "      <td>1.000000</td>\n",
              "      <td>1.000000</td>\n",
              "      <td>1.000000</td>\n",
              "      <td>0.000000</td>\n",
              "      <td>0.000000</td>\n",
              "      <td>0.000000</td>\n",
              "      <td>0.00000</td>\n",
              "      <td>0.000000</td>\n",
              "      <td>1.000000</td>\n",
              "      <td>0.000000</td>\n",
              "      <td>1.000000</td>\n",
              "    </tr>\n",
              "    <tr>\n",
              "      <th>25%</th>\n",
              "      <td>0.000000</td>\n",
              "      <td>22.670000</td>\n",
              "      <td>1.000000</td>\n",
              "      <td>2.000000</td>\n",
              "      <td>4.000000</td>\n",
              "      <td>4.000000</td>\n",
              "      <td>0.165000</td>\n",
              "      <td>0.000000</td>\n",
              "      <td>0.000000</td>\n",
              "      <td>0.00000</td>\n",
              "      <td>0.000000</td>\n",
              "      <td>2.000000</td>\n",
              "      <td>80.000000</td>\n",
              "      <td>1.000000</td>\n",
              "    </tr>\n",
              "    <tr>\n",
              "      <th>50%</th>\n",
              "      <td>1.000000</td>\n",
              "      <td>28.625000</td>\n",
              "      <td>2.750000</td>\n",
              "      <td>2.000000</td>\n",
              "      <td>8.000000</td>\n",
              "      <td>4.000000</td>\n",
              "      <td>1.000000</td>\n",
              "      <td>1.000000</td>\n",
              "      <td>0.000000</td>\n",
              "      <td>0.00000</td>\n",
              "      <td>0.000000</td>\n",
              "      <td>2.000000</td>\n",
              "      <td>160.000000</td>\n",
              "      <td>6.000000</td>\n",
              "    </tr>\n",
              "    <tr>\n",
              "      <th>75%</th>\n",
              "      <td>1.000000</td>\n",
              "      <td>37.707500</td>\n",
              "      <td>7.207500</td>\n",
              "      <td>2.000000</td>\n",
              "      <td>10.000000</td>\n",
              "      <td>5.000000</td>\n",
              "      <td>2.625000</td>\n",
              "      <td>1.000000</td>\n",
              "      <td>1.000000</td>\n",
              "      <td>3.00000</td>\n",
              "      <td>1.000000</td>\n",
              "      <td>2.000000</td>\n",
              "      <td>272.000000</td>\n",
              "      <td>396.500000</td>\n",
              "    </tr>\n",
              "    <tr>\n",
              "      <th>max</th>\n",
              "      <td>1.000000</td>\n",
              "      <td>80.250000</td>\n",
              "      <td>28.000000</td>\n",
              "      <td>3.000000</td>\n",
              "      <td>14.000000</td>\n",
              "      <td>9.000000</td>\n",
              "      <td>28.500000</td>\n",
              "      <td>1.000000</td>\n",
              "      <td>1.000000</td>\n",
              "      <td>67.00000</td>\n",
              "      <td>1.000000</td>\n",
              "      <td>3.000000</td>\n",
              "      <td>2000.000000</td>\n",
              "      <td>100001.000000</td>\n",
              "    </tr>\n",
              "  </tbody>\n",
              "</table>\n",
              "</div>\n",
              "    <div class=\"colab-df-buttons\">\n",
              "\n",
              "  <div class=\"colab-df-container\">\n",
              "    <button class=\"colab-df-convert\" onclick=\"convertToInteractive('df-aa20f8b6-71eb-4ce5-83e1-a3a57a3f3ae4')\"\n",
              "            title=\"Convert this dataframe to an interactive table.\"\n",
              "            style=\"display:none;\">\n",
              "\n",
              "  <svg xmlns=\"http://www.w3.org/2000/svg\" height=\"24px\" viewBox=\"0 -960 960 960\">\n",
              "    <path d=\"M120-120v-720h720v720H120Zm60-500h600v-160H180v160Zm220 220h160v-160H400v160Zm0 220h160v-160H400v160ZM180-400h160v-160H180v160Zm440 0h160v-160H620v160ZM180-180h160v-160H180v160Zm440 0h160v-160H620v160Z\"/>\n",
              "  </svg>\n",
              "    </button>\n",
              "\n",
              "  <style>\n",
              "    .colab-df-container {\n",
              "      display:flex;\n",
              "      gap: 12px;\n",
              "    }\n",
              "\n",
              "    .colab-df-convert {\n",
              "      background-color: #E8F0FE;\n",
              "      border: none;\n",
              "      border-radius: 50%;\n",
              "      cursor: pointer;\n",
              "      display: none;\n",
              "      fill: #1967D2;\n",
              "      height: 32px;\n",
              "      padding: 0 0 0 0;\n",
              "      width: 32px;\n",
              "    }\n",
              "\n",
              "    .colab-df-convert:hover {\n",
              "      background-color: #E2EBFA;\n",
              "      box-shadow: 0px 1px 2px rgba(60, 64, 67, 0.3), 0px 1px 3px 1px rgba(60, 64, 67, 0.15);\n",
              "      fill: #174EA6;\n",
              "    }\n",
              "\n",
              "    .colab-df-buttons div {\n",
              "      margin-bottom: 4px;\n",
              "    }\n",
              "\n",
              "    [theme=dark] .colab-df-convert {\n",
              "      background-color: #3B4455;\n",
              "      fill: #D2E3FC;\n",
              "    }\n",
              "\n",
              "    [theme=dark] .colab-df-convert:hover {\n",
              "      background-color: #434B5C;\n",
              "      box-shadow: 0px 1px 3px 1px rgba(0, 0, 0, 0.15);\n",
              "      filter: drop-shadow(0px 1px 2px rgba(0, 0, 0, 0.3));\n",
              "      fill: #FFFFFF;\n",
              "    }\n",
              "  </style>\n",
              "\n",
              "    <script>\n",
              "      const buttonEl =\n",
              "        document.querySelector('#df-aa20f8b6-71eb-4ce5-83e1-a3a57a3f3ae4 button.colab-df-convert');\n",
              "      buttonEl.style.display =\n",
              "        google.colab.kernel.accessAllowed ? 'block' : 'none';\n",
              "\n",
              "      async function convertToInteractive(key) {\n",
              "        const element = document.querySelector('#df-aa20f8b6-71eb-4ce5-83e1-a3a57a3f3ae4');\n",
              "        const dataTable =\n",
              "          await google.colab.kernel.invokeFunction('convertToInteractive',\n",
              "                                                    [key], {});\n",
              "        if (!dataTable) return;\n",
              "\n",
              "        const docLinkHtml = 'Like what you see? Visit the ' +\n",
              "          '<a target=\"_blank\" href=https://colab.research.google.com/notebooks/data_table.ipynb>data table notebook</a>'\n",
              "          + ' to learn more about interactive tables.';\n",
              "        element.innerHTML = '';\n",
              "        dataTable['output_type'] = 'display_data';\n",
              "        await google.colab.output.renderOutput(dataTable, element);\n",
              "        const docLink = document.createElement('div');\n",
              "        docLink.innerHTML = docLinkHtml;\n",
              "        element.appendChild(docLink);\n",
              "      }\n",
              "    </script>\n",
              "  </div>\n",
              "\n",
              "\n",
              "    <div id=\"df-6ba02136-78e8-4d64-923d-ce4f06c53c76\">\n",
              "      <button class=\"colab-df-quickchart\" onclick=\"quickchart('df-6ba02136-78e8-4d64-923d-ce4f06c53c76')\"\n",
              "                title=\"Suggest charts\"\n",
              "                style=\"display:none;\">\n",
              "\n",
              "<svg xmlns=\"http://www.w3.org/2000/svg\" height=\"24px\"viewBox=\"0 0 24 24\"\n",
              "     width=\"24px\">\n",
              "    <g>\n",
              "        <path d=\"M19 3H5c-1.1 0-2 .9-2 2v14c0 1.1.9 2 2 2h14c1.1 0 2-.9 2-2V5c0-1.1-.9-2-2-2zM9 17H7v-7h2v7zm4 0h-2V7h2v10zm4 0h-2v-4h2v4z\"/>\n",
              "    </g>\n",
              "</svg>\n",
              "      </button>\n",
              "\n",
              "<style>\n",
              "  .colab-df-quickchart {\n",
              "      --bg-color: #E8F0FE;\n",
              "      --fill-color: #1967D2;\n",
              "      --hover-bg-color: #E2EBFA;\n",
              "      --hover-fill-color: #174EA6;\n",
              "      --disabled-fill-color: #AAA;\n",
              "      --disabled-bg-color: #DDD;\n",
              "  }\n",
              "\n",
              "  [theme=dark] .colab-df-quickchart {\n",
              "      --bg-color: #3B4455;\n",
              "      --fill-color: #D2E3FC;\n",
              "      --hover-bg-color: #434B5C;\n",
              "      --hover-fill-color: #FFFFFF;\n",
              "      --disabled-bg-color: #3B4455;\n",
              "      --disabled-fill-color: #666;\n",
              "  }\n",
              "\n",
              "  .colab-df-quickchart {\n",
              "    background-color: var(--bg-color);\n",
              "    border: none;\n",
              "    border-radius: 50%;\n",
              "    cursor: pointer;\n",
              "    display: none;\n",
              "    fill: var(--fill-color);\n",
              "    height: 32px;\n",
              "    padding: 0;\n",
              "    width: 32px;\n",
              "  }\n",
              "\n",
              "  .colab-df-quickchart:hover {\n",
              "    background-color: var(--hover-bg-color);\n",
              "    box-shadow: 0 1px 2px rgba(60, 64, 67, 0.3), 0 1px 3px 1px rgba(60, 64, 67, 0.15);\n",
              "    fill: var(--button-hover-fill-color);\n",
              "  }\n",
              "\n",
              "  .colab-df-quickchart-complete:disabled,\n",
              "  .colab-df-quickchart-complete:disabled:hover {\n",
              "    background-color: var(--disabled-bg-color);\n",
              "    fill: var(--disabled-fill-color);\n",
              "    box-shadow: none;\n",
              "  }\n",
              "\n",
              "  .colab-df-spinner {\n",
              "    border: 2px solid var(--fill-color);\n",
              "    border-color: transparent;\n",
              "    border-bottom-color: var(--fill-color);\n",
              "    animation:\n",
              "      spin 1s steps(1) infinite;\n",
              "  }\n",
              "\n",
              "  @keyframes spin {\n",
              "    0% {\n",
              "      border-color: transparent;\n",
              "      border-bottom-color: var(--fill-color);\n",
              "      border-left-color: var(--fill-color);\n",
              "    }\n",
              "    20% {\n",
              "      border-color: transparent;\n",
              "      border-left-color: var(--fill-color);\n",
              "      border-top-color: var(--fill-color);\n",
              "    }\n",
              "    30% {\n",
              "      border-color: transparent;\n",
              "      border-left-color: var(--fill-color);\n",
              "      border-top-color: var(--fill-color);\n",
              "      border-right-color: var(--fill-color);\n",
              "    }\n",
              "    40% {\n",
              "      border-color: transparent;\n",
              "      border-right-color: var(--fill-color);\n",
              "      border-top-color: var(--fill-color);\n",
              "    }\n",
              "    60% {\n",
              "      border-color: transparent;\n",
              "      border-right-color: var(--fill-color);\n",
              "    }\n",
              "    80% {\n",
              "      border-color: transparent;\n",
              "      border-right-color: var(--fill-color);\n",
              "      border-bottom-color: var(--fill-color);\n",
              "    }\n",
              "    90% {\n",
              "      border-color: transparent;\n",
              "      border-bottom-color: var(--fill-color);\n",
              "    }\n",
              "  }\n",
              "</style>\n",
              "\n",
              "      <script>\n",
              "        async function quickchart(key) {\n",
              "          const quickchartButtonEl =\n",
              "            document.querySelector('#' + key + ' button');\n",
              "          quickchartButtonEl.disabled = true;  // To prevent multiple clicks.\n",
              "          quickchartButtonEl.classList.add('colab-df-spinner');\n",
              "          try {\n",
              "            const charts = await google.colab.kernel.invokeFunction(\n",
              "                'suggestCharts', [key], {});\n",
              "          } catch (error) {\n",
              "            console.error('Error during call to suggestCharts:', error);\n",
              "          }\n",
              "          quickchartButtonEl.classList.remove('colab-df-spinner');\n",
              "          quickchartButtonEl.classList.add('colab-df-quickchart-complete');\n",
              "        }\n",
              "        (() => {\n",
              "          let quickchartButtonEl =\n",
              "            document.querySelector('#df-6ba02136-78e8-4d64-923d-ce4f06c53c76 button');\n",
              "          quickchartButtonEl.style.display =\n",
              "            google.colab.kernel.accessAllowed ? 'block' : 'none';\n",
              "        })();\n",
              "      </script>\n",
              "    </div>\n",
              "\n",
              "    </div>\n",
              "  </div>\n"
            ],
            "application/vnd.google.colaboratory.intrinsic+json": {
              "type": "dataframe",
              "summary": "{\n  \"name\": \"x\",\n  \"rows\": 8,\n  \"fields\": [\n    {\n      \"column\": \"A1\",\n      \"properties\": {\n        \"dtype\": \"number\",\n        \"std\": 243.74280633094654,\n        \"min\": 0.0,\n        \"max\": 690.0,\n        \"num_unique_values\": 5,\n        \"samples\": [\n          0.6782608695652174,\n          1.0,\n          0.46748239187205515\n        ],\n        \"semantic_type\": \"\",\n        \"description\": \"\"\n      }\n    },\n    {\n      \"column\": \"A2\",\n      \"properties\": {\n        \"dtype\": \"number\",\n        \"std\": 233.49586680120564,\n        \"min\": 11.853272772971625,\n        \"max\": 690.0,\n        \"num_unique_values\": 8,\n        \"samples\": [\n          31.568202898550723,\n          28.625,\n          690.0\n        ],\n        \"semantic_type\": \"\",\n        \"description\": \"\"\n      }\n    },\n    {\n      \"column\": \"A3\",\n      \"properties\": {\n        \"dtype\": \"number\",\n        \"std\": 241.65597249245926,\n        \"min\": 0.0,\n        \"max\": 690.0,\n        \"num_unique_values\": 8,\n        \"samples\": [\n          4.758724637681159,\n          2.75,\n          690.0\n        ],\n        \"semantic_type\": \"\",\n        \"description\": \"\"\n      }\n    },\n    {\n      \"column\": \"A4\",\n      \"properties\": {\n        \"dtype\": \"number\",\n        \"std\": 243.33700182500615,\n        \"min\": 0.430062832236197,\n        \"max\": 690.0,\n        \"num_unique_values\": 6,\n        \"samples\": [\n          690.0,\n          1.7666666666666666,\n          3.0\n        ],\n        \"semantic_type\": \"\",\n        \"description\": \"\"\n      }\n    },\n    {\n      \"column\": \"A5\",\n      \"properties\": {\n        \"dtype\": \"number\",\n        \"std\": 241.55866999692972,\n        \"min\": 1.0,\n        \"max\": 690.0,\n        \"num_unique_values\": 8,\n        \"samples\": [\n          7.372463768115942,\n          8.0,\n          690.0\n        ],\n        \"semantic_type\": \"\",\n        \"description\": \"\"\n      }\n    },\n    {\n      \"column\": \"A6\",\n      \"properties\": {\n        \"dtype\": \"number\",\n        \"std\": 242.46403748584527,\n        \"min\": 1.0,\n        \"max\": 690.0,\n        \"num_unique_values\": 7,\n        \"samples\": [\n          690.0,\n          4.6927536231884055,\n          5.0\n        ],\n        \"semantic_type\": \"\",\n        \"description\": \"\"\n      }\n    },\n    {\n      \"column\": \"A7\",\n      \"properties\": {\n        \"dtype\": \"number\",\n        \"std\": 242.22592842094193,\n        \"min\": 0.0,\n        \"max\": 690.0,\n        \"num_unique_values\": 8,\n        \"samples\": [\n          2.223405797101449,\n          1.0,\n          690.0\n        ],\n        \"semantic_type\": \"\",\n        \"description\": \"\"\n      }\n    },\n    {\n      \"column\": \"A8\",\n      \"properties\": {\n        \"dtype\": \"number\",\n        \"std\": 243.74900169008484,\n        \"min\": 0.0,\n        \"max\": 690.0,\n        \"num_unique_values\": 5,\n        \"samples\": [\n          0.5231884057971015,\n          1.0,\n          0.49982433127002585\n        ],\n        \"semantic_type\": \"\",\n        \"description\": \"\"\n      }\n    },\n    {\n      \"column\": \"A9\",\n      \"properties\": {\n        \"dtype\": \"number\",\n        \"std\": 243.8045789085278,\n        \"min\": 0.0,\n        \"max\": 690.0,\n        \"num_unique_values\": 5,\n        \"samples\": [\n          0.427536231884058,\n          1.0,\n          0.4950800196191823\n        ],\n        \"semantic_type\": \"\",\n        \"description\": \"\"\n      }\n    },\n    {\n      \"column\": \"A10\",\n      \"properties\": {\n        \"dtype\": \"number\",\n        \"std\": 241.14040243098174,\n        \"min\": 0.0,\n        \"max\": 690.0,\n        \"num_unique_values\": 6,\n        \"samples\": [\n          690.0,\n          2.4,\n          67.0\n        ],\n        \"semantic_type\": \"\",\n        \"description\": \"\"\n      }\n    },\n    {\n      \"column\": \"A11\",\n      \"properties\": {\n        \"dtype\": \"number\",\n        \"std\": 243.8028649125633,\n        \"min\": 0.0,\n        \"max\": 690.0,\n        \"num_unique_values\": 5,\n        \"samples\": [\n          0.4579710144927536,\n          1.0,\n          0.49859186246113885\n        ],\n        \"semantic_type\": \"\",\n        \"description\": \"\"\n      }\n    },\n    {\n      \"column\": \"A12\",\n      \"properties\": {\n        \"dtype\": \"number\",\n        \"std\": 243.33554879137128,\n        \"min\": 0.29881306041181216,\n        \"max\": 690.0,\n        \"num_unique_values\": 6,\n        \"samples\": [\n          690.0,\n          1.9289855072463769,\n          3.0\n        ],\n        \"semantic_type\": \"\",\n        \"description\": \"\"\n      }\n    },\n    {\n      \"column\": \"A13\",\n      \"properties\": {\n        \"dtype\": \"number\",\n        \"std\": 661.4928009670566,\n        \"min\": 0.0,\n        \"max\": 2000.0,\n        \"num_unique_values\": 8,\n        \"samples\": [\n          184.0144927536232,\n          160.0,\n          690.0\n        ],\n        \"semantic_type\": \"\",\n        \"description\": \"\"\n      }\n    },\n    {\n      \"column\": \"A14\",\n      \"properties\": {\n        \"dtype\": \"number\",\n        \"std\": 35028.989681030536,\n        \"min\": 1.0,\n        \"max\": 100001.0,\n        \"num_unique_values\": 7,\n        \"samples\": [\n          690.0,\n          1018.3855072463768,\n          396.5\n        ],\n        \"semantic_type\": \"\",\n        \"description\": \"\"\n      }\n    }\n  ]\n}"
            }
          },
          "metadata": {},
          "execution_count": 53
        }
      ]
    },
    {
      "cell_type": "markdown",
      "source": [
        "> 👁️‍🗨️ Mucha disparidad en la dispersión de los datos (desviación estandar) entre las distintas features. Por ejemplo `A12` con una desviación estandar de 0.30 y `A14` con 5210.  \n",
        "\n",
        "> 👁️‍🗨️ Definitivamente va a requerir algo de trabajo al respecto en la sección `Punto 3. Preprocesamiento`."
      ],
      "metadata": {
        "id": "X7jI7Z3YlAmG"
      }
    },
    {
      "cell_type": "markdown",
      "source": [
        "👉🏻 Histogramas para ver las distribuciones ..."
      ],
      "metadata": {
        "id": "iGXzTwOrAdB0"
      }
    },
    {
      "cell_type": "code",
      "source": [
        "# primero los histogramas... uso un único gráfico para ver todo\n",
        "plt.figure(figsize=(14, 6))                               # tamaño de la figura\n",
        "\n",
        "# iterar sobre las columnas para dibujar un histograma para cada una\n",
        "for i, col in enumerate(x.columns):\n",
        "  plt.subplot(3, 5, i+1)                                  # 3 filas, 5 columnas, nro de sub-gráfico\n",
        "  sns.histplot(x[col], kde=True, bins=10, color='green')  # histograma + KDE (estimación de densidad)\n",
        "  plt.title(f\"Histograma de '{ col }'\", fontsize=9)       # título del gráfico\n",
        "  plt.xlabel('')                                          # etiqueta del eje x\n",
        "  plt.ylabel('frecuencias', fontsize=7, labelpad=4)       # etiqueta del eje y\n",
        "  plt.tight_layout()                                      # diseño compacto\n",
        "\n",
        "plt.show()"
      ],
      "metadata": {
        "id": "r6p8-_YUAgMY",
        "colab": {
          "base_uri": "https://localhost:8080/",
          "height": 54
        },
        "outputId": "94ceed88-122f-4cca-d16a-a93893dc9de3"
      },
      "execution_count": 54,
      "outputs": [
        {
          "output_type": "display_data",
          "data": {
            "text/plain": [
              "<Figure size 1400x600 with 14 Axes>"
            ],
            "image/png": "[encoded data removed]"
          },
          "metadata": {}
        }
      ]
    },
    {
      "cell_type": "markdown",
      "source": [
        "> 👁️‍🗨️ Feito el dataset que me elegí... 😖\n",
        "\n",
        "> 👁️‍🗨️ Ya del vamos del histograma se anticipa que `A7`, `A10`, `A13` y `A14` van a estar llenos de outliers... igualmente a continuación graficos los box-plot correspondientes.\n",
        "\n",
        "> 👁️‍🗨️ Las features `A1`, `A4`, `A5`, `A6`, `A8`, `A9`, `A11` y `A12` son categóricas, lo que explica su rango tan acotado de valores posibles.\n",
        "\n",
        "> 👁️‍🗨️ El dataset presenta muchos features desbalanceados, dato a tener en cuenta más adelante al momento de evaluar las métricas. Considerar solamente la `accuracy` sería un error.\n",
        "\n",
        "> 👁️‍🗨️ En las features `A4` y `A12` sus únicas opciones son `1`, `2` o `3`."
      ],
      "metadata": {
        "id": "n3lfyV-1Al1Z"
      }
    },
    {
      "cell_type": "code",
      "source": [
        "# luego los box-plot... uso un único gráfico para ver todo\n",
        "plt.figure(figsize=(14, 4.5))                           # tamaño de la figura\n",
        "\n",
        "# iterar sobre las columnas para dibujar un boxplot para cada una\n",
        "for i, col in enumerate(x.columns):\n",
        "  plt.subplot(3, 5, i+1)                                # 3 filas, 5 columnas, nro de sub-gráfico\n",
        "  sns.boxplot(x[col], color='lightgreen')               # boxplot\n",
        "  plt.title(f\"Boxplot de { col }\", fontsize=9)          # título\n",
        "  plt.ylabel('rango', fontsize=7, labelpad=4)           # etiqueta del eje y\n",
        "  plt.tight_layout()                                    # diseño compacto\n",
        "\n",
        "plt.show()"
      ],
      "metadata": {
        "id": "z-ZdeI-IAuTX",
        "colab": {
          "base_uri": "https://localhost:8080/",
          "height": 54
        },
        "outputId": "406dfb37-9dad-40a9-a2c1-4e97ffeef7ab"
      },
      "execution_count": 55,
      "outputs": [
        {
          "output_type": "display_data",
          "data": {
            "text/plain": [
              "<Figure size 1400x450 with 14 Axes>"
            ],
            "image/png": "[encoded data removed]"
          },
          "metadata": {}
        }
      ]
    },
    {
      "cell_type": "markdown",
      "source": [
        "> 👁️‍🗨️ Ya de los histogramas se podía esperar que las featurea `A4` y `A12` presentaran sus observaciones fuera de la caja (están visualizando rangos muy acotados).\n",
        "\n",
        "> 👁️‍🗨️ Algunos features como `A2`, `A3`, `A7`, `A10`, `A13` y `A14` presentan muchos outliers. Llegado al `Punto 3. Preprocesamiento` para la generalidad de los outliers \"cercanos\", tal vez con imputarlos al valor extremo del rango intercuartíleo ya alcance.\n",
        "\n",
        "> 👁️‍🗨️ En los casos de las features `A10`, `A13` y `A14`, además presentan outliers **extremadamente** alejados del rango intercuartíleo. Llegado al `Punto 3. Preprocesamiento` para estos pocos outliers extremos tal vez lo mejor sea considerar de eliminarlos.\n"
      ],
      "metadata": {
        "id": "1ybKAVoAA0C3"
      }
    },
    {
      "cell_type": "markdown",
      "source": [
        " 👉🏻 Búsqueda de Outliers (mediante z-score) ..."
      ],
      "metadata": {
        "id": "vviNpKxpA-uO"
      }
    },
    {
      "cell_type": "code",
      "source": [
        "# calcular el z-score\n",
        "def z_score(x):\n",
        "  return (x - x.mean()) / x.std()\n",
        "\n",
        "# otra opción\n",
        "# from scipy import stats\n",
        "# z_scores = stats.zscore(x)"
      ],
      "metadata": {
        "id": "LeMZH2D_AhA1"
      },
      "execution_count": 56,
      "outputs": []
    },
    {
      "cell_type": "code",
      "source": [
        "# detectar outliers (3+ sigmas, 99% de los datos)\n",
        "z_scores = z_score(x)\n",
        "outliers = np.abs(z_scores) > 3\n",
        "\n",
        "# contar filas con 1+ outliers\n",
        "outliers_per_row = outliers.any(axis=1).sum()\n",
        "\n",
        "print('Filas con 1+ outliers: ', outliers_per_row)\n",
        "print('Total de outliers:     ', outliers.sum().sum())\n",
        "print('Detalle por feature:   ', outliers.sum().values)"
      ],
      "metadata": {
        "id": "mN8LhKb2BGiW",
        "colab": {
          "base_uri": "https://localhost:8080/"
        },
        "outputId": "5ac42cab-8fb1-4c2d-e17a-45ea9c74cad1"
      },
      "execution_count": 57,
      "outputs": [
        {
          "output_type": "stream",
          "name": "stdout",
          "text": [
            "Filas con 1+ outliers:  110\n",
            "Total de outliers:      129\n",
            "Detalle por feature:    [ 0  9 10  0  0  0 22  0  0  8  0 65  9  6]\n"
          ]
        }
      ]
    },
    {
      "cell_type": "markdown",
      "source": [
        "> 👁️‍🗨️ Algunas features tienen bastantes outliers, en particular las `A7` y `A12`.\n",
        "\n",
        "> 👁️‍🗨️ Siendo que el dataset trae 690 observaciones, los 110 outliers representa casi un 16% del total.  \n",
        "\n",
        "> 👁️‍🗨️ Definitivamente va a requerir algo de trabajo de imputación en la sección `Punto 3. Preprocesamiento`."
      ],
      "metadata": {
        "id": "reoBOs5XBKbb"
      }
    },
    {
      "cell_type": "markdown",
      "source": [
        "👉🏻 Búsqueda de Outliers \"extremos\" ..."
      ],
      "metadata": {
        "id": "4xXq6VfhCqxe"
      }
    },
    {
      "cell_type": "code",
      "source": [
        "# detectar outliers extremos (4+ sigmas)\n",
        "xl_outliers = np.abs(z_scores) > 4\n",
        "\n",
        "# contar filas con 1+ outliers\n",
        "xl_outliers_per_row = xl_outliers.any(axis=1).sum()\n",
        "\n",
        "print('Filas con 1+ outliers extremos: ', xl_outliers_per_row)\n",
        "print('Total de outliers extremos:     ', xl_outliers.sum().sum())\n",
        "print('Detalle por feature extremos:   ', xl_outliers.sum().values)"
      ],
      "metadata": {
        "colab": {
          "base_uri": "https://localhost:8080/"
        },
        "id": "FCedMSyVAXRR",
        "outputId": "53b9e7fa-37f2-4142-96a4-1dae3593fb81"
      },
      "execution_count": 58,
      "outputs": [
        {
          "output_type": "stream",
          "name": "stdout",
          "text": [
            "Filas con 1+ outliers extremos:  22\n",
            "Total de outliers extremos:      24\n",
            "Detalle por feature extremos:    [0 1 5 0 0 0 6 0 0 3 0 0 4 5]\n"
          ]
        }
      ]
    },
    {
      "cell_type": "markdown",
      "source": [
        "> 👁️‍🗨️ Hay 10 filas que contienen outliers que se desvían a aún más de 5 sigmas de la media. 😱\n",
        "\n",
        "> 👁️‍🗨️ Hay 22 filas que contienen outliers (que bueno que son 22 solamente) que se desvían a más de 4 sigmas de la media.\n",
        "\n",
        "> 👁️‍🗨️ A estas 22 observaciones (representan un 3% de la muestra) más adelante mejor las elimino y listo."
      ],
      "metadata": {
        "id": "G6tJqbSbAyKp"
      }
    },
    {
      "cell_type": "markdown",
      "source": [
        "👉🏻 Analizando correlaciones entre los features (features selection) ..."
      ],
      "metadata": {
        "id": "wwEVVZkWBaEC"
      }
    },
    {
      "cell_type": "code",
      "source": [
        "correlation = x.corr()\n",
        "\n",
        "plt.figure(figsize=(10, 8))\n",
        "sns.heatmap(correlation, annot=True, cmap='coolwarm', annot_kws={\"size\": 8})\n",
        "plt.title('Matriz de Correlación', pad=15)\n",
        "plt.xticks(rotation=45, ha='right', fontsize=8)   # rotar los label a 45 grados y alinear su texto\n",
        "plt.yticks(rotation=45, va='top', fontsize=8)     # rotar los label a 45 grados y alinear su texto\n",
        "plt.show()"
      ],
      "metadata": {
        "id": "doe7ppbdBcmW",
        "colab": {
          "base_uri": "https://localhost:8080/",
          "height": 54
        },
        "outputId": "b4bbfe79-8ebf-4c1f-90b9-b0e0c195f0de"
      },
      "execution_count": 59,
      "outputs": [
        {
          "output_type": "display_data",
          "data": {
            "text/plain": [
              "<Figure size 1000x800 with 2 Axes>"
            ],
            "image/png": "[encoded data removed]"
          },
          "metadata": {}
        }
      ]
    },
    {
      "cell_type": "markdown",
      "source": [
        "> 👁️‍🗨️ Pareciera haber una correlación media entre `A9` y `A10`.\n",
        "\n",
        "> 👁️‍🗨️ Pese a ello, con una magnitud de 0.57 entre ambas, no lo considero -a priori- que sea tan grave como para requerir eliminar alguna de estas features como 'duplicada'."
      ],
      "metadata": {
        "id": "jTN1N_L-Bf0C"
      }
    },
    {
      "cell_type": "markdown",
      "source": [
        "## ✂️ Punto 3. **Preprocesamiento**"
      ],
      "metadata": {
        "id": "A1Ajkh2O70cd"
      }
    },
    {
      "cell_type": "markdown",
      "source": [
        "### 📋 Consignas:"
      ],
      "metadata": {
        "id": "wdl38HkwwqN0"
      }
    },
    {
      "cell_type": "markdown",
      "source": [
        "- Limpieza: Manejen missing values (eliminar, imputar) y outliers (si es necesario).  \n",
        "- Limpieza: indique cuáles features descarta. Justifique.\n",
        "- Indique si usará o no variables categóricas. Justifique. Realice su preprocesamiento adeucado.\n",
        "- Otros pasos que crea conveniente para pre-procesar el dataset (mencione y explique)"
      ],
      "metadata": {
        "id": "XFtwogdS7pmL"
      }
    },
    {
      "cell_type": "markdown",
      "source": [
        "Detalla las caracteristicas del dataset como nro de variables, nro de filas o instancias, si el problema es clasificacion binaria o multiclase, y otras características que crea conveniente.\n",
        "\n",
        "Realice la división de datos (entrenamiento / testeo / CV según corresponda)"
      ],
      "metadata": {
        "id": "JAUnqCCZScjP"
      }
    },
    {
      "cell_type": "markdown",
      "source": [
        "### 📝 Resolución:"
      ],
      "metadata": {
        "id": "28o4EfDd_WQg"
      }
    },
    {
      "cell_type": "markdown",
      "source": [
        "👉🏻 Característica del dataset ..."
      ],
      "metadata": {
        "id": "OqlYKAHwgv-O"
      }
    },
    {
      "cell_type": "markdown",
      "source": [
        "> Ya resuelto dentro de la sección `Observaciones` del `Punto 1. Selección del Dataset`."
      ],
      "metadata": {
        "id": "aALM7ryUg0G3"
      }
    },
    {
      "cell_type": "markdown",
      "source": [
        "👉🏻 Missing values ...\n",
        "\n",
        "> 👁️‍🗨️ Por lo que investigué, el tratamiento de `nulos` y `duplicados` es mejor realizarlo como parte del Análisis Inicial de Datos (IDA), no tanto del Análisis Exploratorio de Datos (EDA).  \n",
        "\n",
        "> 👁️‍🗨️ Es por ello, que esa parte de las consignas de preprocesamiento las resolví en el `Punto 1`, en lugar del `Punto 3`.  \n",
        "Más información en la sección `Referencias`."
      ],
      "metadata": {
        "id": "a7qdTaxy_WQg"
      }
    },
    {
      "cell_type": "markdown",
      "source": [
        "👉🏻 Tratamiento de **outliers** ...\n",
        "\n",
        "> Del `Punto 2. EDA` observé que en el dataset existen 110 filas (un 16% del total de la muestra) con al menos 1 outlier.  \n",
        "Me parece que es mucho para eliminarnos de un plumazo.\n",
        "\n",
        "> Voy a utilizar un estrategia mixta para con los outliers ...\n"
      ],
      "metadata": {
        "id": "mDcakZvhBx6t"
      }
    },
    {
      "cell_type": "markdown",
      "source": [
        "  - En el caso de los 22 outliers \"extremos\" a 4+ sigmas (3% de del dataset) procedo a eliminarlos.\n",
        "  - Con el paso previo ya se incluirán los 10 outliers detectados a 5+ sigmas de la media (1% del dataset)."
      ],
      "metadata": {
        "id": "ySROUpNHVR8n"
      }
    },
    {
      "cell_type": "code",
      "source": [
        "# boletear los outliers extremos (4+ sigmas)\n",
        "x = x[~xl_outliers.any(axis=1)]\n",
        "y = y[~xl_outliers.any(axis=1)]\n",
        "\n",
        "print(x.shape, y.shape) # 690-22 = 668"
      ],
      "metadata": {
        "id": "On_Ef-tt_WQi",
        "colab": {
          "base_uri": "https://localhost:8080/"
        },
        "outputId": "14d3e85e-62ec-488a-d67f-b122ec811cea"
      },
      "execution_count": 60,
      "outputs": [
        {
          "output_type": "stream",
          "name": "stdout",
          "text": [
            "(668, 14) (668, 1)\n"
          ]
        }
      ]
    },
    {
      "cell_type": "markdown",
      "source": [
        "  - Para las 88 observaciones entre 3 a 4 sigmas de la media, procederé a imputarles su rango intercuartíleo.\n",
        "\n"
      ],
      "metadata": {
        "id": "59m-e31eVFdH"
      }
    },
    {
      "cell_type": "code",
      "source": [
        "# las features del tipo 'contínuo'\n",
        "cols = ['A2', 'A3', 'A7', 'A10', 'A13', 'A14']\n",
        "\n",
        "for col in cols:\n",
        "  Q1 = x[col].quantile(0.25)\n",
        "  Q3 = x[col].quantile(0.75)\n",
        "  IQR = Q3 - Q1\n",
        "  lower_bound = Q1 - (IQR * 1.5)\n",
        "  upper_bound = Q3 + (IQR * 1.5)\n",
        "\n",
        "  # reemplazar los valores extremos con el rango intercuartíleo\n",
        "  x[col] = x[col].clip(lower=lower_bound, upper=upper_bound)"
      ],
      "metadata": {
        "id": "aqzSkDGRCN8d"
      },
      "execution_count": 61,
      "outputs": []
    },
    {
      "cell_type": "code",
      "source": [
        "z_scores = z_score(x)\n",
        "outliers = np.abs(z_scores) > 3\n",
        "\n",
        "# contar filas con 1+ outliers\n",
        "outliers_per_row = outliers.any(axis=1).sum()\n",
        "\n",
        "print('Filas con 1+ outliers: ', outliers_per_row)\n",
        "print('Total de outliers:     ', outliers.sum().sum())\n",
        "print('Detalle por feature:   ', outliers.sum().values)"
      ],
      "metadata": {
        "colab": {
          "base_uri": "https://localhost:8080/"
        },
        "id": "Pz1szsKoYcgF",
        "outputId": "e435cae2-9085-42d9-e7b6-ed653dfc38b7"
      },
      "execution_count": 62,
      "outputs": [
        {
          "output_type": "stream",
          "name": "stdout",
          "text": [
            "Filas con 1+ outliers:  61\n",
            "Total de outliers:      61\n",
            "Detalle por feature:    [ 0  0  0  0  0  0  0  0  0  0  0 61  0  0]\n"
          ]
        }
      ]
    },
    {
      "cell_type": "markdown",
      "source": [
        "> 👁️‍🗨️ Los 61 \"outliers\" que quedan son únicamente sobre `A12` que es del tipo categórica.\n",
        "\n",
        "> 👁️‍🗨️ De esta manera descarté los casos más \"extremos\", pero imputando la mayoría de los outliers."
      ],
      "metadata": {
        "id": "euXepwW7CSKt"
      }
    },
    {
      "cell_type": "markdown",
      "source": [
        "👉🏻 Descarte de features ...\n",
        "\n",
        "> Del `Punto 2. EDA`, tras la sección de `análisis de correlaciones`... considero mejor de probar utilizando todos las features disponibles."
      ],
      "metadata": {
        "id": "-rrQ_w6yCbXN"
      }
    },
    {
      "cell_type": "code",
      "source": [
        "# si se quisiera eliminar alguna feature del dataset ...\n",
        "# x = x.drop('A99', axis=1, errors='ignore')\n",
        "# x.head(3)"
      ],
      "metadata": {
        "id": "Gv-BEF-ICehw"
      },
      "execution_count": 63,
      "outputs": []
    },
    {
      "cell_type": "markdown",
      "source": [
        "👉🏻 Variables categóricas + Escalado de features ..."
      ],
      "metadata": {
        "id": "cSC3DUhMCjFv"
      }
    },
    {
      "cell_type": "code",
      "source": [
        "num_cols = ['A2', 'A3', 'A7', 'A10', 'A13', 'A14']              # columnas 1, 2, 6, 9, 12, 13\n",
        "cat_cols = ['A1', 'A4', 'A5', 'A6', 'A8', 'A9', 'A11', 'A12']   # columnas 0, 3, 4, 5, 7, 8, 10, 11\n",
        "\n",
        "# el preprocesamiento es el mismo para 'regresión logistica' y 'KNN'\n",
        "preprocessor = ColumnTransformer([\n",
        "    (\"num\", StandardScaler(), num_cols),\n",
        "    (\"cat\", OneHotEncoder(handle_unknown=\"ignore\"), cat_cols)\n",
        "])"
      ],
      "metadata": {
        "id": "cVV7GN-lChsm"
      },
      "execution_count": 64,
      "outputs": []
    },
    {
      "cell_type": "markdown",
      "source": [
        "> 👁️‍🗨️ Voy a aprovechar que en la clase previa vimos el tema de los `pipelines` y hacer esta parte del preprocesamiento haciendo uso de los mismos.\n"
      ],
      "metadata": {
        "id": "12f4RqFpCpma"
      }
    },
    {
      "cell_type": "markdown",
      "source": [
        "👉🏻 Separar los datos en los conjuntos de entrenamiento y prueba ...  \n",
        "\n",
        "- Para algoritmos de clasificación, conviene activar la `estratificación` como salvaguarda en caso que las clases estén desbalanceadas.\n",
        "- Esto analiza el dataset previo a la separación, y garantiza que se preserve el mismo ratio original de clases, sobre los conjuntos de entrenamiento y prueba resultantes.\n",
        "- Más info al respecto en la sección `Referencias`."
      ],
      "metadata": {
        "id": "KnFelAfYYLwJ"
      }
    },
    {
      "cell_type": "code",
      "source": [
        "x_train, x_test, y_train, y_test = train_test_split(x, y, test_size=0.2, stratify=y, random_state=1234)"
      ],
      "metadata": {
        "id": "3_4bC-NMYRcQ"
      },
      "execution_count": 65,
      "outputs": []
    },
    {
      "cell_type": "markdown",
      "source": [
        "## 🧮 Punto 4. **Clasificación con Logistic Regression**\n",
        "   "
      ],
      "metadata": {
        "id": "8z3BaKBi70w2"
      }
    },
    {
      "cell_type": "markdown",
      "source": [
        "En este apartado entrenará un clasificador con la librería sklearn usando logistic regresion."
      ],
      "metadata": {
        "id": "r1TUO4F8VMLr"
      }
    },
    {
      "cell_type": "markdown",
      "source": [
        "### 🎯 4.1 Entrenamiento y Evaluación"
      ],
      "metadata": {
        "id": "rikY9bTOZIdR"
      }
    },
    {
      "cell_type": "markdown",
      "source": [
        "👉🏻 Definir un pipeline para `regresión logística` ..."
      ],
      "metadata": {
        "id": "X2ox-ABPW9Td"
      }
    },
    {
      "cell_type": "code",
      "source": [
        "# pipeline para regresión logística\n",
        "logreg_pipeline = Pipeline([\n",
        "  (\"preprocessing\", preprocessor),\n",
        "  (\"model\", LogisticRegression(max_iter=1000))\n",
        "])"
      ],
      "metadata": {
        "id": "qRyxmspU9YMo"
      },
      "execution_count": 66,
      "outputs": []
    },
    {
      "cell_type": "markdown",
      "source": [
        "👉🏻 Entrenar el modelo ..."
      ],
      "metadata": {
        "id": "ww_oSBfqTBBs"
      }
    },
    {
      "cell_type": "code",
      "source": [
        "logreg_pipeline.fit(x_train, y_train)"
      ],
      "metadata": {
        "colab": {
          "base_uri": "https://localhost:8080/",
          "height": 269
        },
        "collapsed": true,
        "id": "8kkPSQmeXpCL",
        "outputId": "8b3bb466-1adf-43df-ae5e-05c983b2436c"
      },
      "execution_count": 67,
      "outputs": [
        {
          "output_type": "execute_result",
          "data": {
            "text/plain": [
              "Pipeline(steps=[('preprocessing',\n",
              "                 ColumnTransformer(transformers=[('num', StandardScaler(),\n",
              "                                                  ['A2', 'A3', 'A7', 'A10',\n",
              "                                                   'A13', 'A14']),\n",
              "                                                 ('cat',\n",
              "                                                  OneHotEncoder(handle_unknown='ignore'),\n",
              "                                                  ['A1', 'A4', 'A5', 'A6', 'A8',\n",
              "                                                   'A9', 'A11', 'A12'])])),\n",
              "                ('model', LogisticRegression(max_iter=1000))])"
            ],
            "text/html": [
              "<style>#sk-container-id-3 {\n",
              "  /* Definition of color scheme common for light and dark mode */\n",
              "  --sklearn-color-text: #000;\n",
              "  --sklearn-color-text-muted: #666;\n",
              "  --sklearn-color-line: gray;\n",
              "  /* Definition of color scheme for unfitted estimators */\n",
              "  --sklearn-color-unfitted-level-0: #fff5e6;\n",
              "  --sklearn-color-unfitted-level-1: #f6e4d2;\n",
              "  --sklearn-color-unfitted-level-2: #ffe0b3;\n",
              "  --sklearn-color-unfitted-level-3: chocolate;\n",
              "  /* Definition of color scheme for fitted estimators */\n",
              "  --sklearn-color-fitted-level-0: #f0f8ff;\n",
              "  --sklearn-color-fitted-level-1: #d4ebff;\n",
              "  --sklearn-color-fitted-level-2: #b3dbfd;\n",
              "  --sklearn-color-fitted-level-3: cornflowerblue;\n",
              "\n",
              "  /* Specific color for light theme */\n",
              "  --sklearn-color-text-on-default-background: var(--sg-text-color, var(--theme-code-foreground, var(--jp-content-font-color1, black)));\n",
              "  --sklearn-color-background: var(--sg-background-color, var(--theme-background, var(--jp-layout-color0, white)));\n",
              "  --sklearn-color-border-box: var(--sg-text-color, var(--theme-code-foreground, var(--jp-content-font-color1, black)));\n",
              "  --sklearn-color-icon: #696969;\n",
              "\n",
              "  @media (prefers-color-scheme: dark) {\n",
              "    /* Redefinition of color scheme for dark theme */\n",
              "    --sklearn-color-text-on-default-background: var(--sg-text-color, var(--theme-code-foreground, var(--jp-content-font-color1, white)));\n",
              "    --sklearn-color-background: var(--sg-background-color, var(--theme-background, var(--jp-layout-color0, #111)));\n",
              "    --sklearn-color-border-box: var(--sg-text-color, var(--theme-code-foreground, var(--jp-content-font-color1, white)));\n",
              "    --sklearn-color-icon: #878787;\n",
              "  }\n",
              "}\n",
              "\n",
              "#sk-container-id-3 {\n",
              "  color: var(--sklearn-color-text);\n",
              "}\n",
              "\n",
              "#sk-container-id-3 pre {\n",
              "  padding: 0;\n",
              "}\n",
              "\n",
              "#sk-container-id-3 input.sk-hidden--visually {\n",
              "  border: 0;\n",
              "  clip: rect(1px 1px 1px 1px);\n",
              "  clip: rect(1px, 1px, 1px, 1px);\n",
              "  height: 1px;\n",
              "  margin: -1px;\n",
              "  overflow: hidden;\n",
              "  padding: 0;\n",
              "  position: absolute;\n",
              "  width: 1px;\n",
              "}\n",
              "\n",
              "#sk-container-id-3 div.sk-dashed-wrapped {\n",
              "  border: 1px dashed var(--sklearn-color-line);\n",
              "  margin: 0 0.4em 0.5em 0.4em;\n",
              "  box-sizing: border-box;\n",
              "  padding-bottom: 0.4em;\n",
              "  background-color: var(--sklearn-color-background);\n",
              "}\n",
              "\n",
              "#sk-container-id-3 div.sk-container {\n",
              "  /* jupyter's `normalize.less` sets `[hidden] { display: none; }`\n",
              "     but bootstrap.min.css set `[hidden] { display: none !important; }`\n",
              "     so we also need the `!important` here to be able to override the\n",
              "     default hidden behavior on the sphinx rendered scikit-learn.org.\n",
              "     See: https://github.com/scikit-learn/scikit-learn/issues/21755 */\n",
              "  display: inline-block !important;\n",
              "  position: relative;\n",
              "}\n",
              "\n",
              "#sk-container-id-3 div.sk-text-repr-fallback {\n",
              "  display: none;\n",
              "}\n",
              "\n",
              "div.sk-parallel-item,\n",
              "div.sk-serial,\n",
              "div.sk-item {\n",
              "  /* draw centered vertical line to link estimators */\n",
              "  background-image: linear-gradient(var(--sklearn-color-text-on-default-background), var(--sklearn-color-text-on-default-background));\n",
              "  background-size: 2px 100%;\n",
              "  background-repeat: no-repeat;\n",
              "  background-position: center center;\n",
              "}\n",
              "\n",
              "/* Parallel-specific style estimator block */\n",
              "\n",
              "#sk-container-id-3 div.sk-parallel-item::after {\n",
              "  content: \"\";\n",
              "  width: 100%;\n",
              "  border-bottom: 2px solid var(--sklearn-color-text-on-default-background);\n",
              "  flex-grow: 1;\n",
              "}\n",
              "\n",
              "#sk-container-id-3 div.sk-parallel {\n",
              "  display: flex;\n",
              "  align-items: stretch;\n",
              "  justify-content: center;\n",
              "  background-color: var(--sklearn-color-background);\n",
              "  position: relative;\n",
              "}\n",
              "\n",
              "#sk-container-id-3 div.sk-parallel-item {\n",
              "  display: flex;\n",
              "  flex-direction: column;\n",
              "}\n",
              "\n",
              "#sk-container-id-3 div.sk-parallel-item:first-child::after {\n",
              "  align-self: flex-end;\n",
              "  width: 50%;\n",
              "}\n",
              "\n",
              "#sk-container-id-3 div.sk-parallel-item:last-child::after {\n",
              "  align-self: flex-start;\n",
              "  width: 50%;\n",
              "}\n",
              "\n",
              "#sk-container-id-3 div.sk-parallel-item:only-child::after {\n",
              "  width: 0;\n",
              "}\n",
              "\n",
              "/* Serial-specific style estimator block */\n",
              "\n",
              "#sk-container-id-3 div.sk-serial {\n",
              "  display: flex;\n",
              "  flex-direction: column;\n",
              "  align-items: center;\n",
              "  background-color: var(--sklearn-color-background);\n",
              "  padding-right: 1em;\n",
              "  padding-left: 1em;\n",
              "}\n",
              "\n",
              "\n",
              "/* Toggleable style: style used for estimator/Pipeline/ColumnTransformer box that is\n",
              "clickable and can be expanded/collapsed.\n",
              "- Pipeline and ColumnTransformer use this feature and define the default style\n",
              "- Estimators will overwrite some part of the style using the `sk-estimator` class\n",
              "*/\n",
              "\n",
              "/* Pipeline and ColumnTransformer style (default) */\n",
              "\n",
              "#sk-container-id-3 div.sk-toggleable {\n",
              "  /* Default theme specific background. It is overwritten whether we have a\n",
              "  specific estimator or a Pipeline/ColumnTransformer */\n",
              "  background-color: var(--sklearn-color-background);\n",
              "}\n",
              "\n",
              "/* Toggleable label */\n",
              "#sk-container-id-3 label.sk-toggleable__label {\n",
              "  cursor: pointer;\n",
              "  display: flex;\n",
              "  width: 100%;\n",
              "  margin-bottom: 0;\n",
              "  padding: 0.5em;\n",
              "  box-sizing: border-box;\n",
              "  text-align: center;\n",
              "  align-items: start;\n",
              "  justify-content: space-between;\n",
              "  gap: 0.5em;\n",
              "}\n",
              "\n",
              "#sk-container-id-3 label.sk-toggleable__label .caption {\n",
              "  font-size: 0.6rem;\n",
              "  font-weight: lighter;\n",
              "  color: var(--sklearn-color-text-muted);\n",
              "}\n",
              "\n",
              "#sk-container-id-3 label.sk-toggleable__label-arrow:before {\n",
              "  /* Arrow on the left of the label */\n",
              "  content: \"▸\";\n",
              "  float: left;\n",
              "  margin-right: 0.25em;\n",
              "  color: var(--sklearn-color-icon);\n",
              "}\n",
              "\n",
              "#sk-container-id-3 label.sk-toggleable__label-arrow:hover:before {\n",
              "  color: var(--sklearn-color-text);\n",
              "}\n",
              "\n",
              "/* Toggleable content - dropdown */\n",
              "\n",
              "#sk-container-id-3 div.sk-toggleable__content {\n",
              "  max-height: 0;\n",
              "  max-width: 0;\n",
              "  overflow: hidden;\n",
              "  text-align: left;\n",
              "  /* unfitted */\n",
              "  background-color: var(--sklearn-color-unfitted-level-0);\n",
              "}\n",
              "\n",
              "#sk-container-id-3 div.sk-toggleable__content.fitted {\n",
              "  /* fitted */\n",
              "  background-color: var(--sklearn-color-fitted-level-0);\n",
              "}\n",
              "\n",
              "#sk-container-id-3 div.sk-toggleable__content pre {\n",
              "  margin: 0.2em;\n",
              "  border-radius: 0.25em;\n",
              "  color: var(--sklearn-color-text);\n",
              "  /* unfitted */\n",
              "  background-color: var(--sklearn-color-unfitted-level-0);\n",
              "}\n",
              "\n",
              "#sk-container-id-3 div.sk-toggleable__content.fitted pre {\n",
              "  /* unfitted */\n",
              "  background-color: var(--sklearn-color-fitted-level-0);\n",
              "}\n",
              "\n",
              "#sk-container-id-3 input.sk-toggleable__control:checked~div.sk-toggleable__content {\n",
              "  /* Expand drop-down */\n",
              "  max-height: 200px;\n",
              "  max-width: 100%;\n",
              "  overflow: auto;\n",
              "}\n",
              "\n",
              "#sk-container-id-3 input.sk-toggleable__control:checked~label.sk-toggleable__label-arrow:before {\n",
              "  content: \"▾\";\n",
              "}\n",
              "\n",
              "/* Pipeline/ColumnTransformer-specific style */\n",
              "\n",
              "#sk-container-id-3 div.sk-label input.sk-toggleable__control:checked~label.sk-toggleable__label {\n",
              "  color: var(--sklearn-color-text);\n",
              "  background-color: var(--sklearn-color-unfitted-level-2);\n",
              "}\n",
              "\n",
              "#sk-container-id-3 div.sk-label.fitted input.sk-toggleable__control:checked~label.sk-toggleable__label {\n",
              "  background-color: var(--sklearn-color-fitted-level-2);\n",
              "}\n",
              "\n",
              "/* Estimator-specific style */\n",
              "\n",
              "/* Colorize estimator box */\n",
              "#sk-container-id-3 div.sk-estimator input.sk-toggleable__control:checked~label.sk-toggleable__label {\n",
              "  /* unfitted */\n",
              "  background-color: var(--sklearn-color-unfitted-level-2);\n",
              "}\n",
              "\n",
              "#sk-container-id-3 div.sk-estimator.fitted input.sk-toggleable__control:checked~label.sk-toggleable__label {\n",
              "  /* fitted */\n",
              "  background-color: var(--sklearn-color-fitted-level-2);\n",
              "}\n",
              "\n",
              "#sk-container-id-3 div.sk-label label.sk-toggleable__label,\n",
              "#sk-container-id-3 div.sk-label label {\n",
              "  /* The background is the default theme color */\n",
              "  color: var(--sklearn-color-text-on-default-background);\n",
              "}\n",
              "\n",
              "/* On hover, darken the color of the background */\n",
              "#sk-container-id-3 div.sk-label:hover label.sk-toggleable__label {\n",
              "  color: var(--sklearn-color-text);\n",
              "  background-color: var(--sklearn-color-unfitted-level-2);\n",
              "}\n",
              "\n",
              "/* Label box, darken color on hover, fitted */\n",
              "#sk-container-id-3 div.sk-label.fitted:hover label.sk-toggleable__label.fitted {\n",
              "  color: var(--sklearn-color-text);\n",
              "  background-color: var(--sklearn-color-fitted-level-2);\n",
              "}\n",
              "\n",
              "/* Estimator label */\n",
              "\n",
              "#sk-container-id-3 div.sk-label label {\n",
              "  font-family: monospace;\n",
              "  font-weight: bold;\n",
              "  display: inline-block;\n",
              "  line-height: 1.2em;\n",
              "}\n",
              "\n",
              "#sk-container-id-3 div.sk-label-container {\n",
              "  text-align: center;\n",
              "}\n",
              "\n",
              "/* Estimator-specific */\n",
              "#sk-container-id-3 div.sk-estimator {\n",
              "  font-family: monospace;\n",
              "  border: 1px dotted var(--sklearn-color-border-box);\n",
              "  border-radius: 0.25em;\n",
              "  box-sizing: border-box;\n",
              "  margin-bottom: 0.5em;\n",
              "  /* unfitted */\n",
              "  background-color: var(--sklearn-color-unfitted-level-0);\n",
              "}\n",
              "\n",
              "#sk-container-id-3 div.sk-estimator.fitted {\n",
              "  /* fitted */\n",
              "  background-color: var(--sklearn-color-fitted-level-0);\n",
              "}\n",
              "\n",
              "/* on hover */\n",
              "#sk-container-id-3 div.sk-estimator:hover {\n",
              "  /* unfitted */\n",
              "  background-color: var(--sklearn-color-unfitted-level-2);\n",
              "}\n",
              "\n",
              "#sk-container-id-3 div.sk-estimator.fitted:hover {\n",
              "  /* fitted */\n",
              "  background-color: var(--sklearn-color-fitted-level-2);\n",
              "}\n",
              "\n",
              "/* Specification for estimator info (e.g. \"i\" and \"?\") */\n",
              "\n",
              "/* Common style for \"i\" and \"?\" */\n",
              "\n",
              ".sk-estimator-doc-link,\n",
              "a:link.sk-estimator-doc-link,\n",
              "a:visited.sk-estimator-doc-link {\n",
              "  float: right;\n",
              "  font-size: smaller;\n",
              "  line-height: 1em;\n",
              "  font-family: monospace;\n",
              "  background-color: var(--sklearn-color-background);\n",
              "  border-radius: 1em;\n",
              "  height: 1em;\n",
              "  width: 1em;\n",
              "  text-decoration: none !important;\n",
              "  margin-left: 0.5em;\n",
              "  text-align: center;\n",
              "  /* unfitted */\n",
              "  border: var(--sklearn-color-unfitted-level-1) 1pt solid;\n",
              "  color: var(--sklearn-color-unfitted-level-1);\n",
              "}\n",
              "\n",
              ".sk-estimator-doc-link.fitted,\n",
              "a:link.sk-estimator-doc-link.fitted,\n",
              "a:visited.sk-estimator-doc-link.fitted {\n",
              "  /* fitted */\n",
              "  border: var(--sklearn-color-fitted-level-1) 1pt solid;\n",
              "  color: var(--sklearn-color-fitted-level-1);\n",
              "}\n",
              "\n",
              "/* On hover */\n",
              "div.sk-estimator:hover .sk-estimator-doc-link:hover,\n",
              ".sk-estimator-doc-link:hover,\n",
              "div.sk-label-container:hover .sk-estimator-doc-link:hover,\n",
              ".sk-estimator-doc-link:hover {\n",
              "  /* unfitted */\n",
              "  background-color: var(--sklearn-color-unfitted-level-3);\n",
              "  color: var(--sklearn-color-background);\n",
              "  text-decoration: none;\n",
              "}\n",
              "\n",
              "div.sk-estimator.fitted:hover .sk-estimator-doc-link.fitted:hover,\n",
              ".sk-estimator-doc-link.fitted:hover,\n",
              "div.sk-label-container:hover .sk-estimator-doc-link.fitted:hover,\n",
              ".sk-estimator-doc-link.fitted:hover {\n",
              "  /* fitted */\n",
              "  background-color: var(--sklearn-color-fitted-level-3);\n",
              "  color: var(--sklearn-color-background);\n",
              "  text-decoration: none;\n",
              "}\n",
              "\n",
              "/* Span, style for the box shown on hovering the info icon */\n",
              ".sk-estimator-doc-link span {\n",
              "  display: none;\n",
              "  z-index: 9999;\n",
              "  position: relative;\n",
              "  font-weight: normal;\n",
              "  right: .2ex;\n",
              "  padding: .5ex;\n",
              "  margin: .5ex;\n",
              "  width: min-content;\n",
              "  min-width: 20ex;\n",
              "  max-width: 50ex;\n",
              "  color: var(--sklearn-color-text);\n",
              "  box-shadow: 2pt 2pt 4pt #999;\n",
              "  /* unfitted */\n",
              "  background: var(--sklearn-color-unfitted-level-0);\n",
              "  border: .5pt solid var(--sklearn-color-unfitted-level-3);\n",
              "}\n",
              "\n",
              ".sk-estimator-doc-link.fitted span {\n",
              "  /* fitted */\n",
              "  background: var(--sklearn-color-fitted-level-0);\n",
              "  border: var(--sklearn-color-fitted-level-3);\n",
              "}\n",
              "\n",
              ".sk-estimator-doc-link:hover span {\n",
              "  display: block;\n",
              "}\n",
              "\n",
              "/* \"?\"-specific style due to the `<a>` HTML tag */\n",
              "\n",
              "#sk-container-id-3 a.estimator_doc_link {\n",
              "  float: right;\n",
              "  font-size: 1rem;\n",
              "  line-height: 1em;\n",
              "  font-family: monospace;\n",
              "  background-color: var(--sklearn-color-background);\n",
              "  border-radius: 1rem;\n",
              "  height: 1rem;\n",
              "  width: 1rem;\n",
              "  text-decoration: none;\n",
              "  /* unfitted */\n",
              "  color: var(--sklearn-color-unfitted-level-1);\n",
              "  border: var(--sklearn-color-unfitted-level-1) 1pt solid;\n",
              "}\n",
              "\n",
              "#sk-container-id-3 a.estimator_doc_link.fitted {\n",
              "  /* fitted */\n",
              "  border: var(--sklearn-color-fitted-level-1) 1pt solid;\n",
              "  color: var(--sklearn-color-fitted-level-1);\n",
              "}\n",
              "\n",
              "/* On hover */\n",
              "#sk-container-id-3 a.estimator_doc_link:hover {\n",
              "  /* unfitted */\n",
              "  background-color: var(--sklearn-color-unfitted-level-3);\n",
              "  color: var(--sklearn-color-background);\n",
              "  text-decoration: none;\n",
              "}\n",
              "\n",
              "#sk-container-id-3 a.estimator_doc_link.fitted:hover {\n",
              "  /* fitted */\n",
              "  background-color: var(--sklearn-color-fitted-level-3);\n",
              "}\n",
              "</style><div id=\"sk-container-id-3\" class=\"sk-top-container\"><div class=\"sk-text-repr-fallback\"><pre>Pipeline(steps=[(&#x27;preprocessing&#x27;,\n",
              "                 ColumnTransformer(transformers=[(&#x27;num&#x27;, StandardScaler(),\n",
              "                                                  [&#x27;A2&#x27;, &#x27;A3&#x27;, &#x27;A7&#x27;, &#x27;A10&#x27;,\n",
              "                                                   &#x27;A13&#x27;, &#x27;A14&#x27;]),\n",
              "                                                 (&#x27;cat&#x27;,\n",
              "                                                  OneHotEncoder(handle_unknown=&#x27;ignore&#x27;),\n",
              "                                                  [&#x27;A1&#x27;, &#x27;A4&#x27;, &#x27;A5&#x27;, &#x27;A6&#x27;, &#x27;A8&#x27;,\n",
              "                                                   &#x27;A9&#x27;, &#x27;A11&#x27;, &#x27;A12&#x27;])])),\n",
              "                (&#x27;model&#x27;, LogisticRegression(max_iter=1000))])</pre><b>In a Jupyter environment, please rerun this cell to show the HTML representation or trust the notebook. <br />On GitHub, the HTML representation is unable to render, please try loading this page with nbviewer.org.</b></div><div class=\"sk-container\" hidden><div class=\"sk-item sk-dashed-wrapped\"><div class=\"sk-label-container\"><div class=\"sk-label fitted sk-toggleable\"><input class=\"sk-toggleable__control sk-hidden--visually\" id=\"sk-estimator-id-15\" type=\"checkbox\" ><label for=\"sk-estimator-id-15\" class=\"sk-toggleable__label fitted sk-toggleable__label-arrow\"><div><div>Pipeline</div></div><div><a class=\"sk-estimator-doc-link fitted\" rel=\"noreferrer\" target=\"_blank\" href=\"https://scikit-learn.org/1.6/modules/generated/sklearn.pipeline.Pipeline.html\">?<span>Documentation for Pipeline</span></a><span class=\"sk-estimator-doc-link fitted\">i<span>Fitted</span></span></div></label><div class=\"sk-toggleable__content fitted\"><pre>Pipeline(steps=[(&#x27;preprocessing&#x27;,\n",
              "                 ColumnTransformer(transformers=[(&#x27;num&#x27;, StandardScaler(),\n",
              "                                                  [&#x27;A2&#x27;, &#x27;A3&#x27;, &#x27;A7&#x27;, &#x27;A10&#x27;,\n",
              "                                                   &#x27;A13&#x27;, &#x27;A14&#x27;]),\n",
              "                                                 (&#x27;cat&#x27;,\n",
              "                                                  OneHotEncoder(handle_unknown=&#x27;ignore&#x27;),\n",
              "                                                  [&#x27;A1&#x27;, &#x27;A4&#x27;, &#x27;A5&#x27;, &#x27;A6&#x27;, &#x27;A8&#x27;,\n",
              "                                                   &#x27;A9&#x27;, &#x27;A11&#x27;, &#x27;A12&#x27;])])),\n",
              "                (&#x27;model&#x27;, LogisticRegression(max_iter=1000))])</pre></div> </div></div><div class=\"sk-serial\"><div class=\"sk-item sk-dashed-wrapped\"><div class=\"sk-label-container\"><div class=\"sk-label fitted sk-toggleable\"><input class=\"sk-toggleable__control sk-hidden--visually\" id=\"sk-estimator-id-16\" type=\"checkbox\" ><label for=\"sk-estimator-id-16\" class=\"sk-toggleable__label fitted sk-toggleable__label-arrow\"><div><div>preprocessing: ColumnTransformer</div></div><div><a class=\"sk-estimator-doc-link fitted\" rel=\"noreferrer\" target=\"_blank\" href=\"https://scikit-learn.org/1.6/modules/generated/sklearn.compose.ColumnTransformer.html\">?<span>Documentation for preprocessing: ColumnTransformer</span></a></div></label><div class=\"sk-toggleable__content fitted\"><pre>ColumnTransformer(transformers=[(&#x27;num&#x27;, StandardScaler(),\n",
              "                                 [&#x27;A2&#x27;, &#x27;A3&#x27;, &#x27;A7&#x27;, &#x27;A10&#x27;, &#x27;A13&#x27;, &#x27;A14&#x27;]),\n",
              "                                (&#x27;cat&#x27;, OneHotEncoder(handle_unknown=&#x27;ignore&#x27;),\n",
              "                                 [&#x27;A1&#x27;, &#x27;A4&#x27;, &#x27;A5&#x27;, &#x27;A6&#x27;, &#x27;A8&#x27;, &#x27;A9&#x27;, &#x27;A11&#x27;,\n",
              "                                  &#x27;A12&#x27;])])</pre></div> </div></div><div class=\"sk-parallel\"><div class=\"sk-parallel-item\"><div class=\"sk-item\"><div class=\"sk-label-container\"><div class=\"sk-label fitted sk-toggleable\"><input class=\"sk-toggleable__control sk-hidden--visually\" id=\"sk-estimator-id-17\" type=\"checkbox\" ><label for=\"sk-estimator-id-17\" class=\"sk-toggleable__label fitted sk-toggleable__label-arrow\"><div><div>num</div></div></label><div class=\"sk-toggleable__content fitted\"><pre>[&#x27;A2&#x27;, &#x27;A3&#x27;, &#x27;A7&#x27;, &#x27;A10&#x27;, &#x27;A13&#x27;, &#x27;A14&#x27;]</pre></div> </div></div><div class=\"sk-serial\"><div class=\"sk-item\"><div class=\"sk-estimator fitted sk-toggleable\"><input class=\"sk-toggleable__control sk-hidden--visually\" id=\"sk-estimator-id-18\" type=\"checkbox\" ><label for=\"sk-estimator-id-18\" class=\"sk-toggleable__label fitted sk-toggleable__label-arrow\"><div><div>StandardScaler</div></div><div><a class=\"sk-estimator-doc-link fitted\" rel=\"noreferrer\" target=\"_blank\" href=\"https://scikit-learn.org/1.6/modules/generated/sklearn.preprocessing.StandardScaler.html\">?<span>Documentation for StandardScaler</span></a></div></label><div class=\"sk-toggleable__content fitted\"><pre>StandardScaler()</pre></div> </div></div></div></div></div><div class=\"sk-parallel-item\"><div class=\"sk-item\"><div class=\"sk-label-container\"><div class=\"sk-label fitted sk-toggleable\"><input class=\"sk-toggleable__control sk-hidden--visually\" id=\"sk-estimator-id-19\" type=\"checkbox\" ><label for=\"sk-estimator-id-19\" class=\"sk-toggleable__label fitted sk-toggleable__label-arrow\"><div><div>cat</div></div></label><div class=\"sk-toggleable__content fitted\"><pre>[&#x27;A1&#x27;, &#x27;A4&#x27;, &#x27;A5&#x27;, &#x27;A6&#x27;, &#x27;A8&#x27;, &#x27;A9&#x27;, &#x27;A11&#x27;, &#x27;A12&#x27;]</pre></div> </div></div><div class=\"sk-serial\"><div class=\"sk-item\"><div class=\"sk-estimator fitted sk-toggleable\"><input class=\"sk-toggleable__control sk-hidden--visually\" id=\"sk-estimator-id-20\" type=\"checkbox\" ><label for=\"sk-estimator-id-20\" class=\"sk-toggleable__label fitted sk-toggleable__label-arrow\"><div><div>OneHotEncoder</div></div><div><a class=\"sk-estimator-doc-link fitted\" rel=\"noreferrer\" target=\"_blank\" href=\"https://scikit-learn.org/1.6/modules/generated/sklearn.preprocessing.OneHotEncoder.html\">?<span>Documentation for OneHotEncoder</span></a></div></label><div class=\"sk-toggleable__content fitted\"><pre>OneHotEncoder(handle_unknown=&#x27;ignore&#x27;)</pre></div> </div></div></div></div></div></div></div><div class=\"sk-item\"><div class=\"sk-estimator fitted sk-toggleable\"><input class=\"sk-toggleable__control sk-hidden--visually\" id=\"sk-estimator-id-21\" type=\"checkbox\" ><label for=\"sk-estimator-id-21\" class=\"sk-toggleable__label fitted sk-toggleable__label-arrow\"><div><div>LogisticRegression</div></div><div><a class=\"sk-estimator-doc-link fitted\" rel=\"noreferrer\" target=\"_blank\" href=\"https://scikit-learn.org/1.6/modules/generated/sklearn.linear_model.LogisticRegression.html\">?<span>Documentation for LogisticRegression</span></a></div></label><div class=\"sk-toggleable__content fitted\"><pre>LogisticRegression(max_iter=1000)</pre></div> </div></div></div></div></div></div>"
            ]
          },
          "metadata": {},
          "execution_count": 67
        }
      ]
    },
    {
      "cell_type": "markdown",
      "source": [
        "👉🏻 Las predicciones (conjunto de **entrenamiento**) ..."
      ],
      "metadata": {
        "id": "KJRhG_wpeaGY"
      }
    },
    {
      "cell_type": "code",
      "source": [
        "y_train_pred_logreg = logreg_pipeline.predict(x_train)"
      ],
      "metadata": {
        "id": "pr71bH2XDTeI"
      },
      "execution_count": 68,
      "outputs": []
    },
    {
      "cell_type": "markdown",
      "source": [
        "👉🏻 Algunas métricas sobre los datos de entrenamiento ..."
      ],
      "metadata": {
        "id": "pnNH8BOXFFQI"
      }
    },
    {
      "cell_type": "code",
      "source": [
        "logreg_train_conf_matrix = confusion_matrix(y_train, y_train_pred_logreg)\n",
        "logreg_train_accuracy = accuracy_score(y_train, y_train_pred_logreg)\n",
        "logreg_train_f1_score = f1_score(y_train, y_train_pred_logreg)\n",
        "logreg_train_report = classification_report(y_train, y_train_pred_logreg)\n",
        "\n",
        "print(\"** Regresión Logística **  (conj. de entrenamiento)\", \"\\n\")\n",
        "print(\"Matriz de confusión:\")\n",
        "print(logreg_train_conf_matrix, \"\\n\")\n",
        "print(\"Accuracy: \", round(logreg_train_accuracy, 3))\n",
        "print(\"F1-Score: \", round(logreg_train_f1_score, 3), \"\\n\")\n",
        "print(\"Reporte: \")\n",
        "print(logreg_train_report)"
      ],
      "metadata": {
        "colab": {
          "base_uri": "https://localhost:8080/"
        },
        "id": "FHqsSB_VE0f8",
        "outputId": "819e5017-2596-4f51-db71-3eac388ae102"
      },
      "execution_count": 69,
      "outputs": [
        {
          "output_type": "stream",
          "name": "stdout",
          "text": [
            "** Regresión Logística **  (conj. de entrenamiento) \n",
            "\n",
            "Matriz de confusión:\n",
            "[[262  39]\n",
            " [ 27 206]] \n",
            "\n",
            "Accuracy:  0.876\n",
            "F1-Score:  0.862 \n",
            "\n",
            "Reporte: \n",
            "              precision    recall  f1-score   support\n",
            "\n",
            "           0       0.91      0.87      0.89       301\n",
            "           1       0.84      0.88      0.86       233\n",
            "\n",
            "    accuracy                           0.88       534\n",
            "   macro avg       0.87      0.88      0.88       534\n",
            "weighted avg       0.88      0.88      0.88       534\n",
            "\n"
          ]
        }
      ]
    },
    {
      "cell_type": "markdown",
      "source": [
        "### 🎯 4.2 Métricas de Evaluación"
      ],
      "metadata": {
        "id": "6ze4WFvdZJeS"
      }
    },
    {
      "cell_type": "markdown",
      "source": [
        "Muestre el desempeño en el conjunto de datos de entrenamiento y testeo.  \n",
        "Mencione las métricas utilizadas. No se olvide de mostrar la matriz de confusión.  \n",
        "Explique los resultados obtenidos."
      ],
      "metadata": {
        "id": "LudCJRf7TLnn"
      }
    },
    {
      "cell_type": "markdown",
      "source": [
        "👉🏻 Las predicciones (conjunto de **test**) ..."
      ],
      "metadata": {
        "id": "uGtgfY9FETgm"
      }
    },
    {
      "cell_type": "code",
      "source": [
        "y_test_pred_logreg = logreg_pipeline.predict(x_test)"
      ],
      "metadata": {
        "id": "Ny7MaZcCec1O"
      },
      "execution_count": 70,
      "outputs": []
    },
    {
      "cell_type": "markdown",
      "source": [
        "👉🏻 Computar métricas para evaluar el modelo ..."
      ],
      "metadata": {
        "id": "uAPwp093cG81"
      }
    },
    {
      "cell_type": "code",
      "source": [
        "logreg_test_conf_matrix = confusion_matrix(y_test, y_test_pred_logreg)\n",
        "logreg_test_accuracy = accuracy_score(y_test, y_test_pred_logreg)\n",
        "logreg_test_f1_score = f1_score(y_test, y_test_pred_logreg)\n",
        "logreg_test_report = classification_report(y_test, y_test_pred_logreg)\n",
        "\n",
        "print(\"** Regresión Logística **  (conj. de test)\", \"\\n\")\n",
        "print(\"Matriz de confusión:\")\n",
        "print(logreg_test_conf_matrix, \"\\n\")\n",
        "print(\"Accuracy: \", round(logreg_test_accuracy, 3))\n",
        "print(\"F1-Score: \", round(logreg_test_f1_score, 3), \"\\n\")\n",
        "print(\"Reporte: \")\n",
        "print(logreg_test_report)"
      ],
      "metadata": {
        "id": "Ae-XsYAATwnN",
        "colab": {
          "base_uri": "https://localhost:8080/"
        },
        "outputId": "6c39ccb0-f289-49a0-aa1c-4a7ec8f54f08"
      },
      "execution_count": 71,
      "outputs": [
        {
          "output_type": "stream",
          "name": "stdout",
          "text": [
            "** Regresión Logística **  (conj. de test) \n",
            "\n",
            "Matriz de confusión:\n",
            "[[69  6]\n",
            " [ 8 51]] \n",
            "\n",
            "Accuracy:  0.896\n",
            "F1-Score:  0.879 \n",
            "\n",
            "Reporte: \n",
            "              precision    recall  f1-score   support\n",
            "\n",
            "           0       0.90      0.92      0.91        75\n",
            "           1       0.89      0.86      0.88        59\n",
            "\n",
            "    accuracy                           0.90       134\n",
            "   macro avg       0.90      0.89      0.89       134\n",
            "weighted avg       0.90      0.90      0.90       134\n",
            "\n"
          ]
        }
      ]
    },
    {
      "cell_type": "markdown",
      "source": [
        "### 💡 Observaciones"
      ],
      "metadata": {
        "id": "6AEn72EeKkvh"
      }
    },
    {
      "cell_type": "markdown",
      "source": [
        "> 👁️‍🗨️ Detalle de las métricas:\n",
        "  - Para el conjunto de entrenamiento la `accuracy=0.876` y el `f1-score=0.862`.\n",
        "  - Para el conjunto de test la `accuracy=0.896` y el `f1-score=0.879`.\n",
        "\n",
        "> 👁️‍🗨️ Importante señalar que el f1-score ya engloba de forma armónica a las métricas `precisión` y `sensibilidad (recall)`.\n",
        "\n",
        "> 👁️‍🗨️ Comparando las métricas sobre ambos conjuntos, estas son similares, lo cual es una **buena señal** de que el modelo no tenga overfitting sobre el conjunto de entrenamiento, y que generaliza bastante bien cuando es expuesto a nuevos datos. 😃\n"
      ],
      "metadata": {
        "id": "AKo8sIvWdPcT"
      }
    },
    {
      "cell_type": "markdown",
      "source": [
        "## 🔄 Punto 5. **Otro Clasificador**"
      ],
      "metadata": {
        "id": "2jeYUeYRUCpK"
      }
    },
    {
      "cell_type": "markdown",
      "source": [
        "### 🎯 5.1 Elija otro modelo para entrenar un clasificador\n"
      ],
      "metadata": {
        "id": "T_EtuciQVCZ4"
      }
    },
    {
      "cell_type": "markdown",
      "source": [
        "Elija alguno de los modelos vistos: kNN, SVM o MLP para entrenar un clasificador usando los parámetros por defecto de sklearn.\n",
        "\n",
        "Justifique su elección."
      ],
      "metadata": {
        "id": "yItbXHNI8XfF"
      }
    },
    {
      "cell_type": "markdown",
      "source": [
        "> 👁️‍🗨️ Para el `Punto 4` se solicitó entrenar un modelo de `Regresión Logística`, y en el `Punto 5` voy a estar utilizarzo `K-Nearest Neighbors`. Espero poder mejorar luego el desempeño de `KNN`, durante el tunning en el `Punto 6`.\n",
        "\n",
        "> 👁️‍🗨️ Ambos son sensibles a la escala de los datos y no manejan bien las variables categóricas codificadas como números (una categoría '4' termina implicando mayor 'distancia' que otra categoría '1').\n",
        "\n",
        "> 👁️‍🗨️ Me hubiera gustado al `Punto 5` hacerlo con `Arboles` (que lleva un preprocesamiento diferente) pero no está en la lista de algoritmos permitidos. 🤷🏻‍♂️"
      ],
      "metadata": {
        "id": "xoj2nSMNTreN"
      }
    },
    {
      "cell_type": "markdown",
      "source": [
        "👉🏻 Definir un pipeline para `K-Nearest Neighbors` ...\n",
        "\n",
        "- En esta sección voy a tomar un valor de `k=10` arbitrario.\n",
        "- Luego en el `Punto 6. Tuneo de Hiperparámetros` se busca el valor de `k` más conveniente."
      ],
      "metadata": {
        "id": "e-iU2cFXXMHW"
      }
    },
    {
      "cell_type": "code",
      "source": [
        "# pipeline para KNN (mismo preprocesador)\n",
        "knn_pipeline = Pipeline([\n",
        "  (\"preprocessing\", preprocessor),\n",
        "  (\"model\", KNeighborsClassifier(n_neighbors=10))\n",
        "])"
      ],
      "metadata": {
        "id": "qamnkFxN8Yv1"
      },
      "execution_count": 72,
      "outputs": []
    },
    {
      "cell_type": "markdown",
      "source": [
        "### 🎯 5.2 Entrenamiento del modelo."
      ],
      "metadata": {
        "id": "vWvwDaJ_VdR2"
      }
    },
    {
      "cell_type": "markdown",
      "source": [
        "👉🏻 Entrenar el modelo ..."
      ],
      "metadata": {
        "id": "V_R3ByMdYfS1"
      }
    },
    {
      "cell_type": "code",
      "source": [
        "knn_pipeline.fit(x_train, y_train)"
      ],
      "metadata": {
        "colab": {
          "base_uri": "https://localhost:8080/",
          "height": 269
        },
        "collapsed": true,
        "id": "VPo5xYeOYdmZ",
        "outputId": "8ced5b5d-b456-4cee-e5f3-7dc01788c385"
      },
      "execution_count": 73,
      "outputs": [
        {
          "output_type": "execute_result",
          "data": {
            "text/plain": [
              "Pipeline(steps=[('preprocessing',\n",
              "                 ColumnTransformer(transformers=[('num', StandardScaler(),\n",
              "                                                  ['A2', 'A3', 'A7', 'A10',\n",
              "                                                   'A13', 'A14']),\n",
              "                                                 ('cat',\n",
              "                                                  OneHotEncoder(handle_unknown='ignore'),\n",
              "                                                  ['A1', 'A4', 'A5', 'A6', 'A8',\n",
              "                                                   'A9', 'A11', 'A12'])])),\n",
              "                ('model', KNeighborsClassifier(n_neighbors=10))])"
            ],
            "text/html": [
              "<style>#sk-container-id-4 {\n",
              "  /* Definition of color scheme common for light and dark mode */\n",
              "  --sklearn-color-text: #000;\n",
              "  --sklearn-color-text-muted: #666;\n",
              "  --sklearn-color-line: gray;\n",
              "  /* Definition of color scheme for unfitted estimators */\n",
              "  --sklearn-color-unfitted-level-0: #fff5e6;\n",
              "  --sklearn-color-unfitted-level-1: #f6e4d2;\n",
              "  --sklearn-color-unfitted-level-2: #ffe0b3;\n",
              "  --sklearn-color-unfitted-level-3: chocolate;\n",
              "  /* Definition of color scheme for fitted estimators */\n",
              "  --sklearn-color-fitted-level-0: #f0f8ff;\n",
              "  --sklearn-color-fitted-level-1: #d4ebff;\n",
              "  --sklearn-color-fitted-level-2: #b3dbfd;\n",
              "  --sklearn-color-fitted-level-3: cornflowerblue;\n",
              "\n",
              "  /* Specific color for light theme */\n",
              "  --sklearn-color-text-on-default-background: var(--sg-text-color, var(--theme-code-foreground, var(--jp-content-font-color1, black)));\n",
              "  --sklearn-color-background: var(--sg-background-color, var(--theme-background, var(--jp-layout-color0, white)));\n",
              "  --sklearn-color-border-box: var(--sg-text-color, var(--theme-code-foreground, var(--jp-content-font-color1, black)));\n",
              "  --sklearn-color-icon: #696969;\n",
              "\n",
              "  @media (prefers-color-scheme: dark) {\n",
              "    /* Redefinition of color scheme for dark theme */\n",
              "    --sklearn-color-text-on-default-background: var(--sg-text-color, var(--theme-code-foreground, var(--jp-content-font-color1, white)));\n",
              "    --sklearn-color-background: var(--sg-background-color, var(--theme-background, var(--jp-layout-color0, #111)));\n",
              "    --sklearn-color-border-box: var(--sg-text-color, var(--theme-code-foreground, var(--jp-content-font-color1, white)));\n",
              "    --sklearn-color-icon: #878787;\n",
              "  }\n",
              "}\n",
              "\n",
              "#sk-container-id-4 {\n",
              "  color: var(--sklearn-color-text);\n",
              "}\n",
              "\n",
              "#sk-container-id-4 pre {\n",
              "  padding: 0;\n",
              "}\n",
              "\n",
              "#sk-container-id-4 input.sk-hidden--visually {\n",
              "  border: 0;\n",
              "  clip: rect(1px 1px 1px 1px);\n",
              "  clip: rect(1px, 1px, 1px, 1px);\n",
              "  height: 1px;\n",
              "  margin: -1px;\n",
              "  overflow: hidden;\n",
              "  padding: 0;\n",
              "  position: absolute;\n",
              "  width: 1px;\n",
              "}\n",
              "\n",
              "#sk-container-id-4 div.sk-dashed-wrapped {\n",
              "  border: 1px dashed var(--sklearn-color-line);\n",
              "  margin: 0 0.4em 0.5em 0.4em;\n",
              "  box-sizing: border-box;\n",
              "  padding-bottom: 0.4em;\n",
              "  background-color: var(--sklearn-color-background);\n",
              "}\n",
              "\n",
              "#sk-container-id-4 div.sk-container {\n",
              "  /* jupyter's `normalize.less` sets `[hidden] { display: none; }`\n",
              "     but bootstrap.min.css set `[hidden] { display: none !important; }`\n",
              "     so we also need the `!important` here to be able to override the\n",
              "     default hidden behavior on the sphinx rendered scikit-learn.org.\n",
              "     See: https://github.com/scikit-learn/scikit-learn/issues/21755 */\n",
              "  display: inline-block !important;\n",
              "  position: relative;\n",
              "}\n",
              "\n",
              "#sk-container-id-4 div.sk-text-repr-fallback {\n",
              "  display: none;\n",
              "}\n",
              "\n",
              "div.sk-parallel-item,\n",
              "div.sk-serial,\n",
              "div.sk-item {\n",
              "  /* draw centered vertical line to link estimators */\n",
              "  background-image: linear-gradient(var(--sklearn-color-text-on-default-background), var(--sklearn-color-text-on-default-background));\n",
              "  background-size: 2px 100%;\n",
              "  background-repeat: no-repeat;\n",
              "  background-position: center center;\n",
              "}\n",
              "\n",
              "/* Parallel-specific style estimator block */\n",
              "\n",
              "#sk-container-id-4 div.sk-parallel-item::after {\n",
              "  content: \"\";\n",
              "  width: 100%;\n",
              "  border-bottom: 2px solid var(--sklearn-color-text-on-default-background);\n",
              "  flex-grow: 1;\n",
              "}\n",
              "\n",
              "#sk-container-id-4 div.sk-parallel {\n",
              "  display: flex;\n",
              "  align-items: stretch;\n",
              "  justify-content: center;\n",
              "  background-color: var(--sklearn-color-background);\n",
              "  position: relative;\n",
              "}\n",
              "\n",
              "#sk-container-id-4 div.sk-parallel-item {\n",
              "  display: flex;\n",
              "  flex-direction: column;\n",
              "}\n",
              "\n",
              "#sk-container-id-4 div.sk-parallel-item:first-child::after {\n",
              "  align-self: flex-end;\n",
              "  width: 50%;\n",
              "}\n",
              "\n",
              "#sk-container-id-4 div.sk-parallel-item:last-child::after {\n",
              "  align-self: flex-start;\n",
              "  width: 50%;\n",
              "}\n",
              "\n",
              "#sk-container-id-4 div.sk-parallel-item:only-child::after {\n",
              "  width: 0;\n",
              "}\n",
              "\n",
              "/* Serial-specific style estimator block */\n",
              "\n",
              "#sk-container-id-4 div.sk-serial {\n",
              "  display: flex;\n",
              "  flex-direction: column;\n",
              "  align-items: center;\n",
              "  background-color: var(--sklearn-color-background);\n",
              "  padding-right: 1em;\n",
              "  padding-left: 1em;\n",
              "}\n",
              "\n",
              "\n",
              "/* Toggleable style: style used for estimator/Pipeline/ColumnTransformer box that is\n",
              "clickable and can be expanded/collapsed.\n",
              "- Pipeline and ColumnTransformer use this feature and define the default style\n",
              "- Estimators will overwrite some part of the style using the `sk-estimator` class\n",
              "*/\n",
              "\n",
              "/* Pipeline and ColumnTransformer style (default) */\n",
              "\n",
              "#sk-container-id-4 div.sk-toggleable {\n",
              "  /* Default theme specific background. It is overwritten whether we have a\n",
              "  specific estimator or a Pipeline/ColumnTransformer */\n",
              "  background-color: var(--sklearn-color-background);\n",
              "}\n",
              "\n",
              "/* Toggleable label */\n",
              "#sk-container-id-4 label.sk-toggleable__label {\n",
              "  cursor: pointer;\n",
              "  display: flex;\n",
              "  width: 100%;\n",
              "  margin-bottom: 0;\n",
              "  padding: 0.5em;\n",
              "  box-sizing: border-box;\n",
              "  text-align: center;\n",
              "  align-items: start;\n",
              "  justify-content: space-between;\n",
              "  gap: 0.5em;\n",
              "}\n",
              "\n",
              "#sk-container-id-4 label.sk-toggleable__label .caption {\n",
              "  font-size: 0.6rem;\n",
              "  font-weight: lighter;\n",
              "  color: var(--sklearn-color-text-muted);\n",
              "}\n",
              "\n",
              "#sk-container-id-4 label.sk-toggleable__label-arrow:before {\n",
              "  /* Arrow on the left of the label */\n",
              "  content: \"▸\";\n",
              "  float: left;\n",
              "  margin-right: 0.25em;\n",
              "  color: var(--sklearn-color-icon);\n",
              "}\n",
              "\n",
              "#sk-container-id-4 label.sk-toggleable__label-arrow:hover:before {\n",
              "  color: var(--sklearn-color-text);\n",
              "}\n",
              "\n",
              "/* Toggleable content - dropdown */\n",
              "\n",
              "#sk-container-id-4 div.sk-toggleable__content {\n",
              "  max-height: 0;\n",
              "  max-width: 0;\n",
              "  overflow: hidden;\n",
              "  text-align: left;\n",
              "  /* unfitted */\n",
              "  background-color: var(--sklearn-color-unfitted-level-0);\n",
              "}\n",
              "\n",
              "#sk-container-id-4 div.sk-toggleable__content.fitted {\n",
              "  /* fitted */\n",
              "  background-color: var(--sklearn-color-fitted-level-0);\n",
              "}\n",
              "\n",
              "#sk-container-id-4 div.sk-toggleable__content pre {\n",
              "  margin: 0.2em;\n",
              "  border-radius: 0.25em;\n",
              "  color: var(--sklearn-color-text);\n",
              "  /* unfitted */\n",
              "  background-color: var(--sklearn-color-unfitted-level-0);\n",
              "}\n",
              "\n",
              "#sk-container-id-4 div.sk-toggleable__content.fitted pre {\n",
              "  /* unfitted */\n",
              "  background-color: var(--sklearn-color-fitted-level-0);\n",
              "}\n",
              "\n",
              "#sk-container-id-4 input.sk-toggleable__control:checked~div.sk-toggleable__content {\n",
              "  /* Expand drop-down */\n",
              "  max-height: 200px;\n",
              "  max-width: 100%;\n",
              "  overflow: auto;\n",
              "}\n",
              "\n",
              "#sk-container-id-4 input.sk-toggleable__control:checked~label.sk-toggleable__label-arrow:before {\n",
              "  content: \"▾\";\n",
              "}\n",
              "\n",
              "/* Pipeline/ColumnTransformer-specific style */\n",
              "\n",
              "#sk-container-id-4 div.sk-label input.sk-toggleable__control:checked~label.sk-toggleable__label {\n",
              "  color: var(--sklearn-color-text);\n",
              "  background-color: var(--sklearn-color-unfitted-level-2);\n",
              "}\n",
              "\n",
              "#sk-container-id-4 div.sk-label.fitted input.sk-toggleable__control:checked~label.sk-toggleable__label {\n",
              "  background-color: var(--sklearn-color-fitted-level-2);\n",
              "}\n",
              "\n",
              "/* Estimator-specific style */\n",
              "\n",
              "/* Colorize estimator box */\n",
              "#sk-container-id-4 div.sk-estimator input.sk-toggleable__control:checked~label.sk-toggleable__label {\n",
              "  /* unfitted */\n",
              "  background-color: var(--sklearn-color-unfitted-level-2);\n",
              "}\n",
              "\n",
              "#sk-container-id-4 div.sk-estimator.fitted input.sk-toggleable__control:checked~label.sk-toggleable__label {\n",
              "  /* fitted */\n",
              "  background-color: var(--sklearn-color-fitted-level-2);\n",
              "}\n",
              "\n",
              "#sk-container-id-4 div.sk-label label.sk-toggleable__label,\n",
              "#sk-container-id-4 div.sk-label label {\n",
              "  /* The background is the default theme color */\n",
              "  color: var(--sklearn-color-text-on-default-background);\n",
              "}\n",
              "\n",
              "/* On hover, darken the color of the background */\n",
              "#sk-container-id-4 div.sk-label:hover label.sk-toggleable__label {\n",
              "  color: var(--sklearn-color-text);\n",
              "  background-color: var(--sklearn-color-unfitted-level-2);\n",
              "}\n",
              "\n",
              "/* Label box, darken color on hover, fitted */\n",
              "#sk-container-id-4 div.sk-label.fitted:hover label.sk-toggleable__label.fitted {\n",
              "  color: var(--sklearn-color-text);\n",
              "  background-color: var(--sklearn-color-fitted-level-2);\n",
              "}\n",
              "\n",
              "/* Estimator label */\n",
              "\n",
              "#sk-container-id-4 div.sk-label label {\n",
              "  font-family: monospace;\n",
              "  font-weight: bold;\n",
              "  display: inline-block;\n",
              "  line-height: 1.2em;\n",
              "}\n",
              "\n",
              "#sk-container-id-4 div.sk-label-container {\n",
              "  text-align: center;\n",
              "}\n",
              "\n",
              "/* Estimator-specific */\n",
              "#sk-container-id-4 div.sk-estimator {\n",
              "  font-family: monospace;\n",
              "  border: 1px dotted var(--sklearn-color-border-box);\n",
              "  border-radius: 0.25em;\n",
              "  box-sizing: border-box;\n",
              "  margin-bottom: 0.5em;\n",
              "  /* unfitted */\n",
              "  background-color: var(--sklearn-color-unfitted-level-0);\n",
              "}\n",
              "\n",
              "#sk-container-id-4 div.sk-estimator.fitted {\n",
              "  /* fitted */\n",
              "  background-color: var(--sklearn-color-fitted-level-0);\n",
              "}\n",
              "\n",
              "/* on hover */\n",
              "#sk-container-id-4 div.sk-estimator:hover {\n",
              "  /* unfitted */\n",
              "  background-color: var(--sklearn-color-unfitted-level-2);\n",
              "}\n",
              "\n",
              "#sk-container-id-4 div.sk-estimator.fitted:hover {\n",
              "  /* fitted */\n",
              "  background-color: var(--sklearn-color-fitted-level-2);\n",
              "}\n",
              "\n",
              "/* Specification for estimator info (e.g. \"i\" and \"?\") */\n",
              "\n",
              "/* Common style for \"i\" and \"?\" */\n",
              "\n",
              ".sk-estimator-doc-link,\n",
              "a:link.sk-estimator-doc-link,\n",
              "a:visited.sk-estimator-doc-link {\n",
              "  float: right;\n",
              "  font-size: smaller;\n",
              "  line-height: 1em;\n",
              "  font-family: monospace;\n",
              "  background-color: var(--sklearn-color-background);\n",
              "  border-radius: 1em;\n",
              "  height: 1em;\n",
              "  width: 1em;\n",
              "  text-decoration: none !important;\n",
              "  margin-left: 0.5em;\n",
              "  text-align: center;\n",
              "  /* unfitted */\n",
              "  border: var(--sklearn-color-unfitted-level-1) 1pt solid;\n",
              "  color: var(--sklearn-color-unfitted-level-1);\n",
              "}\n",
              "\n",
              ".sk-estimator-doc-link.fitted,\n",
              "a:link.sk-estimator-doc-link.fitted,\n",
              "a:visited.sk-estimator-doc-link.fitted {\n",
              "  /* fitted */\n",
              "  border: var(--sklearn-color-fitted-level-1) 1pt solid;\n",
              "  color: var(--sklearn-color-fitted-level-1);\n",
              "}\n",
              "\n",
              "/* On hover */\n",
              "div.sk-estimator:hover .sk-estimator-doc-link:hover,\n",
              ".sk-estimator-doc-link:hover,\n",
              "div.sk-label-container:hover .sk-estimator-doc-link:hover,\n",
              ".sk-estimator-doc-link:hover {\n",
              "  /* unfitted */\n",
              "  background-color: var(--sklearn-color-unfitted-level-3);\n",
              "  color: var(--sklearn-color-background);\n",
              "  text-decoration: none;\n",
              "}\n",
              "\n",
              "div.sk-estimator.fitted:hover .sk-estimator-doc-link.fitted:hover,\n",
              ".sk-estimator-doc-link.fitted:hover,\n",
              "div.sk-label-container:hover .sk-estimator-doc-link.fitted:hover,\n",
              ".sk-estimator-doc-link.fitted:hover {\n",
              "  /* fitted */\n",
              "  background-color: var(--sklearn-color-fitted-level-3);\n",
              "  color: var(--sklearn-color-background);\n",
              "  text-decoration: none;\n",
              "}\n",
              "\n",
              "/* Span, style for the box shown on hovering the info icon */\n",
              ".sk-estimator-doc-link span {\n",
              "  display: none;\n",
              "  z-index: 9999;\n",
              "  position: relative;\n",
              "  font-weight: normal;\n",
              "  right: .2ex;\n",
              "  padding: .5ex;\n",
              "  margin: .5ex;\n",
              "  width: min-content;\n",
              "  min-width: 20ex;\n",
              "  max-width: 50ex;\n",
              "  color: var(--sklearn-color-text);\n",
              "  box-shadow: 2pt 2pt 4pt #999;\n",
              "  /* unfitted */\n",
              "  background: var(--sklearn-color-unfitted-level-0);\n",
              "  border: .5pt solid var(--sklearn-color-unfitted-level-3);\n",
              "}\n",
              "\n",
              ".sk-estimator-doc-link.fitted span {\n",
              "  /* fitted */\n",
              "  background: var(--sklearn-color-fitted-level-0);\n",
              "  border: var(--sklearn-color-fitted-level-3);\n",
              "}\n",
              "\n",
              ".sk-estimator-doc-link:hover span {\n",
              "  display: block;\n",
              "}\n",
              "\n",
              "/* \"?\"-specific style due to the `<a>` HTML tag */\n",
              "\n",
              "#sk-container-id-4 a.estimator_doc_link {\n",
              "  float: right;\n",
              "  font-size: 1rem;\n",
              "  line-height: 1em;\n",
              "  font-family: monospace;\n",
              "  background-color: var(--sklearn-color-background);\n",
              "  border-radius: 1rem;\n",
              "  height: 1rem;\n",
              "  width: 1rem;\n",
              "  text-decoration: none;\n",
              "  /* unfitted */\n",
              "  color: var(--sklearn-color-unfitted-level-1);\n",
              "  border: var(--sklearn-color-unfitted-level-1) 1pt solid;\n",
              "}\n",
              "\n",
              "#sk-container-id-4 a.estimator_doc_link.fitted {\n",
              "  /* fitted */\n",
              "  border: var(--sklearn-color-fitted-level-1) 1pt solid;\n",
              "  color: var(--sklearn-color-fitted-level-1);\n",
              "}\n",
              "\n",
              "/* On hover */\n",
              "#sk-container-id-4 a.estimator_doc_link:hover {\n",
              "  /* unfitted */\n",
              "  background-color: var(--sklearn-color-unfitted-level-3);\n",
              "  color: var(--sklearn-color-background);\n",
              "  text-decoration: none;\n",
              "}\n",
              "\n",
              "#sk-container-id-4 a.estimator_doc_link.fitted:hover {\n",
              "  /* fitted */\n",
              "  background-color: var(--sklearn-color-fitted-level-3);\n",
              "}\n",
              "</style><div id=\"sk-container-id-4\" class=\"sk-top-container\"><div class=\"sk-text-repr-fallback\"><pre>Pipeline(steps=[(&#x27;preprocessing&#x27;,\n",
              "                 ColumnTransformer(transformers=[(&#x27;num&#x27;, StandardScaler(),\n",
              "                                                  [&#x27;A2&#x27;, &#x27;A3&#x27;, &#x27;A7&#x27;, &#x27;A10&#x27;,\n",
              "                                                   &#x27;A13&#x27;, &#x27;A14&#x27;]),\n",
              "                                                 (&#x27;cat&#x27;,\n",
              "                                                  OneHotEncoder(handle_unknown=&#x27;ignore&#x27;),\n",
              "                                                  [&#x27;A1&#x27;, &#x27;A4&#x27;, &#x27;A5&#x27;, &#x27;A6&#x27;, &#x27;A8&#x27;,\n",
              "                                                   &#x27;A9&#x27;, &#x27;A11&#x27;, &#x27;A12&#x27;])])),\n",
              "                (&#x27;model&#x27;, KNeighborsClassifier(n_neighbors=10))])</pre><b>In a Jupyter environment, please rerun this cell to show the HTML representation or trust the notebook. <br />On GitHub, the HTML representation is unable to render, please try loading this page with nbviewer.org.</b></div><div class=\"sk-container\" hidden><div class=\"sk-item sk-dashed-wrapped\"><div class=\"sk-label-container\"><div class=\"sk-label fitted sk-toggleable\"><input class=\"sk-toggleable__control sk-hidden--visually\" id=\"sk-estimator-id-22\" type=\"checkbox\" ><label for=\"sk-estimator-id-22\" class=\"sk-toggleable__label fitted sk-toggleable__label-arrow\"><div><div>Pipeline</div></div><div><a class=\"sk-estimator-doc-link fitted\" rel=\"noreferrer\" target=\"_blank\" href=\"https://scikit-learn.org/1.6/modules/generated/sklearn.pipeline.Pipeline.html\">?<span>Documentation for Pipeline</span></a><span class=\"sk-estimator-doc-link fitted\">i<span>Fitted</span></span></div></label><div class=\"sk-toggleable__content fitted\"><pre>Pipeline(steps=[(&#x27;preprocessing&#x27;,\n",
              "                 ColumnTransformer(transformers=[(&#x27;num&#x27;, StandardScaler(),\n",
              "                                                  [&#x27;A2&#x27;, &#x27;A3&#x27;, &#x27;A7&#x27;, &#x27;A10&#x27;,\n",
              "                                                   &#x27;A13&#x27;, &#x27;A14&#x27;]),\n",
              "                                                 (&#x27;cat&#x27;,\n",
              "                                                  OneHotEncoder(handle_unknown=&#x27;ignore&#x27;),\n",
              "                                                  [&#x27;A1&#x27;, &#x27;A4&#x27;, &#x27;A5&#x27;, &#x27;A6&#x27;, &#x27;A8&#x27;,\n",
              "                                                   &#x27;A9&#x27;, &#x27;A11&#x27;, &#x27;A12&#x27;])])),\n",
              "                (&#x27;model&#x27;, KNeighborsClassifier(n_neighbors=10))])</pre></div> </div></div><div class=\"sk-serial\"><div class=\"sk-item sk-dashed-wrapped\"><div class=\"sk-label-container\"><div class=\"sk-label fitted sk-toggleable\"><input class=\"sk-toggleable__control sk-hidden--visually\" id=\"sk-estimator-id-23\" type=\"checkbox\" ><label for=\"sk-estimator-id-23\" class=\"sk-toggleable__label fitted sk-toggleable__label-arrow\"><div><div>preprocessing: ColumnTransformer</div></div><div><a class=\"sk-estimator-doc-link fitted\" rel=\"noreferrer\" target=\"_blank\" href=\"https://scikit-learn.org/1.6/modules/generated/sklearn.compose.ColumnTransformer.html\">?<span>Documentation for preprocessing: ColumnTransformer</span></a></div></label><div class=\"sk-toggleable__content fitted\"><pre>ColumnTransformer(transformers=[(&#x27;num&#x27;, StandardScaler(),\n",
              "                                 [&#x27;A2&#x27;, &#x27;A3&#x27;, &#x27;A7&#x27;, &#x27;A10&#x27;, &#x27;A13&#x27;, &#x27;A14&#x27;]),\n",
              "                                (&#x27;cat&#x27;, OneHotEncoder(handle_unknown=&#x27;ignore&#x27;),\n",
              "                                 [&#x27;A1&#x27;, &#x27;A4&#x27;, &#x27;A5&#x27;, &#x27;A6&#x27;, &#x27;A8&#x27;, &#x27;A9&#x27;, &#x27;A11&#x27;,\n",
              "                                  &#x27;A12&#x27;])])</pre></div> </div></div><div class=\"sk-parallel\"><div class=\"sk-parallel-item\"><div class=\"sk-item\"><div class=\"sk-label-container\"><div class=\"sk-label fitted sk-toggleable\"><input class=\"sk-toggleable__control sk-hidden--visually\" id=\"sk-estimator-id-24\" type=\"checkbox\" ><label for=\"sk-estimator-id-24\" class=\"sk-toggleable__label fitted sk-toggleable__label-arrow\"><div><div>num</div></div></label><div class=\"sk-toggleable__content fitted\"><pre>[&#x27;A2&#x27;, &#x27;A3&#x27;, &#x27;A7&#x27;, &#x27;A10&#x27;, &#x27;A13&#x27;, &#x27;A14&#x27;]</pre></div> </div></div><div class=\"sk-serial\"><div class=\"sk-item\"><div class=\"sk-estimator fitted sk-toggleable\"><input class=\"sk-toggleable__control sk-hidden--visually\" id=\"sk-estimator-id-25\" type=\"checkbox\" ><label for=\"sk-estimator-id-25\" class=\"sk-toggleable__label fitted sk-toggleable__label-arrow\"><div><div>StandardScaler</div></div><div><a class=\"sk-estimator-doc-link fitted\" rel=\"noreferrer\" target=\"_blank\" href=\"https://scikit-learn.org/1.6/modules/generated/sklearn.preprocessing.StandardScaler.html\">?<span>Documentation for StandardScaler</span></a></div></label><div class=\"sk-toggleable__content fitted\"><pre>StandardScaler()</pre></div> </div></div></div></div></div><div class=\"sk-parallel-item\"><div class=\"sk-item\"><div class=\"sk-label-container\"><div class=\"sk-label fitted sk-toggleable\"><input class=\"sk-toggleable__control sk-hidden--visually\" id=\"sk-estimator-id-26\" type=\"checkbox\" ><label for=\"sk-estimator-id-26\" class=\"sk-toggleable__label fitted sk-toggleable__label-arrow\"><div><div>cat</div></div></label><div class=\"sk-toggleable__content fitted\"><pre>[&#x27;A1&#x27;, &#x27;A4&#x27;, &#x27;A5&#x27;, &#x27;A6&#x27;, &#x27;A8&#x27;, &#x27;A9&#x27;, &#x27;A11&#x27;, &#x27;A12&#x27;]</pre></div> </div></div><div class=\"sk-serial\"><div class=\"sk-item\"><div class=\"sk-estimator fitted sk-toggleable\"><input class=\"sk-toggleable__control sk-hidden--visually\" id=\"sk-estimator-id-27\" type=\"checkbox\" ><label for=\"sk-estimator-id-27\" class=\"sk-toggleable__label fitted sk-toggleable__label-arrow\"><div><div>OneHotEncoder</div></div><div><a class=\"sk-estimator-doc-link fitted\" rel=\"noreferrer\" target=\"_blank\" href=\"https://scikit-learn.org/1.6/modules/generated/sklearn.preprocessing.OneHotEncoder.html\">?<span>Documentation for OneHotEncoder</span></a></div></label><div class=\"sk-toggleable__content fitted\"><pre>OneHotEncoder(handle_unknown=&#x27;ignore&#x27;)</pre></div> </div></div></div></div></div></div></div><div class=\"sk-item\"><div class=\"sk-estimator fitted sk-toggleable\"><input class=\"sk-toggleable__control sk-hidden--visually\" id=\"sk-estimator-id-28\" type=\"checkbox\" ><label for=\"sk-estimator-id-28\" class=\"sk-toggleable__label fitted sk-toggleable__label-arrow\"><div><div>KNeighborsClassifier</div></div><div><a class=\"sk-estimator-doc-link fitted\" rel=\"noreferrer\" target=\"_blank\" href=\"https://scikit-learn.org/1.6/modules/generated/sklearn.neighbors.KNeighborsClassifier.html\">?<span>Documentation for KNeighborsClassifier</span></a></div></label><div class=\"sk-toggleable__content fitted\"><pre>KNeighborsClassifier(n_neighbors=10)</pre></div> </div></div></div></div></div></div>"
            ]
          },
          "metadata": {},
          "execution_count": 73
        }
      ]
    },
    {
      "cell_type": "markdown",
      "source": [
        "👉🏻 Las predicciones ..."
      ],
      "metadata": {
        "id": "n-bt_SMufOsw"
      }
    },
    {
      "cell_type": "code",
      "source": [
        "y_pred_knn = knn_pipeline.predict(x_test)"
      ],
      "metadata": {
        "id": "feQTHKM5fQ8j"
      },
      "execution_count": 74,
      "outputs": []
    },
    {
      "cell_type": "markdown",
      "source": [
        "### 🎯 5.3 Evaluación del Desempeño"
      ],
      "metadata": {
        "id": "fUHMdhs0Tw_2"
      }
    },
    {
      "cell_type": "markdown",
      "source": [
        "👉🏻 Computar métricas para evaluar el modelo ..."
      ],
      "metadata": {
        "id": "ni-4UwL6T0mL"
      }
    },
    {
      "cell_type": "code",
      "source": [
        "knn_conf_matrix = confusion_matrix(y_test, y_pred_knn)\n",
        "knn_accuracy = accuracy_score(y_test, y_pred_knn)\n",
        "knn_f1_score = f1_score(y_test, y_pred_knn)\n",
        "knn_report = classification_report(y_test, y_pred_knn)\n",
        "\n",
        "print(\"** K-Nearest Neighbors **  (conj. de test, k=10)\", \"\\n\")\n",
        "print(\"Matriz de confusión:\")\n",
        "print(knn_conf_matrix, \"\\n\")\n",
        "print(\"Accuracy: \", round(knn_accuracy, 3))\n",
        "print(\"F1-Score: \", round(knn_f1_score, 3), \"\\n\")\n",
        "print(\"Reporte: \")\n",
        "print(knn_report)"
      ],
      "metadata": {
        "id": "tdSy09cRT03O",
        "colab": {
          "base_uri": "https://localhost:8080/"
        },
        "outputId": "af7b78a0-b1df-4d92-82d8-3e9e9f516786"
      },
      "execution_count": 81,
      "outputs": [
        {
          "output_type": "stream",
          "name": "stdout",
          "text": [
            "** K-Nearest Neighbors **  (conj. de test, k=10) \n",
            "\n",
            "Matriz de confusión:\n",
            "[[70  5]\n",
            " [21 38]] \n",
            "\n",
            "Accuracy:  0.806\n",
            "F1-Score:  0.745 \n",
            "\n",
            "Reporte: \n",
            "              precision    recall  f1-score   support\n",
            "\n",
            "           0       0.77      0.93      0.84        75\n",
            "           1       0.88      0.64      0.75        59\n",
            "\n",
            "    accuracy                           0.81       134\n",
            "   macro avg       0.83      0.79      0.79       134\n",
            "weighted avg       0.82      0.81      0.80       134\n",
            "\n"
          ]
        }
      ]
    },
    {
      "cell_type": "markdown",
      "source": [
        "### 💡 Observaciones"
      ],
      "metadata": {
        "id": "a7LP2ajwVMLE"
      }
    },
    {
      "cell_type": "markdown",
      "source": [
        "> 👁️‍🗨️ Detalle de las métricas (test):\n",
        "  - En el caso de `K-Nearest Neighbors` logró una `accuracy=0.806` y un `f1-score=0.745`.\n",
        "  - Por otro lado, la `Regresión Logística` del punto previo ya había logrado una `accuracy=0.896` y un `f1-score=0.879`.\n",
        "\n",
        "> 👁️‍🗨️ Hasta el momento la `Regresión Logística` del `Punto 4` me resulta favorecida...\n",
        "\n",
        "> 👁️‍🗨️ No obstante lo anterior, en el siguiente `Punto 6`, buscaré de aumentar la calidad del modelo a ver hasta donde logro que llegue ... 💪🏻"
      ],
      "metadata": {
        "id": "ZYGdVfEPhRhQ"
      }
    },
    {
      "cell_type": "markdown",
      "source": [
        "## ⚖️ Punto 6. **Tuneo de Hiperparámetros**"
      ],
      "metadata": {
        "id": "IJwxj1LpVhgf"
      }
    },
    {
      "cell_type": "markdown",
      "source": [
        "### 📋 Consignas:"
      ],
      "metadata": {
        "id": "qE926Jm7wyL7"
      }
    },
    {
      "cell_type": "markdown",
      "source": [
        "En esta sección debe modificar/probar cómo la modificación de un hiperparámetro del modelo elegido en `Punto 5` afecta en los resultados.\n",
        "\n",
        "Justifique y realice el experimento en esta sección."
      ],
      "metadata": {
        "id": "lN-SlrY0V4oq"
      }
    },
    {
      "cell_type": "markdown",
      "source": [
        "### 📝 Resolución:"
      ],
      "metadata": {
        "id": "RHWMMkLjw8mV"
      }
    },
    {
      "cell_type": "markdown",
      "source": [
        "👉🏻 Probar con distintos valores de `k` ...  \n",
        "\n",
        "> Para hacer una evaluación bien completa, voy a probar usando `validación cruzada` (a 5 bloques), tanto por exactitud, como por f1-score (presición y sensibilidad)."
      ],
      "metadata": {
        "id": "CBnGclqhw945"
      }
    },
    {
      "cell_type": "code",
      "source": [
        "cv_accuracy_scores = []\n",
        "cv_f1_scores = []\n",
        "\n",
        "k_values = range(1, 11)\n",
        "for k in k_values:\n",
        "\n",
        "  pipeline = Pipeline([\n",
        "    (\"preprocessing\", preprocessor),\n",
        "    (\"model\", KNeighborsClassifier(n_neighbors=k))\n",
        "  ])\n",
        "\n",
        "  # validación cruzada (5 bloques)\n",
        "  cv_accuracy = cross_val_score(pipeline, x_train, y_train, cv=5, scoring='accuracy')  # accuracy\n",
        "  cv_accuracy_scores.append(cv_accuracy.mean())   # la media entre los 5 bloques\n",
        "\n",
        "  cv_f1_score = cross_val_score(pipeline, x_train, y_train, cv=5, scoring='f1')        # f1-score\n",
        "  cv_f1_scores.append(cv_f1_score.mean())         # nuevamente, guardo la media"
      ],
      "metadata": {
        "id": "HpSsFQLaV5HB"
      },
      "execution_count": 76,
      "outputs": []
    },
    {
      "cell_type": "markdown",
      "source": [
        "👉🏻 Mostrar el mejor modelo ..."
      ],
      "metadata": {
        "id": "URMC9Bm713Z0"
      }
    },
    {
      "cell_type": "code",
      "source": [
        "# indice del mayor (más es mejor) en el array 'cv_accuracy_scores'\n",
        "best_accuracy_idx = np.argmax(cv_accuracy_scores)\n",
        "\n",
        "# mostrar el mejor modelo\n",
        "best_accuracy_k = k_values[best_accuracy_idx]\n",
        "best_accuracy_value = cv_accuracy_scores[best_accuracy_idx]\n",
        "print(f\"En accuracy el mejor modelo resultó para k={ best_accuracy_k }, valor={ round(best_accuracy_value, 4) }\")"
      ],
      "metadata": {
        "colab": {
          "base_uri": "https://localhost:8080/"
        },
        "id": "o8Ush3i-yBpV",
        "outputId": "0767e1e5-1bb2-4795-881c-0346d122ff23"
      },
      "execution_count": 77,
      "outputs": [
        {
          "output_type": "stream",
          "name": "stdout",
          "text": [
            "En accuracy el mejor modelo resultó para k=7, valor=0.8389\n"
          ]
        }
      ]
    },
    {
      "cell_type": "code",
      "source": [
        "# indice del mayor (más es mejor) en el array 'cv_accuracy_scores'\n",
        "best_f1_idx = np.argmax(cv_f1_scores)\n",
        "\n",
        "# mostrar el mejor modelo\n",
        "best_f1_k = k_values[best_f1_idx]\n",
        "best_f1_value = cv_f1_scores[best_f1_idx]\n",
        "print(f\"En f1-score el mejor modelo resultó para k={ best_f1_k }, valor={ round(best_f1_value, 4) }\")"
      ],
      "metadata": {
        "colab": {
          "base_uri": "https://localhost:8080/"
        },
        "id": "vi0lLRD21Hvx",
        "outputId": "fbd85421-f48e-412a-cea9-3b689cad4913"
      },
      "execution_count": 78,
      "outputs": [
        {
          "output_type": "stream",
          "name": "stdout",
          "text": [
            "En f1-score el mejor modelo resultó para k=7, valor=0.806\n"
          ]
        }
      ]
    },
    {
      "cell_type": "markdown",
      "source": [
        "👉🏻 Graficar los resultados ..."
      ],
      "metadata": {
        "id": "AxNEYwElo-oq"
      }
    },
    {
      "cell_type": "code",
      "source": [
        "plt.figure(figsize=(14, 4))\n",
        "\n",
        "plt.subplot(1, 2, 1)    # 1 fila, 2 columnas\n",
        "plt.plot(k_values, cv_accuracy_scores, marker='o')\n",
        "plt.title(\"KNN: validación cruzada + tuning de 'k'\")\n",
        "plt.xlabel(\"valores de k (vecinos)\")\n",
        "plt.ylabel(\"accuracy\")  # exactitud\n",
        "plt.grid(True)\n",
        "\n",
        "plt.subplot(1, 2, 2)    # 1 fila, 2 columnas\n",
        "plt.plot(k_values, cv_f1_scores, marker='o')\n",
        "plt.title(\"KNN: validación cruzada + tuning de 'k'\")\n",
        "plt.xlabel(\"valores de k (vecinos)\")\n",
        "plt.ylabel(\"f1-score\")  # f1-score (presición + sensibilidad)\n",
        "plt.grid(True)\n",
        "\n",
        "plt.show()"
      ],
      "metadata": {
        "colab": {
          "base_uri": "https://localhost:8080/",
          "height": 411
        },
        "id": "DIBxo-URomBO",
        "outputId": "94d75f71-6d7c-4bee-a598-db8639f52299"
      },
      "execution_count": 79,
      "outputs": [
        {
          "output_type": "display_data",
          "data": {
            "text/plain": [
              "<Figure size 1400x400 with 2 Axes>"
            ],
            "image/png": "[encoded data removed]"
          },
          "metadata": {}
        }
      ]
    },
    {
      "cell_type": "markdown",
      "source": [
        "> 👁️‍🗨️ De la `validación cruzada` a 5 bloques, tanto en `accuracy` como con `f1-score` (presición y sensibilidad) el mejor valor posible resulta `k=7`.\n",
        "  - En `accuracy` el mejor modelo resultó para `k=7`, con un resultado de `0.8389`\n",
        "  - En `f1-score` el mejor modelo resultó para `k=7`, con un resultado de `0.8060`\n",
        "\n",
        "> 👁️‍🗨️ Se observa del gráfico que `k=5` y `k=9` también presentan resultados bastante cercanos al óptimo."
      ],
      "metadata": {
        "id": "uIdEulxJpF1j"
      }
    },
    {
      "cell_type": "markdown",
      "source": [
        "👉🏻 Voy a volver a volver a ejecutar el mismo código del `Punto 5`, ahora con `k=7`, para comparar resultados luego del `Tunning` ...\n",
        "\n",
        "👉🏻 Va el mismo código (pero sin tanto bla-bla-bla de por medio en esta ocasión)..."
      ],
      "metadata": {
        "id": "vbYsqp-W65tB"
      }
    },
    {
      "cell_type": "code",
      "source": [
        "knn_pipeline = Pipeline([\n",
        "  (\"preprocessing\", preprocessor),\n",
        "  (\"model\", KNeighborsClassifier(n_neighbors=7))  # valor óptimo: k=7\n",
        "])\n",
        "\n",
        "knn_pipeline.fit(x_train, y_train)\n",
        "y_pred_knn_tunning = knn_pipeline.predict(x_test)\n",
        "\n",
        "knn_tunning_conf_matrix = confusion_matrix(y_test, y_pred_knn_tunning)\n",
        "knn_tunning_accuracy = accuracy_score(y_test, y_pred_knn_tunning)\n",
        "knn_tunning_f1_score = f1_score(y_test, y_pred_knn_tunning)\n",
        "knn_tunning_report = classification_report(y_test, y_pred_knn_tunning)\n",
        "\n",
        "print(\"** K-Nearest Neighbors **  (conj. de test, k=7)\", \"\\n\")\n",
        "print(\"Matriz de confusión:\")\n",
        "print(knn_tunning_conf_matrix, \"\\n\")\n",
        "print(\"Accuracy: \", round(knn_tunning_accuracy, 3))\n",
        "print(\"F1-Score: \", round(knn_tunning_f1_score, 3), \"\\n\")\n",
        "print(\"Reporte: \")\n",
        "print(knn_tunning_report)"
      ],
      "metadata": {
        "colab": {
          "base_uri": "https://localhost:8080/"
        },
        "id": "poqPwU8U7INh",
        "outputId": "dd88414e-aa66-48f8-c3e1-0e8af4625fbd"
      },
      "execution_count": 82,
      "outputs": [
        {
          "output_type": "stream",
          "name": "stdout",
          "text": [
            "** K-Nearest Neighbors **  (conj. de test, k=7) \n",
            "\n",
            "Matriz de confusión:\n",
            "[[71  4]\n",
            " [15 44]] \n",
            "\n",
            "Accuracy:  0.858\n",
            "F1-Score:  0.822 \n",
            "\n",
            "Reporte: \n",
            "              precision    recall  f1-score   support\n",
            "\n",
            "           0       0.83      0.95      0.88        75\n",
            "           1       0.92      0.75      0.82        59\n",
            "\n",
            "    accuracy                           0.86       134\n",
            "   macro avg       0.87      0.85      0.85       134\n",
            "weighted avg       0.87      0.86      0.86       134\n",
            "\n"
          ]
        }
      ]
    },
    {
      "cell_type": "markdown",
      "source": [
        "### 💡 Observaciones"
      ],
      "metadata": {
        "id": "hCATEo-aZWG0"
      }
    },
    {
      "cell_type": "markdown",
      "source": [
        "> 👁️‍🗨️ Detalle de las métricas (test):\n",
        "  - En el caso del `K-Nearest Neighbors` de base, con el `k=10` arbitrario logró una `accuracy=0.806` y un `f1-score=0.745`.\n",
        "  - Por otro lado, habiendo determinado el `k=7` como óptimo las métricas mejoraron un poco hasta una `accuracy=0.858` y un `f1-score=0.822`."
      ],
      "metadata": {
        "id": "xOhdzmoTZb57"
      }
    },
    {
      "cell_type": "markdown",
      "source": [
        "## 💡 Punto 7. **Conclusiones**"
      ],
      "metadata": {
        "id": "xoE8ruwmV50a"
      }
    },
    {
      "cell_type": "markdown",
      "source": [
        "Fundamente, justifique con sus palabras."
      ],
      "metadata": {
        "id": "W1lmQVQcWorv"
      }
    },
    {
      "cell_type": "markdown",
      "source": [
        "### 📝 Conclusiones:"
      ],
      "metadata": {
        "id": "WxE4NoGlC_Gf"
      }
    },
    {
      "cell_type": "markdown",
      "source": [
        "👉🏻 Resultados finales (conjunto de test):\n",
        "\n",
        "- Mediante `Regresión Logística` se logra una `accuracy=0.896` y un `f1-score=0.879`.\n",
        "\n",
        "- En el caso del `K-Nearest Neighbors` de base, con el `k=10` arbitrario, se logró una `accuracy=0.806` y un `f1-score=0.745`.\n",
        "\n",
        "- Luego del tunning, `K-Nearest Neighbors` con un `k=7` se logró una `accuracy=0.858` y un `f1-score=0.822`."
      ],
      "metadata": {
        "id": "mvevL-EPe3wu"
      }
    },
    {
      "cell_type": "markdown",
      "source": [
        "👉🏻 Tunning del **K-Nearest Neighbors** ...\n",
        "\n",
        "> 👁️‍🗨️ Habiendo determinado a `k=7` como valor óptimo, sus métricas mejoraron algo, aunque no de manera drástica."
      ],
      "metadata": {
        "id": "8ONEfYSYDC_t"
      }
    },
    {
      "cell_type": "markdown",
      "source": [
        "👉🏻 **Regresión Logística** vs **K-Nearest Neighbors** ...\n",
        "\n",
        "> 👁️‍🗨️ Para este dataset en particular recomendaría utilizar el modelo entrenado mediante `Regresión Logística`, ya que su desempeño resulta levemente superior."
      ],
      "metadata": {
        "id": "nZyqOafT9V8x"
      }
    },
    {
      "cell_type": "markdown",
      "source": [
        "👉🏻 Adicionalmente ...\n",
        "\n",
        "> 👁️‍🗨️ Esta última preferencia no es solamente por los resultados de las métricas levemente superiores, sino también por otra cuestión más teórica: de lo visto en clase, `KNN` puede tornarse \"pesado\" computacionalmente a medida que el volumen de datos crece.\n",
        "\n",
        "> 👁️‍🗨️ Me anoté como lineamiento gral. que ante eventuales paridades en la calidad (aclarar igualmente que no es este caso), buscar de evitar los `KNN`, que si bien este dataset de muestreo es manejable, en un entorno productivo me imagino que podría haber bastante más datos."
      ],
      "metadata": {
        "id": "d9f6KuAxDJGi"
      }
    },
    {
      "cell_type": "markdown",
      "source": [
        "## 📚 Referencias"
      ],
      "metadata": {
        "id": "4ZvMj3P89Z4R"
      }
    },
    {
      "cell_type": "markdown",
      "source": [
        "- Dataset: 'Australian Credit Approval'  \n",
        "  https://archive.ics.uci.edu/dataset/143/statlog+australian+credit+approval\n",
        "\n",
        "- Workflow: Análisis Inicial de Datos (IDA) + Análisis Exploratorio de Datos (EDA)  \n",
        "  https://millev.com/analisis-exploratorio-de-datos-2/\n",
        "\n",
        "- Elección de algoritmos para clasificación (tolerancia a outliers y nivel de preprocesamiento requerido)  \n",
        "  https://chatgpt.com/share/683261c7-3600-8001-b209-9ee81f1ebb76\n",
        "\n",
        "- Uso de estratificación cuando las clases están desbalanceadas  \n",
        "  https://scikit-learn.org/stable/modules/cross_validation.html#stratification\n",
        "\n",
        "- Notebooks de la materia: vistas en clase y del campus virtual."
      ],
      "metadata": {
        "id": "73-wjokS9EkI"
      }
    }
  ]
}